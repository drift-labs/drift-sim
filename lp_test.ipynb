{
 "cells": [
  {
   "cell_type": "code",
   "execution_count": 47,
   "id": "f1cb192d",
   "metadata": {},
   "outputs": [],
   "source": [
    "import sys\n",
    "sys.path.insert(0, 'driftpy/src/')\n",
    "\n",
    "import driftpy\n",
    "\n",
    "from driftpy.math.trade import *\n",
    "from driftpy.math.positions import *\n",
    "from driftpy.math.amm import *\n",
    "from driftpy.math.market import *\n",
    "\n",
    "from driftpy.types import *\n",
    "from driftpy.constants.numeric_constants import *\n",
    "\n",
    "from programs.clearing_house.math.pnl import *\n",
    "from programs.clearing_house.math.amm import *\n",
    "from programs.clearing_house.state import *\n",
    "from programs.clearing_house.lib import * \n",
    "from programs.clearing_house.state import * \n",
    "from sim.events import * \n",
    "\n",
    "import numpy as np \n",
    "import pandas as pd\n",
    "\n",
    "import unittest\n",
    "\n",
    "#%%\n",
    "def default_set_up(n_users=1):\n",
    "    length = 10 \n",
    "    funding_period = 60 # every 60 ts \n",
    "    \n",
    "    prices = [.5] * length # .5$ oracle \n",
    "    timestamps = np.arange(length)\n",
    "    oracle = Oracle(prices=prices, timestamps=timestamps)\n",
    "\n",
    "    # mark price = 1$ \n",
    "    amm = AMM(\n",
    "        oracle=oracle, \n",
    "        base_asset_reserve=1_000_000 * AMM_RESERVE_PRECISION, \n",
    "        quote_asset_reserve=1_000_000 * AMM_RESERVE_PRECISION,\n",
    "        peg_multiplier=1 * PEG_PRECISION, \n",
    "        funding_period=funding_period\n",
    "    )\n",
    "    market = Market(amm)\n",
    "    fee_structure = FeeStructure(numerator=1, denominator=100)\n",
    "    clearing_house = ClearingHouse([market], fee_structure)        \n",
    "\n",
    "    for index in range(n_users):\n",
    "        clearing_house = (\n",
    "            clearing_house.deposit_user_collateral(\n",
    "                user_index=index, \n",
    "                collateral_amount=10_000_000 * QUOTE_PRECISION\n",
    "            )\n",
    "        )\n",
    "    return clearing_house    \n",
    "        \n",
    "ch: ClearingHouse = default_set_up(n_users=4)"
   ]
  },
  {
   "cell_type": "code",
   "execution_count": 48,
   "id": "e267f07d",
   "metadata": {},
   "outputs": [],
   "source": [
    "ch = ch.add_liquidity(\n",
    "    0, 0, 1_000_000 * QUOTE_PRECISION\n",
    ")"
   ]
  },
  {
   "cell_type": "code",
   "execution_count": 49,
   "id": "53f227cb",
   "metadata": {},
   "outputs": [
    {
     "data": {
      "text/plain": [
       "LPPosition(market_index=0, lp_tokens=1000000000000, last_cumulative_lp_funding=0, last_net_position=0, last_fee_amount=0, last_quote_asset_amount=10000000000000000000)"
      ]
     },
     "execution_count": 49,
     "metadata": {},
     "output_type": "execute_result"
    }
   ],
   "source": [
    "ch.users[0].lp_positions[0]"
   ]
  },
  {
   "cell_type": "code",
   "execution_count": 50,
   "id": "862930a3",
   "metadata": {
    "scrolled": true
   },
   "outputs": [
    {
     "data": {
      "text/plain": [
       "True"
      ]
     },
     "execution_count": 50,
     "metadata": {},
     "output_type": "execute_result"
    }
   ],
   "source": [
    "# user takes all of amm's tokens\n",
    "ch.markets[0].amm.lp_tokens == 0"
   ]
  },
  {
   "cell_type": "code",
   "execution_count": 51,
   "id": "a1541630",
   "metadata": {},
   "outputs": [
    {
     "data": {
      "text/plain": [
       "1.0"
      ]
     },
     "execution_count": 51,
     "metadata": {},
     "output_type": "execute_result"
    }
   ],
   "source": [
    "market = ch.markets[0]\n",
    "user = ch.users[1]\n",
    "lp = ch.users[0]\n",
    "\n",
    "calculate_mark_price(market)"
   ]
  },
  {
   "cell_type": "code",
   "execution_count": 52,
   "id": "ca8a8217",
   "metadata": {},
   "outputs": [],
   "source": [
    "# new user goes long \n",
    "ch = ch.open_position(\n",
    "    PositionDirection.LONG, \n",
    "    1, \n",
    "    10_000 * QUOTE_PRECISION, \n",
    "    0\n",
    ")"
   ]
  },
  {
   "cell_type": "code",
   "execution_count": 53,
   "id": "5499157d",
   "metadata": {},
   "outputs": [
    {
     "data": {
      "text/plain": [
       "0.0"
      ]
     },
     "execution_count": 53,
     "metadata": {},
     "output_type": "execute_result"
    }
   ],
   "source": [
    "user_position = user.positions[0]\n",
    "user_pnl = calculate_position_pnl(market, user_position)\n",
    "user_pnl"
   ]
  },
  {
   "cell_type": "code",
   "execution_count": 54,
   "id": "7ce90cc6",
   "metadata": {},
   "outputs": [
    {
     "data": {
      "text/plain": [
       "19999900000000.0"
      ]
     },
     "execution_count": 54,
     "metadata": {},
     "output_type": "execute_result"
    }
   ],
   "source": [
    "user.collateral + lp.collateral # fees "
   ]
  },
  {
   "cell_type": "code",
   "execution_count": 55,
   "id": "6b966bd8",
   "metadata": {},
   "outputs": [
    {
     "data": {
      "text/plain": [
       "1.0201"
      ]
     },
     "execution_count": 55,
     "metadata": {},
     "output_type": "execute_result"
    }
   ],
   "source": [
    "calculate_mark_price(market)"
   ]
  },
  {
   "cell_type": "code",
   "execution_count": 56,
   "id": "f392584f",
   "metadata": {},
   "outputs": [
    {
     "data": {
      "text/plain": [
       "MarketPosition(market_index=0, base_asset_amount=9.900990099009946e+16, quote_asset_amount=10000000000, last_cumulative_funding_rate=0, last_funding_rate_ts=0)"
      ]
     },
     "execution_count": 56,
     "metadata": {},
     "output_type": "execute_result"
    }
   ],
   "source": [
    "user_position"
   ]
  },
  {
   "cell_type": "code",
   "execution_count": 57,
   "id": "ed325983",
   "metadata": {},
   "outputs": [],
   "source": [
    "ch = ch.remove_liquidity(\n",
    "    0, 0, lp.lp_positions[0].lp_tokens\n",
    ")"
   ]
  },
  {
   "cell_type": "code",
   "execution_count": 58,
   "id": "b0d0e37d",
   "metadata": {
    "scrolled": true
   },
   "outputs": [
    {
     "data": {
      "text/plain": [
       "1.0"
      ]
     },
     "execution_count": 58,
     "metadata": {},
     "output_type": "execute_result"
    }
   ],
   "source": [
    "calculate_mark_price(market)"
   ]
  },
  {
   "cell_type": "code",
   "execution_count": 59,
   "id": "a08c64d0",
   "metadata": {},
   "outputs": [
    {
     "data": {
      "text/plain": [
       "-1.0"
      ]
     },
     "execution_count": 59,
     "metadata": {},
     "output_type": "execute_result"
    }
   ],
   "source": [
    "market = ch.markets[0]\n",
    "lp_position = ch.users[0].positions[0]\n",
    "lp_pnl = calculate_position_pnl(market, lp_position)\n",
    "lp_pnl"
   ]
  },
  {
   "cell_type": "code",
   "execution_count": 60,
   "id": "b83bf6aa",
   "metadata": {},
   "outputs": [
    {
     "data": {
      "text/plain": [
       "(1e+19, 1e+19, 0.0)"
      ]
     },
     "execution_count": 60,
     "metadata": {},
     "output_type": "execute_result"
    }
   ],
   "source": [
    "market.amm.quote_asset_reserve, market.amm.base_asset_reserve, market.amm.net_base_asset_amount"
   ]
  },
  {
   "cell_type": "code",
   "execution_count": 61,
   "id": "15b044b8",
   "metadata": {},
   "outputs": [
    {
     "data": {
      "text/plain": [
       "-196078431.37249374"
      ]
     },
     "execution_count": 61,
     "metadata": {},
     "output_type": "execute_result"
    }
   ],
   "source": [
    "# user1 is in profit \n",
    "market = ch.markets[0]\n",
    "user = ch.users[1]\n",
    "user_position = user.positions[0]\n",
    "user_pnl = calculate_position_pnl(market, user_position)\n",
    "user_pnl"
   ]
  },
  {
   "cell_type": "code",
   "execution_count": 62,
   "id": "94e38d20",
   "metadata": {},
   "outputs": [
    {
     "data": {
      "text/plain": [
       "1.0"
      ]
     },
     "execution_count": 62,
     "metadata": {},
     "output_type": "execute_result"
    }
   ],
   "source": [
    "calculate_mark_price(market)"
   ]
  },
  {
   "cell_type": "code",
   "execution_count": 63,
   "id": "7174ca88",
   "metadata": {},
   "outputs": [
    {
     "data": {
      "text/plain": [
       "MarketPosition(market_index=0, base_asset_amount=-9.900990099009946e+16, quote_asset_amount=10000000000, last_cumulative_funding_rate=0, last_funding_rate_ts=0)"
      ]
     },
     "execution_count": 63,
     "metadata": {},
     "output_type": "execute_result"
    }
   ],
   "source": [
    "lp_position"
   ]
  },
  {
   "cell_type": "code",
   "execution_count": 64,
   "id": "2fa57446",
   "metadata": {},
   "outputs": [
    {
     "data": {
      "text/plain": [
       "1.0"
      ]
     },
     "execution_count": 64,
     "metadata": {},
     "output_type": "execute_result"
    }
   ],
   "source": [
    "lp_position.quote_asset_amount / user_position.quote_asset_amount"
   ]
  },
  {
   "cell_type": "code",
   "execution_count": 65,
   "id": "6411a010",
   "metadata": {},
   "outputs": [
    {
     "data": {
      "text/plain": [
       "-1.0"
      ]
     },
     "execution_count": 65,
     "metadata": {},
     "output_type": "execute_result"
    }
   ],
   "source": [
    "lp_position.base_asset_amount / user_position.base_asset_amount"
   ]
  },
  {
   "cell_type": "code",
   "execution_count": 66,
   "id": "f5966709",
   "metadata": {},
   "outputs": [
    {
     "data": {
      "text/plain": [
       "(9999900000000.0, 10000100000000.0, 20000000000000.0)"
      ]
     },
     "execution_count": 66,
     "metadata": {},
     "output_type": "execute_result"
    }
   ],
   "source": [
    "puser, plp = user.collateral, lp.collateral\n",
    "puser, plp, puser + plp"
   ]
  },
  {
   "cell_type": "code",
   "execution_count": 67,
   "id": "668312a5",
   "metadata": {},
   "outputs": [
    {
     "data": {
      "text/plain": [
       "-294117647.05859375"
      ]
     },
     "execution_count": 67,
     "metadata": {},
     "output_type": "execute_result"
    }
   ],
   "source": [
    "# close user \n",
    "ch = ch.close_position(\n",
    "    1, 0 \n",
    ")\n",
    "market = ch.markets[0]\n",
    "user.collateral - puser"
   ]
  },
  {
   "cell_type": "code",
   "execution_count": 68,
   "id": "0f4e6422",
   "metadata": {},
   "outputs": [
    {
     "data": {
      "text/plain": [
       "98039214.67773438"
      ]
     },
     "execution_count": 68,
     "metadata": {},
     "output_type": "execute_result"
    }
   ],
   "source": [
    "# close LP\n",
    "ch = ch.close_position(\n",
    "    0, 0 \n",
    ")\n",
    "market = ch.markets[0]\n",
    "lp.collateral - plp"
   ]
  },
  {
   "cell_type": "code",
   "execution_count": 69,
   "id": "c3480235",
   "metadata": {},
   "outputs": [
    {
     "data": {
      "text/plain": [
       "(9999605882352.941, 10000198039214.678)"
      ]
     },
     "execution_count": 69,
     "metadata": {},
     "output_type": "execute_result"
    }
   ],
   "source": [
    "user.collateral, lp.collateral"
   ]
  },
  {
   "cell_type": "code",
   "execution_count": 34,
   "id": "8a58bd8d",
   "metadata": {},
   "outputs": [
    {
     "data": {
      "text/plain": [
       "(1e+19, 1e+19, 0.0)"
      ]
     },
     "execution_count": 34,
     "metadata": {},
     "output_type": "execute_result"
    }
   ],
   "source": [
    "market.amm.base_asset_reserve, market.amm.quote_asset_reserve, market.amm.net_base_asset_amount"
   ]
  },
  {
   "cell_type": "code",
   "execution_count": 70,
   "id": "dc1f49d3",
   "metadata": {},
   "outputs": [
    {
     "data": {
      "text/plain": [
       "19999803.92156762"
      ]
     },
     "execution_count": 70,
     "metadata": {},
     "output_type": "execute_result"
    }
   ],
   "source": [
    "# slightly less than the original amount bc paying for fees to close positions\n",
    "(user.collateral + lp.collateral) / 1e6"
   ]
  },
  {
   "cell_type": "code",
   "execution_count": null,
   "id": "3e3c83c9",
   "metadata": {},
   "outputs": [],
   "source": []
  },
  {
   "cell_type": "code",
   "execution_count": null,
   "id": "3aae359a",
   "metadata": {},
   "outputs": [],
   "source": []
  },
  {
   "cell_type": "code",
   "execution_count": null,
   "id": "8a7446d9",
   "metadata": {},
   "outputs": [],
   "source": []
  }
 ],
 "metadata": {
  "kernelspec": {
   "display_name": "Python 3.9.12 ('crypto')",
   "language": "python",
   "name": "python3"
  },
  "language_info": {
   "codemirror_mode": {
    "name": "ipython",
    "version": 3
   },
   "file_extension": ".py",
   "mimetype": "text/x-python",
   "name": "python",
   "nbconvert_exporter": "python",
   "pygments_lexer": "ipython3",
   "version": "3.9.12"
  },
  "vscode": {
   "interpreter": {
    "hash": "624c72e60887220413ba1f8f2e5b78d412679310011d540f3b5e530000425194"
   }
  }
 },
 "nbformat": 4,
 "nbformat_minor": 5
}
