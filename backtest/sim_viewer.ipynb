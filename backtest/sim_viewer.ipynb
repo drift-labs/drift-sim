{
 "cells": [
  {
   "cell_type": "code",
<<<<<<< HEAD
   "execution_count": 296,
=======
   "execution_count": 257,
>>>>>>> master
   "id": "86b2f259-2f75-4088-a424-b9eb34a7a5cb",
   "metadata": {},
   "outputs": [],
   "source": [
    "%reload_ext autoreload\n",
    "%autoreload 2\n",
    "\n",
    "import sys\n",
    "sys.path.insert(0, '../')\n",
    "sys.path.insert(0, '../driftpy/src/')\n",
    "\n",
    "import pandas as pd \n",
    "import numpy as np \n",
    "\n",
    "pd.options.plotting.backend = \"plotly\""
   ]
  },
  {
   "cell_type": "code",
<<<<<<< HEAD
   "execution_count": 297,
=======
   "execution_count": 258,
>>>>>>> master
   "id": "0866d626-d06c-464a-86e7-f78e687dff31",
   "metadata": {},
   "outputs": [
    {
     "data": {
      "application/vnd.plotly.v1+json": {
       "config": {
        "plotlyServerURL": "https://plot.ly"
       },
       "data": [
        {
         "hovertemplate": "variable=m0_oracle_price<br>index=%{x}<br>value=%{y}<extra></extra>",
         "legendgroup": "m0_oracle_price",
         "line": {
          "color": "#636efa",
          "dash": "solid"
         },
         "marker": {
          "symbol": "circle"
         },
         "mode": "lines",
         "name": "m0_oracle_price",
         "orientation": "v",
         "showlegend": true,
         "type": "scatter",
         "x": [
          0,
          1,
          2,
          3,
          4,
          5,
          6,
          7,
          8,
          9,
          10,
          11,
          12,
          13,
          14,
          15,
          16,
          17,
          18,
          19,
          20,
          21,
          22,
          23,
          24,
          25,
          26,
          27,
          28,
          29,
          30,
          31,
          32,
          33,
          34,
          35,
          36,
          37,
          38,
          39,
          40,
          41,
          42,
          43,
          44,
          45,
          46,
          47,
          48,
          49,
          50,
          51,
          52,
          53,
          54,
          55,
          56,
          57,
          58,
          59
         ],
         "xaxis": "x",
         "y": [
          14.716202001911952,
          14.716202001911952,
          14.716202001911952,
          14.716202001911952,
          14.716202001911952,
          14.716202001911952,
          14.716202001911952,
          14.716202001911952,
          15.000300962905072,
          15.000300962905072,
          15.000300962905072,
          15.000300962905072,
          15.000300962905072,
          15.000300962905072,
          14.694205917693935,
          14.694205917693935,
          14.694205917693935,
          14.694205917693935,
          14.694205917693935,
          14.694205917693935,
          14.659655196939212,
          15.287548821080762,
          15.670150853838209,
          14.456499950966062,
          13.493961797372153,
          13.958087498252825,
          13.958087498252825,
          12.291981956363031,
          12.704775427590832,
          12.704775427590832,
          12.50363082638411,
          12.50363082638411,
          12.18296979470361,
          12.18296979470361,
          12.100111612603158,
          10.308072196164504,
          10.308072196164504,
          10.308072196164504,
          7.557352839734719,
          5.9058543114594215,
          4.262883682516289,
          4.262883682516289,
          4.262883682516289,
          5.3160247453010925,
          2.5885733041071006,
          4.805673101548578,
          4.757511085449991,
          4.510962698973557,
          4.1140112779569336,
          2.923025570085585,
          2.923025570085585,
          2.667009324177414,
          2.782761960293968,
          2.8547828801151667,
          2.8547828801151667,
          2.113941456402827,
          3.4179467194854,
          3.4179467194854,
          1.5868822557824132,
          1.5868822557824132
         ],
         "yaxis": "y"
        }
       ],
       "layout": {
        "autosize": true,
        "legend": {
         "title": {
          "text": "variable"
         },
         "tracegroupgap": 0
        },
        "margin": {
         "t": 60
        },
        "template": {
         "data": {
          "bar": [
           {
            "error_x": {
             "color": "#2a3f5f"
            },
            "error_y": {
             "color": "#2a3f5f"
            },
            "marker": {
             "line": {
              "color": "#E5ECF6",
              "width": 0.5
             },
             "pattern": {
              "fillmode": "overlay",
              "size": 10,
              "solidity": 0.2
             }
            },
            "type": "bar"
           }
          ],
          "barpolar": [
           {
            "marker": {
             "line": {
              "color": "#E5ECF6",
              "width": 0.5
             },
             "pattern": {
              "fillmode": "overlay",
              "size": 10,
              "solidity": 0.2
             }
            },
            "type": "barpolar"
           }
          ],
          "carpet": [
           {
            "aaxis": {
             "endlinecolor": "#2a3f5f",
             "gridcolor": "white",
             "linecolor": "white",
             "minorgridcolor": "white",
             "startlinecolor": "#2a3f5f"
            },
            "baxis": {
             "endlinecolor": "#2a3f5f",
             "gridcolor": "white",
             "linecolor": "white",
             "minorgridcolor": "white",
             "startlinecolor": "#2a3f5f"
            },
            "type": "carpet"
           }
          ],
          "choropleth": [
           {
            "colorbar": {
             "outlinewidth": 0,
             "ticks": ""
            },
            "type": "choropleth"
           }
          ],
          "contour": [
           {
            "colorbar": {
             "outlinewidth": 0,
             "ticks": ""
            },
            "colorscale": [
             [
              0,
              "#0d0887"
             ],
             [
              0.1111111111111111,
              "#46039f"
             ],
             [
              0.2222222222222222,
              "#7201a8"
             ],
             [
              0.3333333333333333,
              "#9c179e"
             ],
             [
              0.4444444444444444,
              "#bd3786"
             ],
             [
              0.5555555555555556,
              "#d8576b"
             ],
             [
              0.6666666666666666,
              "#ed7953"
             ],
             [
              0.7777777777777778,
              "#fb9f3a"
             ],
             [
              0.8888888888888888,
              "#fdca26"
             ],
             [
              1,
              "#f0f921"
             ]
            ],
            "type": "contour"
           }
          ],
          "contourcarpet": [
           {
            "colorbar": {
             "outlinewidth": 0,
             "ticks": ""
            },
            "type": "contourcarpet"
           }
          ],
          "heatmap": [
           {
            "colorbar": {
             "outlinewidth": 0,
             "ticks": ""
            },
            "colorscale": [
             [
              0,
              "#0d0887"
             ],
             [
              0.1111111111111111,
              "#46039f"
             ],
             [
              0.2222222222222222,
              "#7201a8"
             ],
             [
              0.3333333333333333,
              "#9c179e"
             ],
             [
              0.4444444444444444,
              "#bd3786"
             ],
             [
              0.5555555555555556,
              "#d8576b"
             ],
             [
              0.6666666666666666,
              "#ed7953"
             ],
             [
              0.7777777777777778,
              "#fb9f3a"
             ],
             [
              0.8888888888888888,
              "#fdca26"
             ],
             [
              1,
              "#f0f921"
             ]
            ],
            "type": "heatmap"
           }
          ],
          "heatmapgl": [
           {
            "colorbar": {
             "outlinewidth": 0,
             "ticks": ""
            },
            "colorscale": [
             [
              0,
              "#0d0887"
             ],
             [
              0.1111111111111111,
              "#46039f"
             ],
             [
              0.2222222222222222,
              "#7201a8"
             ],
             [
              0.3333333333333333,
              "#9c179e"
             ],
             [
              0.4444444444444444,
              "#bd3786"
             ],
             [
              0.5555555555555556,
              "#d8576b"
             ],
             [
              0.6666666666666666,
              "#ed7953"
             ],
             [
              0.7777777777777778,
              "#fb9f3a"
             ],
             [
              0.8888888888888888,
              "#fdca26"
             ],
             [
              1,
              "#f0f921"
             ]
            ],
            "type": "heatmapgl"
           }
          ],
          "histogram": [
           {
            "marker": {
             "pattern": {
              "fillmode": "overlay",
              "size": 10,
              "solidity": 0.2
             }
            },
            "type": "histogram"
           }
          ],
          "histogram2d": [
           {
            "colorbar": {
             "outlinewidth": 0,
             "ticks": ""
            },
            "colorscale": [
             [
              0,
              "#0d0887"
             ],
             [
              0.1111111111111111,
              "#46039f"
             ],
             [
              0.2222222222222222,
              "#7201a8"
             ],
             [
              0.3333333333333333,
              "#9c179e"
             ],
             [
              0.4444444444444444,
              "#bd3786"
             ],
             [
              0.5555555555555556,
              "#d8576b"
             ],
             [
              0.6666666666666666,
              "#ed7953"
             ],
             [
              0.7777777777777778,
              "#fb9f3a"
             ],
             [
              0.8888888888888888,
              "#fdca26"
             ],
             [
              1,
              "#f0f921"
             ]
            ],
            "type": "histogram2d"
           }
          ],
          "histogram2dcontour": [
           {
            "colorbar": {
             "outlinewidth": 0,
             "ticks": ""
            },
            "colorscale": [
             [
              0,
              "#0d0887"
             ],
             [
              0.1111111111111111,
              "#46039f"
             ],
             [
              0.2222222222222222,
              "#7201a8"
             ],
             [
              0.3333333333333333,
              "#9c179e"
             ],
             [
              0.4444444444444444,
              "#bd3786"
             ],
             [
              0.5555555555555556,
              "#d8576b"
             ],
             [
              0.6666666666666666,
              "#ed7953"
             ],
             [
              0.7777777777777778,
              "#fb9f3a"
             ],
             [
              0.8888888888888888,
              "#fdca26"
             ],
             [
              1,
              "#f0f921"
             ]
            ],
            "type": "histogram2dcontour"
           }
          ],
          "mesh3d": [
           {
            "colorbar": {
             "outlinewidth": 0,
             "ticks": ""
            },
            "type": "mesh3d"
           }
          ],
          "parcoords": [
           {
            "line": {
             "colorbar": {
              "outlinewidth": 0,
              "ticks": ""
             }
            },
            "type": "parcoords"
           }
          ],
          "pie": [
           {
            "automargin": true,
            "type": "pie"
           }
          ],
          "scatter": [
           {
            "fillpattern": {
             "fillmode": "overlay",
             "size": 10,
             "solidity": 0.2
            },
            "type": "scatter"
           }
          ],
          "scatter3d": [
           {
            "line": {
             "colorbar": {
              "outlinewidth": 0,
              "ticks": ""
             }
            },
            "marker": {
             "colorbar": {
              "outlinewidth": 0,
              "ticks": ""
             }
            },
            "type": "scatter3d"
           }
          ],
          "scattercarpet": [
           {
            "marker": {
             "colorbar": {
              "outlinewidth": 0,
              "ticks": ""
             }
            },
            "type": "scattercarpet"
           }
          ],
          "scattergeo": [
           {
            "marker": {
             "colorbar": {
              "outlinewidth": 0,
              "ticks": ""
             }
            },
            "type": "scattergeo"
           }
          ],
          "scattergl": [
           {
            "marker": {
             "colorbar": {
              "outlinewidth": 0,
              "ticks": ""
             }
            },
            "type": "scattergl"
           }
          ],
          "scattermapbox": [
           {
            "marker": {
             "colorbar": {
              "outlinewidth": 0,
              "ticks": ""
             }
            },
            "type": "scattermapbox"
           }
          ],
          "scatterpolar": [
           {
            "marker": {
             "colorbar": {
              "outlinewidth": 0,
              "ticks": ""
             }
            },
            "type": "scatterpolar"
           }
          ],
          "scatterpolargl": [
           {
            "marker": {
             "colorbar": {
              "outlinewidth": 0,
              "ticks": ""
             }
            },
            "type": "scatterpolargl"
           }
          ],
          "scatterternary": [
           {
            "marker": {
             "colorbar": {
              "outlinewidth": 0,
              "ticks": ""
             }
            },
            "type": "scatterternary"
           }
          ],
          "surface": [
           {
            "colorbar": {
             "outlinewidth": 0,
             "ticks": ""
            },
            "colorscale": [
             [
              0,
              "#0d0887"
             ],
             [
              0.1111111111111111,
              "#46039f"
             ],
             [
              0.2222222222222222,
              "#7201a8"
             ],
             [
              0.3333333333333333,
              "#9c179e"
             ],
             [
              0.4444444444444444,
              "#bd3786"
             ],
             [
              0.5555555555555556,
              "#d8576b"
             ],
             [
              0.6666666666666666,
              "#ed7953"
             ],
             [
              0.7777777777777778,
              "#fb9f3a"
             ],
             [
              0.8888888888888888,
              "#fdca26"
             ],
             [
              1,
              "#f0f921"
             ]
            ],
            "type": "surface"
           }
          ],
          "table": [
           {
            "cells": {
             "fill": {
              "color": "#EBF0F8"
             },
             "line": {
              "color": "white"
             }
            },
            "header": {
             "fill": {
              "color": "#C8D4E3"
             },
             "line": {
              "color": "white"
             }
            },
            "type": "table"
           }
          ]
         },
         "layout": {
          "annotationdefaults": {
           "arrowcolor": "#2a3f5f",
           "arrowhead": 0,
           "arrowwidth": 1
          },
          "autotypenumbers": "strict",
          "coloraxis": {
           "colorbar": {
            "outlinewidth": 0,
            "ticks": ""
           }
          },
          "colorscale": {
           "diverging": [
            [
             0,
             "#8e0152"
            ],
            [
             0.1,
             "#c51b7d"
            ],
            [
             0.2,
             "#de77ae"
            ],
            [
             0.3,
             "#f1b6da"
            ],
            [
             0.4,
             "#fde0ef"
            ],
            [
             0.5,
             "#f7f7f7"
            ],
            [
             0.6,
             "#e6f5d0"
            ],
            [
             0.7,
             "#b8e186"
            ],
            [
             0.8,
             "#7fbc41"
            ],
            [
             0.9,
             "#4d9221"
            ],
            [
             1,
             "#276419"
            ]
           ],
           "sequential": [
            [
             0,
             "#0d0887"
            ],
            [
             0.1111111111111111,
             "#46039f"
            ],
            [
             0.2222222222222222,
             "#7201a8"
            ],
            [
             0.3333333333333333,
             "#9c179e"
            ],
            [
             0.4444444444444444,
             "#bd3786"
            ],
            [
             0.5555555555555556,
             "#d8576b"
            ],
            [
             0.6666666666666666,
             "#ed7953"
            ],
            [
             0.7777777777777778,
             "#fb9f3a"
            ],
            [
             0.8888888888888888,
             "#fdca26"
            ],
            [
             1,
             "#f0f921"
            ]
           ],
           "sequentialminus": [
            [
             0,
             "#0d0887"
            ],
            [
             0.1111111111111111,
             "#46039f"
            ],
            [
             0.2222222222222222,
             "#7201a8"
            ],
            [
             0.3333333333333333,
             "#9c179e"
            ],
            [
             0.4444444444444444,
             "#bd3786"
            ],
            [
             0.5555555555555556,
             "#d8576b"
            ],
            [
             0.6666666666666666,
             "#ed7953"
            ],
            [
             0.7777777777777778,
             "#fb9f3a"
            ],
            [
             0.8888888888888888,
             "#fdca26"
            ],
            [
             1,
             "#f0f921"
            ]
           ]
          },
          "colorway": [
           "#636efa",
           "#EF553B",
           "#00cc96",
           "#ab63fa",
           "#FFA15A",
           "#19d3f3",
           "#FF6692",
           "#B6E880",
           "#FF97FF",
           "#FECB52"
          ],
          "font": {
           "color": "#2a3f5f"
          },
          "geo": {
           "bgcolor": "white",
           "lakecolor": "white",
           "landcolor": "#E5ECF6",
           "showlakes": true,
           "showland": true,
           "subunitcolor": "white"
          },
          "hoverlabel": {
           "align": "left"
          },
          "hovermode": "closest",
          "mapbox": {
           "style": "light"
          },
          "paper_bgcolor": "white",
          "plot_bgcolor": "#E5ECF6",
          "polar": {
           "angularaxis": {
            "gridcolor": "white",
            "linecolor": "white",
            "ticks": ""
           },
           "bgcolor": "#E5ECF6",
           "radialaxis": {
            "gridcolor": "white",
            "linecolor": "white",
            "ticks": ""
           }
          },
          "scene": {
           "xaxis": {
            "backgroundcolor": "#E5ECF6",
            "gridcolor": "white",
            "gridwidth": 2,
            "linecolor": "white",
            "showbackground": true,
            "ticks": "",
            "zerolinecolor": "white"
           },
           "yaxis": {
            "backgroundcolor": "#E5ECF6",
            "gridcolor": "white",
            "gridwidth": 2,
            "linecolor": "white",
            "showbackground": true,
            "ticks": "",
            "zerolinecolor": "white"
           },
           "zaxis": {
            "backgroundcolor": "#E5ECF6",
            "gridcolor": "white",
            "gridwidth": 2,
            "linecolor": "white",
            "showbackground": true,
            "ticks": "",
            "zerolinecolor": "white"
           }
          },
          "shapedefaults": {
           "line": {
            "color": "#2a3f5f"
           }
          },
          "ternary": {
           "aaxis": {
            "gridcolor": "white",
            "linecolor": "white",
            "ticks": ""
           },
           "baxis": {
            "gridcolor": "white",
            "linecolor": "white",
            "ticks": ""
           },
           "bgcolor": "#E5ECF6",
           "caxis": {
            "gridcolor": "white",
            "linecolor": "white",
            "ticks": ""
           }
          },
          "title": {
           "x": 0.05
          },
          "xaxis": {
           "automargin": true,
           "gridcolor": "white",
           "linecolor": "white",
           "ticks": "",
           "title": {
            "standoff": 15
           },
           "zerolinecolor": "white",
           "zerolinewidth": 2
          },
          "yaxis": {
           "automargin": true,
           "gridcolor": "white",
           "linecolor": "white",
           "ticks": "",
           "title": {
            "standoff": 15
           },
           "zerolinecolor": "white",
           "zerolinewidth": 2
          }
         }
        },
        "xaxis": {
         "anchor": "y",
         "autorange": true,
         "domain": [
          0,
          1
         ],
         "range": [
          0,
          59
         ],
         "title": {
          "text": "index"
         },
         "type": "linear"
        },
        "yaxis": {
         "anchor": "x",
         "autorange": true,
         "domain": [
          0,
          1
         ],
         "range": [
          0.8044784447793134,
          16.45255466484131
         ],
         "title": {
          "text": "value"
         },
         "type": "linear"
        }
       }
      },
      "image/png": "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",
      "text/html": [
<<<<<<< HEAD
       "<div>                            <div id=\"90a003e0-3c74-436e-9505-306d45de8cd0\" class=\"plotly-graph-div\" style=\"height:525px; width:100%;\"></div>            <script type=\"text/javascript\">                require([\"plotly\"], function(Plotly) {                    window.PLOTLYENV=window.PLOTLYENV || {};                                    if (document.getElementById(\"90a003e0-3c74-436e-9505-306d45de8cd0\")) {                    Plotly.newPlot(                        \"90a003e0-3c74-436e-9505-306d45de8cd0\",                        [{\"hovertemplate\":\"variable=m0_oracle_price<br>index=%{x}<br>value=%{y}<extra></extra>\",\"legendgroup\":\"m0_oracle_price\",\"line\":{\"color\":\"#636efa\",\"dash\":\"solid\"},\"marker\":{\"symbol\":\"circle\"},\"mode\":\"lines\",\"name\":\"m0_oracle_price\",\"orientation\":\"v\",\"showlegend\":true,\"x\":[0,1,2,3,4,5,6,7,8,9,10,11,12,13,14,15,16,17,18,19,20,21,22,23,24,25,26,27,28,29,30,31,32,33,34,35,36,37,38,39,40,41,42,43,44,45,46,47,48,49,50,51,52,53,54,55,56,57,58,59],\"xaxis\":\"x\",\"y\":[14.716202001911952,14.716202001911952,14.716202001911952,14.716202001911952,14.716202001911952,14.716202001911952,14.716202001911952,14.716202001911952,15.000300962905072,15.000300962905072,15.000300962905072,15.000300962905072,15.000300962905072,15.000300962905072,14.694205917693935,14.694205917693935,14.694205917693935,14.694205917693935,14.694205917693935,14.694205917693935,14.659655196939212,15.287548821080762,15.670150853838209,14.456499950966062,13.493961797372153,13.958087498252825,13.958087498252825,12.291981956363031,12.704775427590832,12.704775427590832,12.50363082638411,12.50363082638411,12.18296979470361,12.18296979470361,12.100111612603158,10.308072196164504,10.308072196164504,10.308072196164504,7.557352839734719,5.9058543114594215,4.262883682516289,4.262883682516289,4.262883682516289,5.3160247453010925,2.5885733041071006,4.805673101548578,4.757511085449991,4.510962698973557,4.1140112779569336,2.923025570085585,2.923025570085585,2.667009324177414,2.782761960293968,2.8547828801151667,2.8547828801151667,2.113941456402827,3.4179467194854,3.4179467194854,1.5868822557824132,1.5868822557824132],\"yaxis\":\"y\",\"type\":\"scatter\"}],                        {\"template\":{\"data\":{\"histogram2dcontour\":[{\"type\":\"histogram2dcontour\",\"colorbar\":{\"outlinewidth\":0,\"ticks\":\"\"},\"colorscale\":[[0.0,\"#0d0887\"],[0.1111111111111111,\"#46039f\"],[0.2222222222222222,\"#7201a8\"],[0.3333333333333333,\"#9c179e\"],[0.4444444444444444,\"#bd3786\"],[0.5555555555555556,\"#d8576b\"],[0.6666666666666666,\"#ed7953\"],[0.7777777777777778,\"#fb9f3a\"],[0.8888888888888888,\"#fdca26\"],[1.0,\"#f0f921\"]]}],\"choropleth\":[{\"type\":\"choropleth\",\"colorbar\":{\"outlinewidth\":0,\"ticks\":\"\"}}],\"histogram2d\":[{\"type\":\"histogram2d\",\"colorbar\":{\"outlinewidth\":0,\"ticks\":\"\"},\"colorscale\":[[0.0,\"#0d0887\"],[0.1111111111111111,\"#46039f\"],[0.2222222222222222,\"#7201a8\"],[0.3333333333333333,\"#9c179e\"],[0.4444444444444444,\"#bd3786\"],[0.5555555555555556,\"#d8576b\"],[0.6666666666666666,\"#ed7953\"],[0.7777777777777778,\"#fb9f3a\"],[0.8888888888888888,\"#fdca26\"],[1.0,\"#f0f921\"]]}],\"heatmap\":[{\"type\":\"heatmap\",\"colorbar\":{\"outlinewidth\":0,\"ticks\":\"\"},\"colorscale\":[[0.0,\"#0d0887\"],[0.1111111111111111,\"#46039f\"],[0.2222222222222222,\"#7201a8\"],[0.3333333333333333,\"#9c179e\"],[0.4444444444444444,\"#bd3786\"],[0.5555555555555556,\"#d8576b\"],[0.6666666666666666,\"#ed7953\"],[0.7777777777777778,\"#fb9f3a\"],[0.8888888888888888,\"#fdca26\"],[1.0,\"#f0f921\"]]}],\"heatmapgl\":[{\"type\":\"heatmapgl\",\"colorbar\":{\"outlinewidth\":0,\"ticks\":\"\"},\"colorscale\":[[0.0,\"#0d0887\"],[0.1111111111111111,\"#46039f\"],[0.2222222222222222,\"#7201a8\"],[0.3333333333333333,\"#9c179e\"],[0.4444444444444444,\"#bd3786\"],[0.5555555555555556,\"#d8576b\"],[0.6666666666666666,\"#ed7953\"],[0.7777777777777778,\"#fb9f3a\"],[0.8888888888888888,\"#fdca26\"],[1.0,\"#f0f921\"]]}],\"contourcarpet\":[{\"type\":\"contourcarpet\",\"colorbar\":{\"outlinewidth\":0,\"ticks\":\"\"}}],\"contour\":[{\"type\":\"contour\",\"colorbar\":{\"outlinewidth\":0,\"ticks\":\"\"},\"colorscale\":[[0.0,\"#0d0887\"],[0.1111111111111111,\"#46039f\"],[0.2222222222222222,\"#7201a8\"],[0.3333333333333333,\"#9c179e\"],[0.4444444444444444,\"#bd3786\"],[0.5555555555555556,\"#d8576b\"],[0.6666666666666666,\"#ed7953\"],[0.7777777777777778,\"#fb9f3a\"],[0.8888888888888888,\"#fdca26\"],[1.0,\"#f0f921\"]]}],\"surface\":[{\"type\":\"surface\",\"colorbar\":{\"outlinewidth\":0,\"ticks\":\"\"},\"colorscale\":[[0.0,\"#0d0887\"],[0.1111111111111111,\"#46039f\"],[0.2222222222222222,\"#7201a8\"],[0.3333333333333333,\"#9c179e\"],[0.4444444444444444,\"#bd3786\"],[0.5555555555555556,\"#d8576b\"],[0.6666666666666666,\"#ed7953\"],[0.7777777777777778,\"#fb9f3a\"],[0.8888888888888888,\"#fdca26\"],[1.0,\"#f0f921\"]]}],\"mesh3d\":[{\"type\":\"mesh3d\",\"colorbar\":{\"outlinewidth\":0,\"ticks\":\"\"}}],\"scatter\":[{\"fillpattern\":{\"fillmode\":\"overlay\",\"size\":10,\"solidity\":0.2},\"type\":\"scatter\"}],\"parcoords\":[{\"type\":\"parcoords\",\"line\":{\"colorbar\":{\"outlinewidth\":0,\"ticks\":\"\"}}}],\"scatterpolargl\":[{\"type\":\"scatterpolargl\",\"marker\":{\"colorbar\":{\"outlinewidth\":0,\"ticks\":\"\"}}}],\"bar\":[{\"error_x\":{\"color\":\"#2a3f5f\"},\"error_y\":{\"color\":\"#2a3f5f\"},\"marker\":{\"line\":{\"color\":\"#E5ECF6\",\"width\":0.5},\"pattern\":{\"fillmode\":\"overlay\",\"size\":10,\"solidity\":0.2}},\"type\":\"bar\"}],\"scattergeo\":[{\"type\":\"scattergeo\",\"marker\":{\"colorbar\":{\"outlinewidth\":0,\"ticks\":\"\"}}}],\"scatterpolar\":[{\"type\":\"scatterpolar\",\"marker\":{\"colorbar\":{\"outlinewidth\":0,\"ticks\":\"\"}}}],\"histogram\":[{\"marker\":{\"pattern\":{\"fillmode\":\"overlay\",\"size\":10,\"solidity\":0.2}},\"type\":\"histogram\"}],\"scattergl\":[{\"type\":\"scattergl\",\"marker\":{\"colorbar\":{\"outlinewidth\":0,\"ticks\":\"\"}}}],\"scatter3d\":[{\"type\":\"scatter3d\",\"line\":{\"colorbar\":{\"outlinewidth\":0,\"ticks\":\"\"}},\"marker\":{\"colorbar\":{\"outlinewidth\":0,\"ticks\":\"\"}}}],\"scattermapbox\":[{\"type\":\"scattermapbox\",\"marker\":{\"colorbar\":{\"outlinewidth\":0,\"ticks\":\"\"}}}],\"scatterternary\":[{\"type\":\"scatterternary\",\"marker\":{\"colorbar\":{\"outlinewidth\":0,\"ticks\":\"\"}}}],\"scattercarpet\":[{\"type\":\"scattercarpet\",\"marker\":{\"colorbar\":{\"outlinewidth\":0,\"ticks\":\"\"}}}],\"carpet\":[{\"aaxis\":{\"endlinecolor\":\"#2a3f5f\",\"gridcolor\":\"white\",\"linecolor\":\"white\",\"minorgridcolor\":\"white\",\"startlinecolor\":\"#2a3f5f\"},\"baxis\":{\"endlinecolor\":\"#2a3f5f\",\"gridcolor\":\"white\",\"linecolor\":\"white\",\"minorgridcolor\":\"white\",\"startlinecolor\":\"#2a3f5f\"},\"type\":\"carpet\"}],\"table\":[{\"cells\":{\"fill\":{\"color\":\"#EBF0F8\"},\"line\":{\"color\":\"white\"}},\"header\":{\"fill\":{\"color\":\"#C8D4E3\"},\"line\":{\"color\":\"white\"}},\"type\":\"table\"}],\"barpolar\":[{\"marker\":{\"line\":{\"color\":\"#E5ECF6\",\"width\":0.5},\"pattern\":{\"fillmode\":\"overlay\",\"size\":10,\"solidity\":0.2}},\"type\":\"barpolar\"}],\"pie\":[{\"automargin\":true,\"type\":\"pie\"}]},\"layout\":{\"autotypenumbers\":\"strict\",\"colorway\":[\"#636efa\",\"#EF553B\",\"#00cc96\",\"#ab63fa\",\"#FFA15A\",\"#19d3f3\",\"#FF6692\",\"#B6E880\",\"#FF97FF\",\"#FECB52\"],\"font\":{\"color\":\"#2a3f5f\"},\"hovermode\":\"closest\",\"hoverlabel\":{\"align\":\"left\"},\"paper_bgcolor\":\"white\",\"plot_bgcolor\":\"#E5ECF6\",\"polar\":{\"bgcolor\":\"#E5ECF6\",\"angularaxis\":{\"gridcolor\":\"white\",\"linecolor\":\"white\",\"ticks\":\"\"},\"radialaxis\":{\"gridcolor\":\"white\",\"linecolor\":\"white\",\"ticks\":\"\"}},\"ternary\":{\"bgcolor\":\"#E5ECF6\",\"aaxis\":{\"gridcolor\":\"white\",\"linecolor\":\"white\",\"ticks\":\"\"},\"baxis\":{\"gridcolor\":\"white\",\"linecolor\":\"white\",\"ticks\":\"\"},\"caxis\":{\"gridcolor\":\"white\",\"linecolor\":\"white\",\"ticks\":\"\"}},\"coloraxis\":{\"colorbar\":{\"outlinewidth\":0,\"ticks\":\"\"}},\"colorscale\":{\"sequential\":[[0.0,\"#0d0887\"],[0.1111111111111111,\"#46039f\"],[0.2222222222222222,\"#7201a8\"],[0.3333333333333333,\"#9c179e\"],[0.4444444444444444,\"#bd3786\"],[0.5555555555555556,\"#d8576b\"],[0.6666666666666666,\"#ed7953\"],[0.7777777777777778,\"#fb9f3a\"],[0.8888888888888888,\"#fdca26\"],[1.0,\"#f0f921\"]],\"sequentialminus\":[[0.0,\"#0d0887\"],[0.1111111111111111,\"#46039f\"],[0.2222222222222222,\"#7201a8\"],[0.3333333333333333,\"#9c179e\"],[0.4444444444444444,\"#bd3786\"],[0.5555555555555556,\"#d8576b\"],[0.6666666666666666,\"#ed7953\"],[0.7777777777777778,\"#fb9f3a\"],[0.8888888888888888,\"#fdca26\"],[1.0,\"#f0f921\"]],\"diverging\":[[0,\"#8e0152\"],[0.1,\"#c51b7d\"],[0.2,\"#de77ae\"],[0.3,\"#f1b6da\"],[0.4,\"#fde0ef\"],[0.5,\"#f7f7f7\"],[0.6,\"#e6f5d0\"],[0.7,\"#b8e186\"],[0.8,\"#7fbc41\"],[0.9,\"#4d9221\"],[1,\"#276419\"]]},\"xaxis\":{\"gridcolor\":\"white\",\"linecolor\":\"white\",\"ticks\":\"\",\"title\":{\"standoff\":15},\"zerolinecolor\":\"white\",\"automargin\":true,\"zerolinewidth\":2},\"yaxis\":{\"gridcolor\":\"white\",\"linecolor\":\"white\",\"ticks\":\"\",\"title\":{\"standoff\":15},\"zerolinecolor\":\"white\",\"automargin\":true,\"zerolinewidth\":2},\"scene\":{\"xaxis\":{\"backgroundcolor\":\"#E5ECF6\",\"gridcolor\":\"white\",\"linecolor\":\"white\",\"showbackground\":true,\"ticks\":\"\",\"zerolinecolor\":\"white\",\"gridwidth\":2},\"yaxis\":{\"backgroundcolor\":\"#E5ECF6\",\"gridcolor\":\"white\",\"linecolor\":\"white\",\"showbackground\":true,\"ticks\":\"\",\"zerolinecolor\":\"white\",\"gridwidth\":2},\"zaxis\":{\"backgroundcolor\":\"#E5ECF6\",\"gridcolor\":\"white\",\"linecolor\":\"white\",\"showbackground\":true,\"ticks\":\"\",\"zerolinecolor\":\"white\",\"gridwidth\":2}},\"shapedefaults\":{\"line\":{\"color\":\"#2a3f5f\"}},\"annotationdefaults\":{\"arrowcolor\":\"#2a3f5f\",\"arrowhead\":0,\"arrowwidth\":1},\"geo\":{\"bgcolor\":\"white\",\"landcolor\":\"#E5ECF6\",\"subunitcolor\":\"white\",\"showland\":true,\"showlakes\":true,\"lakecolor\":\"white\"},\"title\":{\"x\":0.05},\"mapbox\":{\"style\":\"light\"}}},\"xaxis\":{\"anchor\":\"y\",\"domain\":[0.0,1.0],\"title\":{\"text\":\"index\"}},\"yaxis\":{\"anchor\":\"x\",\"domain\":[0.0,1.0],\"title\":{\"text\":\"value\"}},\"legend\":{\"title\":{\"text\":\"variable\"},\"tracegroupgap\":0},\"margin\":{\"t\":60}},                        {\"responsive\": true}                    ).then(function(){\n",
       "                            \n",
       "var gd = document.getElementById('90a003e0-3c74-436e-9505-306d45de8cd0');\n",
=======
       "<div>                            <div id=\"12216821-a351-4d8a-8514-02135c37a0a1\" class=\"plotly-graph-div\" style=\"height:525px; width:100%;\"></div>            <script type=\"text/javascript\">                require([\"plotly\"], function(Plotly) {                    window.PLOTLYENV=window.PLOTLYENV || {};                                    if (document.getElementById(\"12216821-a351-4d8a-8514-02135c37a0a1\")) {                    Plotly.newPlot(                        \"12216821-a351-4d8a-8514-02135c37a0a1\",                        [{\"hovertemplate\":\"variable=m0_oracle_price<br>index=%{x}<br>value=%{y}<extra></extra>\",\"legendgroup\":\"m0_oracle_price\",\"line\":{\"color\":\"#636efa\",\"dash\":\"solid\"},\"marker\":{\"symbol\":\"circle\"},\"mode\":\"lines\",\"name\":\"m0_oracle_price\",\"orientation\":\"v\",\"showlegend\":true,\"x\":[0,1,2,3,4,5,6,7,8,9,10,11,12,13,14,15,16,17,18,19,20,21,22,23,24,25,26,27,28,29,30,31,32,33,34,35,36,37,38,39,40,41,42,43,44,45,46,47,48,49,50,51,52,53,54,55,56,57,58,59],\"xaxis\":\"x\",\"y\":[14.716202001911952,14.716202001911952,14.716202001911952,14.716202001911952,14.716202001911952,14.716202001911952,14.716202001911952,14.716202001911952,15.000300962905072,15.000300962905072,15.000300962905072,15.000300962905072,15.000300962905072,15.000300962905072,14.694205917693935,14.694205917693935,14.694205917693935,14.694205917693935,14.694205917693935,14.694205917693935,14.659655196939212,15.287548821080762,15.670150853838209,14.456499950966062,13.493961797372153,13.958087498252825,13.958087498252825,12.291981956363031,12.704775427590832,12.704775427590832,12.50363082638411,12.50363082638411,12.18296979470361,12.18296979470361,12.100111612603158,10.308072196164504,10.308072196164504,10.308072196164504,7.557352839734719,5.9058543114594215,4.262883682516289,4.262883682516289,4.262883682516289,5.3160247453010925,2.5885733041071006,4.805673101548578,4.757511085449991,4.510962698973557,4.1140112779569336,2.923025570085585,2.923025570085585,2.667009324177414,2.782761960293968,2.8547828801151667,2.8547828801151667,2.113941456402827,3.4179467194854,3.4179467194854,1.5868822557824132,1.5868822557824132],\"yaxis\":\"y\",\"type\":\"scatter\"}],                        {\"template\":{\"data\":{\"histogram2dcontour\":[{\"type\":\"histogram2dcontour\",\"colorbar\":{\"outlinewidth\":0,\"ticks\":\"\"},\"colorscale\":[[0.0,\"#0d0887\"],[0.1111111111111111,\"#46039f\"],[0.2222222222222222,\"#7201a8\"],[0.3333333333333333,\"#9c179e\"],[0.4444444444444444,\"#bd3786\"],[0.5555555555555556,\"#d8576b\"],[0.6666666666666666,\"#ed7953\"],[0.7777777777777778,\"#fb9f3a\"],[0.8888888888888888,\"#fdca26\"],[1.0,\"#f0f921\"]]}],\"choropleth\":[{\"type\":\"choropleth\",\"colorbar\":{\"outlinewidth\":0,\"ticks\":\"\"}}],\"histogram2d\":[{\"type\":\"histogram2d\",\"colorbar\":{\"outlinewidth\":0,\"ticks\":\"\"},\"colorscale\":[[0.0,\"#0d0887\"],[0.1111111111111111,\"#46039f\"],[0.2222222222222222,\"#7201a8\"],[0.3333333333333333,\"#9c179e\"],[0.4444444444444444,\"#bd3786\"],[0.5555555555555556,\"#d8576b\"],[0.6666666666666666,\"#ed7953\"],[0.7777777777777778,\"#fb9f3a\"],[0.8888888888888888,\"#fdca26\"],[1.0,\"#f0f921\"]]}],\"heatmap\":[{\"type\":\"heatmap\",\"colorbar\":{\"outlinewidth\":0,\"ticks\":\"\"},\"colorscale\":[[0.0,\"#0d0887\"],[0.1111111111111111,\"#46039f\"],[0.2222222222222222,\"#7201a8\"],[0.3333333333333333,\"#9c179e\"],[0.4444444444444444,\"#bd3786\"],[0.5555555555555556,\"#d8576b\"],[0.6666666666666666,\"#ed7953\"],[0.7777777777777778,\"#fb9f3a\"],[0.8888888888888888,\"#fdca26\"],[1.0,\"#f0f921\"]]}],\"heatmapgl\":[{\"type\":\"heatmapgl\",\"colorbar\":{\"outlinewidth\":0,\"ticks\":\"\"},\"colorscale\":[[0.0,\"#0d0887\"],[0.1111111111111111,\"#46039f\"],[0.2222222222222222,\"#7201a8\"],[0.3333333333333333,\"#9c179e\"],[0.4444444444444444,\"#bd3786\"],[0.5555555555555556,\"#d8576b\"],[0.6666666666666666,\"#ed7953\"],[0.7777777777777778,\"#fb9f3a\"],[0.8888888888888888,\"#fdca26\"],[1.0,\"#f0f921\"]]}],\"contourcarpet\":[{\"type\":\"contourcarpet\",\"colorbar\":{\"outlinewidth\":0,\"ticks\":\"\"}}],\"contour\":[{\"type\":\"contour\",\"colorbar\":{\"outlinewidth\":0,\"ticks\":\"\"},\"colorscale\":[[0.0,\"#0d0887\"],[0.1111111111111111,\"#46039f\"],[0.2222222222222222,\"#7201a8\"],[0.3333333333333333,\"#9c179e\"],[0.4444444444444444,\"#bd3786\"],[0.5555555555555556,\"#d8576b\"],[0.6666666666666666,\"#ed7953\"],[0.7777777777777778,\"#fb9f3a\"],[0.8888888888888888,\"#fdca26\"],[1.0,\"#f0f921\"]]}],\"surface\":[{\"type\":\"surface\",\"colorbar\":{\"outlinewidth\":0,\"ticks\":\"\"},\"colorscale\":[[0.0,\"#0d0887\"],[0.1111111111111111,\"#46039f\"],[0.2222222222222222,\"#7201a8\"],[0.3333333333333333,\"#9c179e\"],[0.4444444444444444,\"#bd3786\"],[0.5555555555555556,\"#d8576b\"],[0.6666666666666666,\"#ed7953\"],[0.7777777777777778,\"#fb9f3a\"],[0.8888888888888888,\"#fdca26\"],[1.0,\"#f0f921\"]]}],\"mesh3d\":[{\"type\":\"mesh3d\",\"colorbar\":{\"outlinewidth\":0,\"ticks\":\"\"}}],\"scatter\":[{\"fillpattern\":{\"fillmode\":\"overlay\",\"size\":10,\"solidity\":0.2},\"type\":\"scatter\"}],\"parcoords\":[{\"type\":\"parcoords\",\"line\":{\"colorbar\":{\"outlinewidth\":0,\"ticks\":\"\"}}}],\"scatterpolargl\":[{\"type\":\"scatterpolargl\",\"marker\":{\"colorbar\":{\"outlinewidth\":0,\"ticks\":\"\"}}}],\"bar\":[{\"error_x\":{\"color\":\"#2a3f5f\"},\"error_y\":{\"color\":\"#2a3f5f\"},\"marker\":{\"line\":{\"color\":\"#E5ECF6\",\"width\":0.5},\"pattern\":{\"fillmode\":\"overlay\",\"size\":10,\"solidity\":0.2}},\"type\":\"bar\"}],\"scattergeo\":[{\"type\":\"scattergeo\",\"marker\":{\"colorbar\":{\"outlinewidth\":0,\"ticks\":\"\"}}}],\"scatterpolar\":[{\"type\":\"scatterpolar\",\"marker\":{\"colorbar\":{\"outlinewidth\":0,\"ticks\":\"\"}}}],\"histogram\":[{\"marker\":{\"pattern\":{\"fillmode\":\"overlay\",\"size\":10,\"solidity\":0.2}},\"type\":\"histogram\"}],\"scattergl\":[{\"type\":\"scattergl\",\"marker\":{\"colorbar\":{\"outlinewidth\":0,\"ticks\":\"\"}}}],\"scatter3d\":[{\"type\":\"scatter3d\",\"line\":{\"colorbar\":{\"outlinewidth\":0,\"ticks\":\"\"}},\"marker\":{\"colorbar\":{\"outlinewidth\":0,\"ticks\":\"\"}}}],\"scattermapbox\":[{\"type\":\"scattermapbox\",\"marker\":{\"colorbar\":{\"outlinewidth\":0,\"ticks\":\"\"}}}],\"scatterternary\":[{\"type\":\"scatterternary\",\"marker\":{\"colorbar\":{\"outlinewidth\":0,\"ticks\":\"\"}}}],\"scattercarpet\":[{\"type\":\"scattercarpet\",\"marker\":{\"colorbar\":{\"outlinewidth\":0,\"ticks\":\"\"}}}],\"carpet\":[{\"aaxis\":{\"endlinecolor\":\"#2a3f5f\",\"gridcolor\":\"white\",\"linecolor\":\"white\",\"minorgridcolor\":\"white\",\"startlinecolor\":\"#2a3f5f\"},\"baxis\":{\"endlinecolor\":\"#2a3f5f\",\"gridcolor\":\"white\",\"linecolor\":\"white\",\"minorgridcolor\":\"white\",\"startlinecolor\":\"#2a3f5f\"},\"type\":\"carpet\"}],\"table\":[{\"cells\":{\"fill\":{\"color\":\"#EBF0F8\"},\"line\":{\"color\":\"white\"}},\"header\":{\"fill\":{\"color\":\"#C8D4E3\"},\"line\":{\"color\":\"white\"}},\"type\":\"table\"}],\"barpolar\":[{\"marker\":{\"line\":{\"color\":\"#E5ECF6\",\"width\":0.5},\"pattern\":{\"fillmode\":\"overlay\",\"size\":10,\"solidity\":0.2}},\"type\":\"barpolar\"}],\"pie\":[{\"automargin\":true,\"type\":\"pie\"}]},\"layout\":{\"autotypenumbers\":\"strict\",\"colorway\":[\"#636efa\",\"#EF553B\",\"#00cc96\",\"#ab63fa\",\"#FFA15A\",\"#19d3f3\",\"#FF6692\",\"#B6E880\",\"#FF97FF\",\"#FECB52\"],\"font\":{\"color\":\"#2a3f5f\"},\"hovermode\":\"closest\",\"hoverlabel\":{\"align\":\"left\"},\"paper_bgcolor\":\"white\",\"plot_bgcolor\":\"#E5ECF6\",\"polar\":{\"bgcolor\":\"#E5ECF6\",\"angularaxis\":{\"gridcolor\":\"white\",\"linecolor\":\"white\",\"ticks\":\"\"},\"radialaxis\":{\"gridcolor\":\"white\",\"linecolor\":\"white\",\"ticks\":\"\"}},\"ternary\":{\"bgcolor\":\"#E5ECF6\",\"aaxis\":{\"gridcolor\":\"white\",\"linecolor\":\"white\",\"ticks\":\"\"},\"baxis\":{\"gridcolor\":\"white\",\"linecolor\":\"white\",\"ticks\":\"\"},\"caxis\":{\"gridcolor\":\"white\",\"linecolor\":\"white\",\"ticks\":\"\"}},\"coloraxis\":{\"colorbar\":{\"outlinewidth\":0,\"ticks\":\"\"}},\"colorscale\":{\"sequential\":[[0.0,\"#0d0887\"],[0.1111111111111111,\"#46039f\"],[0.2222222222222222,\"#7201a8\"],[0.3333333333333333,\"#9c179e\"],[0.4444444444444444,\"#bd3786\"],[0.5555555555555556,\"#d8576b\"],[0.6666666666666666,\"#ed7953\"],[0.7777777777777778,\"#fb9f3a\"],[0.8888888888888888,\"#fdca26\"],[1.0,\"#f0f921\"]],\"sequentialminus\":[[0.0,\"#0d0887\"],[0.1111111111111111,\"#46039f\"],[0.2222222222222222,\"#7201a8\"],[0.3333333333333333,\"#9c179e\"],[0.4444444444444444,\"#bd3786\"],[0.5555555555555556,\"#d8576b\"],[0.6666666666666666,\"#ed7953\"],[0.7777777777777778,\"#fb9f3a\"],[0.8888888888888888,\"#fdca26\"],[1.0,\"#f0f921\"]],\"diverging\":[[0,\"#8e0152\"],[0.1,\"#c51b7d\"],[0.2,\"#de77ae\"],[0.3,\"#f1b6da\"],[0.4,\"#fde0ef\"],[0.5,\"#f7f7f7\"],[0.6,\"#e6f5d0\"],[0.7,\"#b8e186\"],[0.8,\"#7fbc41\"],[0.9,\"#4d9221\"],[1,\"#276419\"]]},\"xaxis\":{\"gridcolor\":\"white\",\"linecolor\":\"white\",\"ticks\":\"\",\"title\":{\"standoff\":15},\"zerolinecolor\":\"white\",\"automargin\":true,\"zerolinewidth\":2},\"yaxis\":{\"gridcolor\":\"white\",\"linecolor\":\"white\",\"ticks\":\"\",\"title\":{\"standoff\":15},\"zerolinecolor\":\"white\",\"automargin\":true,\"zerolinewidth\":2},\"scene\":{\"xaxis\":{\"backgroundcolor\":\"#E5ECF6\",\"gridcolor\":\"white\",\"linecolor\":\"white\",\"showbackground\":true,\"ticks\":\"\",\"zerolinecolor\":\"white\",\"gridwidth\":2},\"yaxis\":{\"backgroundcolor\":\"#E5ECF6\",\"gridcolor\":\"white\",\"linecolor\":\"white\",\"showbackground\":true,\"ticks\":\"\",\"zerolinecolor\":\"white\",\"gridwidth\":2},\"zaxis\":{\"backgroundcolor\":\"#E5ECF6\",\"gridcolor\":\"white\",\"linecolor\":\"white\",\"showbackground\":true,\"ticks\":\"\",\"zerolinecolor\":\"white\",\"gridwidth\":2}},\"shapedefaults\":{\"line\":{\"color\":\"#2a3f5f\"}},\"annotationdefaults\":{\"arrowcolor\":\"#2a3f5f\",\"arrowhead\":0,\"arrowwidth\":1},\"geo\":{\"bgcolor\":\"white\",\"landcolor\":\"#E5ECF6\",\"subunitcolor\":\"white\",\"showland\":true,\"showlakes\":true,\"lakecolor\":\"white\"},\"title\":{\"x\":0.05},\"mapbox\":{\"style\":\"light\"}}},\"xaxis\":{\"anchor\":\"y\",\"domain\":[0.0,1.0],\"title\":{\"text\":\"index\"}},\"yaxis\":{\"anchor\":\"x\",\"domain\":[0.0,1.0],\"title\":{\"text\":\"value\"}},\"legend\":{\"title\":{\"text\":\"variable\"},\"tracegroupgap\":0},\"margin\":{\"t\":60}},                        {\"responsive\": true}                    ).then(function(){\n",
       "                            \n",
       "var gd = document.getElementById('12216821-a351-4d8a-8514-02135c37a0a1');\n",
>>>>>>> master
       "var x = new MutationObserver(function (mutations, observer) {{\n",
       "        var display = window.getComputedStyle(gd).display;\n",
       "        if (!display || display === 'none') {{\n",
       "            console.log([gd, 'removed!']);\n",
       "            Plotly.purge(gd);\n",
       "            observer.disconnect();\n",
       "        }}\n",
       "}});\n",
       "\n",
       "// Listen for the removal of the full notebook cells\n",
       "var notebookContainer = gd.closest('#notebook-container');\n",
       "if (notebookContainer) {{\n",
       "    x.observe(notebookContainer, {childList: true});\n",
       "}}\n",
       "\n",
       "// Listen for the clearing of the current output cell\n",
       "var outputEl = gd.closest('.output');\n",
       "if (outputEl) {{\n",
       "    x.observe(outputEl, {childList: true});\n",
       "}}\n",
       "\n",
       "                        })                };                });            </script>        </div>"
      ]
     },
     "metadata": {},
     "output_type": "display_data"
    }
   ],
   "source": [
    "df = pd.read_csv('leverage10x/chs.csv')\n",
    "df.columns\n",
    "df['m0_oracle_price'].plot()"
   ]
  },
  {
   "cell_type": "code",
<<<<<<< HEAD
   "execution_count": 298,
=======
   "execution_count": 259,
>>>>>>> master
   "id": "bfe2ee58-e7c6-4388-8a4e-f3bfddff48b7",
   "metadata": {},
   "outputs": [
    {
     "name": "stdout",
     "output_type": "stream",
     "text": [
<<<<<<< HEAD
      "(90, 102)\n"
=======
      "(86, 102)\n"
>>>>>>> master
     ]
    }
   ],
   "source": [
<<<<<<< HEAD
    "result = pd.read_csv('leverage10x/trial_no_oracle_guards/result_market0.csv')\n",
=======
    "result = pd.read_csv('leverage10x/result_market0.csv')\n",
>>>>>>> master
    "print(result.shape)"
   ]
  },
  {
   "cell_type": "code",
<<<<<<< HEAD
   "execution_count": 299,
=======
   "execution_count": 244,
>>>>>>> master
   "id": "87a5b3cd-4ded-4a93-91ec-5719ac39a687",
   "metadata": {},
   "outputs": [
    {
     "data": {
      "text/plain": [
       "(60, 653)"
      ]
     },
<<<<<<< HEAD
     "execution_count": 299,
=======
     "execution_count": 244,
>>>>>>> master
     "metadata": {},
     "output_type": "execute_result"
    }
   ],
   "source": [
    "df.shape"
   ]
  },
  {
   "cell_type": "code",
<<<<<<< HEAD
   "execution_count": 300,
=======
   "execution_count": 245,
>>>>>>> master
   "id": "18313947-5321-4fdb-a7c5-0ab1f82035df",
   "metadata": {},
   "outputs": [
    {
     "data": {
      "text/plain": [
       "\"['pubkey', 'amm', 'pnl_pool', 'expiry_price', 'number_of_users', 'imf_factor', 'unrealized_pnl_imf_factor', 'unrealized_pnl_max_imbalance', 'liquidator_fee', 'if_liquidation_fee', 'insurance_claim', 'expiry_ts', 'next_fill_record_id', 'next_funding_rate_record_id', 'next_curve_record_id', 'margin_ratio_initial', 'margin_ratio_maintenance', 'unrealized_pnl_initial_asset_weight', 'unrealized_pnl_maintenance_asset_weight', 'market_index', 'status', 'contract_type', 'contract_tier', 'oracle', 'historical_oracle_data', 'market_position_per_lp', 'fee_pool', 'last_oracle_normalised_price', 'last_oracle_reserve_price_spread_pct', 'base_asset_reserve', 'quote_asset_reserve', 'concentration_coef', 'min_base_asset_reserve', 'max_base_asset_reserve', 'sqrt_k', 'peg_multiplier', 'terminal_quote_asset_reserve', 'base_asset_amount_long', 'base_asset_amount_short', 'base_asset_amount_with_amm', 'base_asset_amount_with_unsettled_lp', 'quote_asset_amount_long', 'quote_asset_amount_short', 'quote_entry_amount_long', 'quote_entry_amount_short', 'user_lp_shares', 'last_funding_rate', 'last_funding_rate_long', 'last_funding_rate_short', 'last24h_avg_funding_rate', 'total_fee', 'total_mm_fee', 'total_exchange_fee', 'total_fee_minus_distributions', 'total_fee_withdrawn', 'total_liquidation_fee', 'cumulative_funding_rate_long', 'cumulative_funding_rate_short', 'cumulative_social_loss', 'long_spread', 'short_spread', 'ask_base_asset_reserve', 'ask_quote_asset_reserve', 'bid_base_asset_reserve', 'bid_quote_asset_reserve', 'last_bid_price_twap', 'last_ask_price_twap', 'last_mark_price_twap', 'last_mark_price_twap5min', 'last_update_slot', 'last_oracle_conf_pct', 'net_revenue_since_last_funding', 'lp_cooldown_time', 'last_funding_rate_ts', 'funding_period', 'order_step_size', 'order_tick_size', 'min_order_size', 'max_position_size', 'volume24h', 'long_intensity_volume', 'short_intensity_volume', 'last_trade_ts', 'mark_std', 'last_mark_price_twap_ts', 'max_spread', 'max_fill_reserve_fraction', 'max_slippage_ratio', 'base_spread', 'long_intensity_count', 'short_intensity_count', 'curve_update_intensity', 'amm_jit_intensity', 'oracle_source', 'last_oracle_valid', 'padding', 'last_oracle_price', 'last_oracle_conf', 'last_oracle_delay', 'last_oracle_price_twap', 'last_oracle_price_twap5min', 'last_oracle_price_twap_ts']\""
      ]
     },
<<<<<<< HEAD
     "execution_count": 300,
=======
     "execution_count": 245,
>>>>>>> master
     "metadata": {},
     "output_type": "execute_result"
    }
   ],
   "source": [
    "str(result.columns.tolist())"
   ]
  },
  {
   "cell_type": "code",
   "execution_count": null,
   "id": "e864277e-78f7-4523-a8d6-0c1c1823022b",
   "metadata": {},
   "outputs": [],
   "source": []
  },
  {
   "cell_type": "code",
<<<<<<< HEAD
   "execution_count": 301,
=======
   "execution_count": 250,
>>>>>>> master
   "id": "aaa0586f-43b2-40d2-a0db-40d9326d8802",
   "metadata": {},
   "outputs": [
    {
     "data": {
      "application/vnd.plotly.v1+json": {
       "config": {
        "plotlyServerURL": "https://plot.ly"
       },
       "data": [
        {
         "hovertemplate": "variable=expiry_price<br>index=%{x}<br>value=%{y}<extra></extra>",
         "legendgroup": "expiry_price",
         "line": {
          "color": "#636efa",
          "dash": "solid"
         },
         "marker": {
          "symbol": "circle"
         },
         "mode": "lines",
         "name": "expiry_price",
         "orientation": "v",
         "showlegend": true,
         "type": "scatter",
         "visible": true,
         "x": [
          0,
          1,
          2,
          3,
          4,
          5,
          6,
          7,
          8,
          9,
          10,
          11,
          12,
          13,
          14,
          15,
          16,
          17,
          18,
          19,
          20,
          21,
          22,
          23,
          24,
          25,
          26,
          27,
          28,
          29,
          30,
          31,
          32,
          33,
          34,
          35,
          36,
          37,
          38,
          39,
          40,
          41,
          42,
          43,
          44,
          45,
          46,
          47,
          48,
          49,
          50,
          51,
          52,
          53,
          54,
          55,
          56,
          57,
          58,
          59,
          60,
          61,
          62,
          63,
          64,
          65,
          66,
          67,
          68,
          69,
          70,
          71,
          72,
          73,
          74,
          75,
          76,
          77,
          78,
          79,
          80,
          81,
          82,
          83,
          84,
<<<<<<< HEAD
          85,
          86,
          87,
          88,
          89
=======
          85
>>>>>>> master
         ],
         "xaxis": "x",
         "y": [
          0,
          0,
          0,
          0,
          0,
          0,
          0,
          0,
          0,
          0,
          0,
          0,
          0,
          0,
          0,
          0,
          0,
          0,
          0,
          0,
          0,
          0,
          0,
          0,
          0,
          0,
          0,
          0,
          0,
          0,
          0,
          0,
          0,
          0,
          0,
          0,
          0,
          0,
          0,
          0,
          0,
          0,
          0,
          0,
          0,
          0,
          0,
          0,
          0,
          0,
          0,
          0,
          0,
          0,
          0,
          0,
          0,
          0,
          0,
          0,
          0,
          0,
          0,
          0,
          0,
          0,
          0,
          0,
          0,
          0,
          0,
          0,
          0,
          0,
          0,
          0,
          0,
          0,
<<<<<<< HEAD
          13.425338,
          13.425338,
          13.425338,
          13.425338,
          13.425338,
          13.425338,
          13.425338,
          13.425338,
          13.425338,
          13.425338,
          13.425338,
          13.425338
=======
          13.973115,
          13.973115,
          13.973115,
          13.973115,
          13.973115,
          13.973115,
          13.973115,
          13.973115
>>>>>>> master
         ],
         "yaxis": "y"
        },
        {
         "hovertemplate": "variable=last_oracle_price<br>index=%{x}<br>value=%{y}<extra></extra>",
         "legendgroup": "last_oracle_price",
         "line": {
          "color": "#EF553B",
          "dash": "solid"
         },
         "marker": {
          "symbol": "circle"
         },
         "mode": "lines",
         "name": "last_oracle_price",
         "orientation": "v",
         "showlegend": true,
         "type": "scatter",
<<<<<<< HEAD
         "visible": true,
=======
         "visible": "legendonly",
>>>>>>> master
         "x": [
          0,
          1,
          2,
          3,
          4,
          5,
          6,
          7,
          8,
          9,
          10,
          11,
          12,
          13,
          14,
          15,
          16,
          17,
          18,
          19,
          20,
          21,
          22,
          23,
          24,
          25,
          26,
          27,
          28,
          29,
          30,
          31,
          32,
          33,
          34,
          35,
          36,
          37,
          38,
          39,
          40,
          41,
          42,
          43,
          44,
          45,
          46,
          47,
          48,
          49,
          50,
          51,
          52,
          53,
          54,
          55,
          56,
          57,
          58,
          59,
          60,
          61,
          62,
          63,
          64,
          65,
          66,
          67,
          68,
          69,
          70,
          71,
          72,
          73,
          74,
          75,
          76,
          77,
          78,
          79,
          80,
          81,
          82,
          83,
          84,
<<<<<<< HEAD
          85,
          86,
          87,
          88,
          89
=======
          85
>>>>>>> master
         ],
         "xaxis": "x",
         "y": [
          14.716202,
          14.716202,
          14.716202,
          14.716202,
          14.716202,
          14.716202,
          14.716202,
          14.716202,
          14.716202,
          14.716202,
          14.716202,
          14.716202,
          14.716202,
          14.716202,
          14.716202,
          14.716202,
          14.716202,
          14.716202,
          14.716202,
          14.716202,
          14.716202,
          14.716202,
          14.659655,
          14.659655,
          15.287548,
          15.287548,
          15.67015,
          15.67015,
          14.456499,
          14.456499,
          13.493961,
          13.493961,
          13.493961,
          13.958087,
          13.958087,
          13.958087,
          13.958087,
          13.958087,
          12.50363,
          12.50363,
          12.50363,
          12.50363,
          12.182969,
          12.182969,
          12.182969,
          12.100111,
          12.100111,
          10.308072,
          10.308072,
          10.308072,
          10.308072,
<<<<<<< HEAD
          7.557352,
          7.557352,
          7.557352,
=======
          10.308072,
          10.308072,
          10.308072,
          4.262883,
          4.262883,
>>>>>>> master
          4.262883,
          4.262883,
          4.262883,
          4.262883,
          4.262883,
          4.262883,
<<<<<<< HEAD
          2.588573,
          2.588573,
=======
>>>>>>> master
          4.805673,
          4.805673,
          4.805673,
          4.510962,
          4.510962,
          4.510962,
          2.923025,
          2.923025,
          2.923025,
          2.923025,
          2.923025,
          2.854782,
          2.854782,
          2.854782,
          2.854782,
          2.854782,
          3.417946,
          3.417946,
          3.417946,
          3.417946,
          3.417946,
          3.417946,
          3.417946,
<<<<<<< HEAD
          3.417946,
          3.417946,
          3.417946,
          3.417946,
=======
>>>>>>> master
          3.417946
         ],
         "yaxis": "y"
        },
        {
         "hovertemplate": "variable=last_oracle_normalised_price<br>index=%{x}<br>value=%{y}<extra></extra>",
         "legendgroup": "last_oracle_normalised_price",
         "line": {
          "color": "#00cc96",
          "dash": "solid"
         },
         "marker": {
          "symbol": "circle"
         },
         "mode": "lines",
         "name": "last_oracle_normalised_price",
         "orientation": "v",
         "showlegend": true,
         "type": "scatter",
<<<<<<< HEAD
         "visible": true,
=======
         "visible": "legendonly",
>>>>>>> master
         "x": [
          0,
          1,
          2,
          3,
          4,
          5,
          6,
          7,
          8,
          9,
          10,
          11,
          12,
          13,
          14,
          15,
          16,
          17,
          18,
          19,
          20,
          21,
          22,
          23,
          24,
          25,
          26,
          27,
          28,
          29,
          30,
          31,
          32,
          33,
          34,
          35,
          36,
          37,
          38,
          39,
          40,
          41,
          42,
          43,
          44,
          45,
          46,
          47,
          48,
          49,
          50,
          51,
          52,
          53,
          54,
          55,
          56,
          57,
          58,
          59,
          60,
          61,
          62,
          63,
          64,
          65,
          66,
          67,
          68,
          69,
          70,
          71,
          72,
          73,
          74,
          75,
          76,
          77,
          78,
          79,
          80,
          81,
          82,
          83,
          84,
<<<<<<< HEAD
          85,
          86,
          87,
          88,
          89
=======
          85
>>>>>>> master
         ],
         "xaxis": "x",
         "y": [
          14.716202,
          14.716202,
          14.716202,
          14.716202,
          14.716202,
          14.716202,
          14.716202,
          14.716202,
          14.716202,
          14.716202,
          14.716202,
          14.716202,
          14.716202,
          14.716202,
          14.716202,
          14.716202,
          14.716202,
          14.716202,
          14.716202,
          14.716202,
          14.716202,
          14.716202,
          14.659655,
          14.659655,
          15.287548,
          15.287548,
          15.67015,
          15.67015,
          14.456499,
          14.456499,
          13.493961,
          13.493961,
          13.493961,
          13.958087,
          13.958087,
          13.958087,
          13.958087,
          13.958087,
          12.50363,
          12.50363,
          12.50363,
          12.50363,
          12.182969,
          12.182969,
          12.182969,
          12.100111,
          12.100111,
          10.308072,
          10.308072,
          10.308072,
          10.308072,
<<<<<<< HEAD
          9.443661,
          9.443661,
          9.443661,
          9.233802,
          9.233802,
          9.233802,
          9.131205,
          9.131205,
          9.131205,
          8.979018,
          8.979018,
          8.879252,
          8.879252,
          8.879252,
          8.780594,
          8.780594,
          8.780594,
          8.634251,
          8.634251,
          8.634251,
          8.634251,
          8.634251,
          8.490347,
          8.490347,
          8.490347,
          8.490347,
          8.490347,
          8.254504,
          8.254504,
          8.254504,
          8.254504,
          8.254504,
          8.254504,
          8.254504,
          8.254504,
          8.254504,
          8.254504,
          8.254504,
          8.254504
=======
          10.308072,
          10.308072,
          10.308072,
          9.437674,
          9.437674,
          9.437674,
          9.437674,
          9.437674,
          9.437674,
          9.437674,
          9.437674,
          9.123086,
          9.123086,
          9.123086,
          8.869667,
          8.869667,
          8.869667,
          8.72184,
          8.72184,
          8.72184,
          8.72184,
          8.72184,
          8.576476,
          8.576476,
          8.576476,
          8.576476,
          8.576476,
          8.338241,
          8.338241,
          8.338241,
          8.338241,
          8.338241,
          8.338241,
          8.338241,
          8.338241
>>>>>>> master
         ],
         "yaxis": "y"
        },
        {
         "hovertemplate": "variable=last_oracle_conf<br>index=%{x}<br>value=%{y}<extra></extra>",
         "legendgroup": "last_oracle_conf",
         "line": {
          "color": "#ab63fa",
          "dash": "solid"
         },
         "marker": {
          "symbol": "circle"
         },
         "mode": "lines",
         "name": "last_oracle_conf",
         "orientation": "v",
         "showlegend": true,
         "type": "scatter",
         "visible": "legendonly",
         "x": [
          0,
          1,
          2,
          3,
          4,
          5,
          6,
          7,
          8,
          9,
          10,
          11,
          12,
          13,
          14,
          15,
          16,
          17,
          18,
          19,
          20,
          21,
          22,
          23,
          24,
          25,
          26,
          27,
          28,
          29,
          30,
          31,
          32,
          33,
          34,
          35,
          36,
          37,
          38,
          39,
          40,
          41,
          42,
          43,
          44,
          45,
          46,
          47,
          48,
          49,
          50,
          51,
          52,
          53,
          54,
          55,
          56,
          57,
          58,
          59,
          60,
          61,
          62,
          63,
          64,
          65,
          66,
          67,
          68,
          69,
          70,
          71,
          72,
          73,
          74,
          75,
          76,
          77,
          78,
          79,
          80,
          81,
          82,
          83,
          84,
<<<<<<< HEAD
          85,
          86,
          87,
          88,
          89
=======
          85
>>>>>>> master
         ],
         "xaxis": "x",
         "y": [
          0,
          0,
          0,
          0,
          0,
          0,
          0,
          0,
          0,
          0,
          0,
          0,
          0,
          0,
          0,
          0,
          0,
          0,
          0,
          0,
          0,
          0,
          0,
          0,
          0,
          0,
          0,
          0,
          0,
          0,
          0,
          0,
          0,
          0,
          0,
          0,
          0,
          0,
          0,
          0,
          0,
          0,
          0,
          0,
          0,
          0,
          0,
          0,
          0,
          0,
          0,
          0,
          0,
          0,
          0,
          0,
          0,
          0,
          0,
          0,
          0,
          0,
          0,
          0,
          0,
          0,
          0,
          0,
          0,
          0,
          0,
          0,
          0,
          0,
          0,
          0,
          0,
          0,
          0,
          0,
          0,
          0,
          0,
          0,
          0,
<<<<<<< HEAD
          0,
          0,
          0,
          0,
=======
>>>>>>> master
          0
         ],
         "yaxis": "y"
        },
        {
         "hovertemplate": "variable=last_oracle_price_twap<br>index=%{x}<br>value=%{y}<extra></extra>",
         "legendgroup": "last_oracle_price_twap",
         "line": {
          "color": "#FFA15A",
          "dash": "solid"
         },
         "marker": {
          "symbol": "circle"
         },
         "mode": "lines",
         "name": "last_oracle_price_twap",
         "orientation": "v",
         "showlegend": true,
         "type": "scatter",
         "visible": true,
         "x": [
          0,
          1,
          2,
          3,
          4,
          5,
          6,
          7,
          8,
          9,
          10,
          11,
          12,
          13,
          14,
          15,
          16,
          17,
          18,
          19,
          20,
          21,
          22,
          23,
          24,
          25,
          26,
          27,
          28,
          29,
          30,
          31,
          32,
          33,
          34,
          35,
          36,
          37,
          38,
          39,
          40,
          41,
          42,
          43,
          44,
          45,
          46,
          47,
          48,
          49,
          50,
          51,
          52,
          53,
          54,
          55,
          56,
          57,
          58,
          59,
          60,
          61,
          62,
          63,
          64,
          65,
          66,
          67,
          68,
          69,
          70,
          71,
          72,
          73,
          74,
          75,
          76,
          77,
          78,
          79,
          80,
          81,
          82,
          83,
          84,
<<<<<<< HEAD
          85,
          86,
          87,
          88,
          89
=======
          85
>>>>>>> master
         ],
         "xaxis": "x",
         "y": [
          14.716202,
          14.716202,
          14.716202,
          14.716202,
          14.716202,
          14.716202,
          14.716202,
          14.716202,
          14.716202,
          14.716202,
          14.716202,
          14.716202,
          14.716202,
          14.716202,
          14.716202,
          14.716202,
          14.716202,
          14.716202,
          14.716202,
          14.716202,
          14.716203,
          14.716203,
          14.714319,
          14.714319,
          14.733427,
          14.733427,
          14.74904,
          14.74904,
          14.739289,
          14.739289,
          14.697779,
          14.697779,
          14.697779,
          14.660795,
          14.660795,
          14.660795,
          14.660795,
          14.660795,
<<<<<<< HEAD
          14.516985,
          14.516985,
          14.449874,
          14.449874,
          14.374311,
          14.374311,
          14.374311,
          14.298505,
          14.298505,
          14.165491,
          14.165491,
          14.165491,
          14.165491,
          13.850703,
          13.850703,
          13.850703,
          13.696807,
          13.696807,
          13.696807,
          13.468527,
          13.468527,
          13.468527,
          13.318877,
          13.318877,
          13.17089,
          13.17089,
          13.17089,
          12.951376,
          12.951376,
          12.951376,
          12.73552,
          12.73552,
          12.73552,
          12.73552,
          12.73552,
          12.381756,
          12.381756,
          12.381756,
          12.381756,
          12.381756,
          11.831456,
          11.831456,
          11.831456,
          11.831456,
          11.831456,
          11.831456,
          11.831456,
          11.831456,
          11.831456,
          11.831456,
          11.831456,
          11.831456
=======
          14.481032,
          14.481032,
          14.481032,
          14.481032,
          14.40443,
          14.40443,
          14.40443,
          14.289215,
          14.289215,
          14.156511,
          14.156511,
          14.156511,
          14.156511,
          14.156511,
          14.156511,
          14.156511,
          13.684628,
          13.684628,
          13.684628,
          13.684628,
          13.684628,
          13.684628,
          13.684628,
          13.684628,
          13.3045,
          13.3045,
          13.3045,
          13.082759,
          13.082759,
          13.082759,
          12.864714,
          12.864714,
          12.864714,
          12.864714,
          12.864714,
          12.507361,
          12.507361,
          12.507361,
          12.507361,
          12.507361,
          12.020964,
          12.020964,
          12.020964,
          12.020964,
          12.020964,
          12.020964,
          12.020964,
          12.020964
>>>>>>> master
         ],
         "yaxis": "y"
        },
        {
         "hovertemplate": "variable=last_oracle_price_twap5min<br>index=%{x}<br>value=%{y}<extra></extra>",
         "legendgroup": "last_oracle_price_twap5min",
         "line": {
          "color": "#19d3f3",
          "dash": "solid"
         },
         "marker": {
          "symbol": "circle"
         },
         "mode": "lines",
         "name": "last_oracle_price_twap5min",
         "orientation": "v",
         "showlegend": true,
         "type": "scatter",
<<<<<<< HEAD
         "visible": "legendonly",
=======
         "visible": true,
>>>>>>> master
         "x": [
          0,
          1,
          2,
          3,
          4,
          5,
          6,
          7,
          8,
          9,
          10,
          11,
          12,
          13,
          14,
          15,
          16,
          17,
          18,
          19,
          20,
          21,
          22,
          23,
          24,
          25,
          26,
          27,
          28,
          29,
          30,
          31,
          32,
          33,
          34,
          35,
          36,
          37,
          38,
          39,
          40,
          41,
          42,
          43,
          44,
          45,
          46,
          47,
          48,
          49,
          50,
          51,
          52,
          53,
          54,
          55,
          56,
          57,
          58,
          59,
          60,
          61,
          62,
          63,
          64,
          65,
          66,
          67,
          68,
          69,
          70,
          71,
          72,
          73,
          74,
          75,
          76,
          77,
          78,
          79,
          80,
          81,
          82,
          83,
          84,
<<<<<<< HEAD
          85,
          86,
          87,
          88,
          89
=======
          85
>>>>>>> master
         ],
         "xaxis": "x",
         "y": [
          14.716202,
          14.716202,
          14.716202,
          14.716202,
          14.716202,
          14.716202,
          14.716202,
          14.716202,
          14.716202,
          14.716202,
          14.716202,
          14.716202,
          14.716202,
          14.716202,
          14.716202,
          14.716202,
          14.716202,
          14.716202,
          14.716202,
          14.716202,
          14.716203,
          14.716203,
          14.715827,
          14.715827,
          14.719639,
          14.719639,
          14.722808,
          14.722808,
          14.721033,
          14.721033,
          14.712853,
          14.712853,
          14.712853,
          14.705306,
          14.705306,
          14.705306,
          14.705306,
          14.705306,
<<<<<<< HEAD
          14.675951,
          14.675951,
          14.661469,
          14.661469,
          14.644946,
          14.644946,
          14.644946,
          14.627981,
          14.627981,
          14.599182,
          14.599182,
          14.599182,
          14.599182,
          14.530442,
          14.530442,
          14.530442,
          14.495132,
          14.495132,
          14.495132,
          14.441493,
          14.441493,
          14.441493,
          14.405077,
          14.405077,
          14.368239,
          14.368239,
          14.368239,
          14.312363,
          14.312363,
          14.312363,
          14.255582,
          14.255582,
          14.255582,
          14.255582,
          14.255582,
          14.159495,
          14.159495,
          14.159495,
          14.159495,
          14.159495,
          14.002029,
          14.002029,
          14.002029,
          14.002029,
          14.002029,
          14.002029,
          14.002029,
          14.002029,
          14.002029,
          14.002029,
          14.002029,
          14.002029
=======
          14.668612,
          14.668612,
          14.668612,
          14.668612,
          14.652042,
          14.652042,
          14.652042,
          14.626523,
          14.626523,
          14.597734,
          14.597734,
          14.597734,
          14.597734,
          14.597734,
          14.597734,
          14.597734,
          14.494533,
          14.494533,
          14.494533,
          14.494533,
          14.494533,
          14.494533,
          14.494533,
          14.494533,
          14.405009,
          14.405009,
          14.405009,
          14.349656,
          14.349656,
          14.349656,
          14.293378,
          14.293378,
          14.293378,
          14.293378,
          14.293378,
          14.198097,
          14.198097,
          14.198097,
          14.198097,
          14.198097,
          14.061368,
          14.061368,
          14.061368,
          14.061368,
          14.061368,
          14.061368,
          14.061368,
          14.061368
>>>>>>> master
         ],
         "yaxis": "y"
        }
       ],
       "layout": {
        "autosize": true,
        "legend": {
         "title": {
          "text": "variable"
         },
         "tracegroupgap": 0
        },
        "margin": {
         "t": 60
        },
        "template": {
         "data": {
          "bar": [
           {
            "error_x": {
             "color": "#2a3f5f"
            },
            "error_y": {
             "color": "#2a3f5f"
            },
            "marker": {
             "line": {
              "color": "#E5ECF6",
              "width": 0.5
             },
             "pattern": {
              "fillmode": "overlay",
              "size": 10,
              "solidity": 0.2
             }
            },
            "type": "bar"
           }
          ],
          "barpolar": [
           {
            "marker": {
             "line": {
              "color": "#E5ECF6",
              "width": 0.5
             },
             "pattern": {
              "fillmode": "overlay",
              "size": 10,
              "solidity": 0.2
             }
            },
            "type": "barpolar"
           }
          ],
          "carpet": [
           {
            "aaxis": {
             "endlinecolor": "#2a3f5f",
             "gridcolor": "white",
             "linecolor": "white",
             "minorgridcolor": "white",
             "startlinecolor": "#2a3f5f"
            },
            "baxis": {
             "endlinecolor": "#2a3f5f",
             "gridcolor": "white",
             "linecolor": "white",
             "minorgridcolor": "white",
             "startlinecolor": "#2a3f5f"
            },
            "type": "carpet"
           }
          ],
          "choropleth": [
           {
            "colorbar": {
             "outlinewidth": 0,
             "ticks": ""
            },
            "type": "choropleth"
           }
          ],
          "contour": [
           {
            "colorbar": {
             "outlinewidth": 0,
             "ticks": ""
            },
            "colorscale": [
             [
              0,
              "#0d0887"
             ],
             [
              0.1111111111111111,
              "#46039f"
             ],
             [
              0.2222222222222222,
              "#7201a8"
             ],
             [
              0.3333333333333333,
              "#9c179e"
             ],
             [
              0.4444444444444444,
              "#bd3786"
             ],
             [
              0.5555555555555556,
              "#d8576b"
             ],
             [
              0.6666666666666666,
              "#ed7953"
             ],
             [
              0.7777777777777778,
              "#fb9f3a"
             ],
             [
              0.8888888888888888,
              "#fdca26"
             ],
             [
              1,
              "#f0f921"
             ]
            ],
            "type": "contour"
           }
          ],
          "contourcarpet": [
           {
            "colorbar": {
             "outlinewidth": 0,
             "ticks": ""
            },
            "type": "contourcarpet"
           }
          ],
          "heatmap": [
           {
            "colorbar": {
             "outlinewidth": 0,
             "ticks": ""
            },
            "colorscale": [
             [
              0,
              "#0d0887"
             ],
             [
              0.1111111111111111,
              "#46039f"
             ],
             [
              0.2222222222222222,
              "#7201a8"
             ],
             [
              0.3333333333333333,
              "#9c179e"
             ],
             [
              0.4444444444444444,
              "#bd3786"
             ],
             [
              0.5555555555555556,
              "#d8576b"
             ],
             [
              0.6666666666666666,
              "#ed7953"
             ],
             [
              0.7777777777777778,
              "#fb9f3a"
             ],
             [
              0.8888888888888888,
              "#fdca26"
             ],
             [
              1,
              "#f0f921"
             ]
            ],
            "type": "heatmap"
           }
          ],
          "heatmapgl": [
           {
            "colorbar": {
             "outlinewidth": 0,
             "ticks": ""
            },
            "colorscale": [
             [
              0,
              "#0d0887"
             ],
             [
              0.1111111111111111,
              "#46039f"
             ],
             [
              0.2222222222222222,
              "#7201a8"
             ],
             [
              0.3333333333333333,
              "#9c179e"
             ],
             [
              0.4444444444444444,
              "#bd3786"
             ],
             [
              0.5555555555555556,
              "#d8576b"
             ],
             [
              0.6666666666666666,
              "#ed7953"
             ],
             [
              0.7777777777777778,
              "#fb9f3a"
             ],
             [
              0.8888888888888888,
              "#fdca26"
             ],
             [
              1,
              "#f0f921"
             ]
            ],
            "type": "heatmapgl"
           }
          ],
          "histogram": [
           {
            "marker": {
             "pattern": {
              "fillmode": "overlay",
              "size": 10,
              "solidity": 0.2
             }
            },
            "type": "histogram"
           }
          ],
          "histogram2d": [
           {
            "colorbar": {
             "outlinewidth": 0,
             "ticks": ""
            },
            "colorscale": [
             [
              0,
              "#0d0887"
             ],
             [
              0.1111111111111111,
              "#46039f"
             ],
             [
              0.2222222222222222,
              "#7201a8"
             ],
             [
              0.3333333333333333,
              "#9c179e"
             ],
             [
              0.4444444444444444,
              "#bd3786"
             ],
             [
              0.5555555555555556,
              "#d8576b"
             ],
             [
              0.6666666666666666,
              "#ed7953"
             ],
             [
              0.7777777777777778,
              "#fb9f3a"
             ],
             [
              0.8888888888888888,
              "#fdca26"
             ],
             [
              1,
              "#f0f921"
             ]
            ],
            "type": "histogram2d"
           }
          ],
          "histogram2dcontour": [
           {
            "colorbar": {
             "outlinewidth": 0,
             "ticks": ""
            },
            "colorscale": [
             [
              0,
              "#0d0887"
             ],
             [
              0.1111111111111111,
              "#46039f"
             ],
             [
              0.2222222222222222,
              "#7201a8"
             ],
             [
              0.3333333333333333,
              "#9c179e"
             ],
             [
              0.4444444444444444,
              "#bd3786"
             ],
             [
              0.5555555555555556,
              "#d8576b"
             ],
             [
              0.6666666666666666,
              "#ed7953"
             ],
             [
              0.7777777777777778,
              "#fb9f3a"
             ],
             [
              0.8888888888888888,
              "#fdca26"
             ],
             [
              1,
              "#f0f921"
             ]
            ],
            "type": "histogram2dcontour"
           }
          ],
          "mesh3d": [
           {
            "colorbar": {
             "outlinewidth": 0,
             "ticks": ""
            },
            "type": "mesh3d"
           }
          ],
          "parcoords": [
           {
            "line": {
             "colorbar": {
              "outlinewidth": 0,
              "ticks": ""
             }
            },
            "type": "parcoords"
           }
          ],
          "pie": [
           {
            "automargin": true,
            "type": "pie"
           }
          ],
          "scatter": [
           {
            "fillpattern": {
             "fillmode": "overlay",
             "size": 10,
             "solidity": 0.2
            },
            "type": "scatter"
           }
          ],
          "scatter3d": [
           {
            "line": {
             "colorbar": {
              "outlinewidth": 0,
              "ticks": ""
             }
            },
            "marker": {
             "colorbar": {
              "outlinewidth": 0,
              "ticks": ""
             }
            },
            "type": "scatter3d"
           }
          ],
          "scattercarpet": [
           {
            "marker": {
             "colorbar": {
              "outlinewidth": 0,
              "ticks": ""
             }
            },
            "type": "scattercarpet"
           }
          ],
          "scattergeo": [
           {
            "marker": {
             "colorbar": {
              "outlinewidth": 0,
              "ticks": ""
             }
            },
            "type": "scattergeo"
           }
          ],
          "scattergl": [
           {
            "marker": {
             "colorbar": {
              "outlinewidth": 0,
              "ticks": ""
             }
            },
            "type": "scattergl"
           }
          ],
          "scattermapbox": [
           {
            "marker": {
             "colorbar": {
              "outlinewidth": 0,
              "ticks": ""
             }
            },
            "type": "scattermapbox"
           }
          ],
          "scatterpolar": [
           {
            "marker": {
             "colorbar": {
              "outlinewidth": 0,
              "ticks": ""
             }
            },
            "type": "scatterpolar"
           }
          ],
          "scatterpolargl": [
           {
            "marker": {
             "colorbar": {
              "outlinewidth": 0,
              "ticks": ""
             }
            },
            "type": "scatterpolargl"
           }
          ],
          "scatterternary": [
           {
            "marker": {
             "colorbar": {
              "outlinewidth": 0,
              "ticks": ""
             }
            },
            "type": "scatterternary"
           }
          ],
          "surface": [
           {
            "colorbar": {
             "outlinewidth": 0,
             "ticks": ""
            },
            "colorscale": [
             [
              0,
              "#0d0887"
             ],
             [
              0.1111111111111111,
              "#46039f"
             ],
             [
              0.2222222222222222,
              "#7201a8"
             ],
             [
              0.3333333333333333,
              "#9c179e"
             ],
             [
              0.4444444444444444,
              "#bd3786"
             ],
             [
              0.5555555555555556,
              "#d8576b"
             ],
             [
              0.6666666666666666,
              "#ed7953"
             ],
             [
              0.7777777777777778,
              "#fb9f3a"
             ],
             [
              0.8888888888888888,
              "#fdca26"
             ],
             [
              1,
              "#f0f921"
             ]
            ],
            "type": "surface"
           }
          ],
          "table": [
           {
            "cells": {
             "fill": {
              "color": "#EBF0F8"
             },
             "line": {
              "color": "white"
             }
            },
            "header": {
             "fill": {
              "color": "#C8D4E3"
             },
             "line": {
              "color": "white"
             }
            },
            "type": "table"
           }
          ]
         },
         "layout": {
          "annotationdefaults": {
           "arrowcolor": "#2a3f5f",
           "arrowhead": 0,
           "arrowwidth": 1
          },
          "autotypenumbers": "strict",
          "coloraxis": {
           "colorbar": {
            "outlinewidth": 0,
            "ticks": ""
           }
          },
          "colorscale": {
           "diverging": [
            [
             0,
             "#8e0152"
            ],
            [
             0.1,
             "#c51b7d"
            ],
            [
             0.2,
             "#de77ae"
            ],
            [
             0.3,
             "#f1b6da"
            ],
            [
             0.4,
             "#fde0ef"
            ],
            [
             0.5,
             "#f7f7f7"
            ],
            [
             0.6,
             "#e6f5d0"
            ],
            [
             0.7,
             "#b8e186"
            ],
            [
             0.8,
             "#7fbc41"
            ],
            [
             0.9,
             "#4d9221"
            ],
            [
             1,
             "#276419"
            ]
           ],
           "sequential": [
            [
             0,
             "#0d0887"
            ],
            [
             0.1111111111111111,
             "#46039f"
            ],
            [
             0.2222222222222222,
             "#7201a8"
            ],
            [
             0.3333333333333333,
             "#9c179e"
            ],
            [
             0.4444444444444444,
             "#bd3786"
            ],
            [
             0.5555555555555556,
             "#d8576b"
            ],
            [
             0.6666666666666666,
             "#ed7953"
            ],
            [
             0.7777777777777778,
             "#fb9f3a"
            ],
            [
             0.8888888888888888,
             "#fdca26"
            ],
            [
             1,
             "#f0f921"
            ]
           ],
           "sequentialminus": [
            [
             0,
             "#0d0887"
            ],
            [
             0.1111111111111111,
             "#46039f"
            ],
            [
             0.2222222222222222,
             "#7201a8"
            ],
            [
             0.3333333333333333,
             "#9c179e"
            ],
            [
             0.4444444444444444,
             "#bd3786"
            ],
            [
             0.5555555555555556,
             "#d8576b"
            ],
            [
             0.6666666666666666,
             "#ed7953"
            ],
            [
             0.7777777777777778,
             "#fb9f3a"
            ],
            [
             0.8888888888888888,
             "#fdca26"
            ],
            [
             1,
             "#f0f921"
            ]
           ]
          },
          "colorway": [
           "#636efa",
           "#EF553B",
           "#00cc96",
           "#ab63fa",
           "#FFA15A",
           "#19d3f3",
           "#FF6692",
           "#B6E880",
           "#FF97FF",
           "#FECB52"
          ],
          "font": {
           "color": "#2a3f5f"
          },
          "geo": {
           "bgcolor": "white",
           "lakecolor": "white",
           "landcolor": "#E5ECF6",
           "showlakes": true,
           "showland": true,
           "subunitcolor": "white"
          },
          "hoverlabel": {
           "align": "left"
          },
          "hovermode": "closest",
          "mapbox": {
           "style": "light"
          },
          "paper_bgcolor": "white",
          "plot_bgcolor": "#E5ECF6",
          "polar": {
           "angularaxis": {
            "gridcolor": "white",
            "linecolor": "white",
            "ticks": ""
           },
           "bgcolor": "#E5ECF6",
           "radialaxis": {
            "gridcolor": "white",
            "linecolor": "white",
            "ticks": ""
           }
          },
          "scene": {
           "xaxis": {
            "backgroundcolor": "#E5ECF6",
            "gridcolor": "white",
            "gridwidth": 2,
            "linecolor": "white",
            "showbackground": true,
            "ticks": "",
            "zerolinecolor": "white"
           },
           "yaxis": {
            "backgroundcolor": "#E5ECF6",
            "gridcolor": "white",
            "gridwidth": 2,
            "linecolor": "white",
            "showbackground": true,
            "ticks": "",
            "zerolinecolor": "white"
           },
           "zaxis": {
            "backgroundcolor": "#E5ECF6",
            "gridcolor": "white",
            "gridwidth": 2,
            "linecolor": "white",
            "showbackground": true,
            "ticks": "",
            "zerolinecolor": "white"
           }
          },
          "shapedefaults": {
           "line": {
            "color": "#2a3f5f"
           }
          },
          "ternary": {
           "aaxis": {
            "gridcolor": "white",
            "linecolor": "white",
            "ticks": ""
           },
           "baxis": {
            "gridcolor": "white",
            "linecolor": "white",
            "ticks": ""
           },
           "bgcolor": "#E5ECF6",
           "caxis": {
            "gridcolor": "white",
            "linecolor": "white",
            "ticks": ""
           }
          },
          "title": {
           "x": 0.05
          },
          "xaxis": {
           "automargin": true,
           "gridcolor": "white",
           "linecolor": "white",
           "ticks": "",
           "title": {
            "standoff": 15
           },
           "zerolinecolor": "white",
           "zerolinewidth": 2
          },
          "yaxis": {
           "automargin": true,
           "gridcolor": "white",
           "linecolor": "white",
           "ticks": "",
           "title": {
            "standoff": 15
           },
           "zerolinecolor": "white",
           "zerolinewidth": 2
          }
         }
        },
        "xaxis": {
         "anchor": "y",
         "autorange": true,
         "domain": [
          0,
          1
         ],
         "range": [
          0,
<<<<<<< HEAD
          89
=======
          85
>>>>>>> master
         ],
         "title": {
          "text": "index"
         },
         "type": "linear"
        },
        "yaxis": {
         "anchor": "x",
         "autorange": true,
         "domain": [
          0,
          1
         ],
         "range": [
<<<<<<< HEAD
          -0.8705638888888888,
          16.540713888888888
=======
          -0.8193911111111112,
          15.568431111111112
>>>>>>> master
         ],
         "title": {
          "text": "value"
         },
         "type": "linear"
        }
       }
      },
<<<<<<< HEAD
      "image/png": "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",
      "text/html": [
       "<div>                            <div id=\"0c20418e-7deb-476c-9339-8942b425197e\" class=\"plotly-graph-div\" style=\"height:525px; width:100%;\"></div>            <script type=\"text/javascript\">                require([\"plotly\"], function(Plotly) {                    window.PLOTLYENV=window.PLOTLYENV || {};                                    if (document.getElementById(\"0c20418e-7deb-476c-9339-8942b425197e\")) {                    Plotly.newPlot(                        \"0c20418e-7deb-476c-9339-8942b425197e\",                        [{\"hovertemplate\":\"variable=expiry_price<br>index=%{x}<br>value=%{y}<extra></extra>\",\"legendgroup\":\"expiry_price\",\"line\":{\"color\":\"#636efa\",\"dash\":\"solid\"},\"marker\":{\"symbol\":\"circle\"},\"mode\":\"lines\",\"name\":\"expiry_price\",\"orientation\":\"v\",\"showlegend\":true,\"x\":[0,1,2,3,4,5,6,7,8,9,10,11,12,13,14,15,16,17,18,19,20,21,22,23,24,25,26,27,28,29,30,31,32,33,34,35,36,37,38,39,40,41,42,43,44,45,46,47,48,49,50,51,52,53,54,55,56,57,58,59,60,61,62,63,64,65,66,67,68,69,70,71,72,73,74,75,76,77,78,79,80,81,82,83,84,85,86,87,88,89],\"xaxis\":\"x\",\"y\":[0.0,0.0,0.0,0.0,0.0,0.0,0.0,0.0,0.0,0.0,0.0,0.0,0.0,0.0,0.0,0.0,0.0,0.0,0.0,0.0,0.0,0.0,0.0,0.0,0.0,0.0,0.0,0.0,0.0,0.0,0.0,0.0,0.0,0.0,0.0,0.0,0.0,0.0,0.0,0.0,0.0,0.0,0.0,0.0,0.0,0.0,0.0,0.0,0.0,0.0,0.0,0.0,0.0,0.0,0.0,0.0,0.0,0.0,0.0,0.0,0.0,0.0,0.0,0.0,0.0,0.0,0.0,0.0,0.0,0.0,0.0,0.0,0.0,0.0,0.0,0.0,0.0,0.0,13.425338,13.425338,13.425338,13.425338,13.425338,13.425338,13.425338,13.425338,13.425338,13.425338,13.425338,13.425338],\"yaxis\":\"y\",\"type\":\"scatter\"},{\"hovertemplate\":\"variable=last_oracle_price<br>index=%{x}<br>value=%{y}<extra></extra>\",\"legendgroup\":\"last_oracle_price\",\"line\":{\"color\":\"#EF553B\",\"dash\":\"solid\"},\"marker\":{\"symbol\":\"circle\"},\"mode\":\"lines\",\"name\":\"last_oracle_price\",\"orientation\":\"v\",\"showlegend\":true,\"x\":[0,1,2,3,4,5,6,7,8,9,10,11,12,13,14,15,16,17,18,19,20,21,22,23,24,25,26,27,28,29,30,31,32,33,34,35,36,37,38,39,40,41,42,43,44,45,46,47,48,49,50,51,52,53,54,55,56,57,58,59,60,61,62,63,64,65,66,67,68,69,70,71,72,73,74,75,76,77,78,79,80,81,82,83,84,85,86,87,88,89],\"xaxis\":\"x\",\"y\":[14.716202,14.716202,14.716202,14.716202,14.716202,14.716202,14.716202,14.716202,14.716202,14.716202,14.716202,14.716202,14.716202,14.716202,14.716202,14.716202,14.716202,14.716202,14.716202,14.716202,14.716202,14.716202,14.659655,14.659655,15.287548,15.287548,15.67015,15.67015,14.456499,14.456499,13.493961,13.493961,13.493961,13.958087,13.958087,13.958087,13.958087,13.958087,12.50363,12.50363,12.50363,12.50363,12.182969,12.182969,12.182969,12.100111,12.100111,10.308072,10.308072,10.308072,10.308072,7.557352,7.557352,7.557352,4.262883,4.262883,4.262883,4.262883,4.262883,4.262883,2.588573,2.588573,4.805673,4.805673,4.805673,4.510962,4.510962,4.510962,2.923025,2.923025,2.923025,2.923025,2.923025,2.854782,2.854782,2.854782,2.854782,2.854782,3.417946,3.417946,3.417946,3.417946,3.417946,3.417946,3.417946,3.417946,3.417946,3.417946,3.417946,3.417946],\"yaxis\":\"y\",\"type\":\"scatter\"},{\"hovertemplate\":\"variable=last_oracle_normalised_price<br>index=%{x}<br>value=%{y}<extra></extra>\",\"legendgroup\":\"last_oracle_normalised_price\",\"line\":{\"color\":\"#00cc96\",\"dash\":\"solid\"},\"marker\":{\"symbol\":\"circle\"},\"mode\":\"lines\",\"name\":\"last_oracle_normalised_price\",\"orientation\":\"v\",\"showlegend\":true,\"x\":[0,1,2,3,4,5,6,7,8,9,10,11,12,13,14,15,16,17,18,19,20,21,22,23,24,25,26,27,28,29,30,31,32,33,34,35,36,37,38,39,40,41,42,43,44,45,46,47,48,49,50,51,52,53,54,55,56,57,58,59,60,61,62,63,64,65,66,67,68,69,70,71,72,73,74,75,76,77,78,79,80,81,82,83,84,85,86,87,88,89],\"xaxis\":\"x\",\"y\":[14.716202,14.716202,14.716202,14.716202,14.716202,14.716202,14.716202,14.716202,14.716202,14.716202,14.716202,14.716202,14.716202,14.716202,14.716202,14.716202,14.716202,14.716202,14.716202,14.716202,14.716202,14.716202,14.659655,14.659655,15.287548,15.287548,15.67015,15.67015,14.456499,14.456499,13.493961,13.493961,13.493961,13.958087,13.958087,13.958087,13.958087,13.958087,12.50363,12.50363,12.50363,12.50363,12.182969,12.182969,12.182969,12.100111,12.100111,10.308072,10.308072,10.308072,10.308072,9.443661,9.443661,9.443661,9.233802,9.233802,9.233802,9.131205,9.131205,9.131205,8.979018,8.979018,8.879252,8.879252,8.879252,8.780594,8.780594,8.780594,8.634251,8.634251,8.634251,8.634251,8.634251,8.490347,8.490347,8.490347,8.490347,8.490347,8.254504,8.254504,8.254504,8.254504,8.254504,8.254504,8.254504,8.254504,8.254504,8.254504,8.254504,8.254504],\"yaxis\":\"y\",\"type\":\"scatter\"},{\"hovertemplate\":\"variable=last_oracle_conf<br>index=%{x}<br>value=%{y}<extra></extra>\",\"legendgroup\":\"last_oracle_conf\",\"line\":{\"color\":\"#ab63fa\",\"dash\":\"solid\"},\"marker\":{\"symbol\":\"circle\"},\"mode\":\"lines\",\"name\":\"last_oracle_conf\",\"orientation\":\"v\",\"showlegend\":true,\"x\":[0,1,2,3,4,5,6,7,8,9,10,11,12,13,14,15,16,17,18,19,20,21,22,23,24,25,26,27,28,29,30,31,32,33,34,35,36,37,38,39,40,41,42,43,44,45,46,47,48,49,50,51,52,53,54,55,56,57,58,59,60,61,62,63,64,65,66,67,68,69,70,71,72,73,74,75,76,77,78,79,80,81,82,83,84,85,86,87,88,89],\"xaxis\":\"x\",\"y\":[0.0,0.0,0.0,0.0,0.0,0.0,0.0,0.0,0.0,0.0,0.0,0.0,0.0,0.0,0.0,0.0,0.0,0.0,0.0,0.0,0.0,0.0,0.0,0.0,0.0,0.0,0.0,0.0,0.0,0.0,0.0,0.0,0.0,0.0,0.0,0.0,0.0,0.0,0.0,0.0,0.0,0.0,0.0,0.0,0.0,0.0,0.0,0.0,0.0,0.0,0.0,0.0,0.0,0.0,0.0,0.0,0.0,0.0,0.0,0.0,0.0,0.0,0.0,0.0,0.0,0.0,0.0,0.0,0.0,0.0,0.0,0.0,0.0,0.0,0.0,0.0,0.0,0.0,0.0,0.0,0.0,0.0,0.0,0.0,0.0,0.0,0.0,0.0,0.0,0.0],\"yaxis\":\"y\",\"type\":\"scatter\"},{\"hovertemplate\":\"variable=last_oracle_price_twap<br>index=%{x}<br>value=%{y}<extra></extra>\",\"legendgroup\":\"last_oracle_price_twap\",\"line\":{\"color\":\"#FFA15A\",\"dash\":\"solid\"},\"marker\":{\"symbol\":\"circle\"},\"mode\":\"lines\",\"name\":\"last_oracle_price_twap\",\"orientation\":\"v\",\"showlegend\":true,\"x\":[0,1,2,3,4,5,6,7,8,9,10,11,12,13,14,15,16,17,18,19,20,21,22,23,24,25,26,27,28,29,30,31,32,33,34,35,36,37,38,39,40,41,42,43,44,45,46,47,48,49,50,51,52,53,54,55,56,57,58,59,60,61,62,63,64,65,66,67,68,69,70,71,72,73,74,75,76,77,78,79,80,81,82,83,84,85,86,87,88,89],\"xaxis\":\"x\",\"y\":[14.716202,14.716202,14.716202,14.716202,14.716202,14.716202,14.716202,14.716202,14.716202,14.716202,14.716202,14.716202,14.716202,14.716202,14.716202,14.716202,14.716202,14.716202,14.716202,14.716202,14.716203,14.716203,14.714319,14.714319,14.733427,14.733427,14.74904,14.74904,14.739289,14.739289,14.697779,14.697779,14.697779,14.660795,14.660795,14.660795,14.660795,14.660795,14.516985,14.516985,14.449874,14.449874,14.374311,14.374311,14.374311,14.298505,14.298505,14.165491,14.165491,14.165491,14.165491,13.850703,13.850703,13.850703,13.696807,13.696807,13.696807,13.468527,13.468527,13.468527,13.318877,13.318877,13.17089,13.17089,13.17089,12.951376,12.951376,12.951376,12.73552,12.73552,12.73552,12.73552,12.73552,12.381756,12.381756,12.381756,12.381756,12.381756,11.831456,11.831456,11.831456,11.831456,11.831456,11.831456,11.831456,11.831456,11.831456,11.831456,11.831456,11.831456],\"yaxis\":\"y\",\"type\":\"scatter\"},{\"hovertemplate\":\"variable=last_oracle_price_twap5min<br>index=%{x}<br>value=%{y}<extra></extra>\",\"legendgroup\":\"last_oracle_price_twap5min\",\"line\":{\"color\":\"#19d3f3\",\"dash\":\"solid\"},\"marker\":{\"symbol\":\"circle\"},\"mode\":\"lines\",\"name\":\"last_oracle_price_twap5min\",\"orientation\":\"v\",\"showlegend\":true,\"x\":[0,1,2,3,4,5,6,7,8,9,10,11,12,13,14,15,16,17,18,19,20,21,22,23,24,25,26,27,28,29,30,31,32,33,34,35,36,37,38,39,40,41,42,43,44,45,46,47,48,49,50,51,52,53,54,55,56,57,58,59,60,61,62,63,64,65,66,67,68,69,70,71,72,73,74,75,76,77,78,79,80,81,82,83,84,85,86,87,88,89],\"xaxis\":\"x\",\"y\":[14.716202,14.716202,14.716202,14.716202,14.716202,14.716202,14.716202,14.716202,14.716202,14.716202,14.716202,14.716202,14.716202,14.716202,14.716202,14.716202,14.716202,14.716202,14.716202,14.716202,14.716203,14.716203,14.715827,14.715827,14.719639,14.719639,14.722808,14.722808,14.721033,14.721033,14.712853,14.712853,14.712853,14.705306,14.705306,14.705306,14.705306,14.705306,14.675951,14.675951,14.661469,14.661469,14.644946,14.644946,14.644946,14.627981,14.627981,14.599182,14.599182,14.599182,14.599182,14.530442,14.530442,14.530442,14.495132,14.495132,14.495132,14.441493,14.441493,14.441493,14.405077,14.405077,14.368239,14.368239,14.368239,14.312363,14.312363,14.312363,14.255582,14.255582,14.255582,14.255582,14.255582,14.159495,14.159495,14.159495,14.159495,14.159495,14.002029,14.002029,14.002029,14.002029,14.002029,14.002029,14.002029,14.002029,14.002029,14.002029,14.002029,14.002029],\"yaxis\":\"y\",\"type\":\"scatter\"}],                        {\"template\":{\"data\":{\"histogram2dcontour\":[{\"type\":\"histogram2dcontour\",\"colorbar\":{\"outlinewidth\":0,\"ticks\":\"\"},\"colorscale\":[[0.0,\"#0d0887\"],[0.1111111111111111,\"#46039f\"],[0.2222222222222222,\"#7201a8\"],[0.3333333333333333,\"#9c179e\"],[0.4444444444444444,\"#bd3786\"],[0.5555555555555556,\"#d8576b\"],[0.6666666666666666,\"#ed7953\"],[0.7777777777777778,\"#fb9f3a\"],[0.8888888888888888,\"#fdca26\"],[1.0,\"#f0f921\"]]}],\"choropleth\":[{\"type\":\"choropleth\",\"colorbar\":{\"outlinewidth\":0,\"ticks\":\"\"}}],\"histogram2d\":[{\"type\":\"histogram2d\",\"colorbar\":{\"outlinewidth\":0,\"ticks\":\"\"},\"colorscale\":[[0.0,\"#0d0887\"],[0.1111111111111111,\"#46039f\"],[0.2222222222222222,\"#7201a8\"],[0.3333333333333333,\"#9c179e\"],[0.4444444444444444,\"#bd3786\"],[0.5555555555555556,\"#d8576b\"],[0.6666666666666666,\"#ed7953\"],[0.7777777777777778,\"#fb9f3a\"],[0.8888888888888888,\"#fdca26\"],[1.0,\"#f0f921\"]]}],\"heatmap\":[{\"type\":\"heatmap\",\"colorbar\":{\"outlinewidth\":0,\"ticks\":\"\"},\"colorscale\":[[0.0,\"#0d0887\"],[0.1111111111111111,\"#46039f\"],[0.2222222222222222,\"#7201a8\"],[0.3333333333333333,\"#9c179e\"],[0.4444444444444444,\"#bd3786\"],[0.5555555555555556,\"#d8576b\"],[0.6666666666666666,\"#ed7953\"],[0.7777777777777778,\"#fb9f3a\"],[0.8888888888888888,\"#fdca26\"],[1.0,\"#f0f921\"]]}],\"heatmapgl\":[{\"type\":\"heatmapgl\",\"colorbar\":{\"outlinewidth\":0,\"ticks\":\"\"},\"colorscale\":[[0.0,\"#0d0887\"],[0.1111111111111111,\"#46039f\"],[0.2222222222222222,\"#7201a8\"],[0.3333333333333333,\"#9c179e\"],[0.4444444444444444,\"#bd3786\"],[0.5555555555555556,\"#d8576b\"],[0.6666666666666666,\"#ed7953\"],[0.7777777777777778,\"#fb9f3a\"],[0.8888888888888888,\"#fdca26\"],[1.0,\"#f0f921\"]]}],\"contourcarpet\":[{\"type\":\"contourcarpet\",\"colorbar\":{\"outlinewidth\":0,\"ticks\":\"\"}}],\"contour\":[{\"type\":\"contour\",\"colorbar\":{\"outlinewidth\":0,\"ticks\":\"\"},\"colorscale\":[[0.0,\"#0d0887\"],[0.1111111111111111,\"#46039f\"],[0.2222222222222222,\"#7201a8\"],[0.3333333333333333,\"#9c179e\"],[0.4444444444444444,\"#bd3786\"],[0.5555555555555556,\"#d8576b\"],[0.6666666666666666,\"#ed7953\"],[0.7777777777777778,\"#fb9f3a\"],[0.8888888888888888,\"#fdca26\"],[1.0,\"#f0f921\"]]}],\"surface\":[{\"type\":\"surface\",\"colorbar\":{\"outlinewidth\":0,\"ticks\":\"\"},\"colorscale\":[[0.0,\"#0d0887\"],[0.1111111111111111,\"#46039f\"],[0.2222222222222222,\"#7201a8\"],[0.3333333333333333,\"#9c179e\"],[0.4444444444444444,\"#bd3786\"],[0.5555555555555556,\"#d8576b\"],[0.6666666666666666,\"#ed7953\"],[0.7777777777777778,\"#fb9f3a\"],[0.8888888888888888,\"#fdca26\"],[1.0,\"#f0f921\"]]}],\"mesh3d\":[{\"type\":\"mesh3d\",\"colorbar\":{\"outlinewidth\":0,\"ticks\":\"\"}}],\"scatter\":[{\"fillpattern\":{\"fillmode\":\"overlay\",\"size\":10,\"solidity\":0.2},\"type\":\"scatter\"}],\"parcoords\":[{\"type\":\"parcoords\",\"line\":{\"colorbar\":{\"outlinewidth\":0,\"ticks\":\"\"}}}],\"scatterpolargl\":[{\"type\":\"scatterpolargl\",\"marker\":{\"colorbar\":{\"outlinewidth\":0,\"ticks\":\"\"}}}],\"bar\":[{\"error_x\":{\"color\":\"#2a3f5f\"},\"error_y\":{\"color\":\"#2a3f5f\"},\"marker\":{\"line\":{\"color\":\"#E5ECF6\",\"width\":0.5},\"pattern\":{\"fillmode\":\"overlay\",\"size\":10,\"solidity\":0.2}},\"type\":\"bar\"}],\"scattergeo\":[{\"type\":\"scattergeo\",\"marker\":{\"colorbar\":{\"outlinewidth\":0,\"ticks\":\"\"}}}],\"scatterpolar\":[{\"type\":\"scatterpolar\",\"marker\":{\"colorbar\":{\"outlinewidth\":0,\"ticks\":\"\"}}}],\"histogram\":[{\"marker\":{\"pattern\":{\"fillmode\":\"overlay\",\"size\":10,\"solidity\":0.2}},\"type\":\"histogram\"}],\"scattergl\":[{\"type\":\"scattergl\",\"marker\":{\"colorbar\":{\"outlinewidth\":0,\"ticks\":\"\"}}}],\"scatter3d\":[{\"type\":\"scatter3d\",\"line\":{\"colorbar\":{\"outlinewidth\":0,\"ticks\":\"\"}},\"marker\":{\"colorbar\":{\"outlinewidth\":0,\"ticks\":\"\"}}}],\"scattermapbox\":[{\"type\":\"scattermapbox\",\"marker\":{\"colorbar\":{\"outlinewidth\":0,\"ticks\":\"\"}}}],\"scatterternary\":[{\"type\":\"scatterternary\",\"marker\":{\"colorbar\":{\"outlinewidth\":0,\"ticks\":\"\"}}}],\"scattercarpet\":[{\"type\":\"scattercarpet\",\"marker\":{\"colorbar\":{\"outlinewidth\":0,\"ticks\":\"\"}}}],\"carpet\":[{\"aaxis\":{\"endlinecolor\":\"#2a3f5f\",\"gridcolor\":\"white\",\"linecolor\":\"white\",\"minorgridcolor\":\"white\",\"startlinecolor\":\"#2a3f5f\"},\"baxis\":{\"endlinecolor\":\"#2a3f5f\",\"gridcolor\":\"white\",\"linecolor\":\"white\",\"minorgridcolor\":\"white\",\"startlinecolor\":\"#2a3f5f\"},\"type\":\"carpet\"}],\"table\":[{\"cells\":{\"fill\":{\"color\":\"#EBF0F8\"},\"line\":{\"color\":\"white\"}},\"header\":{\"fill\":{\"color\":\"#C8D4E3\"},\"line\":{\"color\":\"white\"}},\"type\":\"table\"}],\"barpolar\":[{\"marker\":{\"line\":{\"color\":\"#E5ECF6\",\"width\":0.5},\"pattern\":{\"fillmode\":\"overlay\",\"size\":10,\"solidity\":0.2}},\"type\":\"barpolar\"}],\"pie\":[{\"automargin\":true,\"type\":\"pie\"}]},\"layout\":{\"autotypenumbers\":\"strict\",\"colorway\":[\"#636efa\",\"#EF553B\",\"#00cc96\",\"#ab63fa\",\"#FFA15A\",\"#19d3f3\",\"#FF6692\",\"#B6E880\",\"#FF97FF\",\"#FECB52\"],\"font\":{\"color\":\"#2a3f5f\"},\"hovermode\":\"closest\",\"hoverlabel\":{\"align\":\"left\"},\"paper_bgcolor\":\"white\",\"plot_bgcolor\":\"#E5ECF6\",\"polar\":{\"bgcolor\":\"#E5ECF6\",\"angularaxis\":{\"gridcolor\":\"white\",\"linecolor\":\"white\",\"ticks\":\"\"},\"radialaxis\":{\"gridcolor\":\"white\",\"linecolor\":\"white\",\"ticks\":\"\"}},\"ternary\":{\"bgcolor\":\"#E5ECF6\",\"aaxis\":{\"gridcolor\":\"white\",\"linecolor\":\"white\",\"ticks\":\"\"},\"baxis\":{\"gridcolor\":\"white\",\"linecolor\":\"white\",\"ticks\":\"\"},\"caxis\":{\"gridcolor\":\"white\",\"linecolor\":\"white\",\"ticks\":\"\"}},\"coloraxis\":{\"colorbar\":{\"outlinewidth\":0,\"ticks\":\"\"}},\"colorscale\":{\"sequential\":[[0.0,\"#0d0887\"],[0.1111111111111111,\"#46039f\"],[0.2222222222222222,\"#7201a8\"],[0.3333333333333333,\"#9c179e\"],[0.4444444444444444,\"#bd3786\"],[0.5555555555555556,\"#d8576b\"],[0.6666666666666666,\"#ed7953\"],[0.7777777777777778,\"#fb9f3a\"],[0.8888888888888888,\"#fdca26\"],[1.0,\"#f0f921\"]],\"sequentialminus\":[[0.0,\"#0d0887\"],[0.1111111111111111,\"#46039f\"],[0.2222222222222222,\"#7201a8\"],[0.3333333333333333,\"#9c179e\"],[0.4444444444444444,\"#bd3786\"],[0.5555555555555556,\"#d8576b\"],[0.6666666666666666,\"#ed7953\"],[0.7777777777777778,\"#fb9f3a\"],[0.8888888888888888,\"#fdca26\"],[1.0,\"#f0f921\"]],\"diverging\":[[0,\"#8e0152\"],[0.1,\"#c51b7d\"],[0.2,\"#de77ae\"],[0.3,\"#f1b6da\"],[0.4,\"#fde0ef\"],[0.5,\"#f7f7f7\"],[0.6,\"#e6f5d0\"],[0.7,\"#b8e186\"],[0.8,\"#7fbc41\"],[0.9,\"#4d9221\"],[1,\"#276419\"]]},\"xaxis\":{\"gridcolor\":\"white\",\"linecolor\":\"white\",\"ticks\":\"\",\"title\":{\"standoff\":15},\"zerolinecolor\":\"white\",\"automargin\":true,\"zerolinewidth\":2},\"yaxis\":{\"gridcolor\":\"white\",\"linecolor\":\"white\",\"ticks\":\"\",\"title\":{\"standoff\":15},\"zerolinecolor\":\"white\",\"automargin\":true,\"zerolinewidth\":2},\"scene\":{\"xaxis\":{\"backgroundcolor\":\"#E5ECF6\",\"gridcolor\":\"white\",\"linecolor\":\"white\",\"showbackground\":true,\"ticks\":\"\",\"zerolinecolor\":\"white\",\"gridwidth\":2},\"yaxis\":{\"backgroundcolor\":\"#E5ECF6\",\"gridcolor\":\"white\",\"linecolor\":\"white\",\"showbackground\":true,\"ticks\":\"\",\"zerolinecolor\":\"white\",\"gridwidth\":2},\"zaxis\":{\"backgroundcolor\":\"#E5ECF6\",\"gridcolor\":\"white\",\"linecolor\":\"white\",\"showbackground\":true,\"ticks\":\"\",\"zerolinecolor\":\"white\",\"gridwidth\":2}},\"shapedefaults\":{\"line\":{\"color\":\"#2a3f5f\"}},\"annotationdefaults\":{\"arrowcolor\":\"#2a3f5f\",\"arrowhead\":0,\"arrowwidth\":1},\"geo\":{\"bgcolor\":\"white\",\"landcolor\":\"#E5ECF6\",\"subunitcolor\":\"white\",\"showland\":true,\"showlakes\":true,\"lakecolor\":\"white\"},\"title\":{\"x\":0.05},\"mapbox\":{\"style\":\"light\"}}},\"xaxis\":{\"anchor\":\"y\",\"domain\":[0.0,1.0],\"title\":{\"text\":\"index\"}},\"yaxis\":{\"anchor\":\"x\",\"domain\":[0.0,1.0],\"title\":{\"text\":\"value\"}},\"legend\":{\"title\":{\"text\":\"variable\"},\"tracegroupgap\":0},\"margin\":{\"t\":60}},                        {\"responsive\": true}                    ).then(function(){\n",
       "                            \n",
       "var gd = document.getElementById('0c20418e-7deb-476c-9339-8942b425197e');\n",
=======
      "image/png": "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",
      "text/html": [
       "<div>                            <div id=\"8b6631b2-52a2-4878-850c-2cf96d46447c\" class=\"plotly-graph-div\" style=\"height:525px; width:100%;\"></div>            <script type=\"text/javascript\">                require([\"plotly\"], function(Plotly) {                    window.PLOTLYENV=window.PLOTLYENV || {};                                    if (document.getElementById(\"8b6631b2-52a2-4878-850c-2cf96d46447c\")) {                    Plotly.newPlot(                        \"8b6631b2-52a2-4878-850c-2cf96d46447c\",                        [{\"hovertemplate\":\"variable=expiry_price<br>index=%{x}<br>value=%{y}<extra></extra>\",\"legendgroup\":\"expiry_price\",\"line\":{\"color\":\"#636efa\",\"dash\":\"solid\"},\"marker\":{\"symbol\":\"circle\"},\"mode\":\"lines\",\"name\":\"expiry_price\",\"orientation\":\"v\",\"showlegend\":true,\"x\":[0,1,2,3,4,5,6,7,8,9,10,11,12,13,14,15,16,17,18,19,20,21,22,23,24,25,26,27,28,29,30,31,32,33,34,35,36,37,38,39,40,41,42,43,44,45,46,47,48,49,50,51,52,53,54,55,56,57,58,59,60,61,62,63,64,65,66,67,68,69,70,71,72,73,74,75,76,77,78,79,80,81,82,83,84,85],\"xaxis\":\"x\",\"y\":[0.0,0.0,0.0,0.0,0.0,0.0,0.0,0.0,0.0,0.0,0.0,0.0,0.0,0.0,0.0,0.0,0.0,0.0,0.0,0.0,0.0,0.0,0.0,0.0,0.0,0.0,0.0,0.0,0.0,0.0,0.0,0.0,0.0,0.0,0.0,0.0,0.0,0.0,0.0,0.0,0.0,0.0,0.0,0.0,0.0,0.0,0.0,0.0,0.0,0.0,0.0,0.0,0.0,0.0,0.0,0.0,0.0,0.0,0.0,0.0,0.0,0.0,0.0,0.0,0.0,0.0,0.0,0.0,0.0,0.0,0.0,0.0,0.0,0.0,0.0,0.0,0.0,0.0,13.973115,13.973115,13.973115,13.973115,13.973115,13.973115,13.973115,13.973115],\"yaxis\":\"y\",\"type\":\"scatter\"},{\"hovertemplate\":\"variable=last_oracle_price<br>index=%{x}<br>value=%{y}<extra></extra>\",\"legendgroup\":\"last_oracle_price\",\"line\":{\"color\":\"#EF553B\",\"dash\":\"solid\"},\"marker\":{\"symbol\":\"circle\"},\"mode\":\"lines\",\"name\":\"last_oracle_price\",\"orientation\":\"v\",\"showlegend\":true,\"x\":[0,1,2,3,4,5,6,7,8,9,10,11,12,13,14,15,16,17,18,19,20,21,22,23,24,25,26,27,28,29,30,31,32,33,34,35,36,37,38,39,40,41,42,43,44,45,46,47,48,49,50,51,52,53,54,55,56,57,58,59,60,61,62,63,64,65,66,67,68,69,70,71,72,73,74,75,76,77,78,79,80,81,82,83,84,85],\"xaxis\":\"x\",\"y\":[14.716202,14.716202,14.716202,14.716202,14.716202,14.716202,14.716202,14.716202,14.716202,14.716202,14.716202,14.716202,14.716202,14.716202,14.716202,14.716202,14.716202,14.716202,14.716202,14.716202,14.716202,14.716202,14.659655,14.659655,15.287548,15.287548,15.67015,15.67015,14.456499,14.456499,13.493961,13.493961,13.493961,13.958087,13.958087,13.958087,13.958087,13.958087,12.50363,12.50363,12.50363,12.50363,12.182969,12.182969,12.182969,12.100111,12.100111,10.308072,10.308072,10.308072,10.308072,10.308072,10.308072,10.308072,4.262883,4.262883,4.262883,4.262883,4.262883,4.262883,4.262883,4.262883,4.805673,4.805673,4.805673,4.510962,4.510962,4.510962,2.923025,2.923025,2.923025,2.923025,2.923025,2.854782,2.854782,2.854782,2.854782,2.854782,3.417946,3.417946,3.417946,3.417946,3.417946,3.417946,3.417946,3.417946],\"yaxis\":\"y\",\"type\":\"scatter\"},{\"hovertemplate\":\"variable=last_oracle_normalised_price<br>index=%{x}<br>value=%{y}<extra></extra>\",\"legendgroup\":\"last_oracle_normalised_price\",\"line\":{\"color\":\"#00cc96\",\"dash\":\"solid\"},\"marker\":{\"symbol\":\"circle\"},\"mode\":\"lines\",\"name\":\"last_oracle_normalised_price\",\"orientation\":\"v\",\"showlegend\":true,\"x\":[0,1,2,3,4,5,6,7,8,9,10,11,12,13,14,15,16,17,18,19,20,21,22,23,24,25,26,27,28,29,30,31,32,33,34,35,36,37,38,39,40,41,42,43,44,45,46,47,48,49,50,51,52,53,54,55,56,57,58,59,60,61,62,63,64,65,66,67,68,69,70,71,72,73,74,75,76,77,78,79,80,81,82,83,84,85],\"xaxis\":\"x\",\"y\":[14.716202,14.716202,14.716202,14.716202,14.716202,14.716202,14.716202,14.716202,14.716202,14.716202,14.716202,14.716202,14.716202,14.716202,14.716202,14.716202,14.716202,14.716202,14.716202,14.716202,14.716202,14.716202,14.659655,14.659655,15.287548,15.287548,15.67015,15.67015,14.456499,14.456499,13.493961,13.493961,13.493961,13.958087,13.958087,13.958087,13.958087,13.958087,12.50363,12.50363,12.50363,12.50363,12.182969,12.182969,12.182969,12.100111,12.100111,10.308072,10.308072,10.308072,10.308072,10.308072,10.308072,10.308072,9.437674,9.437674,9.437674,9.437674,9.437674,9.437674,9.437674,9.437674,9.123086,9.123086,9.123086,8.869667,8.869667,8.869667,8.72184,8.72184,8.72184,8.72184,8.72184,8.576476,8.576476,8.576476,8.576476,8.576476,8.338241,8.338241,8.338241,8.338241,8.338241,8.338241,8.338241,8.338241],\"yaxis\":\"y\",\"type\":\"scatter\"},{\"hovertemplate\":\"variable=last_oracle_conf<br>index=%{x}<br>value=%{y}<extra></extra>\",\"legendgroup\":\"last_oracle_conf\",\"line\":{\"color\":\"#ab63fa\",\"dash\":\"solid\"},\"marker\":{\"symbol\":\"circle\"},\"mode\":\"lines\",\"name\":\"last_oracle_conf\",\"orientation\":\"v\",\"showlegend\":true,\"x\":[0,1,2,3,4,5,6,7,8,9,10,11,12,13,14,15,16,17,18,19,20,21,22,23,24,25,26,27,28,29,30,31,32,33,34,35,36,37,38,39,40,41,42,43,44,45,46,47,48,49,50,51,52,53,54,55,56,57,58,59,60,61,62,63,64,65,66,67,68,69,70,71,72,73,74,75,76,77,78,79,80,81,82,83,84,85],\"xaxis\":\"x\",\"y\":[0.0,0.0,0.0,0.0,0.0,0.0,0.0,0.0,0.0,0.0,0.0,0.0,0.0,0.0,0.0,0.0,0.0,0.0,0.0,0.0,0.0,0.0,0.0,0.0,0.0,0.0,0.0,0.0,0.0,0.0,0.0,0.0,0.0,0.0,0.0,0.0,0.0,0.0,0.0,0.0,0.0,0.0,0.0,0.0,0.0,0.0,0.0,0.0,0.0,0.0,0.0,0.0,0.0,0.0,0.0,0.0,0.0,0.0,0.0,0.0,0.0,0.0,0.0,0.0,0.0,0.0,0.0,0.0,0.0,0.0,0.0,0.0,0.0,0.0,0.0,0.0,0.0,0.0,0.0,0.0,0.0,0.0,0.0,0.0,0.0,0.0],\"yaxis\":\"y\",\"type\":\"scatter\"},{\"hovertemplate\":\"variable=last_oracle_price_twap<br>index=%{x}<br>value=%{y}<extra></extra>\",\"legendgroup\":\"last_oracle_price_twap\",\"line\":{\"color\":\"#FFA15A\",\"dash\":\"solid\"},\"marker\":{\"symbol\":\"circle\"},\"mode\":\"lines\",\"name\":\"last_oracle_price_twap\",\"orientation\":\"v\",\"showlegend\":true,\"x\":[0,1,2,3,4,5,6,7,8,9,10,11,12,13,14,15,16,17,18,19,20,21,22,23,24,25,26,27,28,29,30,31,32,33,34,35,36,37,38,39,40,41,42,43,44,45,46,47,48,49,50,51,52,53,54,55,56,57,58,59,60,61,62,63,64,65,66,67,68,69,70,71,72,73,74,75,76,77,78,79,80,81,82,83,84,85],\"xaxis\":\"x\",\"y\":[14.716202,14.716202,14.716202,14.716202,14.716202,14.716202,14.716202,14.716202,14.716202,14.716202,14.716202,14.716202,14.716202,14.716202,14.716202,14.716202,14.716202,14.716202,14.716202,14.716202,14.716203,14.716203,14.714319,14.714319,14.733427,14.733427,14.74904,14.74904,14.739289,14.739289,14.697779,14.697779,14.697779,14.660795,14.660795,14.660795,14.660795,14.660795,14.481032,14.481032,14.481032,14.481032,14.40443,14.40443,14.40443,14.289215,14.289215,14.156511,14.156511,14.156511,14.156511,14.156511,14.156511,14.156511,13.684628,13.684628,13.684628,13.684628,13.684628,13.684628,13.684628,13.684628,13.3045,13.3045,13.3045,13.082759,13.082759,13.082759,12.864714,12.864714,12.864714,12.864714,12.864714,12.507361,12.507361,12.507361,12.507361,12.507361,12.020964,12.020964,12.020964,12.020964,12.020964,12.020964,12.020964,12.020964],\"yaxis\":\"y\",\"type\":\"scatter\"},{\"hovertemplate\":\"variable=last_oracle_price_twap5min<br>index=%{x}<br>value=%{y}<extra></extra>\",\"legendgroup\":\"last_oracle_price_twap5min\",\"line\":{\"color\":\"#19d3f3\",\"dash\":\"solid\"},\"marker\":{\"symbol\":\"circle\"},\"mode\":\"lines\",\"name\":\"last_oracle_price_twap5min\",\"orientation\":\"v\",\"showlegend\":true,\"x\":[0,1,2,3,4,5,6,7,8,9,10,11,12,13,14,15,16,17,18,19,20,21,22,23,24,25,26,27,28,29,30,31,32,33,34,35,36,37,38,39,40,41,42,43,44,45,46,47,48,49,50,51,52,53,54,55,56,57,58,59,60,61,62,63,64,65,66,67,68,69,70,71,72,73,74,75,76,77,78,79,80,81,82,83,84,85],\"xaxis\":\"x\",\"y\":[14.716202,14.716202,14.716202,14.716202,14.716202,14.716202,14.716202,14.716202,14.716202,14.716202,14.716202,14.716202,14.716202,14.716202,14.716202,14.716202,14.716202,14.716202,14.716202,14.716202,14.716203,14.716203,14.715827,14.715827,14.719639,14.719639,14.722808,14.722808,14.721033,14.721033,14.712853,14.712853,14.712853,14.705306,14.705306,14.705306,14.705306,14.705306,14.668612,14.668612,14.668612,14.668612,14.652042,14.652042,14.652042,14.626523,14.626523,14.597734,14.597734,14.597734,14.597734,14.597734,14.597734,14.597734,14.494533,14.494533,14.494533,14.494533,14.494533,14.494533,14.494533,14.494533,14.405009,14.405009,14.405009,14.349656,14.349656,14.349656,14.293378,14.293378,14.293378,14.293378,14.293378,14.198097,14.198097,14.198097,14.198097,14.198097,14.061368,14.061368,14.061368,14.061368,14.061368,14.061368,14.061368,14.061368],\"yaxis\":\"y\",\"type\":\"scatter\"}],                        {\"template\":{\"data\":{\"histogram2dcontour\":[{\"type\":\"histogram2dcontour\",\"colorbar\":{\"outlinewidth\":0,\"ticks\":\"\"},\"colorscale\":[[0.0,\"#0d0887\"],[0.1111111111111111,\"#46039f\"],[0.2222222222222222,\"#7201a8\"],[0.3333333333333333,\"#9c179e\"],[0.4444444444444444,\"#bd3786\"],[0.5555555555555556,\"#d8576b\"],[0.6666666666666666,\"#ed7953\"],[0.7777777777777778,\"#fb9f3a\"],[0.8888888888888888,\"#fdca26\"],[1.0,\"#f0f921\"]]}],\"choropleth\":[{\"type\":\"choropleth\",\"colorbar\":{\"outlinewidth\":0,\"ticks\":\"\"}}],\"histogram2d\":[{\"type\":\"histogram2d\",\"colorbar\":{\"outlinewidth\":0,\"ticks\":\"\"},\"colorscale\":[[0.0,\"#0d0887\"],[0.1111111111111111,\"#46039f\"],[0.2222222222222222,\"#7201a8\"],[0.3333333333333333,\"#9c179e\"],[0.4444444444444444,\"#bd3786\"],[0.5555555555555556,\"#d8576b\"],[0.6666666666666666,\"#ed7953\"],[0.7777777777777778,\"#fb9f3a\"],[0.8888888888888888,\"#fdca26\"],[1.0,\"#f0f921\"]]}],\"heatmap\":[{\"type\":\"heatmap\",\"colorbar\":{\"outlinewidth\":0,\"ticks\":\"\"},\"colorscale\":[[0.0,\"#0d0887\"],[0.1111111111111111,\"#46039f\"],[0.2222222222222222,\"#7201a8\"],[0.3333333333333333,\"#9c179e\"],[0.4444444444444444,\"#bd3786\"],[0.5555555555555556,\"#d8576b\"],[0.6666666666666666,\"#ed7953\"],[0.7777777777777778,\"#fb9f3a\"],[0.8888888888888888,\"#fdca26\"],[1.0,\"#f0f921\"]]}],\"heatmapgl\":[{\"type\":\"heatmapgl\",\"colorbar\":{\"outlinewidth\":0,\"ticks\":\"\"},\"colorscale\":[[0.0,\"#0d0887\"],[0.1111111111111111,\"#46039f\"],[0.2222222222222222,\"#7201a8\"],[0.3333333333333333,\"#9c179e\"],[0.4444444444444444,\"#bd3786\"],[0.5555555555555556,\"#d8576b\"],[0.6666666666666666,\"#ed7953\"],[0.7777777777777778,\"#fb9f3a\"],[0.8888888888888888,\"#fdca26\"],[1.0,\"#f0f921\"]]}],\"contourcarpet\":[{\"type\":\"contourcarpet\",\"colorbar\":{\"outlinewidth\":0,\"ticks\":\"\"}}],\"contour\":[{\"type\":\"contour\",\"colorbar\":{\"outlinewidth\":0,\"ticks\":\"\"},\"colorscale\":[[0.0,\"#0d0887\"],[0.1111111111111111,\"#46039f\"],[0.2222222222222222,\"#7201a8\"],[0.3333333333333333,\"#9c179e\"],[0.4444444444444444,\"#bd3786\"],[0.5555555555555556,\"#d8576b\"],[0.6666666666666666,\"#ed7953\"],[0.7777777777777778,\"#fb9f3a\"],[0.8888888888888888,\"#fdca26\"],[1.0,\"#f0f921\"]]}],\"surface\":[{\"type\":\"surface\",\"colorbar\":{\"outlinewidth\":0,\"ticks\":\"\"},\"colorscale\":[[0.0,\"#0d0887\"],[0.1111111111111111,\"#46039f\"],[0.2222222222222222,\"#7201a8\"],[0.3333333333333333,\"#9c179e\"],[0.4444444444444444,\"#bd3786\"],[0.5555555555555556,\"#d8576b\"],[0.6666666666666666,\"#ed7953\"],[0.7777777777777778,\"#fb9f3a\"],[0.8888888888888888,\"#fdca26\"],[1.0,\"#f0f921\"]]}],\"mesh3d\":[{\"type\":\"mesh3d\",\"colorbar\":{\"outlinewidth\":0,\"ticks\":\"\"}}],\"scatter\":[{\"fillpattern\":{\"fillmode\":\"overlay\",\"size\":10,\"solidity\":0.2},\"type\":\"scatter\"}],\"parcoords\":[{\"type\":\"parcoords\",\"line\":{\"colorbar\":{\"outlinewidth\":0,\"ticks\":\"\"}}}],\"scatterpolargl\":[{\"type\":\"scatterpolargl\",\"marker\":{\"colorbar\":{\"outlinewidth\":0,\"ticks\":\"\"}}}],\"bar\":[{\"error_x\":{\"color\":\"#2a3f5f\"},\"error_y\":{\"color\":\"#2a3f5f\"},\"marker\":{\"line\":{\"color\":\"#E5ECF6\",\"width\":0.5},\"pattern\":{\"fillmode\":\"overlay\",\"size\":10,\"solidity\":0.2}},\"type\":\"bar\"}],\"scattergeo\":[{\"type\":\"scattergeo\",\"marker\":{\"colorbar\":{\"outlinewidth\":0,\"ticks\":\"\"}}}],\"scatterpolar\":[{\"type\":\"scatterpolar\",\"marker\":{\"colorbar\":{\"outlinewidth\":0,\"ticks\":\"\"}}}],\"histogram\":[{\"marker\":{\"pattern\":{\"fillmode\":\"overlay\",\"size\":10,\"solidity\":0.2}},\"type\":\"histogram\"}],\"scattergl\":[{\"type\":\"scattergl\",\"marker\":{\"colorbar\":{\"outlinewidth\":0,\"ticks\":\"\"}}}],\"scatter3d\":[{\"type\":\"scatter3d\",\"line\":{\"colorbar\":{\"outlinewidth\":0,\"ticks\":\"\"}},\"marker\":{\"colorbar\":{\"outlinewidth\":0,\"ticks\":\"\"}}}],\"scattermapbox\":[{\"type\":\"scattermapbox\",\"marker\":{\"colorbar\":{\"outlinewidth\":0,\"ticks\":\"\"}}}],\"scatterternary\":[{\"type\":\"scatterternary\",\"marker\":{\"colorbar\":{\"outlinewidth\":0,\"ticks\":\"\"}}}],\"scattercarpet\":[{\"type\":\"scattercarpet\",\"marker\":{\"colorbar\":{\"outlinewidth\":0,\"ticks\":\"\"}}}],\"carpet\":[{\"aaxis\":{\"endlinecolor\":\"#2a3f5f\",\"gridcolor\":\"white\",\"linecolor\":\"white\",\"minorgridcolor\":\"white\",\"startlinecolor\":\"#2a3f5f\"},\"baxis\":{\"endlinecolor\":\"#2a3f5f\",\"gridcolor\":\"white\",\"linecolor\":\"white\",\"minorgridcolor\":\"white\",\"startlinecolor\":\"#2a3f5f\"},\"type\":\"carpet\"}],\"table\":[{\"cells\":{\"fill\":{\"color\":\"#EBF0F8\"},\"line\":{\"color\":\"white\"}},\"header\":{\"fill\":{\"color\":\"#C8D4E3\"},\"line\":{\"color\":\"white\"}},\"type\":\"table\"}],\"barpolar\":[{\"marker\":{\"line\":{\"color\":\"#E5ECF6\",\"width\":0.5},\"pattern\":{\"fillmode\":\"overlay\",\"size\":10,\"solidity\":0.2}},\"type\":\"barpolar\"}],\"pie\":[{\"automargin\":true,\"type\":\"pie\"}]},\"layout\":{\"autotypenumbers\":\"strict\",\"colorway\":[\"#636efa\",\"#EF553B\",\"#00cc96\",\"#ab63fa\",\"#FFA15A\",\"#19d3f3\",\"#FF6692\",\"#B6E880\",\"#FF97FF\",\"#FECB52\"],\"font\":{\"color\":\"#2a3f5f\"},\"hovermode\":\"closest\",\"hoverlabel\":{\"align\":\"left\"},\"paper_bgcolor\":\"white\",\"plot_bgcolor\":\"#E5ECF6\",\"polar\":{\"bgcolor\":\"#E5ECF6\",\"angularaxis\":{\"gridcolor\":\"white\",\"linecolor\":\"white\",\"ticks\":\"\"},\"radialaxis\":{\"gridcolor\":\"white\",\"linecolor\":\"white\",\"ticks\":\"\"}},\"ternary\":{\"bgcolor\":\"#E5ECF6\",\"aaxis\":{\"gridcolor\":\"white\",\"linecolor\":\"white\",\"ticks\":\"\"},\"baxis\":{\"gridcolor\":\"white\",\"linecolor\":\"white\",\"ticks\":\"\"},\"caxis\":{\"gridcolor\":\"white\",\"linecolor\":\"white\",\"ticks\":\"\"}},\"coloraxis\":{\"colorbar\":{\"outlinewidth\":0,\"ticks\":\"\"}},\"colorscale\":{\"sequential\":[[0.0,\"#0d0887\"],[0.1111111111111111,\"#46039f\"],[0.2222222222222222,\"#7201a8\"],[0.3333333333333333,\"#9c179e\"],[0.4444444444444444,\"#bd3786\"],[0.5555555555555556,\"#d8576b\"],[0.6666666666666666,\"#ed7953\"],[0.7777777777777778,\"#fb9f3a\"],[0.8888888888888888,\"#fdca26\"],[1.0,\"#f0f921\"]],\"sequentialminus\":[[0.0,\"#0d0887\"],[0.1111111111111111,\"#46039f\"],[0.2222222222222222,\"#7201a8\"],[0.3333333333333333,\"#9c179e\"],[0.4444444444444444,\"#bd3786\"],[0.5555555555555556,\"#d8576b\"],[0.6666666666666666,\"#ed7953\"],[0.7777777777777778,\"#fb9f3a\"],[0.8888888888888888,\"#fdca26\"],[1.0,\"#f0f921\"]],\"diverging\":[[0,\"#8e0152\"],[0.1,\"#c51b7d\"],[0.2,\"#de77ae\"],[0.3,\"#f1b6da\"],[0.4,\"#fde0ef\"],[0.5,\"#f7f7f7\"],[0.6,\"#e6f5d0\"],[0.7,\"#b8e186\"],[0.8,\"#7fbc41\"],[0.9,\"#4d9221\"],[1,\"#276419\"]]},\"xaxis\":{\"gridcolor\":\"white\",\"linecolor\":\"white\",\"ticks\":\"\",\"title\":{\"standoff\":15},\"zerolinecolor\":\"white\",\"automargin\":true,\"zerolinewidth\":2},\"yaxis\":{\"gridcolor\":\"white\",\"linecolor\":\"white\",\"ticks\":\"\",\"title\":{\"standoff\":15},\"zerolinecolor\":\"white\",\"automargin\":true,\"zerolinewidth\":2},\"scene\":{\"xaxis\":{\"backgroundcolor\":\"#E5ECF6\",\"gridcolor\":\"white\",\"linecolor\":\"white\",\"showbackground\":true,\"ticks\":\"\",\"zerolinecolor\":\"white\",\"gridwidth\":2},\"yaxis\":{\"backgroundcolor\":\"#E5ECF6\",\"gridcolor\":\"white\",\"linecolor\":\"white\",\"showbackground\":true,\"ticks\":\"\",\"zerolinecolor\":\"white\",\"gridwidth\":2},\"zaxis\":{\"backgroundcolor\":\"#E5ECF6\",\"gridcolor\":\"white\",\"linecolor\":\"white\",\"showbackground\":true,\"ticks\":\"\",\"zerolinecolor\":\"white\",\"gridwidth\":2}},\"shapedefaults\":{\"line\":{\"color\":\"#2a3f5f\"}},\"annotationdefaults\":{\"arrowcolor\":\"#2a3f5f\",\"arrowhead\":0,\"arrowwidth\":1},\"geo\":{\"bgcolor\":\"white\",\"landcolor\":\"#E5ECF6\",\"subunitcolor\":\"white\",\"showland\":true,\"showlakes\":true,\"lakecolor\":\"white\"},\"title\":{\"x\":0.05},\"mapbox\":{\"style\":\"light\"}}},\"xaxis\":{\"anchor\":\"y\",\"domain\":[0.0,1.0],\"title\":{\"text\":\"index\"}},\"yaxis\":{\"anchor\":\"x\",\"domain\":[0.0,1.0],\"title\":{\"text\":\"value\"}},\"legend\":{\"title\":{\"text\":\"variable\"},\"tracegroupgap\":0},\"margin\":{\"t\":60}},                        {\"responsive\": true}                    ).then(function(){\n",
       "                            \n",
       "var gd = document.getElementById('8b6631b2-52a2-4878-850c-2cf96d46447c');\n",
>>>>>>> master
       "var x = new MutationObserver(function (mutations, observer) {{\n",
       "        var display = window.getComputedStyle(gd).display;\n",
       "        if (!display || display === 'none') {{\n",
       "            console.log([gd, 'removed!']);\n",
       "            Plotly.purge(gd);\n",
       "            observer.disconnect();\n",
       "        }}\n",
       "}});\n",
       "\n",
       "// Listen for the removal of the full notebook cells\n",
       "var notebookContainer = gd.closest('#notebook-container');\n",
       "if (notebookContainer) {{\n",
       "    x.observe(notebookContainer, {childList: true});\n",
       "}}\n",
       "\n",
       "// Listen for the clearing of the current output cell\n",
       "var outputEl = gd.closest('.output');\n",
       "if (outputEl) {{\n",
       "    x.observe(outputEl, {childList: true});\n",
       "}}\n",
       "\n",
       "                        })                };                });            </script>        </div>"
      ]
     },
     "metadata": {},
     "output_type": "display_data"
    }
   ],
   "source": [
    "(result[['expiry_price', \n",
    "         'last_oracle_price',\n",
    "         'last_oracle_normalised_price',\n",
    "         'last_oracle_conf',\n",
    "         'last_oracle_price_twap',\n",
    "         'last_oracle_price_twap5min',\n",
    "        ]]/1e6).plot()"
   ]
  },
  {
   "cell_type": "code",
<<<<<<< HEAD
   "execution_count": 302,
   "id": "8b3589cc-8831-44b6-8e60-4c3675ec0276",
=======
   "execution_count": 254,
   "id": "8036c2e3-8507-417f-925d-48eb08f19431",
>>>>>>> master
   "metadata": {},
   "outputs": [
    {
     "data": {
      "application/vnd.plotly.v1+json": {
       "config": {
        "plotlyServerURL": "https://plot.ly"
       },
       "data": [
        {
<<<<<<< HEAD
         "hovertemplate": "variable=base_asset_amount_with_amm<br>index=%{x}<br>value=%{y}<extra></extra>",
         "legendgroup": "base_asset_amount_with_amm",
=======
         "hovertemplate": "variable=last_funding_rate<br>index=%{x}<br>value=%{y}<extra></extra>",
         "legendgroup": "last_funding_rate",
>>>>>>> master
         "line": {
          "color": "#636efa",
          "dash": "solid"
         },
         "marker": {
          "symbol": "circle"
         },
         "mode": "lines",
<<<<<<< HEAD
         "name": "base_asset_amount_with_amm",
=======
         "name": "last_funding_rate",
>>>>>>> master
         "orientation": "v",
         "showlegend": true,
         "type": "scatter",
         "x": [
          0,
          1,
          2,
          3,
          4,
          5,
          6,
          7,
          8,
          9,
          10,
          11,
          12,
          13,
          14,
          15,
          16,
          17,
          18,
          19,
          20,
          21,
          22,
          23,
          24,
          25,
          26,
          27,
          28,
          29,
          30,
          31,
          32,
          33,
          34,
          35,
          36,
          37,
          38,
          39,
          40,
          41,
          42,
          43,
          44,
          45,
          46,
          47,
          48,
          49,
          50,
          51,
          52,
          53,
          54,
          55,
          56,
          57,
          58,
          59,
          60,
          61,
          62,
          63,
          64,
          65,
          66,
          67,
          68,
          69,
          70,
          71,
          72,
          73,
          74,
          75,
          76,
          77,
          78,
          79,
          80,
          81,
          82,
          83,
          84,
<<<<<<< HEAD
          85,
          86,
          87,
          88,
          89
=======
          85
>>>>>>> master
         ],
         "xaxis": "x",
         "y": [
          0,
          0,
          0,
          0,
          0,
          0,
          0,
          0,
          0,
          0,
          0,
          0,
          0,
          0,
          0,
          0,
          0,
          0,
          0,
          0,
<<<<<<< HEAD
          -0.0101,
          -0.0101,
          -0.0203,
          -0.0203,
          -0.0203,
          -0.0203,
          -0.0203,
          -0.0203,
          -0.0103,
          -0.0103,
          -0.0205,
          -0.0205,
          -0.0205,
          -0.0308,
          -0.0308,
          -0.0308,
          -0.0308,
          -0.0308,
          -0.0412,
          -0.0412,
          -0.0517,
          -0.0517,
          -0.0517,
          -0.0517,
          -0.0517,
          -0.0623,
          -0.0623,
          -0.0623,
          -0.0623,
          -0.0623,
          -0.0623,
          -0.073,
          -0.073,
          -0.073,
          -0.073,
          -0.073,
          -0.073,
          -0.0838,
          -0.0838,
          -0.0838,
          -0.0948,
          -0.0948,
          -0.0948,
          -0.0948,
          -0.0948,
          -0.0948,
          -0.0948,
          -0.0948,
          -0.0948,
          -0.0948,
          -0.0948,
          -0.0948,
          -0.0948,
          -0.0948,
          -0.0948,
          -0.0948,
          -0.0948,
          -0.0948,
          -0.0948,
          -0.1048,
          -0.0943,
          -0.0837,
          -0.0727,
          -0.0625,
          -0.0523,
          -0.042,
          -0.0312,
          -0.0205,
          -0.0101,
=======
          0,
          0,
          0,
          0,
          0,
          0,
          0,
          0,
          0,
          0,
          0,
          0,
          0,
          0,
          0,
          0,
          0,
          0,
          0,
          0,
          0,
          0,
          0,
          0,
          0,
          0,
          0,
          0,
          0,
          0,
          0,
          0,
          0,
          0,
          0,
          0,
          0,
          0,
          0,
          0,
          0,
          0,
          0,
          0,
          0,
          0,
          0,
          0,
          0,
          0,
          0,
          0,
          0,
          0,
          0,
          0,
          0,
          0,
          0,
          0,
          0,
          0,
          0,
          0,
          0,
>>>>>>> master
          0
         ],
         "yaxis": "y"
        }
       ],
       "layout": {
        "autosize": true,
        "legend": {
         "title": {
          "text": "variable"
         },
         "tracegroupgap": 0
        },
        "margin": {
         "t": 60
        },
        "template": {
         "data": {
          "bar": [
           {
            "error_x": {
             "color": "#2a3f5f"
            },
            "error_y": {
             "color": "#2a3f5f"
            },
            "marker": {
             "line": {
              "color": "#E5ECF6",
              "width": 0.5
             },
             "pattern": {
              "fillmode": "overlay",
              "size": 10,
              "solidity": 0.2
             }
            },
            "type": "bar"
           }
          ],
          "barpolar": [
           {
            "marker": {
             "line": {
              "color": "#E5ECF6",
              "width": 0.5
             },
             "pattern": {
              "fillmode": "overlay",
              "size": 10,
              "solidity": 0.2
             }
            },
            "type": "barpolar"
           }
          ],
          "carpet": [
           {
            "aaxis": {
             "endlinecolor": "#2a3f5f",
             "gridcolor": "white",
             "linecolor": "white",
             "minorgridcolor": "white",
             "startlinecolor": "#2a3f5f"
            },
            "baxis": {
             "endlinecolor": "#2a3f5f",
             "gridcolor": "white",
             "linecolor": "white",
             "minorgridcolor": "white",
             "startlinecolor": "#2a3f5f"
            },
            "type": "carpet"
           }
          ],
          "choropleth": [
           {
            "colorbar": {
             "outlinewidth": 0,
             "ticks": ""
            },
            "type": "choropleth"
           }
          ],
          "contour": [
           {
            "colorbar": {
             "outlinewidth": 0,
             "ticks": ""
            },
            "colorscale": [
             [
              0,
              "#0d0887"
             ],
             [
              0.1111111111111111,
              "#46039f"
             ],
             [
              0.2222222222222222,
              "#7201a8"
             ],
             [
              0.3333333333333333,
              "#9c179e"
             ],
             [
              0.4444444444444444,
              "#bd3786"
             ],
             [
              0.5555555555555556,
              "#d8576b"
             ],
             [
              0.6666666666666666,
              "#ed7953"
             ],
             [
              0.7777777777777778,
              "#fb9f3a"
             ],
             [
              0.8888888888888888,
              "#fdca26"
             ],
             [
              1,
              "#f0f921"
             ]
            ],
            "type": "contour"
           }
          ],
          "contourcarpet": [
           {
            "colorbar": {
             "outlinewidth": 0,
             "ticks": ""
            },
            "type": "contourcarpet"
           }
          ],
          "heatmap": [
           {
            "colorbar": {
             "outlinewidth": 0,
             "ticks": ""
            },
            "colorscale": [
             [
              0,
              "#0d0887"
             ],
             [
              0.1111111111111111,
              "#46039f"
             ],
             [
              0.2222222222222222,
              "#7201a8"
             ],
             [
              0.3333333333333333,
              "#9c179e"
             ],
             [
              0.4444444444444444,
              "#bd3786"
             ],
             [
              0.5555555555555556,
              "#d8576b"
             ],
             [
              0.6666666666666666,
              "#ed7953"
             ],
             [
              0.7777777777777778,
              "#fb9f3a"
             ],
             [
              0.8888888888888888,
              "#fdca26"
             ],
             [
              1,
              "#f0f921"
             ]
            ],
            "type": "heatmap"
           }
          ],
          "heatmapgl": [
           {
            "colorbar": {
             "outlinewidth": 0,
             "ticks": ""
            },
            "colorscale": [
             [
              0,
              "#0d0887"
             ],
             [
              0.1111111111111111,
              "#46039f"
             ],
             [
              0.2222222222222222,
              "#7201a8"
             ],
             [
              0.3333333333333333,
              "#9c179e"
             ],
             [
              0.4444444444444444,
              "#bd3786"
             ],
             [
              0.5555555555555556,
              "#d8576b"
             ],
             [
              0.6666666666666666,
              "#ed7953"
             ],
             [
              0.7777777777777778,
              "#fb9f3a"
             ],
             [
              0.8888888888888888,
              "#fdca26"
             ],
             [
              1,
              "#f0f921"
             ]
            ],
            "type": "heatmapgl"
           }
          ],
          "histogram": [
           {
            "marker": {
             "pattern": {
              "fillmode": "overlay",
              "size": 10,
              "solidity": 0.2
             }
            },
            "type": "histogram"
           }
          ],
          "histogram2d": [
           {
            "colorbar": {
             "outlinewidth": 0,
             "ticks": ""
            },
            "colorscale": [
             [
              0,
              "#0d0887"
             ],
             [
              0.1111111111111111,
              "#46039f"
             ],
             [
              0.2222222222222222,
              "#7201a8"
             ],
             [
              0.3333333333333333,
              "#9c179e"
             ],
             [
              0.4444444444444444,
              "#bd3786"
             ],
             [
              0.5555555555555556,
              "#d8576b"
             ],
             [
              0.6666666666666666,
              "#ed7953"
             ],
             [
              0.7777777777777778,
              "#fb9f3a"
             ],
             [
              0.8888888888888888,
              "#fdca26"
             ],
             [
              1,
              "#f0f921"
             ]
            ],
            "type": "histogram2d"
           }
          ],
          "histogram2dcontour": [
           {
            "colorbar": {
             "outlinewidth": 0,
             "ticks": ""
            },
            "colorscale": [
             [
              0,
              "#0d0887"
             ],
             [
              0.1111111111111111,
              "#46039f"
             ],
             [
              0.2222222222222222,
              "#7201a8"
             ],
             [
              0.3333333333333333,
              "#9c179e"
             ],
             [
              0.4444444444444444,
              "#bd3786"
             ],
             [
              0.5555555555555556,
              "#d8576b"
             ],
             [
              0.6666666666666666,
              "#ed7953"
             ],
             [
              0.7777777777777778,
              "#fb9f3a"
             ],
             [
              0.8888888888888888,
              "#fdca26"
             ],
             [
              1,
              "#f0f921"
             ]
            ],
            "type": "histogram2dcontour"
           }
          ],
          "mesh3d": [
           {
            "colorbar": {
             "outlinewidth": 0,
             "ticks": ""
            },
            "type": "mesh3d"
           }
          ],
          "parcoords": [
           {
            "line": {
             "colorbar": {
              "outlinewidth": 0,
              "ticks": ""
             }
            },
            "type": "parcoords"
           }
          ],
          "pie": [
           {
            "automargin": true,
            "type": "pie"
           }
          ],
          "scatter": [
           {
            "fillpattern": {
             "fillmode": "overlay",
             "size": 10,
             "solidity": 0.2
            },
            "type": "scatter"
           }
          ],
          "scatter3d": [
           {
            "line": {
             "colorbar": {
              "outlinewidth": 0,
              "ticks": ""
             }
            },
            "marker": {
             "colorbar": {
              "outlinewidth": 0,
              "ticks": ""
             }
            },
            "type": "scatter3d"
           }
          ],
          "scattercarpet": [
           {
            "marker": {
             "colorbar": {
              "outlinewidth": 0,
              "ticks": ""
             }
            },
            "type": "scattercarpet"
           }
          ],
          "scattergeo": [
           {
            "marker": {
             "colorbar": {
              "outlinewidth": 0,
              "ticks": ""
             }
            },
            "type": "scattergeo"
           }
          ],
          "scattergl": [
           {
            "marker": {
             "colorbar": {
              "outlinewidth": 0,
              "ticks": ""
             }
            },
            "type": "scattergl"
           }
          ],
          "scattermapbox": [
           {
            "marker": {
             "colorbar": {
              "outlinewidth": 0,
              "ticks": ""
             }
            },
            "type": "scattermapbox"
           }
          ],
          "scatterpolar": [
           {
            "marker": {
             "colorbar": {
              "outlinewidth": 0,
              "ticks": ""
             }
            },
            "type": "scatterpolar"
           }
          ],
          "scatterpolargl": [
           {
            "marker": {
             "colorbar": {
              "outlinewidth": 0,
              "ticks": ""
             }
            },
            "type": "scatterpolargl"
           }
          ],
          "scatterternary": [
           {
            "marker": {
             "colorbar": {
              "outlinewidth": 0,
              "ticks": ""
             }
            },
            "type": "scatterternary"
           }
          ],
          "surface": [
           {
            "colorbar": {
             "outlinewidth": 0,
             "ticks": ""
            },
            "colorscale": [
             [
              0,
              "#0d0887"
             ],
             [
              0.1111111111111111,
              "#46039f"
             ],
             [
              0.2222222222222222,
              "#7201a8"
             ],
             [
              0.3333333333333333,
              "#9c179e"
             ],
             [
              0.4444444444444444,
              "#bd3786"
             ],
             [
              0.5555555555555556,
              "#d8576b"
             ],
             [
              0.6666666666666666,
              "#ed7953"
             ],
             [
              0.7777777777777778,
              "#fb9f3a"
             ],
             [
              0.8888888888888888,
              "#fdca26"
             ],
             [
              1,
              "#f0f921"
             ]
            ],
            "type": "surface"
           }
          ],
          "table": [
           {
            "cells": {
             "fill": {
              "color": "#EBF0F8"
             },
             "line": {
              "color": "white"
             }
            },
            "header": {
             "fill": {
              "color": "#C8D4E3"
             },
             "line": {
              "color": "white"
             }
            },
            "type": "table"
           }
          ]
         },
         "layout": {
          "annotationdefaults": {
           "arrowcolor": "#2a3f5f",
           "arrowhead": 0,
           "arrowwidth": 1
          },
          "autotypenumbers": "strict",
          "coloraxis": {
           "colorbar": {
            "outlinewidth": 0,
            "ticks": ""
           }
          },
          "colorscale": {
           "diverging": [
            [
             0,
             "#8e0152"
            ],
            [
             0.1,
             "#c51b7d"
            ],
            [
             0.2,
             "#de77ae"
            ],
            [
             0.3,
             "#f1b6da"
            ],
            [
             0.4,
             "#fde0ef"
            ],
            [
             0.5,
             "#f7f7f7"
            ],
            [
             0.6,
             "#e6f5d0"
            ],
            [
             0.7,
             "#b8e186"
            ],
            [
             0.8,
             "#7fbc41"
            ],
            [
             0.9,
             "#4d9221"
            ],
            [
             1,
             "#276419"
            ]
           ],
           "sequential": [
            [
             0,
             "#0d0887"
            ],
            [
             0.1111111111111111,
             "#46039f"
            ],
            [
             0.2222222222222222,
             "#7201a8"
            ],
            [
             0.3333333333333333,
             "#9c179e"
            ],
            [
             0.4444444444444444,
             "#bd3786"
            ],
            [
             0.5555555555555556,
             "#d8576b"
            ],
            [
             0.6666666666666666,
             "#ed7953"
            ],
            [
             0.7777777777777778,
             "#fb9f3a"
            ],
            [
             0.8888888888888888,
             "#fdca26"
            ],
            [
             1,
             "#f0f921"
            ]
           ],
           "sequentialminus": [
            [
             0,
             "#0d0887"
            ],
            [
             0.1111111111111111,
             "#46039f"
            ],
            [
             0.2222222222222222,
             "#7201a8"
            ],
            [
             0.3333333333333333,
             "#9c179e"
            ],
            [
             0.4444444444444444,
             "#bd3786"
            ],
            [
             0.5555555555555556,
             "#d8576b"
            ],
            [
             0.6666666666666666,
             "#ed7953"
            ],
            [
             0.7777777777777778,
             "#fb9f3a"
            ],
            [
             0.8888888888888888,
             "#fdca26"
            ],
            [
             1,
             "#f0f921"
            ]
           ]
          },
          "colorway": [
           "#636efa",
           "#EF553B",
           "#00cc96",
           "#ab63fa",
           "#FFA15A",
           "#19d3f3",
           "#FF6692",
           "#B6E880",
           "#FF97FF",
           "#FECB52"
          ],
          "font": {
           "color": "#2a3f5f"
          },
          "geo": {
           "bgcolor": "white",
           "lakecolor": "white",
           "landcolor": "#E5ECF6",
           "showlakes": true,
           "showland": true,
           "subunitcolor": "white"
          },
          "hoverlabel": {
           "align": "left"
          },
          "hovermode": "closest",
          "mapbox": {
           "style": "light"
          },
          "paper_bgcolor": "white",
          "plot_bgcolor": "#E5ECF6",
          "polar": {
           "angularaxis": {
            "gridcolor": "white",
            "linecolor": "white",
            "ticks": ""
           },
           "bgcolor": "#E5ECF6",
           "radialaxis": {
            "gridcolor": "white",
            "linecolor": "white",
            "ticks": ""
           }
          },
          "scene": {
           "xaxis": {
            "backgroundcolor": "#E5ECF6",
            "gridcolor": "white",
            "gridwidth": 2,
            "linecolor": "white",
            "showbackground": true,
            "ticks": "",
            "zerolinecolor": "white"
           },
           "yaxis": {
            "backgroundcolor": "#E5ECF6",
            "gridcolor": "white",
            "gridwidth": 2,
            "linecolor": "white",
            "showbackground": true,
            "ticks": "",
            "zerolinecolor": "white"
           },
           "zaxis": {
            "backgroundcolor": "#E5ECF6",
            "gridcolor": "white",
            "gridwidth": 2,
            "linecolor": "white",
            "showbackground": true,
            "ticks": "",
            "zerolinecolor": "white"
           }
          },
          "shapedefaults": {
           "line": {
            "color": "#2a3f5f"
           }
          },
          "ternary": {
           "aaxis": {
            "gridcolor": "white",
            "linecolor": "white",
            "ticks": ""
           },
           "baxis": {
            "gridcolor": "white",
            "linecolor": "white",
            "ticks": ""
           },
           "bgcolor": "#E5ECF6",
           "caxis": {
            "gridcolor": "white",
            "linecolor": "white",
            "ticks": ""
           }
          },
          "title": {
           "x": 0.05
          },
          "xaxis": {
           "automargin": true,
           "gridcolor": "white",
           "linecolor": "white",
           "ticks": "",
           "title": {
            "standoff": 15
           },
           "zerolinecolor": "white",
           "zerolinewidth": 2
          },
          "yaxis": {
           "automargin": true,
           "gridcolor": "white",
           "linecolor": "white",
           "ticks": "",
           "title": {
            "standoff": 15
           },
           "zerolinecolor": "white",
           "zerolinewidth": 2
          }
         }
        },
        "xaxis": {
         "anchor": "y",
         "autorange": true,
         "domain": [
          0,
          1
         ],
         "range": [
          0,
<<<<<<< HEAD
          89
=======
          85
>>>>>>> master
         ],
         "title": {
          "text": "index"
         },
         "type": "linear"
        },
        "yaxis": {
         "anchor": "x",
         "autorange": true,
         "domain": [
          0,
          1
         ],
         "range": [
<<<<<<< HEAD
          -0.11062222222222223,
          0.005822222222222222
=======
          -1,
          1
>>>>>>> master
         ],
         "title": {
          "text": "value"
         },
         "type": "linear"
        }
       }
      },
<<<<<<< HEAD
      "image/png": "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",
      "text/html": [
       "<div>                            <div id=\"97e5bdb0-3d49-45b6-942f-4d3da44c57af\" class=\"plotly-graph-div\" style=\"height:525px; width:100%;\"></div>            <script type=\"text/javascript\">                require([\"plotly\"], function(Plotly) {                    window.PLOTLYENV=window.PLOTLYENV || {};                                    if (document.getElementById(\"97e5bdb0-3d49-45b6-942f-4d3da44c57af\")) {                    Plotly.newPlot(                        \"97e5bdb0-3d49-45b6-942f-4d3da44c57af\",                        [{\"hovertemplate\":\"variable=base_asset_amount_with_amm<br>index=%{x}<br>value=%{y}<extra></extra>\",\"legendgroup\":\"base_asset_amount_with_amm\",\"line\":{\"color\":\"#636efa\",\"dash\":\"solid\"},\"marker\":{\"symbol\":\"circle\"},\"mode\":\"lines\",\"name\":\"base_asset_amount_with_amm\",\"orientation\":\"v\",\"showlegend\":true,\"x\":[0,1,2,3,4,5,6,7,8,9,10,11,12,13,14,15,16,17,18,19,20,21,22,23,24,25,26,27,28,29,30,31,32,33,34,35,36,37,38,39,40,41,42,43,44,45,46,47,48,49,50,51,52,53,54,55,56,57,58,59,60,61,62,63,64,65,66,67,68,69,70,71,72,73,74,75,76,77,78,79,80,81,82,83,84,85,86,87,88,89],\"xaxis\":\"x\",\"y\":[0.0,0.0,0.0,0.0,0.0,0.0,0.0,0.0,0.0,0.0,0.0,0.0,0.0,0.0,0.0,0.0,0.0,0.0,0.0,0.0,-0.0101,-0.0101,-0.0203,-0.0203,-0.0203,-0.0203,-0.0203,-0.0203,-0.0103,-0.0103,-0.0205,-0.0205,-0.0205,-0.0308,-0.0308,-0.0308,-0.0308,-0.0308,-0.0412,-0.0412,-0.0517,-0.0517,-0.0517,-0.0517,-0.0517,-0.0623,-0.0623,-0.0623,-0.0623,-0.0623,-0.0623,-0.073,-0.073,-0.073,-0.073,-0.073,-0.073,-0.0838,-0.0838,-0.0838,-0.0948,-0.0948,-0.0948,-0.0948,-0.0948,-0.0948,-0.0948,-0.0948,-0.0948,-0.0948,-0.0948,-0.0948,-0.0948,-0.0948,-0.0948,-0.0948,-0.0948,-0.0948,-0.0948,-0.1048,-0.0943,-0.0837,-0.0727,-0.0625,-0.0523,-0.042,-0.0312,-0.0205,-0.0101,0.0],\"yaxis\":\"y\",\"type\":\"scatter\"}],                        {\"template\":{\"data\":{\"histogram2dcontour\":[{\"type\":\"histogram2dcontour\",\"colorbar\":{\"outlinewidth\":0,\"ticks\":\"\"},\"colorscale\":[[0.0,\"#0d0887\"],[0.1111111111111111,\"#46039f\"],[0.2222222222222222,\"#7201a8\"],[0.3333333333333333,\"#9c179e\"],[0.4444444444444444,\"#bd3786\"],[0.5555555555555556,\"#d8576b\"],[0.6666666666666666,\"#ed7953\"],[0.7777777777777778,\"#fb9f3a\"],[0.8888888888888888,\"#fdca26\"],[1.0,\"#f0f921\"]]}],\"choropleth\":[{\"type\":\"choropleth\",\"colorbar\":{\"outlinewidth\":0,\"ticks\":\"\"}}],\"histogram2d\":[{\"type\":\"histogram2d\",\"colorbar\":{\"outlinewidth\":0,\"ticks\":\"\"},\"colorscale\":[[0.0,\"#0d0887\"],[0.1111111111111111,\"#46039f\"],[0.2222222222222222,\"#7201a8\"],[0.3333333333333333,\"#9c179e\"],[0.4444444444444444,\"#bd3786\"],[0.5555555555555556,\"#d8576b\"],[0.6666666666666666,\"#ed7953\"],[0.7777777777777778,\"#fb9f3a\"],[0.8888888888888888,\"#fdca26\"],[1.0,\"#f0f921\"]]}],\"heatmap\":[{\"type\":\"heatmap\",\"colorbar\":{\"outlinewidth\":0,\"ticks\":\"\"},\"colorscale\":[[0.0,\"#0d0887\"],[0.1111111111111111,\"#46039f\"],[0.2222222222222222,\"#7201a8\"],[0.3333333333333333,\"#9c179e\"],[0.4444444444444444,\"#bd3786\"],[0.5555555555555556,\"#d8576b\"],[0.6666666666666666,\"#ed7953\"],[0.7777777777777778,\"#fb9f3a\"],[0.8888888888888888,\"#fdca26\"],[1.0,\"#f0f921\"]]}],\"heatmapgl\":[{\"type\":\"heatmapgl\",\"colorbar\":{\"outlinewidth\":0,\"ticks\":\"\"},\"colorscale\":[[0.0,\"#0d0887\"],[0.1111111111111111,\"#46039f\"],[0.2222222222222222,\"#7201a8\"],[0.3333333333333333,\"#9c179e\"],[0.4444444444444444,\"#bd3786\"],[0.5555555555555556,\"#d8576b\"],[0.6666666666666666,\"#ed7953\"],[0.7777777777777778,\"#fb9f3a\"],[0.8888888888888888,\"#fdca26\"],[1.0,\"#f0f921\"]]}],\"contourcarpet\":[{\"type\":\"contourcarpet\",\"colorbar\":{\"outlinewidth\":0,\"ticks\":\"\"}}],\"contour\":[{\"type\":\"contour\",\"colorbar\":{\"outlinewidth\":0,\"ticks\":\"\"},\"colorscale\":[[0.0,\"#0d0887\"],[0.1111111111111111,\"#46039f\"],[0.2222222222222222,\"#7201a8\"],[0.3333333333333333,\"#9c179e\"],[0.4444444444444444,\"#bd3786\"],[0.5555555555555556,\"#d8576b\"],[0.6666666666666666,\"#ed7953\"],[0.7777777777777778,\"#fb9f3a\"],[0.8888888888888888,\"#fdca26\"],[1.0,\"#f0f921\"]]}],\"surface\":[{\"type\":\"surface\",\"colorbar\":{\"outlinewidth\":0,\"ticks\":\"\"},\"colorscale\":[[0.0,\"#0d0887\"],[0.1111111111111111,\"#46039f\"],[0.2222222222222222,\"#7201a8\"],[0.3333333333333333,\"#9c179e\"],[0.4444444444444444,\"#bd3786\"],[0.5555555555555556,\"#d8576b\"],[0.6666666666666666,\"#ed7953\"],[0.7777777777777778,\"#fb9f3a\"],[0.8888888888888888,\"#fdca26\"],[1.0,\"#f0f921\"]]}],\"mesh3d\":[{\"type\":\"mesh3d\",\"colorbar\":{\"outlinewidth\":0,\"ticks\":\"\"}}],\"scatter\":[{\"fillpattern\":{\"fillmode\":\"overlay\",\"size\":10,\"solidity\":0.2},\"type\":\"scatter\"}],\"parcoords\":[{\"type\":\"parcoords\",\"line\":{\"colorbar\":{\"outlinewidth\":0,\"ticks\":\"\"}}}],\"scatterpolargl\":[{\"type\":\"scatterpolargl\",\"marker\":{\"colorbar\":{\"outlinewidth\":0,\"ticks\":\"\"}}}],\"bar\":[{\"error_x\":{\"color\":\"#2a3f5f\"},\"error_y\":{\"color\":\"#2a3f5f\"},\"marker\":{\"line\":{\"color\":\"#E5ECF6\",\"width\":0.5},\"pattern\":{\"fillmode\":\"overlay\",\"size\":10,\"solidity\":0.2}},\"type\":\"bar\"}],\"scattergeo\":[{\"type\":\"scattergeo\",\"marker\":{\"colorbar\":{\"outlinewidth\":0,\"ticks\":\"\"}}}],\"scatterpolar\":[{\"type\":\"scatterpolar\",\"marker\":{\"colorbar\":{\"outlinewidth\":0,\"ticks\":\"\"}}}],\"histogram\":[{\"marker\":{\"pattern\":{\"fillmode\":\"overlay\",\"size\":10,\"solidity\":0.2}},\"type\":\"histogram\"}],\"scattergl\":[{\"type\":\"scattergl\",\"marker\":{\"colorbar\":{\"outlinewidth\":0,\"ticks\":\"\"}}}],\"scatter3d\":[{\"type\":\"scatter3d\",\"line\":{\"colorbar\":{\"outlinewidth\":0,\"ticks\":\"\"}},\"marker\":{\"colorbar\":{\"outlinewidth\":0,\"ticks\":\"\"}}}],\"scattermapbox\":[{\"type\":\"scattermapbox\",\"marker\":{\"colorbar\":{\"outlinewidth\":0,\"ticks\":\"\"}}}],\"scatterternary\":[{\"type\":\"scatterternary\",\"marker\":{\"colorbar\":{\"outlinewidth\":0,\"ticks\":\"\"}}}],\"scattercarpet\":[{\"type\":\"scattercarpet\",\"marker\":{\"colorbar\":{\"outlinewidth\":0,\"ticks\":\"\"}}}],\"carpet\":[{\"aaxis\":{\"endlinecolor\":\"#2a3f5f\",\"gridcolor\":\"white\",\"linecolor\":\"white\",\"minorgridcolor\":\"white\",\"startlinecolor\":\"#2a3f5f\"},\"baxis\":{\"endlinecolor\":\"#2a3f5f\",\"gridcolor\":\"white\",\"linecolor\":\"white\",\"minorgridcolor\":\"white\",\"startlinecolor\":\"#2a3f5f\"},\"type\":\"carpet\"}],\"table\":[{\"cells\":{\"fill\":{\"color\":\"#EBF0F8\"},\"line\":{\"color\":\"white\"}},\"header\":{\"fill\":{\"color\":\"#C8D4E3\"},\"line\":{\"color\":\"white\"}},\"type\":\"table\"}],\"barpolar\":[{\"marker\":{\"line\":{\"color\":\"#E5ECF6\",\"width\":0.5},\"pattern\":{\"fillmode\":\"overlay\",\"size\":10,\"solidity\":0.2}},\"type\":\"barpolar\"}],\"pie\":[{\"automargin\":true,\"type\":\"pie\"}]},\"layout\":{\"autotypenumbers\":\"strict\",\"colorway\":[\"#636efa\",\"#EF553B\",\"#00cc96\",\"#ab63fa\",\"#FFA15A\",\"#19d3f3\",\"#FF6692\",\"#B6E880\",\"#FF97FF\",\"#FECB52\"],\"font\":{\"color\":\"#2a3f5f\"},\"hovermode\":\"closest\",\"hoverlabel\":{\"align\":\"left\"},\"paper_bgcolor\":\"white\",\"plot_bgcolor\":\"#E5ECF6\",\"polar\":{\"bgcolor\":\"#E5ECF6\",\"angularaxis\":{\"gridcolor\":\"white\",\"linecolor\":\"white\",\"ticks\":\"\"},\"radialaxis\":{\"gridcolor\":\"white\",\"linecolor\":\"white\",\"ticks\":\"\"}},\"ternary\":{\"bgcolor\":\"#E5ECF6\",\"aaxis\":{\"gridcolor\":\"white\",\"linecolor\":\"white\",\"ticks\":\"\"},\"baxis\":{\"gridcolor\":\"white\",\"linecolor\":\"white\",\"ticks\":\"\"},\"caxis\":{\"gridcolor\":\"white\",\"linecolor\":\"white\",\"ticks\":\"\"}},\"coloraxis\":{\"colorbar\":{\"outlinewidth\":0,\"ticks\":\"\"}},\"colorscale\":{\"sequential\":[[0.0,\"#0d0887\"],[0.1111111111111111,\"#46039f\"],[0.2222222222222222,\"#7201a8\"],[0.3333333333333333,\"#9c179e\"],[0.4444444444444444,\"#bd3786\"],[0.5555555555555556,\"#d8576b\"],[0.6666666666666666,\"#ed7953\"],[0.7777777777777778,\"#fb9f3a\"],[0.8888888888888888,\"#fdca26\"],[1.0,\"#f0f921\"]],\"sequentialminus\":[[0.0,\"#0d0887\"],[0.1111111111111111,\"#46039f\"],[0.2222222222222222,\"#7201a8\"],[0.3333333333333333,\"#9c179e\"],[0.4444444444444444,\"#bd3786\"],[0.5555555555555556,\"#d8576b\"],[0.6666666666666666,\"#ed7953\"],[0.7777777777777778,\"#fb9f3a\"],[0.8888888888888888,\"#fdca26\"],[1.0,\"#f0f921\"]],\"diverging\":[[0,\"#8e0152\"],[0.1,\"#c51b7d\"],[0.2,\"#de77ae\"],[0.3,\"#f1b6da\"],[0.4,\"#fde0ef\"],[0.5,\"#f7f7f7\"],[0.6,\"#e6f5d0\"],[0.7,\"#b8e186\"],[0.8,\"#7fbc41\"],[0.9,\"#4d9221\"],[1,\"#276419\"]]},\"xaxis\":{\"gridcolor\":\"white\",\"linecolor\":\"white\",\"ticks\":\"\",\"title\":{\"standoff\":15},\"zerolinecolor\":\"white\",\"automargin\":true,\"zerolinewidth\":2},\"yaxis\":{\"gridcolor\":\"white\",\"linecolor\":\"white\",\"ticks\":\"\",\"title\":{\"standoff\":15},\"zerolinecolor\":\"white\",\"automargin\":true,\"zerolinewidth\":2},\"scene\":{\"xaxis\":{\"backgroundcolor\":\"#E5ECF6\",\"gridcolor\":\"white\",\"linecolor\":\"white\",\"showbackground\":true,\"ticks\":\"\",\"zerolinecolor\":\"white\",\"gridwidth\":2},\"yaxis\":{\"backgroundcolor\":\"#E5ECF6\",\"gridcolor\":\"white\",\"linecolor\":\"white\",\"showbackground\":true,\"ticks\":\"\",\"zerolinecolor\":\"white\",\"gridwidth\":2},\"zaxis\":{\"backgroundcolor\":\"#E5ECF6\",\"gridcolor\":\"white\",\"linecolor\":\"white\",\"showbackground\":true,\"ticks\":\"\",\"zerolinecolor\":\"white\",\"gridwidth\":2}},\"shapedefaults\":{\"line\":{\"color\":\"#2a3f5f\"}},\"annotationdefaults\":{\"arrowcolor\":\"#2a3f5f\",\"arrowhead\":0,\"arrowwidth\":1},\"geo\":{\"bgcolor\":\"white\",\"landcolor\":\"#E5ECF6\",\"subunitcolor\":\"white\",\"showland\":true,\"showlakes\":true,\"lakecolor\":\"white\"},\"title\":{\"x\":0.05},\"mapbox\":{\"style\":\"light\"}}},\"xaxis\":{\"anchor\":\"y\",\"domain\":[0.0,1.0],\"title\":{\"text\":\"index\"}},\"yaxis\":{\"anchor\":\"x\",\"domain\":[0.0,1.0],\"title\":{\"text\":\"value\"}},\"legend\":{\"title\":{\"text\":\"variable\"},\"tracegroupgap\":0},\"margin\":{\"t\":60}},                        {\"responsive\": true}                    ).then(function(){\n",
       "                            \n",
       "var gd = document.getElementById('97e5bdb0-3d49-45b6-942f-4d3da44c57af');\n",
=======
      "image/png": "iVBORw0KGgoAAAANSUhEUgAABEoAAAFoCAYAAABAGh56AAAAAXNSR0IArs4c6QAAIABJREFUeF7s3Wd4lNW+hvF/SEIIRYqADbGgoiiWvcXeOYrYEDt2URAL2EAUNopSRFFAkKIgYgMEFBUsoBTFgg10Y+8iFopIb0nIudYryU5omcx6JrNC7nw5R5n3yfBbkx25mZmk5Obm5hofCCCAAAIIIIAAAggggAACCCCAAAKWQijhUYAAAggggAACCCCAAAIIIIAAAgj8I0Ao4ZGAAAIIIIAAAggggAACCCCAAAIIbBAglPBQQAABBBBAAAEEEEAAAQQQQAABBAglPAYQQAABBBBAAAEEEEAAAQQQQACBwgI8o4RHBAIIIIAAAggggAACCCCAAAIIILBBgFDCQwEBBBBAAAEEEEAAAQQQQAABBBAglPAYQAABBBBAAAEEEEAAAQQQQAABBAoL8IwSHhEIIIAAAggggAACCCCAAAIIIIDABgFCCQ8FBBBAAAEEEEAAAQQQQAABBBBAgFDCYwABBBBAAAEEEEAAAQQQQAABBBAoLMAzSnhEIIAAAggggAACCCCAAAIIIIAAAhsECCU8FBBAAAEEEEAAAQQQQAABBBBAAAFCCY8BBBBAAAEEEEAAAQQQQAABBBBAoLAAzyjhEYEAAggggAACCCCAAAIIIIAAAghsECCU8FBAAAEEEEAAAQQQQAABBBBAAAEECCU8BhBAAAEEEEAAAQQQQAABBBBAAIHCAjyjhEcEAggggAACCCCAAAIIIIAAAgggsEGAUMJDAQEEEEAAAQQQQAABBBBAAAEEECCU8BhAAAEEEEAAAQQQQAABBBBAAAEECgvwjBIeEQgggAACCCCAAAIIIIAAAggggMAGAUIJDwUEEEAAAQQQQAABBBBAAAEEEECAUMJjAAEEEEAAAQQQQAABBBBAAAEEECgswDNKeEQggAACCCCAAAIIIIAAAggggAACGwQIJTwUEEAAAQQQQAABBBBAAAEEEEAAAUIJjwEEEEAAAQQQQAABBBBAAAEEEECgsADPKOERgQACCCCAAAIIIIAAAggggAACCGwQIJTwUEAAAQQQQAABBBBAAAEEEEAAAQQIJTwGEEAAAQQQQAABBBBAAAEEEEAAgcICPKOERwQCCCCAAAIIIIAAAggggAACCCCwQYBQwkMBAQQQQAABBBBAAAEEEEAAAQQQIJTwGEAAAQQQQAABBBBAAAEEEEAAAQQKC/CMEh4RCCCAAAIIIIAAAggggAACCCCAwAYBQgkPBQQQQAABBBBAAAEEEEAAAQQQQIBQwmMAAQQQQAABBBBAAAEEEEAAAQQQKCzAM0p4RCCAAAIIIIAAAggggAACCCCAAAIbBAglPBQQQAABBBBAAAEEEEAAAQQQQAABQgmPAQQQQAABBBBAAAEEEEAAAQQQQKCwAM8o4RGBAAIIIIAAAggggAACCCCAAAIIbBAglPBQQAABBBBAAAEEEEAAAQQQQAABBAglPAYQQAABBBBAAAEEEEAAAQQQQACBwgI8o4RHBAIIIIAAAggggAACCCCAAAIIILBBgFDCQwEBBBBAAAEEEEAAAQQQQAABBBAglPAYQAABBBBAAAEEEEAAAQQQQAABBAoL8IwSHhEIIIAAAggggAACCCCAAAIIIIDABgFCCQ8FBBBAAAEEEEAAAQQQQAABBBBAgFDCYwABBBBAAAEEEEAAAQQQQAABBBAoLMAzSnhEIIAAAggggAACCCCAAAIIIIAAAhsECCU8FBBAAAEEEEAAAQQQQAABBBBAAAFCCY8BBBBAAAEEEEAAAQQQQAABBBBAoLAAzyjhEYEAAggggAACCCCAAAIIIIAAAghsECCU8FBAAAEEEEAAAQQQQAABBBBAAAEECCU8BhBAAAEEEEAAAQQQQAABBBBAAIHCAjyjhEcEAggggAACCCCAAAIIIIAAAgggsEGAUBLjQyE3N9dy1q+3tNTUGK/gZggggAACCCCAAAIIIIAAAgggUNoECCUxntiEye9Z36FjberYvjFewc0QQAABBBBAAAEEEEAAAQQQQKC0CRBKijixub/Nt1btH7R5fyy0HWpVJ5SUtkc49xcBBBBAAAEEEEAAAQQQQACBYggQSorAys7JsUWLl9rUd2bbsJETCSXFeHBxUwQQQAABBBBAAAEEEEAAAQRKmwChJMYTe23qB9Z78GhCSYxe3AwBBBBAAAEEEEAAAQQQQACB0ihAKInx1AglMUJxMwQQQAABBBBAAAEEEEAAAQRKsQChJMbD21oo+f2v1TGucLNECexYI9MW/L3a1ucm6jOwG4tAhfKpVjEj1RYvXxfLzblNAgVqbpdhy1Zn2bqs9Qn8LEwXJZCWmmI1qmTYgiVriropv55ggaqV0i07J9dWrslO8GdiviiBnbfPNP7bqSilxP+6+35dPj3Vlqzge3bitbf+GWpVzbAlK7MsK7t0f892X9t8ILCtCBBKYjxJQkmMUEm6GaEkSfAbfVpCSRjn4O4FoSSMsyCUhHEO7l4QSsI5C0JJGGdBKAnjHNy9IJSEcxbcEwTyBAglRTwWcnNzLTs7x16f9mH044EnjextKeVSLC01Nf9K/lYk+V9QhJLkn4G7B4SSMM6BUBLOORBKwjkLQkk4Z0EoCeMsCCVhnAOhJJxz4J4gUFCAUFLE4+H7n36zZld1LnSrM085ynp1ak0oCehriVASxmEQSsI4B0JJOOdAKAnnLAgl4ZwFoSSMsyCUhHEOhJJwzoF7ggChRPwY4BklYtA45gglcaAl4BJCSQJQ45zkpTdxwokvI5SIQT3mCCUeeOJLCSVi0DjnCCVxwiXgMl56kwBUJhHwFOAZJZ6A7nJCiQDRc4JQ4gkoupxQIoIUzBBKBIiCCUKJAFE0QSgRQQpmCCUCRMEEoUSAKJoglIggmUFAKEAoEWASSgSInhOEEk9A0eWEEhGkYIZQIkAUTBBKBIiiCUKJCFIwQygRIAomCCUCRNEEoUQEyQwCQgFCiQCTUCJA9JwglHgCii4nlIggBTOEEgGiYIJQIkAUTRBKRJCCGUKJAFEwQSgRIIomCCUiyBhnZn/+nc37faG5952M5cPd/oFBo21A93ZWs0bVzV4y5uVp9s5Hc6x/t3axTHKbUiBAKBEcEqFEgOg5QSjxBBRdTigRQQpmCCUCRMEEoUSAKJoglIggBTOEEgGiYIJQIkAUTRBKRJAxznR9cISNnTjdvpg+IqYrZnzwX2vTsY+9OaaP7VS7xmav6f/48/bi6+/Y1LF9Y9rkRuELEEoEZ0QoESB6ThBKPAFFlxNKRJCCGUKJAFEwQSgRIIomCCUiSMEMoUSAKJgglAgQRROEEhFkjDOrVq+1rOxsq1qlUkxXEEpiYtrmbkQoERwpoUSA6DlBKPEEFF1OKBFBCmYIJQJEwQShRIAomiCUiCAFM4QSAaJgglAiQBRNEEo2hXTP+kgpl2J333pF/i9m5+TYjZ362bGHH2iXnHOy3dp1kH3xzU8274+FVqNaFTv6sIZ2S6vzbYda1aNrnntpqn0w+2u74cpm9uz4KfbjL79bu6vPsR9++d3e//gL69P1huh2I5573cZMmGYL/1oa/fNB+9ezti3PsYMa1Iv+OS+UdL7pMnt1ykxzL8U5oP4e1uXWy6P/6z42fkZJTs56e+aFN+z5iW9Fn2+fPetYm8ubWZMTGokeNcwkWoBQIhAmlAgQPScIJZ6AossJJSJIwQyhRIAomCCUCBBFE4QSEaRghlAiQBRMEEoEiKIJQsmmkCPHT7EeDz9tk0b1tjo71Ypu8O5Hn1vrDg/ayEFdoojRrkt/O3j/vazOTrXt7yXL7JEnxlv9verasAc7RLfv8+gYe3zUq9H//6+G+0QB5cKzTrT3P/mi0MtkBgx/wVzY2GfPXS0nJ8eeef4N+3HuHzZtXF+rXCkzP5RUzKxgLc4+yVJSUmzYyFfM/fP05/tZpYoVNgkl7nOPenFqdPsDG9Sz16d9aK9N/SD/voseOswkUIBQIsAllAgQPScIJZ6AossJJSJIwQyhRIAomCCUCBBFE4QSEaRghlAiQBRMEEoEiKIJQsmmkEuXrbSjzrrBbriquV1/RbPoBu4ZJD/N/d3GD+9e6IK167Ls76XL7emxk23EmNftv1OGW2pquSiUuFjxzCOdrX69XfOv2dL7ibhnrCxZusI++vRra3/vYBs1qEsUOfKeUfLyiB5Wb/ddop2Zn3xpV9/2gPXucp2d1vjwQqHkr7+X2XHN29mt115gV7c4Lbq92z7yjBvs3NOPsztuvFj0yGEmkQKEEoEuoUSA6DlBKPEEFF1OKBFBCmYIJQJEwQShRIAomiCUiCAFM4QSAaJgglAiQBRNEEo2D9m51zB7e+ZnNu35frZs+So79uy21rX9lXb+GSdEF0ya/qENeepl+/bHeYUGPn1jmKWnp0WhZNL0j6JnpRT82DiUfP39XHtwyHPRy3EKfjzR9w477JB980NJwTdzXbZilR15xvV2c6vzrNUlZxQKJR9/9o1dcdN90TNhqlSumD/51Xe/2AlHHWwDe94seuQwk0gBQolAl1AiQPScIJR4AoouJ5SIIAUzhBIBomCCUCJAFE0QSkSQghlCiQBRMEEoESCKJgglm4d07wVy6Y09bMj9t9rc3+Zbz/7P2gevDI5eDpP3MpyzTz0mejlNnZ1r25R3PjH33ibFCSVLl6+0o868IXrmSLuW59ieu+1sy1astLOv+o/FEkpuaX2+XXPx6YVCyYwP5libjg9Zp3aXWt1dahf6zVWrWsUa7vvP+5rwEbYAoURwPoQSAaLnBKHEE1B0OaFEBCmYIZQIEAUThBIBomiCUCKCFMwQSgSIgglCiQBRNEEo2TLkWVd0iuKFeyPWQw/e1+665fLoxv2GjrOhz060T9983NLTUqN/N/61Gfaf+x8vVijJixru5TmHHLB3tOOiTNNLOm41lEx9d7a17fyw9e/Wzhof+69CoWTubwus6SW3R29Ee8FZJxb6zeXm5kbvccJH+AKEEsEZEUoEiJ4ThBJPQNHlhBIRpGCGUCJAFEwQSgSIoglCiQhSMEMoESAKJgglAkTRBKFky5CjX5pq3fo+Fd1g3NB7bL+9d4v+/7fe/8yuv7OvdbjuIjv04Pr25Tc/m3tT1sVLlhcrlLjbu5f0NGtytF3U7CSbv+hve/TpCeZeJrPxM0rcT705utEB9tmX30cv+Vmzdp299uwDllE+fZM3c3VvNDtlxiy7p/1V9u8D9zH3viXuZUTlypWLXq7DR/gChBLBGRFKBIieE4QST0DR5YQSEaRghlAiQBRMEEoEiKIJQokIUjBDKBEgCiYIJQJE0QShZMuQeS+NcT+G97lH786/oXtz1E49h9orU2ZG/879eGD3E3DcMz3yXnrT97Gx0U+b2fg9SlxQcc8+mTq2b3St+/HAA0e8aKtWr4n+2b2c58XX37ER/e6wRgf/7z1K3E/Nmb/w7+g27v1H+ndvl/8msRtvuvvtnvUy5uVp+ffZ3Uf3cpymJx0ueuQwk0gBQolAl1AiQPScIJR4AoouJ5SIIAUzhBIBomCCUCJAFE0QSkSQghlCiQBRMEEoESCKJggl8UO6n46zdPkK22XHWtFPuon3w/3knN//XGQ71t7eMiuU3+zM+vW59seCv6Jf23mH7WN6CY0LOgsXLbEKFcpb9apV4r17XJcEAUKJAJ1QIkD0nCCUeAKKLieUiCAFM4QSAaJgglAiQBRNEEpEkIIZQokAUTBBKBEgiiYIJSJIZhAQChBKBJiEEgGi5wShxBNQdDmhRAQpmCGUCBAFE4QSAaJoglAighTMEEoEiIIJQokAUTRBKBFBMoOAUIBQIsAklAgQPScIJZ6AossJJSJIwQyhRIAomCCUCBBFE4QSEaRghlAiQBRMEEoEiKIJQokIkhkEhAKEEgEmoUSA6DlBKPEEFF1OKBFBCmYIJQJEwQShRIAomiCUiCAFM4QSAaJgglAiQBRNEEpEkMwgIBQglAgwCSUCRM8JQoknoOhyQokIUjBDKBEgCiYIJQJE0QShRAQpmCGUCBAFE4QSAaJoglAigmQGAaEAoUSASSgRIHpOEEo8AUWXE0pEkIIZQokAUTBBKBEgiiYIJSJIwQyhRIAomCCUCBBFE4QSESQzCAgFCCUCTEKJANFzglDiCSi6nFAighTMEEoEiIIJQokAUTRBKBFBCmYIJQJEwQShRIAomiCUiCCZQUAoQCgRYBJKBIieE4QST0DR5YQSEaRghlAiQBRMEEoEiKIJQokIUjBDKBEgCiYIJQJE0QShRATJDAJCAUKJAJNQIkD0nCCUeAKKLieUiCAFM4QSAaJgglAiQBRNEEpEkIIZQokAUTBBKBEgiiYIJSLIEphZunylvffR53bqiYdZSkpKCXzG/32KL7/92b754VdrdPC+VmenWrLP/d1P82z5ilX2r4b7WE7Oelu7LssqZmbI9kvrEKFEcHKEEgGi5wShxBNQdDmhRAQpmCGUCBAFE4QSAaJoglAighTMEEoEiIIJQokAUTRBKBFBlsDMF9/8bBdc29U+m/K4paWmxvUZ33r/M5vz1Y92Y8vmMV9/R8/H7N0P59i/D6xvZzU52k46+pCYry3qhoOefMm+/v4X69+tnb3/8Rd2Tfve9u5Lj1i1qpWLurTEfn3eHwutz6Nj7IEubeJ2L+6dJZQUV2wztyeUCBA9JwglnoCiywklIkjBDKFEgCiYIJQIEEUThBIRpGCGUCJAFEwQSgSIoglCiQiyBGYUoeTZF96016d9aE8P6BTTPV61eo01atrGxg/vbvvsWSema4pzo4KhZMXK1fbLvPlWf69dSyxIxHJfv/ruFzuv1d326RvDLD09LZZLvG9DKPEmNCOUCBA9JwglnoCiywklIkjBDKFEgCiYIJQIEEUThBIRpGCGUCJAFEwQSgSIoglCiQiyBGY2DiUdezwavRRn8ZLlVm+3ne2Gq5pbkxMaRfdk5idfWt/HxtqPc/+wWttXteZNj7VTjm9kl97YPbr9AfX3iG73ZP87rUJG+S3e+8va9rRZc761/fbezVLLlbOnBnS2y9v2iJ5dsVudHaLrBo140apUrmiXnXeKff/Tb+aegXLGyUfaqPFTol+/usVpdsFZJ0b/vwsvDwwcba9MmWkVMtKtYmaFKIy4Z5T88Mvv1qnnUBs5qIulppazFtd3sxOPOtgmv/VxFFAuanaSXX/l2ZZZ4Z/7O+OD/1rvQaOj69xLd9aty7JenVvbHnV32uppuPvYudcwu6Ptxfb0uMm2YNESe6THTXbdnX2j++8+9q+/u93Z9hKrX2/XKJK4WJJn0OmmS+3A/fa0MS9PsyfHTopeOnTOacdZi+aNbcdaNSSPBEKJgJFQIkD0nCCUeAKKLieUiCAFM4QSAaJgglAiQBRNEEpEkIIZQokAUTBBKBEgiiYIJVuGXL3abO68XJF07DOZFc3q7rLpe5BsHEqefeEN22uPOrZ9te1s+vufRmHkvZcHWkZGuv27SWu79rIz7fTGR9jPv863mbO+sFtaX2B9HxtjH8z6yrrccnl0h1xgcFFiSx+vTvnAOnQbbIPuu8UqVawQBYJDTmllzw+71/bdq250Waf7hlqN6ttZ+zYXRi/ruei6e6OX57g48uvvC63Hw0/bexMGWtUqleyePk/aW+9/ajdc2dz22mMXG/LUy5aenhqFko1/f/ufcGUUgNpc3ix635IO3YZYn67X27GHHxgFoDMvv9MubHaSnd3kaJv3x6Lofo4bek8UNLb2kXcfd6hV3c497TirUCHDzjvjeBv/2gz71wF7W/ny6TZ81KvR53B77t//5/7HbdiDHSwtLdX2qbervfPhHOv64Ai7p/1VtkfdHW3wUy9Z1SqVrdvtLWM/6K3cklAiYCSUCBA9JwglnoCiywklIkjBDKFEgCiYIJQIEEUThBIRpGCGUCJAFEwQSgSIoglCyZYhv/0h1x7ony2Sjn1mn3opdnu7TV/isXFIcG9++s0Pc+3r7+dGz4oYMPwFe+7Ru233Ojva4adfZ+2uPtcuO+/k6FkbeR/FfelNXpD44JXBVrlSZvSsjVhCyefTnsh/w9ljz25r997e0o5p1NAOPvmaKCa4Z2C4j4IvvdlcKHnmkc52yAF7R7d1z6CpWb2qdbj+oui6UePftBkvDoh+LSsrO9ouTij58NUhUfzJ+1i9Zp3996sf7Oe5f9icr3+KAskX00dEzybZ+KU3l97YI3pGzaXnnhxd7m5z34CR9v7EgZKXDRFKYv962eItCSUCRM8JQoknoOhyQokIUjBDKBEgCiYIJQJE0QShRAQpmCGUCBAFE4QSAaJoglCyZch5v+faqOdzRNKxz9TZOcVanLvpm7UWDAlr12ZZm459okhy0jGH2E61t7ehz060UYO62IEN6tnI8VOiZ3K4Dxcabm51nh16UH1LRig57dKOduNV51jD/fawUy++3SY8dZ/tueHlMcUJJe73k52z3u6+9YroGR5Z2dl2f+dr4w4lBWOOe8nNVbf0il5C5H6yj/vpOxMmv7fFUOLijwtQtbavVuhg+917o9WsUTX2w97CLQkl3oS8R4mA0HuCUOJNKBkglEgYJSOEEgmj9wihxJtQNkAokVF6DxFKvAklA4QSCaNkhFAiYSyRkYKh5K33PrN2Xfrnv6TF3QH3UpW8UOL+ec3addGP9H1yzCT76NOvbPrzD9tzL0+zV6fMNPdMjVg+Nn5GSVZ2jh38f1fb6MF3WcP99owmNvfSm4IRIi+UnHz8odG17iUsRx66f3RtvKFkzITp0XuEuGeQuI94nlFS8D7eP3BU9KyQxx+6PXop0mdf/mAXX98tCiUuRp17zV02a/JQyyifHn0+9wyTZk2Ojt6XJREfhBKBKs8oESB6ThBKPAFFlxNKRJCCGUKJAFEwQSgRIIomCCUiSMEMoUSAKJgglAgQRROEEhFkCcwUDCUff/qNXX3bA/bC492iNxB1b47qnnHhQol7lsNLk961C5udGL1vxuiXpm54/5JHbM7XP9q1t/ex1569PwoC1barnP8Smc39FjYOJe427g1e/33gPtayxWk2e8539p/7h1mzU48p9B4lmwslpzU+PIo77iVDHW9oYUuXrYzes2TnHbff4nuUFHzpTcFnlMz9bYE1veR2u+Sc/4ueAfLa1A9t0vQPi/XSm4L3ceAT423ae5/a4F63WHZ2jg0c8WL+S2/cS3IOPbW1De/b0Q7cr57l5ubaM89Pjt4I1r13S4N9drff/lxk4yZOt1uvvUDySCCUCBgJJQJEzwlCiSeg6HJCiQhSMEMoESAKJgglAkTRBKFEBCmYIZQIEAUThBIBomiCUCKCLIGZL7/92c5v3dU+m/K4lUspZ7d2HWhvvP1x9Jndm6dOfXd29EyPHWvXsCtuui/6STHuw725aduW59jxRx5k2Tk5dmOnfjbjgznRr338+mP5P0Vmc7+Fn+b+YWdcfqcVfD+Pqe/MsrsffCL66TnufTrcsyyOOexAu63NBdF7e1zU5h7bOJS4z9/0pMNt9uffWesOD0U//ca9dMW9oav7qTzuzVwL/v7SUlOjZ8hsHEpy1ufaXRveiDbvWSXup/GccPTB9sjw8YVe1rOlI9ncffxjwWJr2/nh6Fkl7uPYwxtGRu4ZJe7Dbbs3bHUf7hkxLhT1HTrOnho7Kf/TuGAzot8dkkcCoUTASCgRIHpOEEo8AUWXE0pEkIIZQokAUTBBKBEgiiYIJSJIwQyhRIAomCCUCBBFE4QSEWSSZhYtXho9M6R61Sqb3INlK1ZZTk7OZn9t6fKVVj493bKzs239+i38ZJ8Ui35SzeY+XHD5a/Eycz85prgf7uU7Cxb9HT0TZms/caeoXXcfXFBxH7PmfGeXte1hH732aPQynC19uJ9aU/ANXDe+3e9/LrJqVatEP2Vn4w/3zJJ1WVmFTPIctqtSaavBqajfy8a/Tigprthmbk8oESB6ThBKPAFFlxNKRJCCGUKJAFEwQSgRIIomCCUiSMEMoUSAKJgglAgQRROEEhFkKZ1xP+J23p8LN3vv09PSopeihPrRqGkbO+SAvaJntLhn07hnrbiX4tzSdeAW7/LBDfayG1s2D/W3lH+/CCWCIyKUCBA9JwglnoCiywklIkjBDKFEgCiYIJQIEEUThBIRpGCGUCJAFEwQSgSIoglCiQiSmRIXePejz23e7wssLS3N9t2rru1ff/cSvw+J+oSEEoEsoUSA6DlBKPEEFF1OKBFBCmYIJQJEwQShRIAomiCUiCAFM4QSAaJgglAiQBRNEEpEkMwgIBQglAgwCSUCRM8JQoknoOhyQokIUjBDKBEgCiYIJQJE0QShRAQpmCGUCBAFE4QSAaJoglAigmQGAaEAoUSASSgRIHpOEEo8AUWXE0pEkIIZQokAUTBBKBEgiiYIJSJIwQyhRIAomCCUCBBFE4QSESQzCAgFCCUCTEKJANFzglDiCSi6nFAighTMEEoEiIIJQokAUTRBKBFBCmYIJQJEwQShRIAomiCUiCCZQUAoQCgRYBJKBIieE4QST0DR5YQSEaRghlAiQBRMEEoEiKIJQokIUjBDKBEgCiYIJQJE0QShRATJDAJCAUKJAJNQIkD0nCCUeAKKLieUiCAFM4QSAaJgglAiQBRNEEpEkIIZQokAUTBBKBEgiiYIJSJIZhAQChBKBJiEEgGi5wShxBNQdDmhRAQpmCGUCBAFE4QSAaJoglAighTMEEoEiIIJQokAUTRBKBFBMoOAUIBQIsAklAgQPScIJZ6AossJJSJIwQyhRIAomCCUCBBFE4QSEaRghlAiQBRMEEoEiKIJQokIkhkEhAKEEgEmoUSA6DlBKPEEFF1OKBFBCmYIJQJEwQShRIAomiCUiCAFM4QSAaJgglAiQBRNEEpEkMwgIBQos6Fk3bos+3vpCqtds5qlpKR4kRJKvPgkFxNKJIzeI4QSb0LZAKFERum9vAZBAAAgAElEQVQ1RCjx4pNeTCiRcnqNEUq8+GQXE0pklN5DhBJvQgYQkAuUuVCSm5trg5962QY+MT7CrFGtij3S82Y7qEG9zeJOmTHL2nXpv8mvzZo81DLKp0f/nlAif1wWe5BQUmyyhFxAKEkIa1yjhJK42OQXEUrkpHEPEkrippNfSCiRk8Y1SCiJiy0hFxFKEsLKKAJeAmUulMz+/Du79MYe9vSATtZw3z2t/+Mv2CtT3rc3n+tj5cpt+sySN2d8Ynf2HGrjht5TCLruLrXzn4lCKPF6DEouJpRIGL1HCCXehLIBQomM0muIUOLFJ72YUCLl9BojlHjxyS4mlMgovYcIJd6EDCAgFyhzoeShIWPsq+9/sWEPdogwFyxaYieed3MUQvbbe7dNgF0oueehETbjxQFbxCeUyB+XxR4klBSbLCEXEEoSwhrXKKEkLjb5RYQSOWncg4SSuOnkFxJK5KRxDRJK4mJLyEWEkoSwMoqAl0CZCyXt7x1s1atWts43XZYPt/8JV9qg+26x4488aLOh5KYuA6xZk6MtI6O8HXpQfWtyQiNLS03Nvy2hxOsxKLmYUCJh9B4hlHgTygYIJTJKryFCiRef9GJCiZTTa4xQ4sUnu5hQIqP0HiKUeBMygIBcoMyFktYdHrT69erabW0uyMds1LSNdW1/pZ3e+IhNgOd8/ZNNmv6hVa1SyX6f/5eNeXmaXdy8caHQsnx1tvxgGCyeQOXMNFu5Ottyi3cZtxYLuD8UpqeWs9XrcsTLzBVXwP0H8Nqs9Zaznq+K4topb+9e0ZmZkWYr1/B9Qukaz1aF9HLmvhzWZa+P53KuEQpUyUwz/ttJCBrnVHpqiqWmlrM1fM+OU1B3WaWMVFuzDXzPdl/bfCCwrQiUuVDinlHi3sC1U7tL889wa88o2figX3j1bevywHD7bMrj+c8qWb4qa1t5PJTa30flzHRbuSbLcvkzYVLPMC21nKWnpdjqtYSSpB6EmVXMSLO12TmWk8MXRTLPwr33VWb5VEJJMg9hw+fOKJ9q69fnWhahJOmnUaViuvHfTkk/BktPK2ep5VIIJck/CqtYIS06B/e/UaX5w31t84HAtiJQ5kKJe4+Sb36Ya4/1bh+dYVHvUbLxQc/4YI616fiQfTLpMauQUT76ZV56k/wvB156k/wzcPeAl96EcQ7uXvDSmzDOgpfehHEO7l7w0ptwzoKX3oRxFrz0JoxzcPeCl96EcxbcEwTyBMpcKPnfT73pbA3329MeHjbOXp0yM/+n3owY87q5HwnsfiqO+xg5forVr7erNdhnd1u6fIV1uHeIpael2vC+HfMfRYSS5H9BEUqSfwaEkjDOIO9eEErCOA9CSRjnQCgJ5xzcPSGUhHEehJIwzoFQEs45cE8QKChQ5kJJbm6uPfLEeBvy1MuRQ8XMCvZY79vskAP2jv6596DRNmbCdPvotSHRP/d5dIw9PurVfLMDG9Sz3l3aWJ2dahFKAvpaIpSEcRg8oySMc3D3glASxlkQSsI4B0JJOOdAKAnnLAgl4ZwFzygJ5yy4JwjkCZS5UJL3G1+zdp0t/nuZ7Vh7e3OvId/ah7vtwr+WWJVKFa1a1cqb3JRnlCT/C4pQkvwzcPeAUBLGORBKwjkHQkk4Z8FLb8I5C55REsZZEErCOAd3Lwgl4ZwF9wSBMh9KlA8BQolSM74tQkl8buqrCCVq0fj3eEZJ/HbKKwklSk2/LUKJn5/yakKJUjP+LUJJ/HbqKwklalH2EPAXKLPPKPGn+98CoUSpGd8WoSQ+N/VVhBK1aPx7hJL47ZRXEkqUmn5bhBI/P+XVhBKlZvxbhJL47dRXEkrUouwh4C9AKPE35KfeCAx9JwglvoKa6wklGkfFCqFEoei/QSjxN1QtEEpUkv47hBJ/Q8UCoUShqNkglGgcWUFAKUAoEWjyjBIBoucEocQTUHQ5oUQEKZghlAgQBROEEgGiaIJQIoIUzBBKBIiCCUKJAFE0QSgRQTKDgFCAUCLAJJQIED0nCCWegKLLCSUiSMEMoUSAKJgglAgQRROEEhGkYIZQIkAUTBBKBIiiCUKJCJIZBIQChBIBJqFEgOg5QSjxBBRdTigRQQpmCCUCRMEEoUSAKJoglIggBTOEEgGiYIJQIkAUTRBKRJDMICAUIJQIMAklAkTPCUKJJ6DockKJCFIwQygRIAomCCUCRNEEoUQEKZghlAgQBROEEgGiaIJQIoJkBgGhAKFEgEkoESB6ThBKPAFFlxNKRJCCGUKJAFEwQSgRIIomCCUiSMEMoUSAKJgglAgQRROEEhEkMwgIBQglAkxCiQDRc4JQ4gkoupxQIoIUzBBKBIiCCUKJAFE0QSgRQQpmCCUCRMEEoUSAKJoglIggmUFAKEAoEWASSgSInhOEEk9A0eWEEhGkYIZQIkAUTBBKBIiiCUKJCFIwQygRIAomCCUCRNEEoUQEyQwCQgFCiQCTUCJA9JwglHgCii4nlIggBTOEEgGiYIJQIkAUTRBKRJCCGUKJAFEwQSgRIIomCCUiSGYQEAoQSgSYhBIBoucEocQTUHQ5oUQEKZghlAgQBROEEgGiaIJQIoIUzBBKBIiCCUKJAFE0QSgRQTKDgFCAUCLAJJQIED0nCCWegKLLCSUiSMEMoUSAKJgglAgQRROEEhGkYIZQIkAUTBBKBIiiCUKJCJIZBIQChBIBJqFEgOg5QSjxBBRdTigRQQpmCCUCRMEEoUSAKJoglIggBTOEEgGiYIJQIkAUTRBKRJDMICAUIJQIMAklAkTPCUKJJ6DockKJCFIwQygRIAomCCUCRNEEoUQEKZghlAgQBROEEgGiaIJQIoJkBgGhAKFEgEkoESB6ThBKPAFFlxNKRJCCGUKJAFEwQSgRIIomCCUiSMEMoUSAKJgglAgQRROEEhEkMwgIBQglAkxCiQDRc4JQ4gkoupxQIoIUzBBKBIiCCUKJAFE0QSgRQQpmCCUCRMEEoUSAKJoglIggmUFAKEAoEWASSgSInhOEEk9A0eWEEhGkYIZQIkAUTBBKBIiiCUKJCFIwQygRIAomCCUCRNEEoUQEyQwCQgFCiQCTUCJA9JwglHgCii4nlIggBTOEEgGiYIJQIkAUTRBKRJCCGUKJAFEwQSgRIIomCCUiSGYQEAoQSgSYhBIBoucEocQTUHQ5oUQEKZghlAgQBROEEgGiaIJQIoIUzBBKBIiCCUKJAFE0QSgRQTKDgFCAUCLAJJQIED0nCCWegKLLCSUiSMEMoUSAKJgglAgQRROEEhGkYIZQIkAUTBBKBIiiCUKJCJIZBIQChBIBJqFEgOg5QSjxBBRdTigRQQpmCCUCRMEEoUSAKJoglIggBTOEEgGiYIJQIkAUTRBKRJDMICAUIJQIMAklAkTPCUKJJ6DockKJCFIwQygRIAomCCUCRNEEoUQEKZghlAgQBROEEgGiaIJQIoJkBgGhAKFEgEkoESB6ThBKPAFFlxNKRJCCGUKJAFEwQSgRIIomCCUiSMEMoUSAKJgglAgQRROEEhEkMwgIBQglAkxCiQDRc4JQ4gkoupxQIoIUzBBKBIiCCUKJAFE0QSgRQQpmCCUCRMEEoUSAKJoglIggmUFAKEAoEWASSgSInhOEEk9A0eWEEhGkYIZQIkAUTBBKBIiiCUKJCFIwQygRIAomCCUCRNEEoUQEyQwCQgFCiQCTUCJA9JwglHgCii4nlIggBTOEEgGiYIJQIkAUTRBKRJCCGUKJAFEwQSgRIIomCCUiSGYQEAoQSgSYhBIBoucEocQTUHQ5oUQEKZghlAgQBROEEgGiaIJQIoIUzBBKBIiCCUKJAFE0QSgRQTKDgFCAUCLAJJQIED0nCCWegKLLCSUiSMEMoUSAKJgglAgQRROEEhGkYIZQIkAUTBBKBIiiCUKJCJIZBIQChBIBJqFEgOg5QSjxBBRdTigRQQpmCCUCRMEEoUSAKJoglIggBTOEEgGiYIJQIkAUTRBKRJDMICAUIJQIMAklAkTPCUKJJ6DockKJCFIwQygRIAomCCUCRNEEoUQEKZghlAgQBROEEgGiaIJQIoJkBgGhgCyU5Obm2s+//ml/Llhse+62s+1Qq7rN/W2+VcysYDVrVBXe5fCmCCXJPxNCSfLPwN0DQkkY5+DuBaEkjLMglIRxDu5eEErCOQtCSRhnQSgJ4xzcvSCUhHMW3BME8gQkoWTlqjXWpmMfmzXn22i3V6fWduYpR1m7Lv3t57l/2stP9tymxQklyT9eQknyz4BQEsYZ5N0LQkkY50EoCeMcCCXhnIO7J4SSMM6DUBLGORBKwjkH7gkCBQUkoWTMhOk24PHn7fbrW9gzz79hl557chRKPpz9tV11Sy+bNq6f1a5ZbZuVJ5Qk/2gJJck/A0JJGGdAKAnrHAgl4ZwHzygJ5ywIJWGcBaEkjHMglIRzDtwTBOShpHnL/1iTEw6zNpefZa07PGhnnnxUFEoWL1lux57d1kYPudsa7rvHNitPKEn+0RJKkn8GhJIwzoBQEtY5EErCOQ9CSThnQSgJ4ywIJWGcA6EknHPgniAgDyVnXdHJzm56jLW86LRCoeSHn3+zs67sbJNHP2i77Fhzm5UnlCT/aAklyT8DQkkYZ0AoCescCCXhnAehJJyzIJSEcRaEkjDOgVASzjlwTxCQh5JufZ+ydz6cY0/2v9PuemB49IySxsf+2zp0G2z//fIHm/78w5aaWm6blSeUJP9oCSXJPwNCSRhnQCgJ6xwIJeGcB6EknLMglIRxFoSSMM6BUBLOOXBPEJCHkr+XLrdzr7nL5i/8O9qus1Ot6GU3q1avsUd63mQnHnXINq1OKEn+8RJKkn8GhJIwzoBQEtY5EErCOQ9CSThnQSgJ4ywIJWGcA6EknHPgniAgDyVucPWadTZmwjT74uufbPnK1bbHrjta89OOtb33qLPNixNKkn/EhJLknwGhJIwzIJSEdQ6EknDOg1ASzlkQSsI4C0JJGOdAKAnnHLgnCCQklJRlVkJJ8k+fUJL8MyCUhHEGhJKwzoFQEs55EErCOQtCSRhnQSgJ4xwIJeGcA/cEAXko+eGX323Z8pVblG24356Wlpq6zcoTSpJ/tISS5J8BoSSMMyCUhHUOhJJwzoNQEs5ZEErCOAtCSRjnQCgJ5xy4JwjIQ0nbzg/b1Hdnb1H2vQkDrWqVStusPKEk+UdLKEn+GRBKwjgDQklY50AoCec8CCXhnAWhJIyzIJSEcQ6EknDOgXuCgDyU/DH/L1u5as0msp17DbNdd6lt93e+lp96w+MuoQKEkoTyxjxeoXyquf/wWrx8XczXcMPECNTcLsOWrc6ydVnrE/MJWI1JgFASE1OJ3IhQUiLMMX0SQklMTAm/EaEk4cQxf4JaVTNsycosy8ou3d+z3dc2HwhsKwIpubm5uYn6zcz44L/WpmMfmzlxkFWpXDFRnybpuzyjJOlHYISS5J+BuweEkjDOwd0LQkkYZ0EoCeMc3L0glIRzFoSSMM6CUBLGObh7QSgJ5yy4JwjkCSQ0lMz9bb41vaSjjR5ytzXcd49Srb58xSrLzsmx6lWrbPL7IJQk/2gJJck/A0JJGGeQdy8IJWGcB6EkjHMglIRzDu6eEErCOA9CSRjnQCgJ5xy4JwgUFJCEkoV/LbHVa9YWkl2+YrWNHP+mTX7rY3t7fH/LrFC+VMqvWr3GOnZ/NP89WA5sUM8GdG9nNWtUzf/9EEqSf7SEkuSfAaEkjDMglIR1DoSScM6DZ5SEcxaEkjDOglASxjkQSsI5B+4JAvJQsqU3c62YWcHaXX2OXXbeKaVWfdjIV2zshOn29IDOUey57o6+tkfdnazb7S0JJQGdKqEkjMPgpTdhnIO7FzyjJIyzIJSEcQ7uXhBKwjkLQkkYZ0EoCeMcCCXhnAP3BAF5KPnmh1/t7yXLC8lWqljB9ttnt1L/Y4HPa3W3NTmhkbW65Izo9zdp+od2a9dB9vm0JywlJSX6dzyjJPlfVISS5J+BuweEkjDOgVASzjkQSsI5C0JJOGdBKAnjLAglYZwDoSScc+CeICAPJdsyaaOmbax7x6ujWOI+vvz2Zzu/dVcr+COPCSXJfwQQSpJ/BoSSMM4g717wjJIwzoNQEsY5uHtBKAnnLAglYZwFoSSMcyCUhHMO3BMEJKFk6ruzbd7vC2LSvLDZSZZRPj2m24Z0I/cDgQ448SobdN8tdvyRB0V37Yeff7Ozruxsbz73kO20w/Z2zU1ZId1l7gsCCCCAAAIIIIAAAgggUOICwx4ufX/eK3EkPmGpEYj7zVzdy0/cy1Bi+Sj47ItYbh/SbdwzSnrccY2dcvyh0d3a+BklhJKQTov7ggACCCCAAAIIIIAAAskQIJQkQ53PmSiBuENJou5QaLvuPUpOPfEwu+bi06O7xnuUhHZC/9wfXnoTxrnwHiVhnIO7F7z0Joyz4KU3YZyDuxe89Cacs+ClN2GcBS+9CeMc3L2oVTXDlqzMsqzs9eHcqTjuifva5gOBbUWAUFLESQ59dqKNm/hW9FNvKmZmWJuOffipNwE++gklYRwKoSSMcyCUhHMOhJJwzoJQEs5ZEErCOAtCSRjnQCgJ5xy4JwgUFJCFknc/+tw++vRrW7lq9SbCt157YfSjdUvjx8pVa6z9vYPt7ZmfRXf/gPp72IAeN1ntmtXyfzu8mWvyT5ZQkvwzcPeAUBLGORBKwjkHQkk4Z0EoCecsCCVhnAWhJIxzIJSEcw7cEwTkoeSVKTPt9m5DrGJmBVu1eo3tVmeH6M1bv/1xntWoVsVee/YBq1ypdD8Va+nylZaVlW01a1Td5BFEKEn+FxWhJPlnQCgJ4wzy7gUvvQnjPAglYZyDuxeEknDOglASxlkQSsI4B0JJOOfAPUFAHkquvLlXFETuvu1KO+rMG+yN0Q/azjvWtH5Dx9kHs7+yUYO6bNPqhJLkHy+hJPlnQCgJ4wwIJWGdA6EknPMglIRzFoSSMM6CUBLGORBKwjkH7gkC8lDSpEUHa3XJGXbOacdZw5OuspGDuthBDepFzyhp3vI/NvGp+6L39dhWPwglyT9ZQknyz4BQEsYZEErCOgdCSTjnQSgJ5ywIJWGcBaEkjHMglIRzDtwTBOSh5KwrOlnzpsfaVRc1NfdTYpqedLhd3eK0/B+lO3rwXdZwvz23WXlCSfKPllCS/DMglIRxBoSSsM6BUBLOeRBKwjkLQkkYZ0EoCeMcCCXhnAP3BAF5KLmhU79oc2DPm23Qky/ZwCfG2+XnN7GZn3xhixYvtWnP97O01NRtVp5QkvyjJZQk/wwIJWGcAaEkrHMglIRzHoSScM6CUBLGWRBKwjgHQkk458A9QUAeSr767hdbsGiJHX/kQbZuXZZ16T3cJr7xvv2r4T52/RXN7MhD99+m1QklyT9eQknyz4BQEsYZEErCOgdCSTjnQSgJ5ywIJWGcBaEkjHMglIRzDtwTBOSh5I8Fi23HWtUtJSUlf3v9+lwrV+5//7wtsxNKkn+6hJLknwGhJIwzIJSEdQ6EknDOg1ASzlkQSsI4C0JJGOdAKAnnHLgnCMhDSdvOD9sv8+Zbi+aN7bTGR1jVKpXKlDKhJPnHTShJ/hkQSsI4A0JJWOdAKAnnPAgl4ZwFoSSMsyCUhHEOhJJwzoF7goA8lMya86098/wbNmn6R9H2eWccb+edfvw2/QauBREJJcn/oiKUJP8MCCVhnAGhJKxzIJSEcx6EknDOglASxlkQSsI4B0JJOOfAPUFAHkryBv/6e5m9OmWmjXpxSvQMk332rGOXnHOynd30GN7MlcddQgUIJQnljXm8QvlUc//htXj5upiv4YaJEai5XYYtW51l67LWJ+YTsBqTAKEkJqYSuRGhpESYY/okhJKYmBJ+I0JJwolj/gS1qmbYkpVZlpVdur9nu69tPhDYVgRScnNzc9W/Gff+JCPGvGYPDRkTTb83YeA2/XIcnlGifgQVf49QUnyzRFxBKEmEanybhJL43NRXEUrUovHvEUrit1NfSShRi8a3RyiJzy0RVxFKEqHKJgJ+AtJQ4n4UsHtGyeiXpkbPKNmhVvXoGSXuRwWnp/Hjgf2Oiqu3JkAoCePxQSgJ4xzcvSCUhHEWhJIwzsHdC0JJOGdBKAnjLAglYZyDuxeEknDOgnuCQJ6AJJTMmvOdPfP85Pz3KDn5uEPt/DNPsCP+1cBSU8tt89o8oyT5R0woSf4ZuHtAKAnjHAgl4ZwDoSScsyCUhHMWhJIwzoJQEsY5EErCOQfuCQIFBSShxP3Umy++/dlanN3YmjU5xmrXrFamlAklyT9uQknyz4BQEsYZ5N0LnlESxnkQSsI4B3cvCCXhnAWhJIyzIJSEcQ6EknDOgXuCgDyU/DT3D6u7yw5l4tkjm3v4EEqS/0VFKEn+GRBKwjgDQklY50AoCec8CCXhnAWhJIyzIJSEcQ6EknDOgXuCgDyUlHVSQknyHwGEkuSfAaEkjDMglIR1DoSScM6DUBLOWRBKwjgLQkkY50AoCeccuCcIEErEjwFCiRg0jjlCSRxoCbiE9yhJAGqck7z0Jk448WWEEjGoxxyhxANPfCmhRAwa5xyhJE64BFzGm7kmAJVJBDwFJO9R4nkfSv3lhJLkHyGhJPln4O4BoSSMc3D3glASxlkQSsI4B3cvCCXhnAWhJIyzIJSEcQ7uXhBKwjkL7gkCeQKEEsFjgVAiQPScIJR4AoouJ5SIIAUzhBIBomCCUCJAFE0QSkSQghlCiQBRMEEoESCKJgglIkhmEBAKEEoEmIQSAaLnBKHEE1B0OaFEBCmYIZQIEAUThBIBomiCUCKCFMwQSgSIgglCiQBRNEEoEUEyg4BQgFAiwCSUCBA9JwglnoCiywklIkjBDKFEgCiYIJQIEEUThBIRpGCGUCJAFEwQSgSIoglCiQiSGQSEAoQSASahRIDoOUEo8QQUXU4oEUEKZgglAkTBBKFEgCiaIJSIIAUzhBIBomCCUCJAFE0QSkSQzCAgFCCUCDAJJQJEzwlCiSeg6HJCiQhSMEMoESAKJgglAkTRBKFEBCmYIZQIEAUThBIBomiCUCKCZAYBoQChRIBJKBEgek4QSjwBRZcTSkSQghlCiQBRMEEoESCKJgglIkjBDKFEgCiYIJQIEEUThBIRJDMICAUIJQJMQokA0XOCUOIJKLqcUCKCFMwQSgSIgglCiQBRNEEoEUEKZgglAkTBBKFEgCiaIJSIIJlBQChAKBFgEkoEiJ4ThBJPQNHlhBIRpGCGUCJAFEwQSgSIoglCiQhSMEMoESAKJgglAkTRBKFEBMkMAkIBQokAk1AiQPScIJR4AoouJ5SIIAUzhBIBomCCUCJAFE0QSkSQghlCiQBRMEEoESCKJgglIkhmEBAKEEoEmIQSAaLnBKHEE1B0OaFEBCmYIZQIEAUThBIBomiCUCKCFMwQSgSIgglCiQBRNEEoEUEyg4BQgFAiwCSUCBA9JwglnoCiywklIkjBDKFEgCiYIJQIEEUThBIRpGCGUCJAFEwQSgSIoglCiQiSGQSEAoQSASahRIDoOUEo8QQUXU4oEUEKZgglAkTBBKFEgCiaIJSIIAUzhBIBomCCUCJAFE0QSkSQzCAgFCCUCDAJJQJEzwlCiSeg6HJCiQhSMEMoESAKJgglAkTRBKFEBCmYIZQIEAUThBIBomiCUCKCZAYBoQChRIBJKBEgek4QSjwBRZcTSkSQghlCiQBRMEEoESCKJgglIkjBDKFEgCiYIJQIEEUThBIRJDMICAUIJQJMQokA0XOCUOIJKLqcUCKCFMwQSgSIgglCiQBRNEEoEUEKZgglAkTBBKFEgCiaIJSIIJlBQChAKBFgEkoEiJ4ThBJPQNHlhBIRpGCGUCJAFEwQSgSIoglCiQhSMEMoESAKJgglAkTRBKFEBMkMAkIBQokAk1AiQPScIJR4AoouJ5SIIAUzhBIBomCCUCJAFE0QSkSQghlCiQBRMEEoESCKJgglIkhmEBAKEEoEmIQSAaLnBKHEE1B0OaFEBCmYIZQIEAUThBIBomiCUCKCFMwQSgSIgglCiQBRNEEoEUEyg4BQgFAiwCSUCBA9JwglnoCiywklIkjBDKFEgCiYIJQIEEUThBIRpGCGUCJAFEwQSgSIoglCiQiSGQSEAoQSASahRIDoOUEo8QQUXU4oEUEKZgglAkTBBKFEgCiaIJSIIAUzhBIBomCCUCJAFE0QSkSQzCAgFCCUCDAJJQJEzwlCiSeg6HJCiQhSMEMoESAKJgglAkTRBKFEBCmYIZQIEAUThBIBomiCUCKCZAYBoQChRIBJKBEgek4QSjwBRZcTSkSQghlCiQBRMEEoESCKJgglIkjBDKFEgCiYIJQIEEUThBIRJDMICAUIJQJMQokA0XOCUOIJKLqcUCKCFMwQSgSIgglCiQBRNEEoEUEKZgglAkTBBKFEgCiaIJSIIJlBQChAKBFgEkoEiJ4ThBJPQNHlhBIRpGCGUCJAFEwQSgSIoglCiQhSMEMoESAKJgglAkTRBKFEBMkMAkIBQokAk1AiQPScIJR4AoouJ5SIIAUzhBIBomCCUCJAFE0QSkSQghlCiQBRMEEoESCKJgglIkhmEBAKEEoEmIQSAaLnBKHEE1B0OaFEBCmYIZQIEAUThBIBomiCUCKCFMwQSgSIgglCiQBRNEEoEUEyg4BQgFAiwCSUCBA9JwglnoCiywklIkjBDKFEgCiYIJQIEEUThBIRpGCGUCJAFEwQSgSIoglCiQiSGQSEAmU2lCxfscqyc3KsetUq3pyEEm9C7wFCiTehZIBQImGUjBBKJIzeI4QSb0LZAKFERuk9RCjxJpQMEEokjJIRQomEkREEpAJlLpSsWr3GOnZ/1Ka+OzuCPLBBPRvQvZ3VrFF1s7BTZsyydl36b/JrsyYPtYzy6dG/J5RIH5NxjRFK4mKTX0QokZPGPUgoib00F2AAACAASURBVJtOeiGhRMrpNUYo8eKTXkwokXLGPUYoiZtOfiGhRE7KIALeAmUulAwb+YqNnTDdnh7Q2TIrlLfr7uhre9Tdybrd3nKzmG/O+MTu7DnUxg29p9Cv192ltqWkpBBKvB+CmgFCicbRd4VQ4iuou55QorP0WSKU+OhpryWUaD191gglPnq6awklOkvfJUKJryDXI6AXKHOh5LxWd1uTExpZq0vOiDQnTf/Qbu06yD6f9kR++CjI7ELJPQ+NsBkvDtiiPs8o0T8wi7tIKCmuWGJuTyhJjGs8q4SSeNT01xBK9KbxLhJK4pXTX0co0ZvGs0goiUctMdcQShLjyioCPgJlLpQ0atrGune8Oool7uPLb3+281t3tfcmDLSqVSptYulCyU1dBlizJkdbRkZ5O/Sg+tG1aamp+bcllPg8BDXXEko0jr4rhBJfQd31hBKdpc8SocRHT3stoUTr6bNGKPHR011LKNFZ+i4RSnwFuR4BvcA2E0p+/3ORvTJl5haFLj33FKuQkW4HnHiVDbrvFjv+yIOi2/7w82921pWd7c3nHrKddth+k+vnfP1T9KwTF1F+n/+XjXl5ml3cvLF1vumy/NsuX52tPxkWiyVQOTPNVq7OttxiXcWN1QLuD4XpqeVs9boc9TR7xRRw/wG8Nmu95aznq6KYdNKbl0sxy8xIs5Vr+D4hhY1jrEJ6OXNfDuuy18dxNZcoBapkphn/7aQUjW8rPTXFUlPL2Rq+Z8cHKLyqUkaqrdkGvme7r20+ENhWBLaZUPLLvPk2+qWpWzyXti2bW8XMCuaeUdLjjmvslOMPjW5b1DNKNh584dW3rcsDw+2zKY/nP6tk+aqsbeXxUGp/H5Uz023lmizL5c+EST3DtNRylp6WYqvXEkqSehBmVjEjzdZm51hODl8UyTyLcuVSLLN8KqEkmYew4XNnlE+19etzLYtQkvTTqFIx3fhvp6Qfg6WnlbPUcimEkuQfhVWskBadg/vfqNL84b62+UBgWxHYZkJJrAfi3qPk1BMPs2suPj26pKj3KNl4d8YHc6xNx4fsk0mPWYWM8tEv89KbWPUTdzteepM42+Is89Kb4mgl9ra89CaxvrGu89KbWKUSfzteepN441g/Ay+9iVUqsbfjpTeJ9S3OOi+9KY4Wt0WgZATKXCgZ+uxEGzfxrein3lTMzLA2HfsU+qk3I8a8bu5HAj89oFN0AiPHT7H69Xa1BvvsbkuXr7AO9w6x9LRUG963Y/4JEUpK5sG6tc9CKEn+Gbh7QCgJ4xzcvSCUhHEWhJIwzsHdC0JJOGdBKAnjLAglYZyDuxeEknDOgnuCQJ5AmQslK1etsfb3Dra3Z34WGRxQfw8b0OMmq12zWvTPvQeNtjETpttHrw2J/rnPo2Ps8VGv5j9iDmxQz3p3aWN1dqpFKAno64hQEsZhEErCOAdCSTjnQCgJ5ywIJeGcBaEkjLMglIRxDoSScM6Be4JAQYEyF0ryfvNLl6+0rKxsq1mjapGPiDVr19nCv5ZYlUoVrVrVypvcnmeUFEmY8BsQShJOHNMnIJTExFQiN+IZJSXCXOQnIZQUSVRiNyCUlBh1kZ+IUFIkUYncgFBSIswxfRKeURITEzdCoEQFymwoUSoTSpSa8W0RSuJzU19FKFGLxr9HKInfTnkloUSp6bdFKPHzU15NKFFqxr9FKInfTn0loUQtyh4C/gKEEn9D3sxVYOg7QSjxFdRcTyjROCpWCCUKRf8NQom/oWqBUKKS9N8hlPgbKhYIJQpFzQahROPICgJKAUKJQJNnlAgQPScIJZ6AossJJSJIwQyhRIAomCCUCBBFE4QSEaRghlAiQBRMEEoEiKIJQokIkhkEhAKEEgEmoUSA6DlBKPEEFF1OKBFBCmYIJQJEwQShRIAomiCUiCAFM4QSAaJgglAiQBRNEEpEkMwgIBQglAgwCSUCRM8JQoknoOhyQokIUjBDKBEgCiYIJQJE0QShRAQpmCGUCBAFE4QSAaJoglAigmQGAaEAoUSASSgRIHpOEEo8AUWXE0pEkIIZQokAUTBBKBEgiiYIJSJIwQyhRIAomCCUCBBFE4QSESQzCAgFCCUCTEKJANFzglDiCSi6nFAighTMEEoEiIIJQokAUTRBKBFBCmYIJQJEwQShRIAomiCUiCCZQUAoQCgRYBJKBIieE4QST0DR5YQSEaRghlAiQBRMEEoEiKIJQokIUjBDKBEgCiYIJQJE0QShRATJDAJCAUKJAJNQIkD0nCCUeAKKLieUiCAFM4QSAaJgglAiQBRNEEpEkIIZQokAUTBBKBEgiiYIJSJIZhAQChBKBJiEEgGi5wShxBNQdDmhRAQpmCGUCBAFE4QSAaJoglAighTMEEoEiIIJQokAUTRBKBFBMoOAUIBQIsAklAgQPScIJZ6AossJJSJIwQyhRIAomCCUCBBFE4QSEaRghlAiQBRMEEoEiKIJQokIkhkEhAKEEgEmoUSA6DlBKPEEFF1OKBFBCmYIJQJEwQShRIAomiCUiCAFM4QSAaJgglAiQBRNEEpEkMwgIBQglAgwCSUCRM8JQoknoOhyQokIUjBDKBEgCiYIJQJE0QShRAQpmCGUCBAFE4QSAaJoglAigmQGAaEAoUSASSgRIHpOEEo8AUWXE0pEkIIZQokAUTBBKBEgiiYIJSJIwQyhRIAomCCUCBBFE4QSESQzCAgFCCUCTEKJANFzglDiCSi6nFAighTMEEoEiIIJQokAUTRBKBFBCmYIJQJEwQShRIAomiCUiCCZQUAoQCgRYBJKBIieE4QST0DR5YQSEaRghlAiQBRMEEoEiKIJQokIUjBDKBEgCiYIJQJE0QShRATJDAJCAUKJAJNQIkD0nCCUeAKKLieUiCAFM4QSAaJgglAiQBRNEEpEkIIZQokAUTBBKBEgiiYIJSJIZhAQChBKBJiEEgGi5wShxBNQdDmhRAQpmCGUCBAFE4QSAaJoglAighTMEEoEiIIJQokAUTRBKBFBMoOAUIBQIsAklAgQPScIJZ6AossJJSJIwQyhRIAomCCUCBBFE4QSEaRghlAiQBRMEEoEiKIJQokIkhkEhAKEEgEmoUSA6DlBKPEEFF1OKBFBCmYIJQJEwQShRIAomiCUiCAFM4QSAaJgglAiQBRNEEpEkMwgIBQglAgwCSUCRM8JQoknoOhyQokIUjBDKBEgCiYIJQJE0QShRAQpmCGUCBAFE4QSAaJoglAigmQGAaEAoUSASSgRIHpOEEo8AUWXE0pEkIIZQokAUTBBKBEgiiYIJSJIwQyhRIAomCCUCBBFE4QSESQzCAgFCCUCTEKJANFzglDiCSi6nFAighTMEEoEiIIJQokAUTRBKBFBCmYIJQJEwQShRIAomiCUiCCZQUAoQCgRYBJKBIieE4QST0DR5YQSEaRghlAiQBRMEEoEiKIJQokIUjBDKBEgCiYIJQJE0QShRATJDAJCAUKJAJNQIkD0nCCUeAKKLieUiCAFM4QSAaJgglAiQBRNEEpEkIIZQokAUTBBKBEgiiYIJSJIZhAQChBKBJiEEgGi5wShxBNQdDmhRAQpmCGUCBAFE4QSAaJoglAighTMEEoEiIIJQokAUTRBKBFBMoOAUIBQIsAklAgQPScIJZ6AossJJSJIwQyhRIAomCCUCBBFE4QSEaRghlAiQBRMEEoEiKIJQokIkhkEhAKEEgEmoUSA6DlBKPEEFF1OKBFBCmYIJQJEwQShRIAomiCUiCAFM4QSAaJgglAiQBRNEEpEkMwgIBQglAgwCSUCRM8JQoknoOhyQokIUjBDKBEgCiYIJQJE0QShRAQpmCGUCBAFE4QSAaJoglAigmQGAaEAoUSASSgRIHpOEEo8AUWXE0pEkIIZQokAUTBBKBEgiiYIJSJIwQyhRIAomCCUCBBFE4QSESQzCAgFCCUCTEKJANFzglDiCSi6nFAighTMEEoEiIIJQokAUTRBKBFBCmYIJQJEwQShRIAomiCUiCCZQUAoQCgRYBJKBIieE4QST0DR5YQSEaRghlAiQBRMEEoEiKIJQokIUjBDKBEgCiYIJQJE0QShRATJDAJCAUKJAJNQIkD0nCCUeAKKLieUiCAFM4QSAaJgglAiQBRNEEpEkIIZQokAUTBBKBEgiiYIJSJIZhAQChBKBJiEEgGi5wShxBNQdDmhRAQpmCGUCBAFE4QSAaJoglAighTMEEoEiIIJQokAUTRBKBFBMoOAUIBQIsAklAgQPScIJZ6AossJJSJIwQyhRIAomCCUCBBFE4QSEaRghlAiQBRMEEoEiKIJQokIkhkEhAKEEgEmoUSA6DlBKPEEFF1OKBFBCmYIJQJEwQShRIAomiCUiCAFM4QSAaJgglAiQBRNEEpEkMwgIBQglAgwCSUCRM8JQoknoOhyQokIUjBDKBEgCiYIJQJE0QShRAQpmCGUCBAFE4QSAaJoglAigmQGAaEAoUSASSgRIHpOEEo8AUWXE0pEkIIZQokAUTBBKBEgiiYIJSJIwQyhRIAomCCUCBBFE4QSESQzCAgFCCUCTEKJANFzglDiCSi6nFAighTMEEoEiIIJQokAUTRBKBFBCmYIJQJEwQShRIAomiCUiCCZQUAoQCgRYBJKBIieE4QST0DR5YQSEaRghlAiQBRMEEoEiKIJQokIUjBDKBEgCiYIJQJE0QShRATJDAJCAUKJAJNQIkD0nCCUeAKKLieUiCAFM4QSAaJgglAiQBRNEEpEkIIZQokAUTBBKBEgiiYIJSJIZhAQChBKBJiEEgGi5wShxBNQdDmhRAQpmCGUCBAFE4QSAaJoglAighTMEEoEiIIJQokAUTRBKBFBMoOAUIBQIsAklAgQPScIJZ6AossJJSJIwQyhRIAomCCUCBBFE4QSEaRghlAiQBRMEEoEiKIJQokIkhkEhAKEEgEmoUSA6DlBKPEEFF1OKBFBCmYIJQJEwQShRIAomiCUiCAFM4QSAaJgglAiQBRNEEpEkMwgIBQglMSImZubaznr11taauomVxBKYkRM4M0IJQnELcY0oaQYWAm+KaEkwcAxzhNKYoQqgZsRSkoAOcZPQSiJESrBNyOUJBi4GPOEkmJgcVMESkiAUBIj9ITJ71nfoWNt6ti+hJIYzUryZoSSktTe8ucilIRxDu5eEErCOAtCSRjn4O4FoSScsyCUhHEWhJIwzsHdC0JJOGfBPUEgT4BQUsRjYe5v861V+wdt3h8LbYda1QklgX7tEErCOBhCSRjnQCgJ5xwIJeGcBaEknLMglIRxFoSSMM6BUBLOOXBPECgoQCgp4vGQnZNjixYvtanvzLZhIycSSgL9+iGUhHEwhJIwzoFQEs45EErCOQtCSThnQSgJ4ywIJWGcA6EknHPgniBAKInjMfDa1A+s9+DRhJI47EriEkJJSSgX/TkIJUUbldQteOlNSUlv/fMQSsI4B3cvCCXhnAWhJIyzIJSEcQ6EknDOgXuCAKHEzH7/c5G9MmXmFh8Nl557imVWKJ//64SSsL9wCCVhnA+hJIxzcPeCUBLGWRBKwjgHQkk45+DuCaEkjPMglIRxDoSScM6Be4IAocTMfpk330a/NHWLj4a2LZtbxcwKMYUSHlIIIIAAAggggAACCCCAAAIIILBtCPAeJTGe49aeURLjBDdDAAEEEEAAAQQQQAABBBBAAIHABQglRRxQbm6uZWfn2OvTPox+PPCkkb0tpVyKpaWmBn603D0EEEAAAQQQQAABBBBAAAEEECiuAKGkCLHvf/rNml3VudCtzjzlKOvVqbUtX7HK3E/FqV61SnHdub2nwPr1ueYiVmpquU2W1q3Lsr+XrrDaNatZSkqK52fi8i0JuDNYvGSZpaenWdUqlTZ7M75GSubxk/fTuXLX51rtmtU3+bpwZ7Xgr7+tZo2qRN6SOZItfha+JpJ8AAU+vfuJdpUqZhZ6P7Jw7t22d09Wrlpjy1assh1qVrdy5f73vZnv2eGcNV8TJXcWzrpypUyrkPG/90PM++x8zy65c+AzIbA1AUJJHI+PVavXWMfuj9rUd2dHVx/YoJ4N6N4u+kMIH4kXcIGk60Mjok90T/ur8j+h+/eDn3rZBj4xPvp3NapVsUd63mwHNaiX+DtVxj7D+x9/Ye26DDD3teA+Gh28r7W/7kI7oP4e0T/zNVJyD4jnXppq9/Z9Kv8T7lCruvXv3i7/LN56/zNrf+/g/LO6+7Yr7YIzTyi5O1gGP9Nvfy6ys6/6j7U4+yS79doL+Joo4cfAlBmzrF2X/pt81lmTh1pG+XSb+9t8a9OxT/ReZe7jnNOOs7tuvcLS03imaCKOyv1v0P0DR+Z7jx/e3fbZs070lx18z06E+Kabne4bai9NeneTX7j71ivsgrNO5GuiZI4h+izvfvS5PfLEeJv3+wJbszbLjjy0gfW8o1UUTdwH37NL8DD4VAgUIUAoieMhMmzkKzZ2wnR7ekDn6G+irrujr+1RdyfrdnvLONa4pDgCk6Z/aN37PW2Llyy38844vlAomf35d3bpjT3s6QGdrOG+e1r/x1+wV6a8b28+16fQ314V5/Nx280LzJz1pS1ctMSOO/IgW7Nmnd3b90lzfwMyuNct0QV8jZTcI2fC5PesWtXK9u8D60fPcGt/z6Do5YLD+3a01WvW2XHN29mNLZvbJef8n01/71O7qcsAmzSqt9XZqVbJ3cky9JncM0YuuaG7/fDL73Z1i9PyQwlfEyX3IHhzxid2Z8+hNm7oPYU+ad1dakfPMmzd4cHoDyU97mhlfy74yy649h6765bLzT1blA+tgPvfnBs69bNWl5xhzZocHT0DNyOjfPTfTnzP1lpvbc09e8E9oyfvY/WatXbuNXdZn643WJMTGvE1UUJH4b5HH9T46uh7cpvLzjJ3Due1ujv679mWF53G9+wSOgc+DQKxChBKYpUqcDv3P2ruG4v7xu8+3B/eb+06yD6f9gQv9YjDsziXrFq91patWGl9HxsbPV2x4DNKHhoyxr76/hcb9mCHaHLBoiV24nk3R/+xvN/euxXn03DbYgq4P6zf0fMx+2zK49FLO/gaKSag8Obu2SMuWvXpen30N1PX39nXZk8eauXLp0ef5bRLO0bR5JJzThZ+VqacgPuP4Bs79bMda20fvcSgzk4180MJXxMl9xhxoeSeh0bYjBcHbPJJly5faUedeYM980hnO+SAvaNf7/Hw0/bngsU2oMdNJXcny8Bncs8YOefqLlZ/r7rRy5U3/uB7dvIeBE+Mfi36yY+vPNMrCih8TZTMWbj/hm3U9Frr3vFqa9702OiTumf7pKamRn/ZyvfskjkHPgsCsQoQSmKVKnC7Rk3bRP8j52KJ+/jy25/t/NZd7b0JA7f4Xg1xfBou2YqAe6lBTk5OoVDi/oBYvWpl63zTZflX7n/ClTbovlvs+CMPwjOBAi6SuPfzyfsbXL5GEoi9hemXJ79rU9+Zbd/++Gv0t4T77lXXxkyYbiOee81efeb+/Kvadn7Ydt91J7utzT8vCeFDJ9Cz/7P2/U/z7NEHbrOOPR4rFEr4mtA5F7XkQol75pR7BoN79sKhB9WPvl+7iPvDz7/ZWVd2tunP97Na21eLpp4eNzl6WcLGz0Ap6vPw61sXcM/8PPbstnbS0YdYVna2rVy11o78dwNr2eK06C86+J6dnEeQi4X/d8Ft1r1jS2tywmF8TZTwMfR5dIw9PupVu+qiptFf4vUa8Kw91rt99P/zPbuED4NPh0ARAoSSYj5E3N+QHHDiVYX+8J33H15vPveQ7bTD9sVc5ObxCGwulLinU9evV7fQHwDdH066tr/STm98RDyfhmtiEMh7Nol7Js+Rh+4fve6cr5EY4MQ36Td0nH3y329twaK/rdvtV9thh+wbvQTK/cSugn8AdH84qVwxM/q64EMnMOrFKTbiuddtzKNdrep2laJnGeY9o4SvCZ1zLEtzvv4peqane5Pp3+f/ZWNenmYXN28cRfS8l3sU/IsN94eTIU+9ZFPH9o1lntvEKPDVd79Ezy48/4wT7KhGB9iy5Svt/oGjou/H7n9/+J4dI6T4Zu57xVvvf2rPD+sWvSyZrwkxcBFz7qXLHe4dHL2/oXtp2tGNDrDed10X/e8V37NL9iz4bAgUJUAoKUpoM7/u/vDd445r7JTjD41+lWeUxIHoecmWnlHi3sC1U7tL89d5RokndBGXuzclc/+xm/eGcHk352skse5bW3/06Qn2zPOTo5cd8LdTJXcOTVp0sN3q7GB77b5L9EmnvDPLqlSumP8yTb4mSu4sNv5ML7z6tnV5YHj00sBffv0zekbJWy88nP8G7DyjJDFnkxdK3P8Wue/N7sOdxX0DRtqHrw62Dt2GRP+e79mJ8d/c6p8LF1vj82/d7F/28TWR+HPIe+mfew+xww/ZL3oT3Rs7PWx77VEnerks37MTfwZ8BgSKI0AoKY7Whtu6vyE59cTD7JqLT4/+De9REgei5yWbCyXu9c7f/DA3egqj++A9SjyRi7g873Ff8LW2eZfwNZJY+62tT37rY7vl7keiPxS+++Hn0XuUfPrGsOjHOLsP9wf6y88/hfcoER+R++lD7j+C8z5efP0dq1FtOzvz5CPtwmYnRX+zzvcNMXqMczM+mGNtOj5kn0x6zNauy9rk/Ri69X0qeiYW71ESI2iMN8v7Q+GoQV2ivz13H+7ZPff0edLmTH0ieq8xvmfHiCm6WdcHR9g3P/5q7kzyPjb3vj18TYjAN5rJ+9+id196JHoTdvfx1NhJNmD4ePvotSH571HC9+zE+LOKQHEFCCXFFTOzoc9OtHET34p+6k3FzIzoxwzyU2/igIzjkpyc9bZ+/Xrr/vDT0U/26HrbldGbYBV8+qg7l4b77WkPDxtnr06ZyU+9icO5qEvc6/ndG5DdcePFdtIx/8q/uXuPmIqZFfgaKQpQ+OuDRrxoRx/W0OrX29X++ntZ9Lr/zIzy0U+9yXvjuI43tLCL+ak3QvWipwq+9Mbdmu8bRZupbjFy/JTo66HBPrvb0uUrrMO9Q6If/eu+JtzHNe1723aVK0XPDOWn3qjUN7/jApV7c+l+995oixYvi15y4F6i7P75fz/1hu/ZiT2Ff9Z/nPuHnXn5nfZE3zuil2YW/OBroiROwMz96PhTLmpv11/RzFpfeqatXrvOrr+jb/TsQ/dTA/meXTLnwGdBIFYBQkmsUgVu594h3P1h5O2Zn0X/9oD6e0R/E1W75j9vDMdH4gTy/jaq4Gdw7xR+zmnHRe+N4X42/ZCnXo5+2f2B/bHet+X/ZIPE3auyt+ye0eP+Bn3jj7xnl/A1UnKPic69hpl79kLeh/tJHr06t87/8b9T351t7g1c8z7+c/Nl1uLsxiV3B8voZ9o4lPA1UXIPhLw3S8z7jO7ZDL27tMn/mvhp7h/RX3DM+2NhdJOzTz0miu55z7oquXu67X8mZ3zzXY+YexmO+3AvN3igS5voZU98zy7Z87+168Dop3Hl/WTAgp+dr4mSOwv3bNynx71h3/zwa/RJ3cv42159ju1Yq0b0z3zPLrmz4DMhUJQAoaQooa38unu6YlZWdv7rnD2muFQosGbtOlv89zLbsfb20TNN+EieAF8jJWO/bl2WLfhrSfQmrXlP5y34md0zsdxr02tvX40/DJbMkWzxs/A1UTIH4L4PLPxriVWpVHGzXxPuXsxf+LdVrpRplSpWKJk7VYY/i3spbFpaav57lRSk4Ht2OA8MviZK7izc/z5tV6WSZZRP3+ST8j275M6Bz4TA1gQIJTw+EEAAAQQQQAABBBBAAAEEEEAAgQ0ChBIeCggggAACCCCAAAIIIIAAAggggAChhMcAAggggAACCCCAAAIIIIAAAgggUFiAZ5TwiEAAAQQQQAABBBBAAAEEEEAAAQQ2CBBKeCgggAACCCCAAAIIIIAAAggggAAChBIeAwgggAACCCCAAAIIIIAAAggggEBhAZ5RwiMCAQQQQAABBBBAAAEEEEAAAQQQ2CBAKOGhgAACCCCAAAIIIIAAAggggAACCBBKeAwggAACCCCAAAIIIIAAAggggAAChQV4RgmPCAQQQAABBBBAAAEEEEAAAQQQQGCDAKGEhwICCCCAAAIIIIAAAggggAACCCBAKOExgAACCCCAAAIIIIAAAggggAACCBQW4BklPCIQQAABBBBAAAEEEEAAAQQQQACBDQKEEh4KCCCAAAIIIIAAAggggAACCCCAAKGExwACCCCAAAIIIIAAAggggAACCCBQWIBnlPCIQAABBBBAIEkCk6Z/ZNtVrmhHHrp/3Pdg/sK/7ea7H7HON11qB9TfI+4dLkQAAQQQQAABBBD4R4BQwiMBAQQQQACBJAmcdP4ttt/eu9nAnjfHfQ/m/jbfml7S0R5/6HY74t8N4t7hQgQQQAABBBBAAAFCCY8BBBBAAAEEkiqwbMUqSy1XzipVrBD3/SCUxE3HhQgggAACCCCAwGYFeEYJDwwEEEAAAQSSJHBPnydt5x22t1aXnGGr16yzVu172xknH2kff/aNvfX+Z7bvXnXtsvNOsVOOPzT/Hi5dttIeGDTKJr/1cfTv9q+/u3306deFnlHyy7z59uDg0TZz1ldWISPdjj38QGt/3UVWo1oVGzD8Bftw9tfW445rrO4utaONb3741br1fcouPOtEO/OUo5KkwadFAAEEEEAAAQTCECCUhHEO3AsEEEAAgTIo0OL6brbX7rtYt9tb2vIVq+yIM66PFE5vfIQd0nBve+v9T23GB3Ps/YmDovcyWb8+11pcd699/s1Pdt4Zx9uhB9a3mbO+tBdffyc/lCxYtMROPO9m+1fDfeyCM0+wxUuX27BnJ0ZBZcj9t9mixUutecv/2A61atjIgf+xrOwcO7/13bZ99ao2vG9HS09LLYMnwW8ZAQQQQAABBBD4nwChhEcDAggggAACiWSsOgAABtlJREFUSRLYXCjpfNNldnHzxtE9WrxkuR17dlvr0/UGa3JCI5vxwX+tTcc+dn/na6NnnriPjV9603vQaBszYbq99UI/q5j5z0t6Rr80NXrGyNvj+9v21bezWXO+tcva9rRLzjnZli5fYe999LmNH97dataomiQJPi0CCCCAAAIIIBCOAKEknLPgniCAAAIIlDGBzYWS3l2us9MaH54vsf8JV1qH6y+yKy841YaNfMX6PjY2P3hsLpRceXOv6KU47k1i8z7cs1Xm/bHQxj7W1Rrss3v0r58cO8keGDgq+v+fe/RufmJOGXvs8dtFAAEEEEAAgS0LEEp4dCCAAAIIIJAkgeKGkn5Dx9nQZyfap28+nv8SmY2fUXLhtfdYudRydv0VzTb5XR20/17RS3jcR96zU9z//+oz99tudXZIkgKfFgEEEEAAAQQQCEuAUBLWeXBvEEAAAQTKkEBxQ8mYl6eZewPYgs8M2TiUdO41zN7/5At75en7LbNC+XzN3NxcS0lJif7ZPbukecsuduqJh9kn//3G0lJTbfSQu61iZkYZ0ue3igACCCCAAAIIbF6AUMIjAwEEEEAAgSQJFDeU/LlwsTU+/9boZTWtLz3TXPxwzzD56rtf8t/M1f3/57W624474iBrc/lZVrlSpn39/Vx7YvRrNuzBDpaRUd4uvv5eS01Njd7M9ce5f9i519wV/bSbXp1aJ0mCT4sAAggggAACCIQjQCgJ5yy4JwgggAACZUygYChZsXK1HX76dba59yi5/YYWdsX5TSKdCZPfszt6PpYvdfapx/zzU2/63G5H/KtB9O/dy2q693s6euZI3sexhze0vve0tV6PPGvjJr5lrz17v9Xd5Z+X2+S92es97a+KfpoOHwgggAACCCCAQFkWIJSU5dPn944AAgggUCoF1qxdZ3/M/8t22bGmlS+fvsXfw9LlK80FmFo1qm71dqUSgTuNAAIIIIAAAggkSIBQkiBYZhFAAAEEEEAAAQQQQAABBBBAoPQJEEpK35lxjxFAAAEEEEAAAQQQQAABBBBAIEEChJIEwTKLAAIIIIAAAggggAACCCCAAAKlT4BQUvrOjHuMAAIIIIAAAggggAACCCCAAAIJEiCUJAiWWQQQQAABBBBAAAEEEEAAAQQQKH0ChJLSd2bcYwQQQAABBBBAAAEEEEAAAQQQSJAAoSRBsMwigAACCCCAAAIIIIAAAggggEDpEyCUlL4z4x4jgAACCCCAAAIIIIAAAggggECCBAglCYJlFgEEEEAAAQQQQAABBBBAAAEESp8AoaT0nRn3GAEEEEAAAQQQQAABBBBAAAEEEiRAKEkQLLMIIIAAAggggAACCCCAAAIIIFD6BAglpe/MuMcIIIAAAggggAACCCCAAAIIIJAgAUJJgmCZRQABBBBAAAEEEEAAAQQQQACB0idAKCl9Z8Y9RgABBBBAAAEEEEAAAQQQQACBBAkQShIEyywCCCCAAAIIIIAAAggggAACCJQ+AUJJ6Tsz7jECCCCAAAIIIIAAAggggAACCCRIgFCSIFhmEUAAAQQQQAABBBBAAAEEEECg9AkQSkrfmXGPEUAAAQQQQAABBBBAAAEEEEAgQQKEkgTBMosAAggggAACCCCAAAIIIIAAAqVPgFBS+s6Me4wAAggggAACCCCAAAIIIIAAAgkSIJQkCJZZBBBAAAEEEEAAAQQQQAABBBAofQKEktJ3ZtxjBBBAAAEEEEAAAQQQQAABBBBIkAChJEGwzCKAAAIIIIAAAggggAACCCCAQOkTIJSUvjPjHiOAAAIIIIAAAggggAACCCCAQIIECCUJgmUWAQQQQAABBBBAAAEEEEAAAQRKnwChpPSdGfcYAQQQQAABBBBAAAEEEEAAAQQSJEAoSRAsswgggAACCCCAAAIIIIAAAgggUPoECCWl78y4xwgggAACCCCAAAIIIIAAAgggkCABQkmCYJlFAAEEEEAAAQQQQAABBBBAAIHSJ0AoKX1nxj1GAAEEEEAAAQQQQAABBBBAAIEECRBKEgTLLAIIIIAAAggggAACCCCAAAIIlD4BQknpOzPuMQIIIIAAAggggAACCCCAAAII/H87dmwCAADDMOz/r3OFh4AeCEXdHAkIJRGsWQIECBAgQIAAAQIECBAgQOBPQCj5+5mLCRAgQIAAAQIECBAgQIAAgUhAKIlgzRIgQIAAAQIECBAgQIAAAQJ/AkLJ389cTIAAAQIECBAgQIAAAQIECEQCQkkEa5YAAQIECBAgQIAAAQIECBD4ExBK/n7mYgIECBAgQIAAAQIECBAgQCASEEoiWLMECBAgQIAAAQIECBAgQIDAn8AAV4HPAnNxW+YAAAAASUVORK5CYII=",
      "text/html": [
       "<div>                            <div id=\"b61a6886-e039-4efb-9bc2-5c1e0a239f4a\" class=\"plotly-graph-div\" style=\"height:525px; width:100%;\"></div>            <script type=\"text/javascript\">                require([\"plotly\"], function(Plotly) {                    window.PLOTLYENV=window.PLOTLYENV || {};                                    if (document.getElementById(\"b61a6886-e039-4efb-9bc2-5c1e0a239f4a\")) {                    Plotly.newPlot(                        \"b61a6886-e039-4efb-9bc2-5c1e0a239f4a\",                        [{\"hovertemplate\":\"variable=last_funding_rate<br>index=%{x}<br>value=%{y}<extra></extra>\",\"legendgroup\":\"last_funding_rate\",\"line\":{\"color\":\"#636efa\",\"dash\":\"solid\"},\"marker\":{\"symbol\":\"circle\"},\"mode\":\"lines\",\"name\":\"last_funding_rate\",\"orientation\":\"v\",\"showlegend\":true,\"x\":[0,1,2,3,4,5,6,7,8,9,10,11,12,13,14,15,16,17,18,19,20,21,22,23,24,25,26,27,28,29,30,31,32,33,34,35,36,37,38,39,40,41,42,43,44,45,46,47,48,49,50,51,52,53,54,55,56,57,58,59,60,61,62,63,64,65,66,67,68,69,70,71,72,73,74,75,76,77,78,79,80,81,82,83,84,85],\"xaxis\":\"x\",\"y\":[0,0,0,0,0,0,0,0,0,0,0,0,0,0,0,0,0,0,0,0,0,0,0,0,0,0,0,0,0,0,0,0,0,0,0,0,0,0,0,0,0,0,0,0,0,0,0,0,0,0,0,0,0,0,0,0,0,0,0,0,0,0,0,0,0,0,0,0,0,0,0,0,0,0,0,0,0,0,0,0,0,0,0,0,0,0],\"yaxis\":\"y\",\"type\":\"scatter\"}],                        {\"template\":{\"data\":{\"histogram2dcontour\":[{\"type\":\"histogram2dcontour\",\"colorbar\":{\"outlinewidth\":0,\"ticks\":\"\"},\"colorscale\":[[0.0,\"#0d0887\"],[0.1111111111111111,\"#46039f\"],[0.2222222222222222,\"#7201a8\"],[0.3333333333333333,\"#9c179e\"],[0.4444444444444444,\"#bd3786\"],[0.5555555555555556,\"#d8576b\"],[0.6666666666666666,\"#ed7953\"],[0.7777777777777778,\"#fb9f3a\"],[0.8888888888888888,\"#fdca26\"],[1.0,\"#f0f921\"]]}],\"choropleth\":[{\"type\":\"choropleth\",\"colorbar\":{\"outlinewidth\":0,\"ticks\":\"\"}}],\"histogram2d\":[{\"type\":\"histogram2d\",\"colorbar\":{\"outlinewidth\":0,\"ticks\":\"\"},\"colorscale\":[[0.0,\"#0d0887\"],[0.1111111111111111,\"#46039f\"],[0.2222222222222222,\"#7201a8\"],[0.3333333333333333,\"#9c179e\"],[0.4444444444444444,\"#bd3786\"],[0.5555555555555556,\"#d8576b\"],[0.6666666666666666,\"#ed7953\"],[0.7777777777777778,\"#fb9f3a\"],[0.8888888888888888,\"#fdca26\"],[1.0,\"#f0f921\"]]}],\"heatmap\":[{\"type\":\"heatmap\",\"colorbar\":{\"outlinewidth\":0,\"ticks\":\"\"},\"colorscale\":[[0.0,\"#0d0887\"],[0.1111111111111111,\"#46039f\"],[0.2222222222222222,\"#7201a8\"],[0.3333333333333333,\"#9c179e\"],[0.4444444444444444,\"#bd3786\"],[0.5555555555555556,\"#d8576b\"],[0.6666666666666666,\"#ed7953\"],[0.7777777777777778,\"#fb9f3a\"],[0.8888888888888888,\"#fdca26\"],[1.0,\"#f0f921\"]]}],\"heatmapgl\":[{\"type\":\"heatmapgl\",\"colorbar\":{\"outlinewidth\":0,\"ticks\":\"\"},\"colorscale\":[[0.0,\"#0d0887\"],[0.1111111111111111,\"#46039f\"],[0.2222222222222222,\"#7201a8\"],[0.3333333333333333,\"#9c179e\"],[0.4444444444444444,\"#bd3786\"],[0.5555555555555556,\"#d8576b\"],[0.6666666666666666,\"#ed7953\"],[0.7777777777777778,\"#fb9f3a\"],[0.8888888888888888,\"#fdca26\"],[1.0,\"#f0f921\"]]}],\"contourcarpet\":[{\"type\":\"contourcarpet\",\"colorbar\":{\"outlinewidth\":0,\"ticks\":\"\"}}],\"contour\":[{\"type\":\"contour\",\"colorbar\":{\"outlinewidth\":0,\"ticks\":\"\"},\"colorscale\":[[0.0,\"#0d0887\"],[0.1111111111111111,\"#46039f\"],[0.2222222222222222,\"#7201a8\"],[0.3333333333333333,\"#9c179e\"],[0.4444444444444444,\"#bd3786\"],[0.5555555555555556,\"#d8576b\"],[0.6666666666666666,\"#ed7953\"],[0.7777777777777778,\"#fb9f3a\"],[0.8888888888888888,\"#fdca26\"],[1.0,\"#f0f921\"]]}],\"surface\":[{\"type\":\"surface\",\"colorbar\":{\"outlinewidth\":0,\"ticks\":\"\"},\"colorscale\":[[0.0,\"#0d0887\"],[0.1111111111111111,\"#46039f\"],[0.2222222222222222,\"#7201a8\"],[0.3333333333333333,\"#9c179e\"],[0.4444444444444444,\"#bd3786\"],[0.5555555555555556,\"#d8576b\"],[0.6666666666666666,\"#ed7953\"],[0.7777777777777778,\"#fb9f3a\"],[0.8888888888888888,\"#fdca26\"],[1.0,\"#f0f921\"]]}],\"mesh3d\":[{\"type\":\"mesh3d\",\"colorbar\":{\"outlinewidth\":0,\"ticks\":\"\"}}],\"scatter\":[{\"fillpattern\":{\"fillmode\":\"overlay\",\"size\":10,\"solidity\":0.2},\"type\":\"scatter\"}],\"parcoords\":[{\"type\":\"parcoords\",\"line\":{\"colorbar\":{\"outlinewidth\":0,\"ticks\":\"\"}}}],\"scatterpolargl\":[{\"type\":\"scatterpolargl\",\"marker\":{\"colorbar\":{\"outlinewidth\":0,\"ticks\":\"\"}}}],\"bar\":[{\"error_x\":{\"color\":\"#2a3f5f\"},\"error_y\":{\"color\":\"#2a3f5f\"},\"marker\":{\"line\":{\"color\":\"#E5ECF6\",\"width\":0.5},\"pattern\":{\"fillmode\":\"overlay\",\"size\":10,\"solidity\":0.2}},\"type\":\"bar\"}],\"scattergeo\":[{\"type\":\"scattergeo\",\"marker\":{\"colorbar\":{\"outlinewidth\":0,\"ticks\":\"\"}}}],\"scatterpolar\":[{\"type\":\"scatterpolar\",\"marker\":{\"colorbar\":{\"outlinewidth\":0,\"ticks\":\"\"}}}],\"histogram\":[{\"marker\":{\"pattern\":{\"fillmode\":\"overlay\",\"size\":10,\"solidity\":0.2}},\"type\":\"histogram\"}],\"scattergl\":[{\"type\":\"scattergl\",\"marker\":{\"colorbar\":{\"outlinewidth\":0,\"ticks\":\"\"}}}],\"scatter3d\":[{\"type\":\"scatter3d\",\"line\":{\"colorbar\":{\"outlinewidth\":0,\"ticks\":\"\"}},\"marker\":{\"colorbar\":{\"outlinewidth\":0,\"ticks\":\"\"}}}],\"scattermapbox\":[{\"type\":\"scattermapbox\",\"marker\":{\"colorbar\":{\"outlinewidth\":0,\"ticks\":\"\"}}}],\"scatterternary\":[{\"type\":\"scatterternary\",\"marker\":{\"colorbar\":{\"outlinewidth\":0,\"ticks\":\"\"}}}],\"scattercarpet\":[{\"type\":\"scattercarpet\",\"marker\":{\"colorbar\":{\"outlinewidth\":0,\"ticks\":\"\"}}}],\"carpet\":[{\"aaxis\":{\"endlinecolor\":\"#2a3f5f\",\"gridcolor\":\"white\",\"linecolor\":\"white\",\"minorgridcolor\":\"white\",\"startlinecolor\":\"#2a3f5f\"},\"baxis\":{\"endlinecolor\":\"#2a3f5f\",\"gridcolor\":\"white\",\"linecolor\":\"white\",\"minorgridcolor\":\"white\",\"startlinecolor\":\"#2a3f5f\"},\"type\":\"carpet\"}],\"table\":[{\"cells\":{\"fill\":{\"color\":\"#EBF0F8\"},\"line\":{\"color\":\"white\"}},\"header\":{\"fill\":{\"color\":\"#C8D4E3\"},\"line\":{\"color\":\"white\"}},\"type\":\"table\"}],\"barpolar\":[{\"marker\":{\"line\":{\"color\":\"#E5ECF6\",\"width\":0.5},\"pattern\":{\"fillmode\":\"overlay\",\"size\":10,\"solidity\":0.2}},\"type\":\"barpolar\"}],\"pie\":[{\"automargin\":true,\"type\":\"pie\"}]},\"layout\":{\"autotypenumbers\":\"strict\",\"colorway\":[\"#636efa\",\"#EF553B\",\"#00cc96\",\"#ab63fa\",\"#FFA15A\",\"#19d3f3\",\"#FF6692\",\"#B6E880\",\"#FF97FF\",\"#FECB52\"],\"font\":{\"color\":\"#2a3f5f\"},\"hovermode\":\"closest\",\"hoverlabel\":{\"align\":\"left\"},\"paper_bgcolor\":\"white\",\"plot_bgcolor\":\"#E5ECF6\",\"polar\":{\"bgcolor\":\"#E5ECF6\",\"angularaxis\":{\"gridcolor\":\"white\",\"linecolor\":\"white\",\"ticks\":\"\"},\"radialaxis\":{\"gridcolor\":\"white\",\"linecolor\":\"white\",\"ticks\":\"\"}},\"ternary\":{\"bgcolor\":\"#E5ECF6\",\"aaxis\":{\"gridcolor\":\"white\",\"linecolor\":\"white\",\"ticks\":\"\"},\"baxis\":{\"gridcolor\":\"white\",\"linecolor\":\"white\",\"ticks\":\"\"},\"caxis\":{\"gridcolor\":\"white\",\"linecolor\":\"white\",\"ticks\":\"\"}},\"coloraxis\":{\"colorbar\":{\"outlinewidth\":0,\"ticks\":\"\"}},\"colorscale\":{\"sequential\":[[0.0,\"#0d0887\"],[0.1111111111111111,\"#46039f\"],[0.2222222222222222,\"#7201a8\"],[0.3333333333333333,\"#9c179e\"],[0.4444444444444444,\"#bd3786\"],[0.5555555555555556,\"#d8576b\"],[0.6666666666666666,\"#ed7953\"],[0.7777777777777778,\"#fb9f3a\"],[0.8888888888888888,\"#fdca26\"],[1.0,\"#f0f921\"]],\"sequentialminus\":[[0.0,\"#0d0887\"],[0.1111111111111111,\"#46039f\"],[0.2222222222222222,\"#7201a8\"],[0.3333333333333333,\"#9c179e\"],[0.4444444444444444,\"#bd3786\"],[0.5555555555555556,\"#d8576b\"],[0.6666666666666666,\"#ed7953\"],[0.7777777777777778,\"#fb9f3a\"],[0.8888888888888888,\"#fdca26\"],[1.0,\"#f0f921\"]],\"diverging\":[[0,\"#8e0152\"],[0.1,\"#c51b7d\"],[0.2,\"#de77ae\"],[0.3,\"#f1b6da\"],[0.4,\"#fde0ef\"],[0.5,\"#f7f7f7\"],[0.6,\"#e6f5d0\"],[0.7,\"#b8e186\"],[0.8,\"#7fbc41\"],[0.9,\"#4d9221\"],[1,\"#276419\"]]},\"xaxis\":{\"gridcolor\":\"white\",\"linecolor\":\"white\",\"ticks\":\"\",\"title\":{\"standoff\":15},\"zerolinecolor\":\"white\",\"automargin\":true,\"zerolinewidth\":2},\"yaxis\":{\"gridcolor\":\"white\",\"linecolor\":\"white\",\"ticks\":\"\",\"title\":{\"standoff\":15},\"zerolinecolor\":\"white\",\"automargin\":true,\"zerolinewidth\":2},\"scene\":{\"xaxis\":{\"backgroundcolor\":\"#E5ECF6\",\"gridcolor\":\"white\",\"linecolor\":\"white\",\"showbackground\":true,\"ticks\":\"\",\"zerolinecolor\":\"white\",\"gridwidth\":2},\"yaxis\":{\"backgroundcolor\":\"#E5ECF6\",\"gridcolor\":\"white\",\"linecolor\":\"white\",\"showbackground\":true,\"ticks\":\"\",\"zerolinecolor\":\"white\",\"gridwidth\":2},\"zaxis\":{\"backgroundcolor\":\"#E5ECF6\",\"gridcolor\":\"white\",\"linecolor\":\"white\",\"showbackground\":true,\"ticks\":\"\",\"zerolinecolor\":\"white\",\"gridwidth\":2}},\"shapedefaults\":{\"line\":{\"color\":\"#2a3f5f\"}},\"annotationdefaults\":{\"arrowcolor\":\"#2a3f5f\",\"arrowhead\":0,\"arrowwidth\":1},\"geo\":{\"bgcolor\":\"white\",\"landcolor\":\"#E5ECF6\",\"subunitcolor\":\"white\",\"showland\":true,\"showlakes\":true,\"lakecolor\":\"white\"},\"title\":{\"x\":0.05},\"mapbox\":{\"style\":\"light\"}}},\"xaxis\":{\"anchor\":\"y\",\"domain\":[0.0,1.0],\"title\":{\"text\":\"index\"}},\"yaxis\":{\"anchor\":\"x\",\"domain\":[0.0,1.0],\"title\":{\"text\":\"value\"}},\"legend\":{\"title\":{\"text\":\"variable\"},\"tracegroupgap\":0},\"margin\":{\"t\":60}},                        {\"responsive\": true}                    ).then(function(){\n",
       "                            \n",
       "var gd = document.getElementById('b61a6886-e039-4efb-9bc2-5c1e0a239f4a');\n",
>>>>>>> master
       "var x = new MutationObserver(function (mutations, observer) {{\n",
       "        var display = window.getComputedStyle(gd).display;\n",
       "        if (!display || display === 'none') {{\n",
       "            console.log([gd, 'removed!']);\n",
       "            Plotly.purge(gd);\n",
       "            observer.disconnect();\n",
       "        }}\n",
       "}});\n",
       "\n",
       "// Listen for the removal of the full notebook cells\n",
       "var notebookContainer = gd.closest('#notebook-container');\n",
       "if (notebookContainer) {{\n",
       "    x.observe(notebookContainer, {childList: true});\n",
       "}}\n",
       "\n",
       "// Listen for the clearing of the current output cell\n",
       "var outputEl = gd.closest('.output');\n",
       "if (outputEl) {{\n",
       "    x.observe(outputEl, {childList: true});\n",
       "}}\n",
       "\n",
       "                        })                };                });            </script>        </div>"
      ]
     },
     "metadata": {},
     "output_type": "display_data"
    }
   ],
   "source": [
<<<<<<< HEAD
    "(result.base_asset_amount_with_amm/1e9).plot()"
=======
    "result['last_funding_rate'].plot()"
>>>>>>> master
   ]
  },
  {
   "cell_type": "code",
<<<<<<< HEAD
   "execution_count": 303,
   "id": "32b04af3-5014-4481-a72d-73735113cd97",
=======
   "execution_count": 247,
   "id": "8b3589cc-8831-44b6-8e60-4c3675ec0276",
>>>>>>> master
   "metadata": {},
   "outputs": [
    {
     "data": {
      "application/vnd.plotly.v1+json": {
       "config": {
        "plotlyServerURL": "https://plot.ly"
       },
       "data": [
        {
<<<<<<< HEAD
         "hovertemplate": "variable=last_funding_rate<br>index=%{x}<br>value=%{y}<extra></extra>",
         "legendgroup": "last_funding_rate",
=======
         "hovertemplate": "variable=base_asset_amount_with_amm<br>index=%{x}<br>value=%{y}<extra></extra>",
         "legendgroup": "base_asset_amount_with_amm",
>>>>>>> master
         "line": {
          "color": "#636efa",
          "dash": "solid"
         },
         "marker": {
          "symbol": "circle"
         },
         "mode": "lines",
<<<<<<< HEAD
         "name": "last_funding_rate",
=======
         "name": "base_asset_amount_with_amm",
>>>>>>> master
         "orientation": "v",
         "showlegend": true,
         "type": "scatter",
         "x": [
          0,
          1,
          2,
          3,
          4,
          5,
          6,
          7,
          8,
          9,
          10,
          11,
          12,
          13,
          14,
          15,
          16,
          17,
          18,
          19,
          20,
          21,
          22,
          23,
          24,
          25,
          26,
          27,
          28,
          29,
          30,
          31,
          32,
          33,
          34,
          35,
          36,
          37,
          38,
          39,
          40,
          41,
          42,
          43,
          44,
          45,
          46,
          47,
          48,
          49,
          50,
          51,
          52,
          53,
          54,
          55,
          56,
          57,
          58,
          59,
          60,
          61,
          62,
          63,
          64,
          65,
          66,
          67,
          68,
          69,
          70,
          71,
          72,
          73,
          74,
          75,
          76,
          77,
          78,
          79,
          80,
          81,
          82,
          83,
          84,
<<<<<<< HEAD
          85,
          86,
          87,
          88,
          89
=======
          85
>>>>>>> master
         ],
         "xaxis": "x",
         "y": [
          0,
          0,
          0,
          0,
          0,
          0,
          0,
          0,
          0,
          0,
          0,
          0,
          0,
          0,
          0,
          0,
          0,
          0,
          0,
          0,
<<<<<<< HEAD
          0,
          0,
          0,
          0,
          0,
          0,
          0,
          0,
          0,
          0,
          0,
          0,
          0,
          0,
          0,
          0,
          0,
          0,
          0,
          0,
          0,
          0,
          0,
          0,
          0,
          0,
          0,
          0,
          0,
          0,
          0,
          0,
          0,
          0,
          0,
          0,
          0,
          0,
          0,
          0,
          0,
          0,
          0,
          0,
          0,
          0,
          0,
          0,
          0,
          0,
          0,
          0,
          0,
          0,
          0,
          0,
          0,
          0,
          0,
          0,
          0,
          0,
          0,
          0,
          0,
          0,
          0,
          0,
          0,
=======
          -0.0101,
          -0.0101,
          -0.0203,
          -0.0203,
          -0.0203,
          -0.0203,
          -0.0203,
          -0.0203,
          -0.0103,
          -0.0103,
          -0.0205,
          -0.0205,
          -0.0205,
          -0.0308,
          -0.0308,
          -0.0308,
          -0.0308,
          -0.0308,
          -0.0412,
          -0.0412,
          -0.0412,
          -0.0412,
          -0.0412,
          -0.0412,
          -0.0412,
          -0.0517,
          -0.0517,
          -0.0517,
          -0.0517,
          -0.0517,
          -0.0517,
          -0.0517,
          -0.0517,
          -0.0517,
          -0.0517,
          -0.0517,
          -0.0517,
          -0.0517,
          -0.0517,
          -0.0517,
          -0.0517,
          -0.0517,
          -0.0517,
          -0.0517,
          -0.0517,
          -0.0517,
          -0.0517,
          -0.0517,
          -0.0517,
          -0.0517,
          -0.0517,
          -0.0517,
          -0.0517,
          -0.0517,
          -0.0517,
          -0.0517,
          -0.0517,
          -0.0517,
          -0.0517,
          -0.0617,
          -0.0512,
          -0.041,
          -0.0308,
          -0.0204,
          -0.0101,
>>>>>>> master
          0
         ],
         "yaxis": "y"
        }
       ],
       "layout": {
        "autosize": true,
        "legend": {
         "title": {
          "text": "variable"
         },
         "tracegroupgap": 0
        },
        "margin": {
         "t": 60
        },
        "template": {
         "data": {
          "bar": [
           {
            "error_x": {
             "color": "#2a3f5f"
            },
            "error_y": {
             "color": "#2a3f5f"
            },
            "marker": {
             "line": {
              "color": "#E5ECF6",
              "width": 0.5
             },
             "pattern": {
              "fillmode": "overlay",
              "size": 10,
              "solidity": 0.2
             }
            },
            "type": "bar"
           }
          ],
          "barpolar": [
           {
            "marker": {
             "line": {
              "color": "#E5ECF6",
              "width": 0.5
             },
             "pattern": {
              "fillmode": "overlay",
              "size": 10,
              "solidity": 0.2
             }
            },
            "type": "barpolar"
           }
          ],
          "carpet": [
           {
            "aaxis": {
             "endlinecolor": "#2a3f5f",
             "gridcolor": "white",
             "linecolor": "white",
             "minorgridcolor": "white",
             "startlinecolor": "#2a3f5f"
            },
            "baxis": {
             "endlinecolor": "#2a3f5f",
             "gridcolor": "white",
             "linecolor": "white",
             "minorgridcolor": "white",
             "startlinecolor": "#2a3f5f"
            },
            "type": "carpet"
           }
          ],
          "choropleth": [
           {
            "colorbar": {
             "outlinewidth": 0,
             "ticks": ""
            },
            "type": "choropleth"
           }
          ],
          "contour": [
           {
            "colorbar": {
             "outlinewidth": 0,
             "ticks": ""
            },
            "colorscale": [
             [
              0,
              "#0d0887"
             ],
             [
              0.1111111111111111,
              "#46039f"
             ],
             [
              0.2222222222222222,
              "#7201a8"
             ],
             [
              0.3333333333333333,
              "#9c179e"
             ],
             [
              0.4444444444444444,
              "#bd3786"
             ],
             [
              0.5555555555555556,
              "#d8576b"
             ],
             [
              0.6666666666666666,
              "#ed7953"
             ],
             [
              0.7777777777777778,
              "#fb9f3a"
             ],
             [
              0.8888888888888888,
              "#fdca26"
             ],
             [
              1,
              "#f0f921"
             ]
            ],
            "type": "contour"
           }
          ],
          "contourcarpet": [
           {
            "colorbar": {
             "outlinewidth": 0,
             "ticks": ""
            },
            "type": "contourcarpet"
           }
          ],
          "heatmap": [
           {
            "colorbar": {
             "outlinewidth": 0,
             "ticks": ""
            },
            "colorscale": [
             [
              0,
              "#0d0887"
             ],
             [
              0.1111111111111111,
              "#46039f"
             ],
             [
              0.2222222222222222,
              "#7201a8"
             ],
             [
              0.3333333333333333,
              "#9c179e"
             ],
             [
              0.4444444444444444,
              "#bd3786"
             ],
             [
              0.5555555555555556,
              "#d8576b"
             ],
             [
              0.6666666666666666,
              "#ed7953"
             ],
             [
              0.7777777777777778,
              "#fb9f3a"
             ],
             [
              0.8888888888888888,
              "#fdca26"
             ],
             [
              1,
              "#f0f921"
             ]
            ],
            "type": "heatmap"
           }
          ],
          "heatmapgl": [
           {
            "colorbar": {
             "outlinewidth": 0,
             "ticks": ""
            },
            "colorscale": [
             [
              0,
              "#0d0887"
             ],
             [
              0.1111111111111111,
              "#46039f"
             ],
             [
              0.2222222222222222,
              "#7201a8"
             ],
             [
              0.3333333333333333,
              "#9c179e"
             ],
             [
              0.4444444444444444,
              "#bd3786"
             ],
             [
              0.5555555555555556,
              "#d8576b"
             ],
             [
              0.6666666666666666,
              "#ed7953"
             ],
             [
              0.7777777777777778,
              "#fb9f3a"
             ],
             [
              0.8888888888888888,
              "#fdca26"
             ],
             [
              1,
              "#f0f921"
             ]
            ],
            "type": "heatmapgl"
           }
          ],
          "histogram": [
           {
            "marker": {
             "pattern": {
              "fillmode": "overlay",
              "size": 10,
              "solidity": 0.2
             }
            },
            "type": "histogram"
           }
          ],
          "histogram2d": [
           {
            "colorbar": {
             "outlinewidth": 0,
             "ticks": ""
            },
            "colorscale": [
             [
              0,
              "#0d0887"
             ],
             [
              0.1111111111111111,
              "#46039f"
             ],
             [
              0.2222222222222222,
              "#7201a8"
             ],
             [
              0.3333333333333333,
              "#9c179e"
             ],
             [
              0.4444444444444444,
              "#bd3786"
             ],
             [
              0.5555555555555556,
              "#d8576b"
             ],
             [
              0.6666666666666666,
              "#ed7953"
             ],
             [
              0.7777777777777778,
              "#fb9f3a"
             ],
             [
              0.8888888888888888,
              "#fdca26"
             ],
             [
              1,
              "#f0f921"
             ]
            ],
            "type": "histogram2d"
           }
          ],
          "histogram2dcontour": [
           {
            "colorbar": {
             "outlinewidth": 0,
             "ticks": ""
            },
            "colorscale": [
             [
              0,
              "#0d0887"
             ],
             [
              0.1111111111111111,
              "#46039f"
             ],
             [
              0.2222222222222222,
              "#7201a8"
             ],
             [
              0.3333333333333333,
              "#9c179e"
             ],
             [
              0.4444444444444444,
              "#bd3786"
             ],
             [
              0.5555555555555556,
              "#d8576b"
             ],
             [
              0.6666666666666666,
              "#ed7953"
             ],
             [
              0.7777777777777778,
              "#fb9f3a"
             ],
             [
              0.8888888888888888,
              "#fdca26"
             ],
             [
              1,
              "#f0f921"
             ]
            ],
            "type": "histogram2dcontour"
           }
          ],
          "mesh3d": [
           {
            "colorbar": {
             "outlinewidth": 0,
             "ticks": ""
            },
            "type": "mesh3d"
           }
          ],
          "parcoords": [
           {
            "line": {
             "colorbar": {
              "outlinewidth": 0,
              "ticks": ""
             }
            },
            "type": "parcoords"
           }
          ],
          "pie": [
           {
            "automargin": true,
            "type": "pie"
           }
          ],
          "scatter": [
           {
            "fillpattern": {
             "fillmode": "overlay",
             "size": 10,
             "solidity": 0.2
            },
            "type": "scatter"
           }
          ],
          "scatter3d": [
           {
            "line": {
             "colorbar": {
              "outlinewidth": 0,
              "ticks": ""
             }
            },
            "marker": {
             "colorbar": {
              "outlinewidth": 0,
              "ticks": ""
             }
            },
            "type": "scatter3d"
           }
          ],
          "scattercarpet": [
           {
            "marker": {
             "colorbar": {
              "outlinewidth": 0,
              "ticks": ""
             }
            },
            "type": "scattercarpet"
           }
          ],
          "scattergeo": [
           {
            "marker": {
             "colorbar": {
              "outlinewidth": 0,
              "ticks": ""
             }
            },
            "type": "scattergeo"
           }
          ],
          "scattergl": [
           {
            "marker": {
             "colorbar": {
              "outlinewidth": 0,
              "ticks": ""
             }
            },
            "type": "scattergl"
           }
          ],
          "scattermapbox": [
           {
            "marker": {
             "colorbar": {
              "outlinewidth": 0,
              "ticks": ""
             }
            },
            "type": "scattermapbox"
           }
          ],
          "scatterpolar": [
           {
            "marker": {
             "colorbar": {
              "outlinewidth": 0,
              "ticks": ""
             }
            },
            "type": "scatterpolar"
           }
          ],
          "scatterpolargl": [
           {
            "marker": {
             "colorbar": {
              "outlinewidth": 0,
              "ticks": ""
             }
            },
            "type": "scatterpolargl"
           }
          ],
          "scatterternary": [
           {
            "marker": {
             "colorbar": {
              "outlinewidth": 0,
              "ticks": ""
             }
            },
            "type": "scatterternary"
           }
          ],
          "surface": [
           {
            "colorbar": {
             "outlinewidth": 0,
             "ticks": ""
            },
            "colorscale": [
             [
              0,
              "#0d0887"
             ],
             [
              0.1111111111111111,
              "#46039f"
             ],
             [
              0.2222222222222222,
              "#7201a8"
             ],
             [
              0.3333333333333333,
              "#9c179e"
             ],
             [
              0.4444444444444444,
              "#bd3786"
             ],
             [
              0.5555555555555556,
              "#d8576b"
             ],
             [
              0.6666666666666666,
              "#ed7953"
             ],
             [
              0.7777777777777778,
              "#fb9f3a"
             ],
             [
              0.8888888888888888,
              "#fdca26"
             ],
             [
              1,
              "#f0f921"
             ]
            ],
            "type": "surface"
           }
          ],
          "table": [
           {
            "cells": {
             "fill": {
              "color": "#EBF0F8"
             },
             "line": {
              "color": "white"
             }
            },
            "header": {
             "fill": {
              "color": "#C8D4E3"
             },
             "line": {
              "color": "white"
             }
            },
            "type": "table"
           }
          ]
         },
         "layout": {
          "annotationdefaults": {
           "arrowcolor": "#2a3f5f",
           "arrowhead": 0,
           "arrowwidth": 1
          },
          "autotypenumbers": "strict",
          "coloraxis": {
           "colorbar": {
            "outlinewidth": 0,
            "ticks": ""
           }
          },
          "colorscale": {
           "diverging": [
            [
             0,
             "#8e0152"
            ],
            [
             0.1,
             "#c51b7d"
            ],
            [
             0.2,
             "#de77ae"
            ],
            [
             0.3,
             "#f1b6da"
            ],
            [
             0.4,
             "#fde0ef"
            ],
            [
             0.5,
             "#f7f7f7"
            ],
            [
             0.6,
             "#e6f5d0"
            ],
            [
             0.7,
             "#b8e186"
            ],
            [
             0.8,
             "#7fbc41"
            ],
            [
             0.9,
             "#4d9221"
            ],
            [
             1,
             "#276419"
            ]
           ],
           "sequential": [
            [
             0,
             "#0d0887"
            ],
            [
             0.1111111111111111,
             "#46039f"
            ],
            [
             0.2222222222222222,
             "#7201a8"
            ],
            [
             0.3333333333333333,
             "#9c179e"
            ],
            [
             0.4444444444444444,
             "#bd3786"
            ],
            [
             0.5555555555555556,
             "#d8576b"
            ],
            [
             0.6666666666666666,
             "#ed7953"
            ],
            [
             0.7777777777777778,
             "#fb9f3a"
            ],
            [
             0.8888888888888888,
             "#fdca26"
            ],
            [
             1,
             "#f0f921"
            ]
           ],
           "sequentialminus": [
            [
             0,
             "#0d0887"
            ],
            [
             0.1111111111111111,
             "#46039f"
            ],
            [
             0.2222222222222222,
             "#7201a8"
            ],
            [
             0.3333333333333333,
             "#9c179e"
            ],
            [
             0.4444444444444444,
             "#bd3786"
            ],
            [
             0.5555555555555556,
             "#d8576b"
            ],
            [
             0.6666666666666666,
             "#ed7953"
            ],
            [
             0.7777777777777778,
             "#fb9f3a"
            ],
            [
             0.8888888888888888,
             "#fdca26"
            ],
            [
             1,
             "#f0f921"
            ]
           ]
          },
          "colorway": [
           "#636efa",
           "#EF553B",
           "#00cc96",
           "#ab63fa",
           "#FFA15A",
           "#19d3f3",
           "#FF6692",
           "#B6E880",
           "#FF97FF",
           "#FECB52"
          ],
          "font": {
           "color": "#2a3f5f"
          },
          "geo": {
           "bgcolor": "white",
           "lakecolor": "white",
           "landcolor": "#E5ECF6",
           "showlakes": true,
           "showland": true,
           "subunitcolor": "white"
          },
          "hoverlabel": {
           "align": "left"
          },
          "hovermode": "closest",
          "mapbox": {
           "style": "light"
          },
          "paper_bgcolor": "white",
          "plot_bgcolor": "#E5ECF6",
          "polar": {
           "angularaxis": {
            "gridcolor": "white",
            "linecolor": "white",
            "ticks": ""
           },
           "bgcolor": "#E5ECF6",
           "radialaxis": {
            "gridcolor": "white",
            "linecolor": "white",
            "ticks": ""
           }
          },
          "scene": {
           "xaxis": {
            "backgroundcolor": "#E5ECF6",
            "gridcolor": "white",
            "gridwidth": 2,
            "linecolor": "white",
            "showbackground": true,
            "ticks": "",
            "zerolinecolor": "white"
           },
           "yaxis": {
            "backgroundcolor": "#E5ECF6",
            "gridcolor": "white",
            "gridwidth": 2,
            "linecolor": "white",
            "showbackground": true,
            "ticks": "",
            "zerolinecolor": "white"
           },
           "zaxis": {
            "backgroundcolor": "#E5ECF6",
            "gridcolor": "white",
            "gridwidth": 2,
            "linecolor": "white",
            "showbackground": true,
            "ticks": "",
            "zerolinecolor": "white"
           }
          },
          "shapedefaults": {
           "line": {
            "color": "#2a3f5f"
           }
          },
          "ternary": {
           "aaxis": {
            "gridcolor": "white",
            "linecolor": "white",
            "ticks": ""
           },
           "baxis": {
            "gridcolor": "white",
            "linecolor": "white",
            "ticks": ""
           },
           "bgcolor": "#E5ECF6",
           "caxis": {
            "gridcolor": "white",
            "linecolor": "white",
            "ticks": ""
           }
          },
          "title": {
           "x": 0.05
          },
          "xaxis": {
           "automargin": true,
           "gridcolor": "white",
           "linecolor": "white",
           "ticks": "",
           "title": {
            "standoff": 15
           },
           "zerolinecolor": "white",
           "zerolinewidth": 2
          },
          "yaxis": {
           "automargin": true,
           "gridcolor": "white",
           "linecolor": "white",
           "ticks": "",
           "title": {
            "standoff": 15
           },
           "zerolinecolor": "white",
           "zerolinewidth": 2
          }
         }
        },
        "xaxis": {
         "anchor": "y",
         "autorange": true,
         "domain": [
          0,
          1
         ],
         "range": [
          0,
<<<<<<< HEAD
          89
=======
          85
>>>>>>> master
         ],
         "title": {
          "text": "index"
         },
         "type": "linear"
        },
        "yaxis": {
         "anchor": "x",
         "autorange": true,
         "domain": [
          0,
          1
         ],
         "range": [
<<<<<<< HEAD
          -1,
          1
=======
          -0.06512777777777777,
          0.003427777777777778
>>>>>>> master
         ],
         "title": {
          "text": "value"
         },
         "type": "linear"
        }
       }
      },
<<<<<<< HEAD
      "image/png": "iVBORw0KGgoAAAANSUhEUgAABEoAAAFoCAYAAABAGh56AAAAAXNSR0IArs4c6QAAIABJREFUeF7s3Xd8VOW2h/GVQgcpAvaKiqLYjr0c21XEhtgRKzYsYEUUDoIiNhQUBFHAXhBUVLCAUhQLWLBg73JQRLAgHRJyP3tLcpIAMiv57Xkn5Jl/7lHWrJl837mKD3tmsgoKCgqMGwIIIIAAAggggAACCCCAAAIIIICAZRFKeBUggAACCCCAAAIIIIAAAggggAACfwsQSnglIIAAAggggAACCCCAAAIIIIAAAisECCW8FBBAAAEEEEAAAQQQQAABBBBAAAFCCa8BBBBAAAEEEEAAAQQQQAABBBBAoKQAV5TwikAAAQQQQAABBBBAAAEEEEAAAQRWCBBKeCkggAACCCCAAAIIIIAAAggggAAChBJeAwgggAACCCCAAAIIIIAAAggggEBJAa4o4RWBAAIIIIAAAggggAACCCCAAAIIrBAglPBSQAABBBBAAAEEEEAAAQQQQAABBAglvAYQQAABBBBAAAEEEEAAAQQQQACBkgJcUcIrAgEEEEAAAQQQQAABBBBAAAEEEFghQCjhpYAAAggggAACCCCAAAIIIIAAAggQSngNIIAAAggggAACCCCAAAIIIIAAAiUFuKKEVwQCCCCAAAIIIIAAAggggAACCCCwQoBQwksBAQQQQAABBBBAAAEEEEAAAQQQIJTwGkAAAQQQQAABBBBAAAEEEEAAAQRKCnBFCa8IBBBAAAEEEEAAAQQQQAABBBBAYIUAoYSXAgIIIIAAAggggAACCCCAAAIIIEAo4TWAAAIIIIAAAggggAACCCCAAAIIlBTgihJeEQgggAACCCCAAAIIIIAAAggggMAKAUIJLwUEEEAAAQQQQAABBBBAAAEEEECAUMJrAAEEEEAAAQQQQAABBBBAAAEEECgpwBUlvCIQQAABBBBAAAEEEEAAAQQQQACBFQKEEl4KCCCAAAIIIIAAAggggAACCCCAAKGE1wACCCCAAAIIIIAAAggggAACCCBQUoArSnhFIIAAAggggAACCCCAAAIIIIAAAisECCW8FBBAAAEEEEAAAQQQQAABBBBAAAFCCa8BBBBAAAEEEEAAAQQQQAABBBBAoKQAV5TwikAAAQQQQAABBBBAAAEEEEAAAQRWCBBKeCkggAACCCCAAAIIIIAAAggggAAChBJeAwgggAACCCCAAAIIIIAAAggggEBJAa4o4RWBAAIIIIAAAggggAACCCCAAAIIrBAglPBSQAABBBBAAAEEEEAAAQQQQAABBAglvAYQQAABBBBAAAEEEEAAAQQQQACBkgJcUcIrAgEEEEAAAQQQQAABBBBAAAEEEFghQCjhpYAAAggggAACCCCAAAIIIIAAAggQSngNIIAAAggggAACCCCAAAIIIIAAAiUFuKKEVwQCCCCAAAIIIIAAAggggAACCCCwQoBQwksBAQQQQAABBBBAAAEEEEAAAQQQIJTwGkAAAQQQQAABBBBAAAEEEEAAAQRKCnBFCa8IBBBAAAEEEEAAAQQQQAABBBBAYIUAoYSXAgIIIIAAAggggAACCCCAAAIIIEAo4TWAAAIIIIAAAggggAACCCCAAAIIlBTgihJeEQgggAACCCCAAAIIIIAAAggggMAKAUIJLwUEEEAAAQQQQAABBBBAAAEEEECAUMJrAAEEEEAAAQQQQAABBBBAAAEEECgpwBUlvCIQQAABBBBAAAEEEEAAAQQQQACBFQKEEl4KCCCAAAIIIIAAAggggAACCCCAAKGE1wACCCCAAAIIIIAAAggggAACCCBQUoArSnhFIIAAAggggAACCCCAAAIIIIAAAisECCW8FBBAAAEEEEAAAQQQQAABBBBAAAFCCa8BBBBAAAEEEEAAAQQQQAABBBBAoKQAV5TwikAAAQQQQAABBBBAAAEEEEAAAQRWCBBKUnwpFBQUWP7y5Zabk5PiPRhDAAEEEEAAAQQQQAABBBBAAIGKJkAoSfHERo19y/oOHmHjR/RN8R6MIYAAAggggAACCCCAAAIIIIBARRMglKzhxKb/NMvOu+p2mzFztq3XqD6hpKK9wnm+CCCAAAIIIIAAAggggAACCDgECCVrwMrLz7c5v8+18W98YEMeH00ocby4GEUAAQQQQAABBBBAAAEEEECgogkQSlI8sZfGT7He9wwjlKToxRgCCCCAAAIIIIAAAggggAACFVGAUJLiqRFKUoRiDAEEEEAAAQQQQAABBBBAAIEKLEAoSfHw/imU/PzbohS3MKYQqFE1x6pXy7E/5i1VrGNHigJVcrKsXu2qNnvukhTvwZhKYMN1axj/nFFppr5nvfrVbc7cJZa/vCD1OzFZboF116lm8xctsyXLlpd7FwtSF6hbq4rl5RfYgsV5qd+JyXIL1Kyea1VzsuzPBcvKvYsFqQtUzc22dWpVif8Zz00nEP1+hRsCa4sAoSTFkySUpAiVhjFCSRqQV/EQhJIw7tGjEkrC2BNKwrgTSsK4E0rCuBNKwrgTSpJxJ5Qk48rWMAKEkjW4FxQUWF5evr084Z3464HHPN7bsrKzLDcnp+ie/Elvel+8hJL0ehc+GqEkjDuhJJw7oSSMPaEkjDuhJIw7oSSMO6EkGXdCSTKubA0jQChZg/s33/9krc7uWmLq6MP2sVu6nE8oCfOaNUJJGHhCSRh3Qkk4d0JJGHtCSRh3QkkYd0JJGHdCSTLuhJJkXNkaRoBQInDnihIBomMFocSBJRwllAgxnat4640TTDROKBFBOtcQSpxgonFCiQjSuYZQ4gQTjRNKRJCl1hBKknFlaxgBQonAnVAiQHSsIJQ4sISjhBIhpnMVocQJJhonlIggnWsIJU4w0TihRATpXEMocYKJxgklIkhCSTKQbM0IAUKJ4BgIJQJExwpCiQNLOEooEWI6VxFKnGCicUKJCNK5hlDiBBONE0pEkM41hBInmGicUCKCJJQkA8nWjBAglAiOgVAiQHSsIJQ4sISjhBIhpnMVocQJJhonlIggnWsIJU4w0TihRATpXEMocYKJxgklIsgKGko++ORrm/HzbIs+dzKVWzR/28Bh1v/GjtawQd1V3mX48xPsjXenWb+eHVNZyUwFECCUCA6JUCJAdKwglDiwhKOEEiGmcxWhxAkmGieUiCCdawglTjDROKFEBOlcQyhxgonGCSUiyAoaSnrc/qCNGD3RPp34YEoQk6Z8bO0797FXh/exDRo3WOV9+g192p59+Q0bP6JvSjsZynwBQongjAglAkTHCkKJA0s4SigRYjpXEUqcYKJxQokI0rmGUOIEE40TSkSQzjWEEieYaJxQIoKsoKFk4aIltiwvz+rWqZUSBKEkJaa1bohQIjhSQokA0bGCUOLAEo4SSoSYzlWEEieYaJxQIoJ0riGUOMFE44QSEaRzDaHECSYaJ5SIIBMMJdFVH1nZWdb9ijOLHiUvP98u6XKn7b/njtb2uEPtih4D7dMvv7cZM2dbg3p1bN89mtvl551o6zWqH9/nyefG25QPvrCLz2plj40cZ9/9+LN1POc4+/bHn+3t9z61Pj0ujucefPJlGz5qgs3+bW781ztt38Q6tDvOdmrWJP7rwlDS9dLT7cVxky16K84OTbewblecEf/f6Fb6ipL8/OX26DOv2NOjX4sfb5stN7b2Z7SyFgfungw+W+UChBIBKaFEgOhYQShxYAlHCSVCTOcqQokTTDROKBFBOtcQSpxgonFCiQjSuYZQ4gQTjRNKRJCl1ii/HvjxkeOs112P2JgnetvGGzSKH+nNdz+x8zvdbo8P7BZHjI7d+tnO229lG2/Q2P748y+7+4GR1nSrTW3I7Z3i+T73DrehT7wY/+9dm28TB5STjznI3n7/0xJvk+l//zMWhY1tttzE8vPz7dGnX7Hvps+0CU/1tdq1ahSFkpo1qlubYw+2rKwsG/L4Cxb99cSn77RaNauvFEqix37i2fHx/I7NmtjLE96xl8ZPKXruyZwAW5UChBKBJqFEgOhYQShxYAlHCSVCTOcqQokTTDROKBFBOtcQSpxgonFCiQjSuYZQ4gQTjRNKRJAJhpK5fy2wfY652C4+u7VddGar+JGiK0i+n/6zjbz/xhKPvGTpMvtj7jx7ZMRYe3D4y/bxuPstJyc7DiVRrHj07q7WtMkmRfdZ3eeJRFes/Dl3vr374Rd21Q332BMDu8WRo/CKkucf7GVNNt8o3jP5/c/snCtvs97dLrQjDtmzRCj57Y+/7N+tO9oVF5xk57Q5Ip6Pdu991MV2/JH/tmsuOTWZA2CrVIBQIuAklAgQHSsIJQ4s4SihRIjpXEUocYKJxgklIkjnGkKJE0w0TigRQTrXEEqcYKJxQokIMsFQEq3uessQe33yRzbh6Tvtr3kLbf9jO1iPq86yE486MH7kMRPfsUEPP29ffTejxDP58JUhVqVKbhxKxkx8N74qpfitdCj54pvpdvugJ+O34xS/PdD3Gttjl22LQknxD3P9a/5C2/uoi+yy806w89oeVSKUvPfRl3bmpTfHV8LUqV2zaOXnX/9oB+6zsw246bJkDoCtUgFCiYCTUCJAdKwglDiwhKOEEiGmcxWhxAkmGieUiCCdawglTjDROKFEBOlcQyhxgonGCSUiyIRDSfRZIKdd0ssG3XqFTf9plt3U7zGb8sI98dthCt+Gc+zh+8Vvp9l4w8Y27o33LfpsE08omTtvge1z9MXxlSMd2x1nW262of01f4Ede/Z/LJVQcvn5J9q5px5ZIpRMmjLN2ne+w7p0PM023ahxCaV6detY823//lwTbpktQCgRnA+hRIDoWEEocWAJRwklQkznKkKJE0w0TigRQTrXEEqcYKJxQokI0rmGUOIEE40TSkSQCYeSaP0xZ3aJ40X0Qay77bytXXf5GfGj3jn4KRv82Gj78NWhViU3J/57I1+aZP+5dagrlBRGjejtObvssHW8J4oyLdt2/sdQMv7ND6xD17usX8+Odsj+u5YIJdN/+tVatr06/iDak445qIRSQUFB/Bkn3DJfgFAiOCNCiQDRsYJQ4sASjhJKhJjOVYQSJ5honFAignSuIZQ4wUTjhBIRpHMNocQJJhonlIgg0xBKhj033nr2fTh+pKcGX2/bbb1Z/L9fe/sju+javtbpwlNst52b2mdf/mDRh7L+/uc8VyiJ5qO39LRqsa+d0upgmzXnD7v3kVEWvU2m9BUl0bfe7Lv7DvbRZ9/Eb/lZvGSpvfTYbVatapWVPsw1+qDZcZOm2vVXnW3/2nEbiz63JHobUXZ2dvx2HW6ZL0AoEZwRoUSA6FhBKHFgCUcJJUJM5ypCiRNMNE4oEUE61xBKnGCicUKJCNK5hlDiBBONE0pEkGkIJYVvjYm+hvfJe7sXPWL04ahdbhpsL4ybHP+96OuBo2/Aia70KHzrTd/7RsTfNlP6M0qioBJdfTJ+RN/4vtHXAw948FlbuGhx/NfR23meffkNe/DOa2z3nf/3GSXRt+bMmv1HPBN9/ki/GzsWfUhs6Z3R846uehn+/ISi5xw9x+jtOC0P3jOZA2CrVIBQIuAklAgQHSsIJQ4s4SihRIjpXEUocYKJxgklIkjnGkKJE0w0TigRQTrXEEqcYKJxQokIMg2hZE3PNPp2nLnz5ttG6zeKv+mmrLfom3N+/mWOrd94XatRveoq1yxfXmAzf/0t/rUN11s3pbfQREFn9pw/rXr1qla/bp2yPj3uF0CAUCJAJ5QIEB0rCCUOLOEooUSI6VxFKHGCicYJJSJI5xpCiRNMNE4oEUE61xBKnGCicUKJCDIDQkkyPwlbETAjlAheBYQSAaJjBaHEgSUcJZQIMZ2rCCVOMNE4oUQE6VxDKHGCicYJJSJI5xpCiRNMNE4oEUESSpKBZGtGCBBKBMdAKBEgOlYQShxYwlFCiRDTuYpQ4gQTjRNKRJDONYQSJ5honFAignSuIZQ4wUTjhBIRJKEkGUi2ZoQAoURwDIQSAaJjBaHEgSUcJZQIMZ2rCCVOMNE4oUQE6VxDKHGCicYJJSJI5xpCiRNMNE4oEUESSpKBZGtGCBBKBMdAKBEgOlYQShxYwlFCiRDTuYpQ4gQTjRNKRJDONYQSJ5honFAignSuIZQ4wUTjhBIRJKEkGUi2ZoQAoURwDIQSAaJjBaHEgSUcJZQIMZ2rCCVOMNE4oUQE6VxDKHGCicYJJSJI5xpCiRNMNE4oEUESSpKBZGtGCBBKBMdAKBEgOlYQShxYwlFCiRDTuYpQ4gQTjRNKRJDONYQSJ5honFAignSuIZQ4wUTjhBIRJKEkGUi2ZoQAoURwDIQSAaJjBaHEgSUcJZQIMZ2rCCVOMNE4oUQE6VxDKHGCicYJJSJI5xpCiRNMNE4oEUESSpKBZGtGCBBKBMdAKBEgOlYQShxYwlFCiRDTuYpQ4gQTjRNKRJDONYQSJ5honFAignSuIZQ4wUTjhBIRZCUMJXPnLbC33v3EDj9oD8vKykoGcjVbP/vqB/vy2//a7jtvaxtv0Ej22F9/P8PmzV9ouzbfxvLzl9uSpcusZo1qsv0VdRGhRHByhBIBomMFocSBJRwllAgxnasIJU4w0TihRATpXEMocYKJxgklIkjnGkKJE0w0TigRQVbCUPLplz/YSRf0sI/GDbXcnJwyQb729kc27fPv7JJ2rVO+/zU33WdvvjPN/rVjUzumxb528L67pHzfNQ0OfOg5++KbH61fz4729nuf2rlX9bY3n7vb6tWtvaa7pu3XZ8ycbX3uHW63dWtfZnfvkyWUeMVWMU8oESA6VhBKHFjCUUKJENO5ilDiBBONE0pEkM41hBInmGicUCKCdK4hlDjBROOEEhEkoaRMkI8986q9POEde6R/l5Tuv3DRYtu9ZXsbef+Nts2WG6d0H89Q8VAyf8Ei+3HGLGu61SZpCxKpPNfPv/7RTjivu334yhCrUiU3lbuUe4ZQUm5CM0KJANGxglDiwBKOEkqEmM5VhBInmGicUCKCdK4hlDjBROOEEhGkcw2hxAkmGieUiCAJJda5173xW3F+/3OeNdlsQ7v47NbW4sDdY5nJ739mfe8bYd9Nn2mN1q1rrVvub4cdsLuddsmN8fwOTbeI5x7qd61Vr1Z1tYdyeoebbOq0r2y7rTeznOxse7h/VzujQ6/46orNNl4vvt/AB5+1OrVr2uknHGbffP+TRVegHHXo3vbEyHHxr5/T5gg76ZiD4v8dhZfbBgyzF8ZNturVqljNGtXjMBJdUfLtjz9bl5sG2+MDu1lOTra1uainHbTPzjb2tffigHJKq4PtorOOtRrV/36+k6Z8bL0HDovvF711Z+nSZXZL1/Nti003+McXWfQcu94yxK7pcKo98tRY+3XOn3Z3r0vtwmv7xs8/um3fdHO7tkNba9pkkziSRLGk0KDLpafZjtttacOfn2APjRgTv3XouCP+bW1aH2LrN2ogeYETSgSMhBIBomMFocSBJRwllAgxnasIJU4w0TihRATpXEMocYKJxgklIkjnGkKJE0w0TigRQZZaE/1+RX1btMhs+owC9do17qtR02zTjVb+DJLSb7157JlXbKstNrZ1661jE9/+MA4jbz0/wKpVq2L/anG+XXD60XbkIXvZD/+dZZOnfmqXn3+S9b1vuE2Z+rl1u/yM+HlEgSGKEqu7vThuinXqeY8NvPlyq1WzehwIdjnsPHt6yA227VabxnfrcvNga1B/Hbuq/cnx23pOufCG+O05URz578+zrdddj9hbowZY3Tq17Po+D9lrb39oF5/V2rbaYiMb9PDzVqVKThxKSv982x94VhyA2p/RKv7ckk49B1mfHhfZ/nvuGAego8+41k5udbAd22JfmzFzTvw8nxp8fRw0/ulW+BzXa1Tfjj/i31a9ejU74agDbORLk2zXHba2qlWr2P1PvBg/RrQv+vv/uXWoDbm9k+Xm5tg2TTaxN96ZZj1uf9Cuv+ps22LT9e2eh5+zunVqW8+r263xfFMZIJSkorSGGUKJANGxglDiwBKOEkqEmM5VhBInmGicUCKCdK4hlDjBROOEEhGkcw2hxAkmGieUiCBLrUkilHz1bYHd1i8vmSf8D1u3aZJlV3dc+S0epUNC9OGnX3473b74Znp8VUT/+5+xJ+/tbptvvL7teeSF1vGc4+30Ew6Nr9oovHnfelMYJKa8cI/VrlUjvmojlVDyyYQHij5wdv9jO9gNV7ez/XZvbjsfem4cE6IrMKJb8bferCqUPHp3V9tlh63j2egKmob161qni06J7/fEyFdt0rP9419btiwv3u0JJe+8OCiOP4W3RYuX2seff2s/TJ9p0774Pg4kn058ML6apPRbb067pFd8Rc1pxx8a3z2aubn/4/b26AGStw0RSgT/b0coESA6VhBKHFjCUUKJENO5ilDiBBONE0pEkM41hBInmGicUCKCdK4hlDjBROOEEhFkqTVJhJIZPxfYE0/nJ/OE/2HrxhtmWZvjV/6w1uIhYcmSZda+c584khy83y62QeN1bfBjo+2Jgd1sx2ZN7PGR4+IrOaJbFBouO+8E222nphYilBxxWme75OzjrPl2W9jhp15tox6+2bZc8fYYTyiJfp68/OXW/Yoz4ys8luXl2a1dLyhzKCkec6K33Jx9+S3xW4iib/aJvn1n1Ni3VhtKovgTBahG69YrcZJ33nCJNWxQt9yvGUJJuQn5jBIBoWsFocTFJRsmlMgo3YsIJW4yyR0IJRJG9xJCiZtMcgdCiYTRvYRQ4iaT3IFQImFcaUkSoSSZZ1r2rcVDyWtvfWQdu/UrektLtDV6q0phKIn+evGSpfFX+j40fIy9++HnNvHpu+zJ5yfYi+MmW3SlRiq30leULMvLt53/7xwbds911ny7LeMVq3rrTfEIURhKDj1gt/i+0VtY9t5t+/i+ZQ0lw0dNjD8jJLqCJLqV5YqS4s/x1gFPxFeFDL3j6vitSB999q2delHPOJREMer4c6+zqWMHW7WqVeLHi64wadVi3/hzWZK4EUoEqlxRIkB0rCCUOLCEo4QSIaZzFaHECSYaJ5SIIJ1rCCVOMNE4oUQE6VxDKHGCicYJJSLIUmsqWyh578Mv7Zwrb7NnhvaMP0A0+nDU6IqLKJREVzk8N+ZNO7nVQfHnZgx7bvyKzy+526Z98Z1dcHUfe+mxW+MgUG+d2kVvkVnVyZQOJdFM9AGv/9pxG2vX5gj7YNrX9p9bh1irw/cr8RklqwolRxyyZxx3orcMdb64jc39a0H8mSUbrr/uaj+jpPhbb4pfUTL9p1+tZdurre1x/xdfAfLS+HdszMR3XG+9Kf4cBzww0ia89aHdc8vllpeXbwMefLborTfRW3J2O/x8u79vZ9txuyZWUFBgjz49Nv4g2OizW5pts7n99Msce2r0RLvigpMkL3BCiYCRUCJAdKwglDiwhKOEEiGmcxWhxAkmGieUiCCdawglTjDROKFEBOlcQyhxgonGCSUiyEoYSj776gc78fwe9tG4oZadlW1X9Bhgr7z+XiwRfXjq+Dc/iK/0WL9xAzvz0pvjb4qJbtGHm3Zod5wdsPdOlpefb5d0udMmTZkW/9p7L99X9C0yqzqZ76fPtKPOuNaKf57H+DemWvfbH4i/PSf6nI7oKov99tjRrmx/UvzZHqe0v95Kh5Lo8VsevKd98MnXdn6nO+Jvv4neuhJ9oGv0rTzRh7kW//lyc3LiK2RKh5L85QV23YoPoi28qiT6Np4D993Z7r5/ZIm39azulbaq5zjz19+tQ9e74qtKotv+ezaPjaIrSqJbtDv6wNboFl0RE4WivoOfsodHjCl6mCjYPHjnNZIXOKFEwEgoESA6VhBKHFjCUUKJENO5ilDiBBONE0pEkM41hBInmGicUCKCdK4hlDjBROOEEhFkqTWV4YqSVcnN+X1ufGVI/bp1Vvrlv+YvtPz8/FX+2tx5C6xqlSqWl5dny5ev5pt9siz+pppV3aLg8tvvf1n0zTHeW/T2nV/n/BFfCfNP37izpr3Rc4iCSnSbOu1rO71DL3v3pXvjt+Gs7hZ9a03xD3AtPffzL3OsXt068bfslL5FV5YsXbashEmhwzp1av1jcFrTz1L61wklXrFVzBNKBIiOFYQSB5ZwlFAixHSuIpQ4wUTjhBIRpHMNocQJJhonlIggnWsIJU4w0TihRARZak1lDSXl1Yy+4nbGL7NXuaZKbm78VpRMve3esr3tssNW8RUt0dU00VUr0VtxLu8xYLVPeedmW9kl7Vpn6o9U9LwIJYIjIpQIEB0rCCUOLOEooUSI6VxFKHGCicYJJSJI5xpCiRNMNE4oEUE61xBKnGCicUKJCJJQkgxkBdr65ruf2Iyff7Xc3FzbdqtNbfumm1egZ//PT5VQIjhKQokA0bGCUOLAEo4SSoSYzlWEEieYaJxQIoJ0riGUOMFE44QSEaRzDaHECSYaJ5SIIAklyUCyNSMECCWCYyCUCBAdKwglDizhKKFEiOlcRShxgonGCSUiSOcaQokTTDROKBFBOtcQSpxgonFCiQiSUJIMJFszQoBQIjgGQokA0bGCUOLAEo4SSoSYzlWEEieYaJxQIoJ0riGUOMFE44QSEaRzDaHECSYaJ5SIIAklyUCyNSMECCWCYyCUCBAdKwglDizhKKFEiOlcRShxgonGCSUiSOcaQokTTDROKBFBOtcQSpxgonFCiQiSUJIMJFszQoBQIjgGQokA0bGCUOLAEo4SSoSYzlWEEieYaJxQIoJ0riGUOMFE44QSEaRzDaHECSYaJ5SIIAklyUCyNSMECCWCYyCUCBAdKwglDizhKKFEiOlcRShxgonGCSUiSOcaQokTTDROKBFBOtcQSpxgonFCiQiSUJIMJFszQoBQIjgGQokA0bGCUOLAEo4SSoSYzlWEEieYaJxQIoJ0riGUOMFE44QSEaRzDaHECSYaJ5SIIAklyUCyNSMECCWCYyCUCBAdKwglDizhKKFEiOlcRShxgonGCSUeXE9ZAAAgAElEQVQiSOcaQokTTDROKBFBOtcQSpxgonFCiQiSUJIMJFszQoBQIjgGQokA0bGCUOLAEo4SSoSYzlWEEieYaJxQIoJ0riGUOMFE44QSEaRzDaHECSYaJ5SIIAklyUCyNSMEKm0oWbp0mf0xd741bljPsrKyynUYhJJy8bnvTChxk0nuQCiRMJZpCaGkTGzlvhOhpNyEZVpAKCkTW7nvRCgpN2GZFhBKysRW7jsRSspNuMoF0e9XuCGwtghUulBSUFBg9zz8vA14YGR8hg3q1bG7b7rMdmrWZJVnOm7SVOvYrd9KvzZ17GCrVrVK/PcJJen9fwdCSXq9Cx+NUBLGPXpUQkkYe0JJGHdCSRh3QkkYd0JJGHdCSTLuhJJkXNkaRqDShZIPPvnaTruklz3Sv4s133ZL6zf0GXth3Nv26pN9LDt75StLXp30vl1702B7avD1JU5o040aF12JQihJ74uXUJJeb0JJGO/ij0ooCXMGhJIw7oSSMO6EkjDuhJIw7oSSZNwJJcm4sjWMQKULJXcMGm6ff/OjDbm9Uyz+65w/7aATLotDyHZbb7bSKUSh5Po7HrRJz/Zf7QkRStL74iWUpNebUBLGm1AS3p1QEuYMCCVh3AklYdwJJWHcCSXJuBNKknFlaxiBShdKrrrhHqtft7Z1vfT0IvHtDzzLBt58uR2w906rDCWXdutvrVrsa9WqVbXddmpqLQ7c3XJzcopmCSXpffESStLrTSgJ400oCe9OKAlzBoSSMO6EkjDuhJIw7oSSZNwJJcm4sjWMQKULJed3ut2aNtnUrmx/UpH47i3bW4+rzrIjD9lrpVOY9sX3NmbiO1a3Ti37edZvNvz5CXZq60NKhJZ5i/LCnF4lfdToszJyc7Jt0dL8SioQ5sfOyTKrXjXHFizBPd0nUKdGrvHPmXSrm9WunmsLl+TZ8oL0P3ZlfsSa1XJs6bLllgd8Wl8G1atkx6/1pXnL0/q4lf3BquRmW/Tv18XLcE/nayEnO8uqVcm2hfyeRsoe/X6FGwJri0ClCyXRFSXRB7h26Xha0Rn+0xUlpQ/6mRdft2633W8fjRtadFXJvIXL1pbXQ4X4OaJIkpubZYv5l1tazyv6DJ8olCxcTBhMK7yZ1alZxfjnTLrVzWrVyLWFi/Mt+hBwbukTqFEt15bm5Vt+Pu7pUzerVjXHli8vsGWEknSyWxxKsrNsMX/4k1b3OJTwexq5efT7FW4IrC0ClS6URJ9R8uW30+2+3lfFZ7imzygpfdCTpkyz9p3vsPfH3GfVq1WNf5m33qT3/x146016vQsfjW+9CeMePSof5hrGnrfehHHnrTdh3HnrTRh33noTxp233iTjzltvknFlaxiBShdK/vetN12t+XZb2l1DnrIXx00u+tabB4e/bNFXAkffihPdHh85zpo22cSabbO5zZ033zrdMMiq5ObY/X07F50YoSS9L15CSXq9CSVhvIs/KqEkzBkQSsK4E0rCuBNKwrgTSsK4E0qScSeUJOPK1jAClS6URJdQ3/3ASBv08POxeM0a1e2+3lfaLjtsHf9174HDbPioifbuS4Piv+5z73Ab+sSLRaezY7Mm1rtbe9t4g0aEkjCvWSOUhIHnipIw7tGjEkrC2BNKwrgTSsK4E0rCuBNKwrgTSpJxJ5Qk48rWMAKVLpQUMi9estR+/+MvW7/xuhZ99sI/3aLZ2b/9aXVq1bR6dWuvNMoVJel98RJK0utd+GiEkjDuhJJw7oSSMPaEkjDuhJIw7oSSMO6EkmTcCSXJuLI1jEClDSVKbkKJUnPNuwglazZKYoJQkoRqaju5oiQ1J/UUoUQtmto+QklqTuopQolaNLV9hJLUnNRThBK16N/7CCXJuLI1jAChROBOKBEgOlYQShxYwlFCiRDTuYpQ4gQTjRNKRJDONYQSJ5honFAignSuIZQ4wUTjhBIRZKk1hJJkXNkaRoBQInAnlAgQHSsIJQ4s4SihRIjpXEUocYKJxgklIkjnGkKJE0w0TigRQTrXEEqcYKJxQokIklCSDCRbM0KAUCI4BkKJANGxglDiwBKOEkqEmM5VhBInmGicUCKCdK4hlDjBROOEEhGkcw2hxAkmGieUiCAJJclAsjUjBAglgmMglAgQHSsIJQ4s4SihRIjpXEUocYKJxgklIkjnGkKJE0w0TigRQTrXEEqcYKJxQokIklCSDCRbM0KAUCI4BkKJANGxglDiwBKOEkqEmM5VhBInmGicUCKCdK4hlDjBROOEEhGkcw2hxAkmGieUiCAJJclAsjUjBAglgmMglAgQHSsIJQ4s4SihRIjpXEUocYKJxgklIkjnGkKJE0w0TigRQTrXEEqcYKJxQokIklCSDCRbM0KAUCI4BkKJANGxglDiwBKOEkqEmM5VhBInmGicUCKCdK4hlDjBROOEEhGkcw2hxAkmGieUiCAJJclAsjUjBAglgmMglAgQHSsIJQ4s4SihRIjpXEUocYKJxgklIkjnGkKJE0w0TigRQTrXEEqcYKJxQokIklCSDCRbM0KAUCI4BkKJANGxglDiwBKOEkqEmM5VhBInmGicUCKCdK4hlDjBROOEEhGkcw2hxAkmGieUiCAJJclAsjUjBAglgmMglAgQHSsIJQ4s4SihRIjpXEUocYKJxgklIkjnGkKJE0w0TigRQTrXEEqcYKJxQokIklCSDCRbM0KAUCI4BkKJANGxglDiwBKOEkqEmM5VhBInmGicUCKCdK4hlDjBROOEEhGkcw2hxAkmGieUiCAJJclAsjUjBAglgmMglAgQHSsIJQ4s4SihRIjpXEUocYKJxgklIkjnGkKJE0w0TigRQTrXEEqcYKJxQokIklCSDCRbM0KAUCI4BkKJANGxglDiwBKOEkqEmM5VhBInmGicUCKCdK4hlDjBROOEEhGkcw2hxAkmGieUiCAJJclAsjUjBAglgmMglAgQHSsIJQ4s4SihRIjpXEUocYKJxgklIkjnGkKJE0w0TigRQTrXEEqcYKJxQokIklCSDCRbM0KAUCI4BkKJANGxglDiwBKOEkqEmM5VhBInmGicUCKCdK4hlDjBROOEEhGkcw2hxAkmGieUiCAJJclAsjUjBAglgmMglAgQHSsIJQ4s4SihRIjpXEUocYKJxgklIkjnGkKJE0w0TigRQTrXEEqcYKJxQokIklCSDCRbM0KAUCI4BkKJANGxglDiwBKOEkqEmM5VhBInmGicUCKCdK4hlDjBROOEEhGkcw2hxAkmGieUiCAJJclAsjUjBAglgmMglAgQHSsIJQ4s4SihRIjpXEUocYKJxgklIkjnGkKJE0w0TigRQTrXEEqcYKJxQokIklCSDCRbM0KAUCI4BkKJANGxglDiwBKOEkqEmM5VhBInmGicUCKCdK4hlDjBROOEEhGkcw2hxAkmGieUiCAJJclAsjUjBAglgmMglAgQHSsIJQ4s4SihRIjpXEUocYKJxgklIkjnGkKJE0w0TigRQTrXEEqcYKJxQokIklCSDCRbM0KAUCI4BkKJANGxglDiwBKOEkqEmM5VhBInmGicUCKCdK4hlDjBROOEEhGkcw2hxAkmGieUiCAJJclAsjUjBAglgmMglAgQHSsIJQ4s4SihRIjpXEUocYKJxgklIkjnGkKJE0w0TigRQTrXEEqcYKJxQokIklCSDCRbM0KAUCI4BkKJANGxglDiwBKOEkqEmM5VhBInmGicUCKCdK4hlDjBROOEEhGkcw2hxAkmGieUiCAJJclAsjUjBAglgmMglAgQHSsIJQ4s4SihRIjpXEUocYKJxgklIkjnGkKJE0w0TigRQTrXEEqcYKJxQokIklCSDCRbM0KAUCI4BkKJANGxglDiwBKOEkqEmM5VhBInmGicUCKCdK4hlDjBROOEEhGkcw2hxAkmGieUiCAJJclAsjUjBAglgmMglAgQHSsIJQ4s4SihRIjpXEUocYKJxgklIkjnGkKJE0w0TigRQTrXEEqcYKJxQokIklCSDCRbM0KAUCI4BkKJANGxglDiwBKOEkqEmM5VhBInmGicUCKCdK4hlDjBROOEEhGkcw2hxAkmGieUiCAJJclAsjUjBAglgmMglAgQHSsIJQ4s4SihRIjpXEUocYKJxgklIkjnGkKJE0w0TigRQTrXEEqcYKJxQokIklCSDCRbM0KAUCI4BkKJANGxglDiwBKOEkqEmM5VhBInmGicUCKCdK4hlDjBROOEEhGkcw2hxAkmGieUiCAJJclAsjUjBAglgmMglAgQHSsIJQ4s4SihRIjpXEUocYKJxgklIkjnGkKJE0w0TigRQTrXEEqcYKJxQokIklCSDCRbM0JAFkoKCgrsh//+Yr/8+rttudmGtl6j+jb9p1lWs0Z1a9igbkb8sEk9CUJJUrKr3ksoSa934aMRSsK4R49KKAljTygJ404oCeNOKAnjTigJ404oScY9+v0KNwTWFgFJKFmwcLG179zHpk77Kna5pcv5dvRh+1jHbv3sh+m/2PMP3bS2eK3y5yCUpPd4CSXp9SaUhPEu/qiEkjBnQCgJ404oCeNOKAnjTigJ404oScadUJKMK1vDCEhCyfBRE63/0Kft6ova2KNPv2KnHX9oHEre+eALO/vyW2zCU3da44b1wvyEaXhUQkkakIs9BKEkvd6EkjDehJLw7oSSMGdAKAnjTigJ404oCeNOKEnGnVCSjCtbwwhIQknrdv+xFgfuYe3POMbO73S7HX3oPnEo+f3Pebb/sR1s2KDu1nzbLcL8hGl4VEJJGpAJJelFXsWj8dabcEfAFSVh7AklYdwJJWHcCSVh3AklYdwJJcm4E0qScWVrGAFJKDnmzC52bMv9rN0pR5QIJd/+8JMdc1ZXGzvsdtto/YZhfsI0PCqhJA3IhJL0IhNKgnsXfwKEkjDHQSgJ404oCeNOKAnjTigJ404oScadUJKMK1vDCEhCSc++D9sb70yzh/pda9fddn98Rckh+//LOvW8xz7+7Fub+PRdlpOTHeYnTMOjEkrSgEwoSS8yoSS4N6Ek/BEQSsKcAaEkjDuhJIw7oSSMO6EkGXdCSTKubA0jIAklf8ydZ8efe53Nmv1H/FNsvEGj+G03CxcttrtvutQO2meXMD9dmh6VUJIm6BUPw2eUpNe78NF4600Y9+hRuaIkjD2hJIw7oSSMO6EkjDuhJIw7oSQZd0JJMq5sDSMgCSXRU1+0eKkNHzXBPv3ie5u3YJFtscn61vqI/W3rLTYO85Ol8VEJJWnENjNCSXq9CSVhvIs/KqEkzBkQSsK4E0rCuBNKwrgTSsK4E0qScSeUJOPK1jACslAS5ulnxqMSStJ7DoSS9HoTSsJ4E0rCuxNKwpwBoSSMO6EkjDuhJIw7oSQZd0JJMq5sDSMgCSXf/viz/TVvwWp/gubbbWm5OTlhfsI0PCqhJA3IxR6CUJJeb0JJGG9CSXh3QkmYMyCUhHEnlIRxJ5SEcSeUJONOKEnGla1hBCShpEPXu2z8mx+s9id4a9QAq1unVpifMA2PSihJAzKhJL3Iq3g0PqMk3BHw1psw9oSSMO6EkjDuhJIw7oSSMO6EkmTcCSXJuLI1jIAklMyc9ZstWLh4pZ+g6y1DbJONGtutXS/gW2/CnO9a+ahcURLmWAklYdyjRyWUhLEnlIRxJ5SEcSeUhHEnlIRxJ5Qk404oScaVrWEEJKFkdU990pSPrX3nPjZ59ECrU7tmmJ8wDY/KFSVpQOaKkvQic0VJcO/iT4BQEuY4CCVh3AklYdwJJWHcCSVh3AklybgTSpJxZWsYgURDyfSfZlnLtp1t2KDu1nzbLcL8hKJHnTd/oeXl51v9unVW2kgoESGnuIYrSlKEEo9xRYkY1LGOUOLAEo4SSoSYjlWEEgeWcJRQIsR0rCKUOLCEo4QSIWaxVYSSZFzZGkZAEkpm//anLVq8pMRPMG/+Int85Ks29rX37PWR/axG9aphfsJyPurCRYut8433Fn0Gy47Nmlj/GztawwZ1izYTSsqJ7Lw7ocQJJhonlIggy7CGUFIGNMFdCCUCxDKsIJSUAU1wF0KJALEMKwglZUAT3IVQIkBcxQpCSTKubA0jIAklq/sw15o1qlvHc46z0084LMxPJ3jUIY+/YCNGTbRH+neNY8+F1/S1LTbdwHpe3Y5QIvAtywpCSVnUyn8fQkn5Dcu6gVBSVrny3Y9QUj6/st6bUFJWufLdj1BSPr+y3ptQUla58t2PUFI+v9Xdm1CSjCtbwwhIQsmX3/7X/vhzXomfoFbN6rbdNptV+K8FPuG87tbiwN3tvLZHxT/fmInv2BU9BtonEx6wrKys+O9xRUl6X7yEkvR6Fz4aoSSMe/SohJIw9oSSMO6EkjDuhJIw7oSSMO6EkmTcCSXJuLI1jIAklIR56ul51N1btrcbO58Tx5Lo9tlXP9iJ5/ew4l95TChJz1kUPgqhJL3ehJIw3sUflVAS5gwIJWHcCSVh3AklYdwJJWHcCSXJuBNKknFlaxiBMoeS8W9+YDN+/jWlZ31yq4OtWtUqKc1m0lBBQYHtcNDZNvDmy+2AvXeKn9q3P/xkx5zV1V598g7bYL117dxLl2XSU+a5IIAAAggggAACCCCAAAJpFxhyV8X77720I/GAFUagzKEkevtJ9DaUVG7Fr75IZT6TZqIrSnpdc64ddsBu8dMqfUUJoSSTTovnggACCCCAAAIIIIAAAiEECCUh1HnMpATKHEqSekKZtjf6jJLDD9rDzj31yPip8Rkl4U+It96EOQM+oySMe/SovPUmjD1vvQnjzltvwrjz1psw7rz1Jow7b71Jxp233iTjytYwAoSSNbgPfmy0PTX6tfhbb2rWqGbtO/fhW2/CvFaLHpVQEuYACCVh3Akl4dwJJWHsCSVh3AklYdwJJWHcCSXJuBNKknFlaxgBWSh5891P7N0Pv7AFCxet9JNcccHJ8VfrVsTbgoWL7aob7rHXJ38UP/0dmm5h/Xtdao0b1iv6cfgw1/SeLKEkvd6Fj0YoCeNOKAnnTigJY08oCeNOKAnjTigJ404oScadUJKMK1vDCEhCyQvjJtvVPQdZzRrVbeGixbbZxuvFH9761XczrEG9OvbSY7dZ7Vo1wvyEokedO2+BLVuWZw0b1F1pI6FEhJziGkJJilDiMUKJGNSxjrfeOLCEo4QSIaZjFaHEgSUcJZQIMR2rCCUOLOEooUSIWWwVoSQZV7aGEZCEkrMuuyUOIt2vPMv2Ofpie2XY7bbh+g3tzsFP2ZQPPrcnBnYL89Ol6VEJJWmCXvEwhJL0ehc+GqEkjHv0qISSMPaEkjDuhJIw7oSSMO6EkjDuhJJk3AklybiyNYyAJJS0aNPJzmt7lB13xL+t+cFn2+MDu9lOzZrEV5S0bvcfG/3wzfHneqytN0JJek+WUJJeb0JJGO/ij0ooCXMGhJIw7oSSMO6EkjDuhJIw7oSSZNwJJcm4sjWMgCSUHHNmF2vdcn87+5SWFn1LTMuD97Rz2hxR9FW6w+65zppvt2WYnzANj0ooSQNysYcglKTXm1ASxptQEt6dUBLmDAglYdwJJWHcCSVh3AklybgTSpJxZWsYAUkoubjLnfGzH3DTZTbwoedswAMj7YwTW9jk9z+1Ob/PtQlP32m5OTlhfsI0PCqhJA3IhJL0Iq/i0XjrTbgj4IqSMPaEkjDuhJIw7oSSMO6EkjDuhJJk3AklybiyNYyAJJR8/vWP9uucP+2AvXeypUuXWbfe99voV962XZtvYxed2cr23m37MD9dmh6VUJIm6BUPwxUl6fUufDRCSRj36FEJJWHsCSVh3AklYdwJJWHcCSVh3AklybgTSpJxZWsYAUkomfnr77Z+o/qWlZVV9FMsX15g2dn/++swP156HpVQkh7nwkchlKTXm1ASxrv4oxJKwpwBoSSMO6EkjDuhJIw7oSSMO6EkGXdCSTKubA0jIAklHbreZT/OmGVtWh9iRxyyl9WtUyvMTxPoUQkl6YUnlKTXm1ASxptQEt6dUBLmDAglYdwJJWHcCSVh3AklybgTSpJxZWsYAUkomTrtK3v06VdszMR345/ihKMOsBOOPGCt/gDX4sdFKEnvi5dQkl5vQkkYb0JJeHdCSZgzIJSEcSeUhHEnlIRxJ5Qk404oScaVrWEEJKGk8Kn/9sdf9uK4yfbEs+PiK0y22XJja3vcoXZsy/34MNcw57tWPiqhJMyx8hklYdyjR+WtN2HsCSVh3AklYdwJJWHcCSVh3AklybgTSpJxZWsYAWkoKfwRos8neXD4S3bHoOHx33pr1IC1+u04XFGS3hcvoSS93lxREsabK0rCuxNKwpwBoSSMO6EkjDuhJIw7oSQZd0JJMq5sDSMgDSXRVwFHV5QMe258fEXJeo3qx1eURF8VXCWXrwcOc8Rr36MSSsKcKVeUhHHnipJw7oSSMPaEkjDuhJIw7oSSMO6EkmTcCSXJuLI1jIAklEyd9rU9+vTYos8oOfTfu9mJRx9oe+3azHJyssP8ZGl8VK4oSSO2mRFK0uvNFSVhvLmiJLw7oSTMGRBKwrgTSsK4E0rCuBNKknEnlCTjytYwApJQEn3rzadf/WBtjj3EWrXYzxo3rBfmpwn0qISS9MITStLrTSgJ400oCe9OKAlzBoSSMO6EkjDuhJIw7oSSZNwJJcm4sjWMgCSUfD99pm260XqV4uqRVR0ToSS9L15CSXq9CSVhvAkl4d0JJWHOgFASxp1QEsadUBLGnVCSjDuhJBlXtoYRkISSME89cx6VUJLesyCUpNebUBLGm1AS3p1QEuYMCCVh3AklYdwJJWHcCSXJuBNKknFlaxgBQonAnVAiQHSsIJQ4sISjfJirENO5iq8HdoKJxgklIkjnGkKJE0w0TigRQTrXEEqcYKJxQokIstQaQkkyrmwNI0AoEbgTSgSIjhWEEgeWcJRQIsR0riKUOMFE44QSEaRzDaHECSYaJ5SIIJ1rCCVOMNE4oUQESShJBpKtGSFAKBEcA6FEgOhYQShxYAlHCSVCTOcqQokTTDROKBFBOtcQSpxgonFCiQjSuYZQ4gQTjRNKRJCEkmQg2ZoRAoQSwTEQSgSIjhWEEgeWcJRQIsR0riKUOMFE44QSEaRzDaHECSYaJ5SIIJ1rCCVOMNE4oUQESShJBpKtGSFAKBEcA6FEgOhYQShxYAlHCSVCTOcqQokTTDROKBFBOtcQSpxgonFCiQjSuYZQ4gQTjRNKRJCEkmQg2ZoRAoQSwTEQSgSIjhWEEgeWcJRQIsR0riKUOMFE44QSEaRzDaHECSYaJ5SIIJ1rCCVOMNE4oUQESShJBpKtGSFAKBEcA6FEgOhYQShxYAlHCSVCTOcqQokTTDROKBFBOtcQSpxgonFCiQjSuYZQ4gQTjRNKRJCEkmQg2ZoRAoQSwTEQSgSIjhWEEgeWcJRQIsR0riKUOMFE44QSEaRzDaHECSYaJ5SIIJ1rCCVOMNE4oUQESShJBpKtGSFAKBEcA6FEgOhYQShxYAlHCSVCTOcqQokTTDROKBFBOtcQSpxgonFCiQjSuYZQ4gQTjRNKRJCEkmQg2ZoRAoQSwTEQSgSIjhWEEgeWcJRQIsR0riKUOMFE44QSEaRzDaHECSYaJ5SIIJ1rCCVOMNE4oUQESShJBpKtGSFAKBEcA6FEgOhYQShxYAlHCSVCTOcqQokTTDROKBFBOtcQSpxgonFCiQjSuYZQ4gQTjRNKRJCEkmQg2ZoRAoQSwTEQSgSIjhWEEgeWcJRQIsR0riKUOMFE44QSEaRzDaHECSYaJ5SIIJ1rCCVOMNE4oUQESShJBpKtGSFAKBEcA6FEgOhYQShxYAlHCSVCTOcqQokTTDROKBFBOtcQSpxgonFCiQjSuYZQ4gQTjRNKRJCEkmQg2ZoRAoQSwTEQSgSIjhWEEgeWcJRQIsR0riKUOMFE44QSEaRzDaHECSYaJ5SIIJ1rCCVOMNE4oUQESShJBpKtGSFAKBEcA6FEgOhYQShxYAlHCSVCTOcqQokTTDROKBFBOtcQSpxgonFCiQjSuYZQ4gQTjRNKRJCEkmQg2ZoRAoQSwTEQSgSIjhWEEgeWcJRQIsR0riKUOMFE44QSEaRzDaHECSYaJ5SIIJ1rCCVOMNE4oUQESShJBpKtGSFAKBEcA6FEgOhYQShxYAlHCSVCTOcqQokTTDROKBFBOtcQSpxgonFCiQjSuYZQ4gQTjRNKRJCEkmQg2ZoRAoQSwTEQSgSIjhWEEgeWcJRQIsR0riKUOMFE44QSEaRzDaHECSYaJ5SIIJ1rCCVOMNE4oUQESShJBpKtGSFAKBEcA6FEgOhYQShxYAlHCSVCTOcqQokTTDROKBFBOtcQSpxgonFCiQjSuYZQ4gQTjRNKRJCEkmQg2ZoRAoQSwTEQSgSIjhWEEgeWcJRQIsR0riKUOMFE44QSEaRzDaHECSYaJ5SIIJ1rCCVOMNE4oUQESShJBpKtGSFAKBEcA6FEgOhYQShxYAlHCSVCTOcqQokTTDROKBFBOtcQSpxgonFCiQjSuYZQ4gQTjRNKRJCEkmQg2ZoRAoQSwTEQSgSIjhWEEgeWcJRQIsR0riKUOMFE44QSEaRzDaHECSYaJ5SIIJ1rCCVOMNE4oUQESShJBpKtGSFAKBEcA6FEgOhYQShxYAlHCSVCTOcqQokTTDROKBFBOtcQSpxgonFCiQjSuYZQ4gQTjRNKRJCEkmQg2ZoRAoQSwTEQSgSIjhWEEgeWcJRQIsR0riKUOMFE44QSEaRzDaHECSYaJ5SIIJ1rCCVOMNE4oUQESShJBpKtGSFAKBEcA6FEgOhYQShxYAlHCSVCTOcqQokTTDROKBFBOtcQSpxgonFCiQjSuYZQ4gQTjRNKRJCEkmQg2ZoRAoQSwTEQSgSIjhWEEgeWcJRQIsR0riKUOMFE44QSEaRzDaHECSYaJ5SIIESXuWcAACAASURBVJ1rCCVOMNE4oUQESShJBpKtGSFAKBEcA6FEgOhYQShxYAlHCSVCTOcqQokTTDROKBFBOtcQSpxgonFCiQjSuYZQ4gQTjRNKRJCEkmQg2ZoRAoQSwTEQSgSIjhWEEgeWcJRQIsR0riKUOMFE44QSEaRzDaHECSYaJ5SIIJ1rCCVOMNE4oUQESShJBpKtGSFAKBEcA6FEgOhYQShxYAlHCSVCTOcqQokTTDROKBFBOtcQSpxgonFCiQjSuYZQ4gQTjRNKRJCEkmQg2ZoRApU2lMybv9Dy8vOtft065T4IQkm5CV0LCCUuLtkwoURG6V5EKHGTSe5AKJEwupcQStxkkjsQSiSM7iWEEjeZ5A6EEgnjSkui369wQ2BtEah0oWThosXW+cZ7bfybH8RnuGOzJtb/xo7WsEHdVZ7puElTrWO3fiv92tSxg61a1Srx3yeUpPf/HQgl6fUufDRCSRj36FEJJWHsCSVh3AklYdwJJWHcCSVh3AklybgTSpJxZWsYgUoXSoY8/oKNGDXRHunf1WpUr2oXXtPXtth0A+t5dbtVnsCrk963a28abE8Nvr7Er2+6UWPLysoilAR43RJKAqCbGaEkjDuhJJw7oSSMPaEkjDuhJIw7oSSMO6EkGXdCSTKubA0jUOlCyQnndbcWB+5u57U9KhYfM/Edu6LHQPtkwgNF4aP4UUSh5Po7HrRJz/Zf7QlxRUl6X7yEkvR6Fz4aoSSMO6EknDuhJIw9oSSMO6EkjDuhJIw7oSQZd0JJMq5sDSNQ6ULJ7i3b242dz4ljSXT77Ksf7MTze9hbowZY3Tq1VjqFKJRc2q2/tWqxr1WrVtV226lpfN/cnJyiWUJJel+8hJL0ehNKwngXf1TeehPmDAglYdwJJWHcCSVh3AklYdwJJcm4E0qScWVrGIG1JpT8/Msce2Hc5NUqnnb8YVa9WhXb4aCzbeDNl9sBe+8Uz377w092zFld7dUn77AN1lt3pftP++L7+KqTKKL8POs3G/78BDu19SHW9dLTi2bnLcoLc3qV9FGjKxtyc7Jt0dL8SioQ5sfOyTKrXjXHFizBPd0nUKdGrvHPmXSrm9WunmsLl+TZ8oL0P3ZlfsSa1XJs6bLllgd8Wl8G1atkx6/1pXnL0/q4lf3BquRmW/Tv18XLcE/nayEnO8uqVcm2hfyeRsoe/X6FGwJri8BaE0p+nDHLhj03frXn0qFda6tZo7pFV5T0uuZcO+yA3eLZNV1RUnrhMy++bt1uu98+Gje06KqSeQuXrS2vhwrxc0SRJDc3yxbzL7e0nld2dlYcShYuJgymFd7M6tSsYvxzJt3qZrVq5NrCxflWUEApSad+jWq5tjQv3/LzcU+ne7WqObZ8eYEtI5Skk93iUJKdZYv5w5+0usehhN/TyM2j369wQ2BtEVhrQkmqBxJ9RsnhB+1h5556ZHyXNX1GSem9k6ZMs/ad77D3x9xn1atVjX+Zt96kqq+Z4603GkfvFj6jxCumm+etNzpLzybeeuPR0s3y1hudpWcTb73xaOlmeeuNztKzibfeeLRSn+WtN6lbMZn5ApUulAx+bLQ9Nfq1+FtvataoZu079ynxrTcPDn/Zoq8EfqR/l/j0Hh85zpo22cSabbO5zZ033zrdMMiq5ObY/X07F50uoSS9L3RCSXq9Cx+NUBLGPXpUQkkYe0JJGHdCSRh3QkkYd0JJGHdCSTLuhJJkXNkaRqDShZIFCxfbVTfcY69P/igW36HpFta/16XWuGG9+K97Dxxmw0dNtHdfGhT/dZ97h9vQJ14sOp0dmzWx3t3a28YbNCKUhHnNGqEkDDyhJIw7oSScO6EkjD2hJIw7oSSMO6EkjDuhJBl3QkkyrmwNI1DpQkkh89x5C2zZsjxr2KDuGuUXL1lqs3/70+rUqmn16tZeaZ4rStZIKB0glEg5U15GKEmZSj7IFSVy0pQWEkpSYpIPEUrkpCktJJSkxCQfIpTISVNaSChJick9RChxk3GHDBaotKFEeSaEEqXmmncRStZslMQEoSQJ1dR2EkpSc1JPEUrUoqntI5Sk5qSeIpSoRVPbRyhJzUk9RShRi/69j1CSjCtbwwgQSgTuhBIBomMFocSBJRwllAgxnasIJU4w0TihRATpXEMocYKJxgklIkjnGkKJE0w0TigRQZZaQyhJxpWtYQQIJQJ3QokA0bGCUOLAEo4SSoSYzlWEEieYaJxQIoJ0riGUOMFE44QSEaRzDaHECSYaJ5SIIAklyUCyNSMECCWCYyCUCBAdKwglDizhKKFEiOlcRShxgonGCSUiSOcaQokTTDROKBFBOtcQSpxgonFCiQiSUJIMJFszQoBQIjgGQokA0bGCUOLAEo4SSoSYzlWEEieYaJxQIoJ0riGUOMFE44QSEaRzDaHECSYaJ5SIIAklyUCyNSMECCWCYyCUCBAdKwglDizhKKFEiOlcRShxgonGCSUiSOcaQokTTDROKBFBOtcQSpxgonFCiQiSUJIMJFszQoBQIjgGQokA0bGCUOLAEo4SSoSYzlWEEieYaJxQIoJ0riGUOMFE44QSEaRzDaHECSYaJ5SIIAklyUCyNSMECCWCYyCUCBAdKwglDizhKKFEiOlcRShxgonGCSUiSOcaQokTTDROKBFBOtcQSpxgonFCiQiSUJIMJFszQoBQIjgGQokA0bGCUOLAEo4SSoSYzlWEEieYaJxQIoJ0riGUOMFE44QSEaRzDaHECSYaJ5SIIAklyUCyNSMECCWCYyCUCBAdKwglDizhKKFEiOlcRShxgonGCSUiSOcaQokTTDROKBFBOtcQSpxgonFCiQiSUJIMJFszQoBQIjgGQokA0bGCUOLAEo4SSoSYzlWEEieYaJxQIoJ0riGUOMFE44QSEaRzDaHECSYaJ5SIIAklyUCyNSMECCWCYyCUCBAdKwglDizhKKFEiOlcRShxgonGCSUiSOcaQokTTDROKBFBOtcQSpxgonFCiQiSUJIMJFszQoBQIjgGQokA0bGCUOLAEo4SSoSYzlWEEieYaJxQIoJ0riGUOMFE44QSEaRzDaHECSYaJ5SIIAklyUCyNSMECCWCYyCUCBAdKwglDizhKKFEiOlcRShxgonGCSUiSOcaQokTTDROKBFBOtcQSpxgonFCiQiSUJIMJFszQoBQIjgGQokA0bGCUOLAEo4SSoSYzlWEEieYaJxQIoJ0riGUOMFE44QSEaRzDaHECSYaJ5SIIAklyUCyNSMECCWCYyCUCBAdKwglDizhKKFEiOlcRShxgonGCSUiSOcaQokTTDROKBFBOtcQSpxgonFCiQiSUJIMJFszQoBQIjgGQokA0bGCUOLAEo4SSoSYzlWEEieYaJxQIoJ0riGUOMFE44QSEaRzDaHECSYaJ5SIIAklyUCyNSMECCWCYyCUCBAdKwglDizhKKFEiOlcRShxgonGCSUiSOcaQokTTDROKBFBOtcQSpxgonFCiQiSUJIMJFszQoBQIjgGQokA0bGCUOLAEo4SSoSYzlWEEieYaJxQIoJ0riGUOMFE44QSEaRzDaHECSYaJ5SIIAklyUCyNSMECCWCYyCUCBAdKwglDizhKKFEiOlcRShxgonGCSUiSOcaQokTTDROKBFBOtcQSpxgonFCiQiSUJIMJFszQoBQIjgGQokA0bGCUOLAEo4SSoSYzlWEEieYaJxQIoJ0riGUOMFE44QSEaRzDaHECSYaJ5SIIAklyUCyNSMECCWCYyCUCBAdKwglDizhKKFEiOlcRShxgonGCSUiSOcaQokTTDROKBFBOtcQSpxgonFCiQiSUJIMJFszQoBQIjgGQokA0bGCUOLAEo4SSoSYzlWEEieYaJxQIoJ0riGUOMFE44QSEaRzDaHECSYaJ5SIIAklyUCyNSMECCWCYyCUCBAdKwglDizhKKFEiOlcRShxgonGCSUiSOcaQokTTDROKBFBOtcQSpxgonFCiQiSUJIMJFszQoBQIjgGQokA0bGCUOLAEo4SSoSYzlWEEieYaJxQIoJ0riGUOMFE44QSEaRzDaHECSYaJ5SIIAklyUCyNSMECCWCYyCUCBAdKwglDizhKKFEiOlcRShxgonGCSUiSOcaQokTTDROKBFBOtcQSpxgonFCiQiSUJIMJFszQoBQIjgGQokA0bGCUOLAEo4SSoSYzlWEEieYaJxQIoJ0riGUOMFE44QSEaRzDaHECSYaJ5SIIAklyUCyNSMECCWCYyCUCBAdKwglDizhKKFEiOlcRShxgonGCSUiSOcaQokTTDROKBFBOtcQSpxgonFCiQiSUJIMJFszQoBQIjgGQokA0bGCUOLAEo4SSoSYzlWEEieYaJxQIoJ0riGUOMFE44QSEaRzDaHECSYaJ5SIIAklyUCyNSMECCWCYyCUCBAdKwglDizhKKFEiOlcRShxgonGCSUiSOcaQokTTDROKBFBOtcQSpxgonFCiQiSUJIMJFszQoBQIjgGQokA0bGCUOLAEo4SSoSYzlWEEieYaJxQIoJ0riGUOMFE44QSEaRzDaHECSYaJ5SIIAklyUCyNSMECCWCYyCUCBAdKwglDizhKKFEiOlcRShxgonGCSUiSOcaQokTTDROKBFBOtcQSpxgonFCiQiSUJIMJFszQoBQIjgGQokA0bGCUOLAEo4SSoSYzlWEEieYaJxQIoJ0riGUOMFE44QSEaRzDaHECSYaJ5SIIAklyUCyNSMECCWCYyCUCBAdKwglDizhKKFEiOlcRShxgonGCSUiSOcaQokTTDROKBFBOtcQSpxgonFCiQiSUJIMJFszQoBQIjgGQokA0bGCUOLAEo4SSoSYzlWEEieYaJxQIoJ0riGUOMFE44QSEaRzDaHECSYaJ5SIIAklyUCyNSMECCWCYyCUCBAdKwglDizhKKFEiOlcRShxgonGCSUiSOcaQokTTDROKBFBOtcQSpxgonFCiQiSUJIMJFszQoBQIjgGQokA0bGCUOLAEo4SSoSYzlWEEieYaJxQIoJ0riGUOMFE44QSEaRzDaHECSYaJ5SIIAklyUCyNSMECCWCYyCUCBAdKwglDizhKKFEiOlcRShxgonGCSUiSOcaQokTTDROKBFBOtcQSpxgonFCiQiSUJIMJFszQoBQIjgGQokA0bGCUOLAEo4SSoSYzlWEEieYaJxQIoJ0riGUOMFE44QSEaRzDaHECSYaJ5SIIAklyUCyNSMECCWCYyCUCBAdKwglDizhKKFEiOlcRShxgonGCSUiSOcaQokTTDROKBFBOtcQSpxgonFCiQiSUJIMJFszQoBQIjgGQokA0bGCUOLAEo4SSoSYzlWEEieYaJxQIoJ0riGUOMFE44QSEaRzDaHECSYaJ5SIIAklyUCyNSMECCWCYyCUCBAdKwglDizhKKFEiOlcRShxgonGCSUiSOcaQokTTDROKBFBOtcQSpxgonFCiQiSUJIMJFszQoBQIjgGQokA0bGCUOLAEo4SSoSYzlWEEieYaJxQIoJ0riGUOMFE44QSEaRzDaHECSYaJ5SIIAklyUCyNSMECCWCYyCUCBAdKwglDizhKKFEiOlcRShxgonGCSUiSOcaQokTTDROKBFBOtcQSpxgonFCiQiSUJIMJFszQoBQkuIxFBQUWP7y5Zabk7PSPQglKSKKxgglIkjnGkKJE0w4TigRYjpWEUocWMJRQokQ07GKUOLAEo4SSoSYjlWEEgeWYzT6/Qo3BNYWAUJJiic5auxb1nfwCBs/oi+hJEWzpMYIJUnJ/vNeQkkY9+hRCSVh7AklYdwJJWHcCSVh3AklYdwJJcm4E0qScWVrGAFCyRrcp/80y8676nabMXO2rdeoPqEkzOu0xKMSSsIcAqEkjDuhJJw7oSSMPaEkjDuhJIw7oSSMO6EkGXdCSTKubA0jQChZg3tefr7N+X2ujX/jAxvy+GhCSZjXKaEkA9wJJeEOgStKwtgTSsK4E0rCuBNKwrgTSsK4E0qScSeUJOPK1jAChJIU3V8aP8V63zOMUJKiV5JjXFGSpO7qdxNKwrhzRUk4d0JJGHtCSRh3QkkYd0JJGHdCSTLuhJJkXNkaRqDShpKff5ljL4ybvFr1044/zGpUr1r064SSMC/QVT0qoSTMWRBKwrgTSsK5E0rC2BNKwrgTSsK4E0rCuBNKknEnlCTjytYwApU2lPw4Y5YNe278atU7tGttNWtUTymUhDk6HhUBBBBAAAEEEEAAAQQQQAABBNQClTaUeCH/6YoS7y7mEUAAAQQQQAABBBBAAAEEEEAgMwUIJWs4l4KCAsvLy7eXJ7wTfz3wmMd7W1Z2luXm5GTmifKsEEAAAQQQQAABBBBAAAEEEECgzAKEkjXQffP9T9bq7K4lpo4+bB+7pcv5Nm/+Qou+Fad+3TplPgDumJpA5Ly6OMU5pGbonZo7b4EtWbLMGjest8q74u4VTW1+/oJF9sfcedag3jpWq+b/3v5XeO+lS5fZH3Pnx+eSlZWV2lKmyi2wfHmB/frbH9awQV1Cebk1U1+Ae+pWZZlctizPfv3tT2vUoK5VrVqlxIroG/9q1axR4vPayvIY3McngLvPyzM989ffbb2G9S07e+V/d/J7Go8kswhUDgFCSRnOeeGixdb5xntt/JsfxPfesVkT639jx/g30Nz0AtN/+tVatr3aXhl2u224fsOiB+Ac9NbRxug3aWd0vMmiz/GJbk0229DOa3uURYEwuuGejHvk2vbiG+2r72YUPcCprQ+xay5pazk52RZd3XbPw8/bgAdGxr/eoF4du/umy2ynZk2SeUKVcGsUoc65srctWrzEnhp8fZHAa29/ZFfdcE/82o9u3a88y046+sBKKKT9kcdNmmodu/VbaenUsYOtWtUqhrvWu/i276fPtOt6P2BTp30V/+1ul59hp7Q6OP7f03+aZe079yn6d8BxR/zbrrviTKuSy5W05TmRLjcPtufGvLnSiu5XnGknHXMQ7uXBXcN9Hx4xxh575lVblpdnURxs3XJ/u+KCk/g9TYLmrEZgbRAglJThFIc8/oKNGDXRHunfNf6Tlguv6WtbbLqB9by6XRm2cZd/EmhzUU/7+LNv45HSoYRzSOa18+ucP+3ZlyfZMS32tVo1qtsjT421B5582V4f2S9+veOejHt0JcmDT75srQ7f1zZcr6G99d4n8X+sPNK/i+3afBv74JOv7bRLesV/3XzbLa3f0GfshXFv26tP9lnln44l8yzX3q1RiPrPrUPt2ZffsO223qwolCxavNT+3bqjXdKutbU97v9s4lsf2qXd+tuYJ3rbxhs0WntB0vCTvTrpfbv2psElolT0sJtu1NgWL1mGe0JnMGv2H3bwiZdby4P3tCjGbrf15rZ4yZKiq2PP73S71a5Vw3pdc5798utvdtIF19t1l59RFMsTelpr/droDyEWLPw7tka3KMgef+511qfHxdbiwN0N92ReAp9++YOddEEPe6DvNbbHLtvad9Nn2tFnXGuPD+wW/0EDv6dJxp2tCKwNAoSSMpziCed1j/+lFv0pe3QbM/Edu6LHQPtkwgNcCl8Gz3+6S/Qf7dFv1KJgUjqUcA5i7NWsmzFztrVo06noP9hxT4/7tz/8ZMec1dWee6CXbbXFRnbHoOH2+Tc/2pDbO8VPIPr/jYNOuCz+j8zoP+y5lU9g8GOj7cVxk+2oQ/ex6MO7C68oia5quOjavvbB2MFFb0044rTOcTRpe9yh5XvQSn7vKJRcf8eDNunZ/itJ4J7ci+O2AU/YqFfesglP37nS28iit1zuc/TF9ujdXW2XHbaOn0Svux6xX3793fr3ujS5J1UJNz8w7KX42xdfePSWOKDgnsyLYMoHn1u7y2+1lx671TbdaL34QfY/toNdfVGbOP7xe5pk3NmKwNogQCgpwynu3rK93dj5nDiWRLfPvvrBTjy/h701aoDVrVOrDBu5yz8JFP7pV+lQwjmk53Uz8qVJ8Z+0R/8xE73dA/dk3aMwNfz5CRb9R+QRB+8VX8kQ3aK3ftSvW9u6Xnp60RPY/sCzbODNl9sBe++U7JNay7ePfe0969n3IRsx+Hp7/e2PbPioiUWhJPrfDz75kr346K1FCh263mWbb7KBXdn+70u3uZVNIHqNR1fntGqxr1WrVtV226lp/O/V6POocC+baSr3OubMLlajejXbYL11beas3+LQ2v7MY2z9Rg2sMNBOfPpOa7Tu359PFV1VGL1lpPjb0VJ5HGZWLxAFqf876Uq7sXM7a3HgHrgn+GIpfEvlF99Mt47nHGfzFy6ysRPftYf6dbF1atfk9zQJ2rMagYouQChxnmB0efYOB51d4j9OCn9j8eqTd8S/8eCmFVhVKOEctMar2/b19zPs1ItutDNPbBH/Bzvuybt//vWPdu8jo+z9j7+0A/be2aL3r1epkhtflt20yaYl/uM8ilY9rjrLjjxkr+Sf2Fr6CNO++D7+08b7+3a25ttuEUeq4qEkuiw7+taz4v+RGEWr2jVrxPbcyi4Q2UdXZEZ/wPDzrN9i++itIFEMxL3srmu6ZxRY99xlu/hzGqpWzbXBj70Qf/5OdPXaJ19+H7/Fr/gf/ET//zDo4eds/Ii+a1rNr6cocOfgp+y1tz+0p4f0jN86WfjWStxTBHSORVcMjhr7VhwIo9f4uaceaR3OOc5ysrP5Pb3TknEEKpMAoaQMpx39x0mva861ww7YLb43V5SUAdFxl3+6ooRzcEA6R3/6ZY6d3qGX7b7ztnbTNefFHyga3Xj9OyHLOF74J47dLj/djjls3/iKkuiKni4dTyvayBUlZcQtdreefR+2t9//1A7ce+e//3n+9Y8Wvaf9xKMOsAvPbGUvTXiHK0rKz5zShmdefN263Xa/fTRuqD3z4iTcU1LzD0X/3OjXs6Mdsv+u8Z2jD3Y96oxr7ZmhPS03Jzt+y99rz9xV9AH1XFHiN/6ne/wy+3c75MQrVvkHbrhrraNtk6Z8HH/e19ujB8ZXkLz57id22XV321XtT7KTWx3M72n05GxEYK0RIJSU4Sij9zMeftAecZGObnxGSRkQHXdZXSjhHByIztHoa7HPvvwWO3i/XeNvQyj+1cy4OzHLMR59Fkb0p77R5yFFn1Hy5bfT7b7eV8Ub+YyScsAWu2v0m+joKp7C20effRt/gPTpJxxmpx1/qL374ZfxZ5R8+MqQ+Mqe6BZ9Zs8ZJx7GZ5RojqBoy6Qp06x95zvs/TH32ZSpn+Mu9i1cF/0zPLoK7exTWsZ/q/Cq2GGDuscfpFv6szKimPjrnD/4jBLRefS4/UH78rv/2hMDuxVtXNVnw+CuAY+u3hn/xlR7/qGbihZe3OXO+MPqb+vWPv6MEn5Pr7FmCwJrmwChpAwnGl3C99To1+JvvalZo1pcqvnWmzJApnCXZXn58Ye5Hn7q1fFnBERfD1z4FYWcQwqAZRj58tv/2nHndIt/Ix1dmpqd/feVJNFrvX7dOoZ7GVBTuEt06fXnX0+3/9v/X1ZvnVr2wrjJ8WfDPNyvi/1rx+LfetPVmm+3pd015Kn4w0f51psUcB0jpd96s3DREtu95QXW+eI2dirfeuOQXPPo4yPHWdMmm1izbTa3ufPmW6cbBsX/fI/eBoX7mv3KOnH/sBct/iDRQd3jb7fpe+8IG/fG+zZ22B3xN5ude1VvW6d2rfjKWb71pqzKq75f4TeuFH4DS/Ep3LXWhdteHDfFOvW8xwbdeoXtt0dz++/Ps61l26ut04Wn2FknH87vaZJhZysCa4UAoaQMxxh9Onl0Gfzrkz+K771D0y3iP2lp3PDvDz7jphOI3uYRvXe68Ba99aDwGxI4B51z8U3RN35Er+/St+jT4W/pcn786fy8/vX20z7/Lv4T9N//nFe0PPqP8zNObBH/dfT5MHc/MNIGPfx8/Nc1a1S3+3pfWfTNFPpnVDk3lg4lkcL4Nz+w6ANcC2//uex0a3PsIZUTSPhT97l3uA194sWijTs2a2K9u7Uv+tpl3IXYxVZFH27Z5ZYh8bc7Rbf1GtW3O6+/xCL/6Ba9FSf6A6Dog6Wj27GH72c9rjyr6IqqZJ5V5dh6RY8B9tf8hUXfXlb8p8Y9mdfA8uUFdu+jz9uzL70R//u1Tu0a8dtZLz67dRxm+T1NMu5sRWBtECCUlOMUo0slly3LK3ofbzlWcddyCHAO5cArx11xLwfeau4axZA//5pv8xcssvUbr1t09VTx8cVLltrvf/wV/3r0IYDc0iOQn7/cos8WaLxuPf6DUUgevZ5n//an1alV0+rVrb3SZtyF2KVWRf/BviD+Z00Dy8pa+Z8l0dteoytOatWsntyTYPNKArgn96L4+Zc5q/13J7+nSc6dzQhUVAFCSUU9OZ43AggggAACCCCAAAIIIIAAAgjIBQglclIWIoAAAggggAACCCCAAAIIIIBARRUglFTUk+N5I4AAAggggAACCCCAAAIIIICAXIBQIidlIQIIIIAAAggggAACCCCAAAIIVFQBQklFPTmeNwIIIIAAAggggAACCCCAAAIIyAUIJXJSFiKAAAIIIIAAAggggAACCCCAQEUVIJRU1JPjeSOAAAIIIIAAAggggAACCCCAgFyAUCInZSECCCCAAAIIIIAAAggggAACCFRUAUJJRT05njcCCCCAAAIIIIAAAggggAACCMgFCCVyUhYigAACCCCAAAIIIIAAAggggEBFFSCUVNST43kjgAACCCCAAAIIIIAAAggggIBcgFAiJ2UhAggggAACCCCAAAIIIIAAAghUVAFCSUU9OZ43AggggAACCCCAAAIIIIAAAgjIBQglclIWIoAAAggggAACCCCAAAIIIIBARRUglFTUk+N5I4AAAggggAACCCCAAAIIIICAXIBQIidlIQIIIIAAAqkJjJn4rq1Tu6btvdv2qd1hFVOzZv9hl3W/27peeprt0HSLMu/h+k7aqwAACHNJREFUjggggAACCCCAAAJ/CxBKeCUggAACCCAQSODgEy+37bbezAbcdFmZn8H0n2ZZy7adbegdV9te/2pW5j3cEQEEEEAAAQQQQIBQwmsAAQQQQACBoAJ/zV9oOdnZVqtm9TI/D0JJmem4IwIIIIAAAgggsEoBrijhhYEAAggggEAggev7PGQbrreundf2KFu0eKmdd1VvO+rQve29j760197+yLbdalM7/YTD7LADdit6hnP/WmC3DXzCxr72Xvz3tm+6ub374Rclrij5ccYsu/2eYTZ56udWvVoV23/PHe2qC0+xBvXqWP/7n7F3PvjCel1zrm26UeN4x5ff/td69n3YTj7mIDv6sH0CafCwCCCAAAIIIIBAZggQSjLjHHgWCCCAAAKVUKDNRT1tq803sp5Xt7N58xfaXkddFCscechetkvzre21tz+0SVOm2dujB8afZbJ8eYG1ufAG++TL7+2Eow6w3XZsapOnfmbPvvxGUSj5dc6fdtAJl9muzbexk44+0H6fO8+GPDY6DiqDbr3S5vw+11q3+4+t16iBPT7gP7YsL99OPL+7rVu/rt3ft7NVyc2phCfBj4wAAggggAACCPxPgFDCqwEBBBBAAIFAAqsKJV0vPd1ObX1I/Ix+/3Oe7X9sB+vT42JrceDuNmnKx9a+cx+7tesF8ZUn0a30W296Dxxmw0dNtNeeudNq1vj7LT3DnhsfXzHy+sh+tm79dWzqtK/s9A43WdvjDrW58+bbW+9+YiPvv9EaNqgbSIKHRQABBBBAAAEEMkeAUJI5Z8EzQQABBBCoZAKrCiW9u11oRxyyZ5HE9geeZZ0uOsXOOulwG/L4C9b3vhFFwWNVoeSsy26J34oTfUhs4S26WmXGzNk24r4e1mybzeO//dCIMXbbgCfi//3kvd35xpxK9trjx0UAAQQQQACB1QsQSnh1IIAAAgggEEjAG0ruHPyUDX5stH346tCit8iUvqLk5Auut+ycbLvozFYr/VQ7bb9V/Bae6FZ4dUr0v1989FbbbOP1AinwsAgggAACCCCAQGYJEEoy6zx4NggggAAClUjAG0qGPz/Bog+ALX5lSOlQ0vWWIfb2+5/aC4/cajWqVy3SLCgosKysrPivo6tLWrfrZocftIe9//GXlpuTY8MGdbeaNapVIn1+VAQQQAABBBBAYNUChBJeGQgggAACCAQS8IaSX2b/boeceEX8tprzTzvaovgRXWHy+dc/Fn2Ya/S/Tzivu/17r52s/RnHWO1aNeyLb6bbA8NesiG3d7Jq1araqRfdYDk5OfGHuX43faYdf+518bfd3NLl/EASPCwCCCCAAAIIIJA5AoSSzDkLngkCCCCAQCUTKB5K5i9YZHseeaGt6jNKrr64jZ15YotYZ9TYt+yam+4rkjr28P3+/tabPlfbXrs2i/9+9LaaG+98JL5ypPC2/57Nre/1HeyWux+zp0a/Zi89dqttutHfb7cp/LDX6686O/42HW4IIIAAAggggEBlFiCUVObT52dHAAEEEKiQAouXLLWZs36zjdZvaFWrVlntzzB33gKLAkyjBnX/ca5CIvCkEUAAAQQQQACBhAQIJQnBshYBBBBAAAEEEEAAAQQQQAABBCqeAKGk4p0ZzxgBBBBAAAEEEEAAAQQQQAABBBISIJQkBMtaBBBAAAEEEEAAAQQQQAABBBCoeAKEkop3ZjxjBBBAAAEEEEAAAQQQQAABBBBISIBQkhAsaxFAAAEEEEAAAQQQQAABBBBAoOIJEEoq3pnxjBFAAAEEEEAAAQQQQAABBBBAICEBQklCsKxFAAEEEEAAAQQQQAABBBBAAIGKJ0AoqXhnxjNGAAEEEEAAAQQQQAABBBBAAIGEBAglCcGyFgEEEEAAAQQQQAABBBBAAAEEKp4AoaTinRnPGAEEEEAAAQQQQAABBBBAAAEEEhIglCQEy1oEEEAAAQQQQAABBBBAAAEEEKh4AoSSindmPGMEEEAAAQQQQAABBBBAAAEEEEhIgFCSECxrEUAAAQQQQAABBBBAAAEEEECg4gkQSiremfGMEUAAAQQQQAABBBBAAAEEEEAgIQFCSUKwrEUAAQQQQAABBBBAAAEEEEAAgYonQCipeGfGM0YAAQQQQAABBBBAAAEEEEAAgYQECCUJwbIWAQQQQAABBBBAAAEEEEAAAQQqngChpOKdGc8YAQQQQAABBBBAAAEEEEAAAQQSEiCUJATLWgQQQAABBBBA4P/bsWMSAAAABIL9W5vC4eEKiJybBAgQIECAAIGegKOkt5nGBAgQIECAAAECBAgQIECAwEnAUXKCFUuAAAECBAgQIECAAAECBAj0BBwlvc00JkCAAAECBAgQIECAAAECBE4CjpITrFgCBAgQIECAAAECBAgQIECgJ+Ao6W2mMQECBAgQIECAAAECBAgQIHAScJScYMUSIECAAAECBAgQIECAAAECPQFHSW8zjQkQIECAAAECBAgQIECAAIGTgKPkBCuWAAECBAgQIECAAAECBAgQ6Ak4SnqbaUyAAAECBAgQIECAAAECBAicBBwlJ1ixBAgQIECAAAECBAgQIECAQE/AUdLbTGMCBAgQIECAAAECBAgQIEDgJOAoOcGKJUCAAAECBAgQIECAAAECBHoCjpLeZhoTIECAAAECBAgQIECAAAECJwFHyQlWLAECBAgQIECAAAECBAgQINATcJT0NtOYAAECBAgQIECAAAECBAgQOAk4Sk6wYgkQIECAAAECBAgQIECAAIGegKOkt5nGBAgQIECAAAECBAgQIECAwEnAUXKCFUuAAAECBAgQIECAAAECBAj0BBwlvc00JkCAAAECBAgQIECAAAECBE4CjpITrFgCBAgQIECAAAECBAgQIECgJzDt1iDzsX01nQAAAABJRU5ErkJggg==",
      "text/html": [
       "<div>                            <div id=\"8f1dd0b2-4a48-4ec1-9ab2-c7fd5c5deb83\" class=\"plotly-graph-div\" style=\"height:525px; width:100%;\"></div>            <script type=\"text/javascript\">                require([\"plotly\"], function(Plotly) {                    window.PLOTLYENV=window.PLOTLYENV || {};                                    if (document.getElementById(\"8f1dd0b2-4a48-4ec1-9ab2-c7fd5c5deb83\")) {                    Plotly.newPlot(                        \"8f1dd0b2-4a48-4ec1-9ab2-c7fd5c5deb83\",                        [{\"hovertemplate\":\"variable=last_funding_rate<br>index=%{x}<br>value=%{y}<extra></extra>\",\"legendgroup\":\"last_funding_rate\",\"line\":{\"color\":\"#636efa\",\"dash\":\"solid\"},\"marker\":{\"symbol\":\"circle\"},\"mode\":\"lines\",\"name\":\"last_funding_rate\",\"orientation\":\"v\",\"showlegend\":true,\"x\":[0,1,2,3,4,5,6,7,8,9,10,11,12,13,14,15,16,17,18,19,20,21,22,23,24,25,26,27,28,29,30,31,32,33,34,35,36,37,38,39,40,41,42,43,44,45,46,47,48,49,50,51,52,53,54,55,56,57,58,59,60,61,62,63,64,65,66,67,68,69,70,71,72,73,74,75,76,77,78,79,80,81,82,83,84,85,86,87,88,89],\"xaxis\":\"x\",\"y\":[0,0,0,0,0,0,0,0,0,0,0,0,0,0,0,0,0,0,0,0,0,0,0,0,0,0,0,0,0,0,0,0,0,0,0,0,0,0,0,0,0,0,0,0,0,0,0,0,0,0,0,0,0,0,0,0,0,0,0,0,0,0,0,0,0,0,0,0,0,0,0,0,0,0,0,0,0,0,0,0,0,0,0,0,0,0,0,0,0,0],\"yaxis\":\"y\",\"type\":\"scatter\"}],                        {\"template\":{\"data\":{\"histogram2dcontour\":[{\"type\":\"histogram2dcontour\",\"colorbar\":{\"outlinewidth\":0,\"ticks\":\"\"},\"colorscale\":[[0.0,\"#0d0887\"],[0.1111111111111111,\"#46039f\"],[0.2222222222222222,\"#7201a8\"],[0.3333333333333333,\"#9c179e\"],[0.4444444444444444,\"#bd3786\"],[0.5555555555555556,\"#d8576b\"],[0.6666666666666666,\"#ed7953\"],[0.7777777777777778,\"#fb9f3a\"],[0.8888888888888888,\"#fdca26\"],[1.0,\"#f0f921\"]]}],\"choropleth\":[{\"type\":\"choropleth\",\"colorbar\":{\"outlinewidth\":0,\"ticks\":\"\"}}],\"histogram2d\":[{\"type\":\"histogram2d\",\"colorbar\":{\"outlinewidth\":0,\"ticks\":\"\"},\"colorscale\":[[0.0,\"#0d0887\"],[0.1111111111111111,\"#46039f\"],[0.2222222222222222,\"#7201a8\"],[0.3333333333333333,\"#9c179e\"],[0.4444444444444444,\"#bd3786\"],[0.5555555555555556,\"#d8576b\"],[0.6666666666666666,\"#ed7953\"],[0.7777777777777778,\"#fb9f3a\"],[0.8888888888888888,\"#fdca26\"],[1.0,\"#f0f921\"]]}],\"heatmap\":[{\"type\":\"heatmap\",\"colorbar\":{\"outlinewidth\":0,\"ticks\":\"\"},\"colorscale\":[[0.0,\"#0d0887\"],[0.1111111111111111,\"#46039f\"],[0.2222222222222222,\"#7201a8\"],[0.3333333333333333,\"#9c179e\"],[0.4444444444444444,\"#bd3786\"],[0.5555555555555556,\"#d8576b\"],[0.6666666666666666,\"#ed7953\"],[0.7777777777777778,\"#fb9f3a\"],[0.8888888888888888,\"#fdca26\"],[1.0,\"#f0f921\"]]}],\"heatmapgl\":[{\"type\":\"heatmapgl\",\"colorbar\":{\"outlinewidth\":0,\"ticks\":\"\"},\"colorscale\":[[0.0,\"#0d0887\"],[0.1111111111111111,\"#46039f\"],[0.2222222222222222,\"#7201a8\"],[0.3333333333333333,\"#9c179e\"],[0.4444444444444444,\"#bd3786\"],[0.5555555555555556,\"#d8576b\"],[0.6666666666666666,\"#ed7953\"],[0.7777777777777778,\"#fb9f3a\"],[0.8888888888888888,\"#fdca26\"],[1.0,\"#f0f921\"]]}],\"contourcarpet\":[{\"type\":\"contourcarpet\",\"colorbar\":{\"outlinewidth\":0,\"ticks\":\"\"}}],\"contour\":[{\"type\":\"contour\",\"colorbar\":{\"outlinewidth\":0,\"ticks\":\"\"},\"colorscale\":[[0.0,\"#0d0887\"],[0.1111111111111111,\"#46039f\"],[0.2222222222222222,\"#7201a8\"],[0.3333333333333333,\"#9c179e\"],[0.4444444444444444,\"#bd3786\"],[0.5555555555555556,\"#d8576b\"],[0.6666666666666666,\"#ed7953\"],[0.7777777777777778,\"#fb9f3a\"],[0.8888888888888888,\"#fdca26\"],[1.0,\"#f0f921\"]]}],\"surface\":[{\"type\":\"surface\",\"colorbar\":{\"outlinewidth\":0,\"ticks\":\"\"},\"colorscale\":[[0.0,\"#0d0887\"],[0.1111111111111111,\"#46039f\"],[0.2222222222222222,\"#7201a8\"],[0.3333333333333333,\"#9c179e\"],[0.4444444444444444,\"#bd3786\"],[0.5555555555555556,\"#d8576b\"],[0.6666666666666666,\"#ed7953\"],[0.7777777777777778,\"#fb9f3a\"],[0.8888888888888888,\"#fdca26\"],[1.0,\"#f0f921\"]]}],\"mesh3d\":[{\"type\":\"mesh3d\",\"colorbar\":{\"outlinewidth\":0,\"ticks\":\"\"}}],\"scatter\":[{\"fillpattern\":{\"fillmode\":\"overlay\",\"size\":10,\"solidity\":0.2},\"type\":\"scatter\"}],\"parcoords\":[{\"type\":\"parcoords\",\"line\":{\"colorbar\":{\"outlinewidth\":0,\"ticks\":\"\"}}}],\"scatterpolargl\":[{\"type\":\"scatterpolargl\",\"marker\":{\"colorbar\":{\"outlinewidth\":0,\"ticks\":\"\"}}}],\"bar\":[{\"error_x\":{\"color\":\"#2a3f5f\"},\"error_y\":{\"color\":\"#2a3f5f\"},\"marker\":{\"line\":{\"color\":\"#E5ECF6\",\"width\":0.5},\"pattern\":{\"fillmode\":\"overlay\",\"size\":10,\"solidity\":0.2}},\"type\":\"bar\"}],\"scattergeo\":[{\"type\":\"scattergeo\",\"marker\":{\"colorbar\":{\"outlinewidth\":0,\"ticks\":\"\"}}}],\"scatterpolar\":[{\"type\":\"scatterpolar\",\"marker\":{\"colorbar\":{\"outlinewidth\":0,\"ticks\":\"\"}}}],\"histogram\":[{\"marker\":{\"pattern\":{\"fillmode\":\"overlay\",\"size\":10,\"solidity\":0.2}},\"type\":\"histogram\"}],\"scattergl\":[{\"type\":\"scattergl\",\"marker\":{\"colorbar\":{\"outlinewidth\":0,\"ticks\":\"\"}}}],\"scatter3d\":[{\"type\":\"scatter3d\",\"line\":{\"colorbar\":{\"outlinewidth\":0,\"ticks\":\"\"}},\"marker\":{\"colorbar\":{\"outlinewidth\":0,\"ticks\":\"\"}}}],\"scattermapbox\":[{\"type\":\"scattermapbox\",\"marker\":{\"colorbar\":{\"outlinewidth\":0,\"ticks\":\"\"}}}],\"scatterternary\":[{\"type\":\"scatterternary\",\"marker\":{\"colorbar\":{\"outlinewidth\":0,\"ticks\":\"\"}}}],\"scattercarpet\":[{\"type\":\"scattercarpet\",\"marker\":{\"colorbar\":{\"outlinewidth\":0,\"ticks\":\"\"}}}],\"carpet\":[{\"aaxis\":{\"endlinecolor\":\"#2a3f5f\",\"gridcolor\":\"white\",\"linecolor\":\"white\",\"minorgridcolor\":\"white\",\"startlinecolor\":\"#2a3f5f\"},\"baxis\":{\"endlinecolor\":\"#2a3f5f\",\"gridcolor\":\"white\",\"linecolor\":\"white\",\"minorgridcolor\":\"white\",\"startlinecolor\":\"#2a3f5f\"},\"type\":\"carpet\"}],\"table\":[{\"cells\":{\"fill\":{\"color\":\"#EBF0F8\"},\"line\":{\"color\":\"white\"}},\"header\":{\"fill\":{\"color\":\"#C8D4E3\"},\"line\":{\"color\":\"white\"}},\"type\":\"table\"}],\"barpolar\":[{\"marker\":{\"line\":{\"color\":\"#E5ECF6\",\"width\":0.5},\"pattern\":{\"fillmode\":\"overlay\",\"size\":10,\"solidity\":0.2}},\"type\":\"barpolar\"}],\"pie\":[{\"automargin\":true,\"type\":\"pie\"}]},\"layout\":{\"autotypenumbers\":\"strict\",\"colorway\":[\"#636efa\",\"#EF553B\",\"#00cc96\",\"#ab63fa\",\"#FFA15A\",\"#19d3f3\",\"#FF6692\",\"#B6E880\",\"#FF97FF\",\"#FECB52\"],\"font\":{\"color\":\"#2a3f5f\"},\"hovermode\":\"closest\",\"hoverlabel\":{\"align\":\"left\"},\"paper_bgcolor\":\"white\",\"plot_bgcolor\":\"#E5ECF6\",\"polar\":{\"bgcolor\":\"#E5ECF6\",\"angularaxis\":{\"gridcolor\":\"white\",\"linecolor\":\"white\",\"ticks\":\"\"},\"radialaxis\":{\"gridcolor\":\"white\",\"linecolor\":\"white\",\"ticks\":\"\"}},\"ternary\":{\"bgcolor\":\"#E5ECF6\",\"aaxis\":{\"gridcolor\":\"white\",\"linecolor\":\"white\",\"ticks\":\"\"},\"baxis\":{\"gridcolor\":\"white\",\"linecolor\":\"white\",\"ticks\":\"\"},\"caxis\":{\"gridcolor\":\"white\",\"linecolor\":\"white\",\"ticks\":\"\"}},\"coloraxis\":{\"colorbar\":{\"outlinewidth\":0,\"ticks\":\"\"}},\"colorscale\":{\"sequential\":[[0.0,\"#0d0887\"],[0.1111111111111111,\"#46039f\"],[0.2222222222222222,\"#7201a8\"],[0.3333333333333333,\"#9c179e\"],[0.4444444444444444,\"#bd3786\"],[0.5555555555555556,\"#d8576b\"],[0.6666666666666666,\"#ed7953\"],[0.7777777777777778,\"#fb9f3a\"],[0.8888888888888888,\"#fdca26\"],[1.0,\"#f0f921\"]],\"sequentialminus\":[[0.0,\"#0d0887\"],[0.1111111111111111,\"#46039f\"],[0.2222222222222222,\"#7201a8\"],[0.3333333333333333,\"#9c179e\"],[0.4444444444444444,\"#bd3786\"],[0.5555555555555556,\"#d8576b\"],[0.6666666666666666,\"#ed7953\"],[0.7777777777777778,\"#fb9f3a\"],[0.8888888888888888,\"#fdca26\"],[1.0,\"#f0f921\"]],\"diverging\":[[0,\"#8e0152\"],[0.1,\"#c51b7d\"],[0.2,\"#de77ae\"],[0.3,\"#f1b6da\"],[0.4,\"#fde0ef\"],[0.5,\"#f7f7f7\"],[0.6,\"#e6f5d0\"],[0.7,\"#b8e186\"],[0.8,\"#7fbc41\"],[0.9,\"#4d9221\"],[1,\"#276419\"]]},\"xaxis\":{\"gridcolor\":\"white\",\"linecolor\":\"white\",\"ticks\":\"\",\"title\":{\"standoff\":15},\"zerolinecolor\":\"white\",\"automargin\":true,\"zerolinewidth\":2},\"yaxis\":{\"gridcolor\":\"white\",\"linecolor\":\"white\",\"ticks\":\"\",\"title\":{\"standoff\":15},\"zerolinecolor\":\"white\",\"automargin\":true,\"zerolinewidth\":2},\"scene\":{\"xaxis\":{\"backgroundcolor\":\"#E5ECF6\",\"gridcolor\":\"white\",\"linecolor\":\"white\",\"showbackground\":true,\"ticks\":\"\",\"zerolinecolor\":\"white\",\"gridwidth\":2},\"yaxis\":{\"backgroundcolor\":\"#E5ECF6\",\"gridcolor\":\"white\",\"linecolor\":\"white\",\"showbackground\":true,\"ticks\":\"\",\"zerolinecolor\":\"white\",\"gridwidth\":2},\"zaxis\":{\"backgroundcolor\":\"#E5ECF6\",\"gridcolor\":\"white\",\"linecolor\":\"white\",\"showbackground\":true,\"ticks\":\"\",\"zerolinecolor\":\"white\",\"gridwidth\":2}},\"shapedefaults\":{\"line\":{\"color\":\"#2a3f5f\"}},\"annotationdefaults\":{\"arrowcolor\":\"#2a3f5f\",\"arrowhead\":0,\"arrowwidth\":1},\"geo\":{\"bgcolor\":\"white\",\"landcolor\":\"#E5ECF6\",\"subunitcolor\":\"white\",\"showland\":true,\"showlakes\":true,\"lakecolor\":\"white\"},\"title\":{\"x\":0.05},\"mapbox\":{\"style\":\"light\"}}},\"xaxis\":{\"anchor\":\"y\",\"domain\":[0.0,1.0],\"title\":{\"text\":\"index\"}},\"yaxis\":{\"anchor\":\"x\",\"domain\":[0.0,1.0],\"title\":{\"text\":\"value\"}},\"legend\":{\"title\":{\"text\":\"variable\"},\"tracegroupgap\":0},\"margin\":{\"t\":60}},                        {\"responsive\": true}                    ).then(function(){\n",
       "                            \n",
       "var gd = document.getElementById('8f1dd0b2-4a48-4ec1-9ab2-c7fd5c5deb83');\n",
=======
      "image/png": "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",
      "text/html": [
       "<div>                            <div id=\"267f5663-4411-4945-a33c-174606d97642\" class=\"plotly-graph-div\" style=\"height:525px; width:100%;\"></div>            <script type=\"text/javascript\">                require([\"plotly\"], function(Plotly) {                    window.PLOTLYENV=window.PLOTLYENV || {};                                    if (document.getElementById(\"267f5663-4411-4945-a33c-174606d97642\")) {                    Plotly.newPlot(                        \"267f5663-4411-4945-a33c-174606d97642\",                        [{\"hovertemplate\":\"variable=base_asset_amount_with_amm<br>index=%{x}<br>value=%{y}<extra></extra>\",\"legendgroup\":\"base_asset_amount_with_amm\",\"line\":{\"color\":\"#636efa\",\"dash\":\"solid\"},\"marker\":{\"symbol\":\"circle\"},\"mode\":\"lines\",\"name\":\"base_asset_amount_with_amm\",\"orientation\":\"v\",\"showlegend\":true,\"x\":[0,1,2,3,4,5,6,7,8,9,10,11,12,13,14,15,16,17,18,19,20,21,22,23,24,25,26,27,28,29,30,31,32,33,34,35,36,37,38,39,40,41,42,43,44,45,46,47,48,49,50,51,52,53,54,55,56,57,58,59,60,61,62,63,64,65,66,67,68,69,70,71,72,73,74,75,76,77,78,79,80,81,82,83,84,85],\"xaxis\":\"x\",\"y\":[0.0,0.0,0.0,0.0,0.0,0.0,0.0,0.0,0.0,0.0,0.0,0.0,0.0,0.0,0.0,0.0,0.0,0.0,0.0,0.0,-0.0101,-0.0101,-0.0203,-0.0203,-0.0203,-0.0203,-0.0203,-0.0203,-0.0103,-0.0103,-0.0205,-0.0205,-0.0205,-0.0308,-0.0308,-0.0308,-0.0308,-0.0308,-0.0412,-0.0412,-0.0412,-0.0412,-0.0412,-0.0412,-0.0412,-0.0517,-0.0517,-0.0517,-0.0517,-0.0517,-0.0517,-0.0517,-0.0517,-0.0517,-0.0517,-0.0517,-0.0517,-0.0517,-0.0517,-0.0517,-0.0517,-0.0517,-0.0517,-0.0517,-0.0517,-0.0517,-0.0517,-0.0517,-0.0517,-0.0517,-0.0517,-0.0517,-0.0517,-0.0517,-0.0517,-0.0517,-0.0517,-0.0517,-0.0517,-0.0617,-0.0512,-0.041,-0.0308,-0.0204,-0.0101,0.0],\"yaxis\":\"y\",\"type\":\"scatter\"}],                        {\"template\":{\"data\":{\"histogram2dcontour\":[{\"type\":\"histogram2dcontour\",\"colorbar\":{\"outlinewidth\":0,\"ticks\":\"\"},\"colorscale\":[[0.0,\"#0d0887\"],[0.1111111111111111,\"#46039f\"],[0.2222222222222222,\"#7201a8\"],[0.3333333333333333,\"#9c179e\"],[0.4444444444444444,\"#bd3786\"],[0.5555555555555556,\"#d8576b\"],[0.6666666666666666,\"#ed7953\"],[0.7777777777777778,\"#fb9f3a\"],[0.8888888888888888,\"#fdca26\"],[1.0,\"#f0f921\"]]}],\"choropleth\":[{\"type\":\"choropleth\",\"colorbar\":{\"outlinewidth\":0,\"ticks\":\"\"}}],\"histogram2d\":[{\"type\":\"histogram2d\",\"colorbar\":{\"outlinewidth\":0,\"ticks\":\"\"},\"colorscale\":[[0.0,\"#0d0887\"],[0.1111111111111111,\"#46039f\"],[0.2222222222222222,\"#7201a8\"],[0.3333333333333333,\"#9c179e\"],[0.4444444444444444,\"#bd3786\"],[0.5555555555555556,\"#d8576b\"],[0.6666666666666666,\"#ed7953\"],[0.7777777777777778,\"#fb9f3a\"],[0.8888888888888888,\"#fdca26\"],[1.0,\"#f0f921\"]]}],\"heatmap\":[{\"type\":\"heatmap\",\"colorbar\":{\"outlinewidth\":0,\"ticks\":\"\"},\"colorscale\":[[0.0,\"#0d0887\"],[0.1111111111111111,\"#46039f\"],[0.2222222222222222,\"#7201a8\"],[0.3333333333333333,\"#9c179e\"],[0.4444444444444444,\"#bd3786\"],[0.5555555555555556,\"#d8576b\"],[0.6666666666666666,\"#ed7953\"],[0.7777777777777778,\"#fb9f3a\"],[0.8888888888888888,\"#fdca26\"],[1.0,\"#f0f921\"]]}],\"heatmapgl\":[{\"type\":\"heatmapgl\",\"colorbar\":{\"outlinewidth\":0,\"ticks\":\"\"},\"colorscale\":[[0.0,\"#0d0887\"],[0.1111111111111111,\"#46039f\"],[0.2222222222222222,\"#7201a8\"],[0.3333333333333333,\"#9c179e\"],[0.4444444444444444,\"#bd3786\"],[0.5555555555555556,\"#d8576b\"],[0.6666666666666666,\"#ed7953\"],[0.7777777777777778,\"#fb9f3a\"],[0.8888888888888888,\"#fdca26\"],[1.0,\"#f0f921\"]]}],\"contourcarpet\":[{\"type\":\"contourcarpet\",\"colorbar\":{\"outlinewidth\":0,\"ticks\":\"\"}}],\"contour\":[{\"type\":\"contour\",\"colorbar\":{\"outlinewidth\":0,\"ticks\":\"\"},\"colorscale\":[[0.0,\"#0d0887\"],[0.1111111111111111,\"#46039f\"],[0.2222222222222222,\"#7201a8\"],[0.3333333333333333,\"#9c179e\"],[0.4444444444444444,\"#bd3786\"],[0.5555555555555556,\"#d8576b\"],[0.6666666666666666,\"#ed7953\"],[0.7777777777777778,\"#fb9f3a\"],[0.8888888888888888,\"#fdca26\"],[1.0,\"#f0f921\"]]}],\"surface\":[{\"type\":\"surface\",\"colorbar\":{\"outlinewidth\":0,\"ticks\":\"\"},\"colorscale\":[[0.0,\"#0d0887\"],[0.1111111111111111,\"#46039f\"],[0.2222222222222222,\"#7201a8\"],[0.3333333333333333,\"#9c179e\"],[0.4444444444444444,\"#bd3786\"],[0.5555555555555556,\"#d8576b\"],[0.6666666666666666,\"#ed7953\"],[0.7777777777777778,\"#fb9f3a\"],[0.8888888888888888,\"#fdca26\"],[1.0,\"#f0f921\"]]}],\"mesh3d\":[{\"type\":\"mesh3d\",\"colorbar\":{\"outlinewidth\":0,\"ticks\":\"\"}}],\"scatter\":[{\"fillpattern\":{\"fillmode\":\"overlay\",\"size\":10,\"solidity\":0.2},\"type\":\"scatter\"}],\"parcoords\":[{\"type\":\"parcoords\",\"line\":{\"colorbar\":{\"outlinewidth\":0,\"ticks\":\"\"}}}],\"scatterpolargl\":[{\"type\":\"scatterpolargl\",\"marker\":{\"colorbar\":{\"outlinewidth\":0,\"ticks\":\"\"}}}],\"bar\":[{\"error_x\":{\"color\":\"#2a3f5f\"},\"error_y\":{\"color\":\"#2a3f5f\"},\"marker\":{\"line\":{\"color\":\"#E5ECF6\",\"width\":0.5},\"pattern\":{\"fillmode\":\"overlay\",\"size\":10,\"solidity\":0.2}},\"type\":\"bar\"}],\"scattergeo\":[{\"type\":\"scattergeo\",\"marker\":{\"colorbar\":{\"outlinewidth\":0,\"ticks\":\"\"}}}],\"scatterpolar\":[{\"type\":\"scatterpolar\",\"marker\":{\"colorbar\":{\"outlinewidth\":0,\"ticks\":\"\"}}}],\"histogram\":[{\"marker\":{\"pattern\":{\"fillmode\":\"overlay\",\"size\":10,\"solidity\":0.2}},\"type\":\"histogram\"}],\"scattergl\":[{\"type\":\"scattergl\",\"marker\":{\"colorbar\":{\"outlinewidth\":0,\"ticks\":\"\"}}}],\"scatter3d\":[{\"type\":\"scatter3d\",\"line\":{\"colorbar\":{\"outlinewidth\":0,\"ticks\":\"\"}},\"marker\":{\"colorbar\":{\"outlinewidth\":0,\"ticks\":\"\"}}}],\"scattermapbox\":[{\"type\":\"scattermapbox\",\"marker\":{\"colorbar\":{\"outlinewidth\":0,\"ticks\":\"\"}}}],\"scatterternary\":[{\"type\":\"scatterternary\",\"marker\":{\"colorbar\":{\"outlinewidth\":0,\"ticks\":\"\"}}}],\"scattercarpet\":[{\"type\":\"scattercarpet\",\"marker\":{\"colorbar\":{\"outlinewidth\":0,\"ticks\":\"\"}}}],\"carpet\":[{\"aaxis\":{\"endlinecolor\":\"#2a3f5f\",\"gridcolor\":\"white\",\"linecolor\":\"white\",\"minorgridcolor\":\"white\",\"startlinecolor\":\"#2a3f5f\"},\"baxis\":{\"endlinecolor\":\"#2a3f5f\",\"gridcolor\":\"white\",\"linecolor\":\"white\",\"minorgridcolor\":\"white\",\"startlinecolor\":\"#2a3f5f\"},\"type\":\"carpet\"}],\"table\":[{\"cells\":{\"fill\":{\"color\":\"#EBF0F8\"},\"line\":{\"color\":\"white\"}},\"header\":{\"fill\":{\"color\":\"#C8D4E3\"},\"line\":{\"color\":\"white\"}},\"type\":\"table\"}],\"barpolar\":[{\"marker\":{\"line\":{\"color\":\"#E5ECF6\",\"width\":0.5},\"pattern\":{\"fillmode\":\"overlay\",\"size\":10,\"solidity\":0.2}},\"type\":\"barpolar\"}],\"pie\":[{\"automargin\":true,\"type\":\"pie\"}]},\"layout\":{\"autotypenumbers\":\"strict\",\"colorway\":[\"#636efa\",\"#EF553B\",\"#00cc96\",\"#ab63fa\",\"#FFA15A\",\"#19d3f3\",\"#FF6692\",\"#B6E880\",\"#FF97FF\",\"#FECB52\"],\"font\":{\"color\":\"#2a3f5f\"},\"hovermode\":\"closest\",\"hoverlabel\":{\"align\":\"left\"},\"paper_bgcolor\":\"white\",\"plot_bgcolor\":\"#E5ECF6\",\"polar\":{\"bgcolor\":\"#E5ECF6\",\"angularaxis\":{\"gridcolor\":\"white\",\"linecolor\":\"white\",\"ticks\":\"\"},\"radialaxis\":{\"gridcolor\":\"white\",\"linecolor\":\"white\",\"ticks\":\"\"}},\"ternary\":{\"bgcolor\":\"#E5ECF6\",\"aaxis\":{\"gridcolor\":\"white\",\"linecolor\":\"white\",\"ticks\":\"\"},\"baxis\":{\"gridcolor\":\"white\",\"linecolor\":\"white\",\"ticks\":\"\"},\"caxis\":{\"gridcolor\":\"white\",\"linecolor\":\"white\",\"ticks\":\"\"}},\"coloraxis\":{\"colorbar\":{\"outlinewidth\":0,\"ticks\":\"\"}},\"colorscale\":{\"sequential\":[[0.0,\"#0d0887\"],[0.1111111111111111,\"#46039f\"],[0.2222222222222222,\"#7201a8\"],[0.3333333333333333,\"#9c179e\"],[0.4444444444444444,\"#bd3786\"],[0.5555555555555556,\"#d8576b\"],[0.6666666666666666,\"#ed7953\"],[0.7777777777777778,\"#fb9f3a\"],[0.8888888888888888,\"#fdca26\"],[1.0,\"#f0f921\"]],\"sequentialminus\":[[0.0,\"#0d0887\"],[0.1111111111111111,\"#46039f\"],[0.2222222222222222,\"#7201a8\"],[0.3333333333333333,\"#9c179e\"],[0.4444444444444444,\"#bd3786\"],[0.5555555555555556,\"#d8576b\"],[0.6666666666666666,\"#ed7953\"],[0.7777777777777778,\"#fb9f3a\"],[0.8888888888888888,\"#fdca26\"],[1.0,\"#f0f921\"]],\"diverging\":[[0,\"#8e0152\"],[0.1,\"#c51b7d\"],[0.2,\"#de77ae\"],[0.3,\"#f1b6da\"],[0.4,\"#fde0ef\"],[0.5,\"#f7f7f7\"],[0.6,\"#e6f5d0\"],[0.7,\"#b8e186\"],[0.8,\"#7fbc41\"],[0.9,\"#4d9221\"],[1,\"#276419\"]]},\"xaxis\":{\"gridcolor\":\"white\",\"linecolor\":\"white\",\"ticks\":\"\",\"title\":{\"standoff\":15},\"zerolinecolor\":\"white\",\"automargin\":true,\"zerolinewidth\":2},\"yaxis\":{\"gridcolor\":\"white\",\"linecolor\":\"white\",\"ticks\":\"\",\"title\":{\"standoff\":15},\"zerolinecolor\":\"white\",\"automargin\":true,\"zerolinewidth\":2},\"scene\":{\"xaxis\":{\"backgroundcolor\":\"#E5ECF6\",\"gridcolor\":\"white\",\"linecolor\":\"white\",\"showbackground\":true,\"ticks\":\"\",\"zerolinecolor\":\"white\",\"gridwidth\":2},\"yaxis\":{\"backgroundcolor\":\"#E5ECF6\",\"gridcolor\":\"white\",\"linecolor\":\"white\",\"showbackground\":true,\"ticks\":\"\",\"zerolinecolor\":\"white\",\"gridwidth\":2},\"zaxis\":{\"backgroundcolor\":\"#E5ECF6\",\"gridcolor\":\"white\",\"linecolor\":\"white\",\"showbackground\":true,\"ticks\":\"\",\"zerolinecolor\":\"white\",\"gridwidth\":2}},\"shapedefaults\":{\"line\":{\"color\":\"#2a3f5f\"}},\"annotationdefaults\":{\"arrowcolor\":\"#2a3f5f\",\"arrowhead\":0,\"arrowwidth\":1},\"geo\":{\"bgcolor\":\"white\",\"landcolor\":\"#E5ECF6\",\"subunitcolor\":\"white\",\"showland\":true,\"showlakes\":true,\"lakecolor\":\"white\"},\"title\":{\"x\":0.05},\"mapbox\":{\"style\":\"light\"}}},\"xaxis\":{\"anchor\":\"y\",\"domain\":[0.0,1.0],\"title\":{\"text\":\"index\"}},\"yaxis\":{\"anchor\":\"x\",\"domain\":[0.0,1.0],\"title\":{\"text\":\"value\"}},\"legend\":{\"title\":{\"text\":\"variable\"},\"tracegroupgap\":0},\"margin\":{\"t\":60}},                        {\"responsive\": true}                    ).then(function(){\n",
       "                            \n",
       "var gd = document.getElementById('267f5663-4411-4945-a33c-174606d97642');\n",
>>>>>>> master
       "var x = new MutationObserver(function (mutations, observer) {{\n",
       "        var display = window.getComputedStyle(gd).display;\n",
       "        if (!display || display === 'none') {{\n",
       "            console.log([gd, 'removed!']);\n",
       "            Plotly.purge(gd);\n",
       "            observer.disconnect();\n",
       "        }}\n",
       "}});\n",
       "\n",
       "// Listen for the removal of the full notebook cells\n",
       "var notebookContainer = gd.closest('#notebook-container');\n",
       "if (notebookContainer) {{\n",
       "    x.observe(notebookContainer, {childList: true});\n",
       "}}\n",
       "\n",
       "// Listen for the clearing of the current output cell\n",
       "var outputEl = gd.closest('.output');\n",
       "if (outputEl) {{\n",
       "    x.observe(outputEl, {childList: true});\n",
       "}}\n",
       "\n",
       "                        })                };                });            </script>        </div>"
      ]
     },
     "metadata": {},
     "output_type": "display_data"
    }
   ],
   "source": [
<<<<<<< HEAD
    "result['last_funding_rate'].plot()"
=======
    "(result.base_asset_amount_with_amm/1e9).plot()"
>>>>>>> master
   ]
  },
  {
   "cell_type": "code",
<<<<<<< HEAD
   "execution_count": 304,
=======
   "execution_count": 256,
   "id": "32b04af3-5014-4481-a72d-73735113cd97",
   "metadata": {},
   "outputs": [
    {
     "data": {
      "text/plain": [
       "0     60\n",
       "1     60\n",
       "2     60\n",
       "3     60\n",
       "4     60\n",
       "      ..\n",
       "81    60\n",
       "82    60\n",
       "83    60\n",
       "84    60\n",
       "85    60\n",
       "Name: funding_period, Length: 86, dtype: int64"
      ]
     },
     "execution_count": 256,
     "metadata": {},
     "output_type": "execute_result"
    }
   ],
   "source": [
    "result.funding_period"
   ]
  },
  {
   "cell_type": "code",
   "execution_count": 255,
>>>>>>> master
   "id": "8868e38a-3ea8-4339-893b-b7085c7c4e79",
   "metadata": {},
   "outputs": [
    {
     "data": {
      "application/vnd.plotly.v1+json": {
       "config": {
        "plotlyServerURL": "https://plot.ly"
       },
       "data": [
        {
         "hovertemplate": "variable=net_revenue_since_last_funding<br>index=%{x}<br>value=%{y}<extra></extra>",
         "legendgroup": "net_revenue_since_last_funding",
         "line": {
          "color": "#636efa",
          "dash": "solid"
         },
         "marker": {
          "symbol": "circle"
         },
         "mode": "lines",
         "name": "net_revenue_since_last_funding",
         "orientation": "v",
         "showlegend": true,
         "type": "scatter",
         "x": [
          0,
          1,
          2,
          3,
          4,
          5,
          6,
          7,
          8,
          9,
          10,
          11,
          12,
          13,
          14,
          15,
          16,
          17,
          18,
          19,
          20,
          21,
          22,
          23,
          24,
          25,
          26,
          27,
          28,
          29,
          30,
          31,
          32,
          33,
          34,
          35,
          36,
          37,
          38,
          39,
          40,
          41,
          42,
          43,
          44,
          45,
          46,
          47,
          48,
          49,
          50,
          51,
          52,
          53,
          54,
          55,
          56,
          57,
          58,
          59,
          60,
          61,
          62,
          63,
          64,
          65,
          66,
          67,
          68,
          69,
          70,
          71,
          72,
          73,
          74,
          75,
          76,
          77,
          78,
          79,
          80,
          81,
          82,
          83,
          84,
<<<<<<< HEAD
          85,
          86,
          87,
          88,
          89
=======
          85
>>>>>>> master
         ],
         "xaxis": "x",
         "y": [
          0,
          0,
          0,
          0,
          0,
          0,
          0,
          0,
          0,
          0,
          0,
          0,
          0,
          0,
          0,
          0,
          0,
          0,
          0,
          0,
          148,
          148,
          294,
          294,
          294,
          294,
          294,
          294,
          437,
          437,
          583,
          583,
          583,
          728,
          728,
          728,
          728,
          728,
          871,
          871,
<<<<<<< HEAD
=======
          871,
          871,
          871,
          871,
          871,
          1013,
          1013,
          1013,
          1013,
          1013,
          1013,
          1013,
          1013,
          1013,
          1013,
          1013,
          1013,
          1013,
          1013,
          1013,
          1013,
          1013,
          1013,
          1013,
          1013,
          1013,
          1013,
          1013,
          1013,
          1013,
          1013,
          1013,
          1013,
>>>>>>> master
          1013,
          1013,
          1013,
          1013,
          1013,
<<<<<<< HEAD
          1153,
          1153,
          1153,
          1153,
          1153,
          1153,
          1292,
          1292,
          1292,
          1292,
          1292,
          1292,
          1429,
          1429,
          1429,
          1566,
          1566,
          1566,
          1566,
          1566,
          1566,
          1566,
          1566,
          1566,
          1566,
          1566,
          1566,
          1566,
          1566,
          1566,
          1566,
          1566,
          1566,
          783,
          783,
          783,
          783,
          783,
          783,
          783,
          783,
          783,
          783,
          783,
          783
=======
          506,
          506,
          506,
          506,
          506,
          506,
          506,
          506
>>>>>>> master
         ],
         "yaxis": "y"
        }
       ],
       "layout": {
        "autosize": true,
        "legend": {
         "title": {
          "text": "variable"
         },
         "tracegroupgap": 0
        },
        "margin": {
         "t": 60
        },
        "template": {
         "data": {
          "bar": [
           {
            "error_x": {
             "color": "#2a3f5f"
            },
            "error_y": {
             "color": "#2a3f5f"
            },
            "marker": {
             "line": {
              "color": "#E5ECF6",
              "width": 0.5
             },
             "pattern": {
              "fillmode": "overlay",
              "size": 10,
              "solidity": 0.2
             }
            },
            "type": "bar"
           }
          ],
          "barpolar": [
           {
            "marker": {
             "line": {
              "color": "#E5ECF6",
              "width": 0.5
             },
             "pattern": {
              "fillmode": "overlay",
              "size": 10,
              "solidity": 0.2
             }
            },
            "type": "barpolar"
           }
          ],
          "carpet": [
           {
            "aaxis": {
             "endlinecolor": "#2a3f5f",
             "gridcolor": "white",
             "linecolor": "white",
             "minorgridcolor": "white",
             "startlinecolor": "#2a3f5f"
            },
            "baxis": {
             "endlinecolor": "#2a3f5f",
             "gridcolor": "white",
             "linecolor": "white",
             "minorgridcolor": "white",
             "startlinecolor": "#2a3f5f"
            },
            "type": "carpet"
           }
          ],
          "choropleth": [
           {
            "colorbar": {
             "outlinewidth": 0,
             "ticks": ""
            },
            "type": "choropleth"
           }
          ],
          "contour": [
           {
            "colorbar": {
             "outlinewidth": 0,
             "ticks": ""
            },
            "colorscale": [
             [
              0,
              "#0d0887"
             ],
             [
              0.1111111111111111,
              "#46039f"
             ],
             [
              0.2222222222222222,
              "#7201a8"
             ],
             [
              0.3333333333333333,
              "#9c179e"
             ],
             [
              0.4444444444444444,
              "#bd3786"
             ],
             [
              0.5555555555555556,
              "#d8576b"
             ],
             [
              0.6666666666666666,
              "#ed7953"
             ],
             [
              0.7777777777777778,
              "#fb9f3a"
             ],
             [
              0.8888888888888888,
              "#fdca26"
             ],
             [
              1,
              "#f0f921"
             ]
            ],
            "type": "contour"
           }
          ],
          "contourcarpet": [
           {
            "colorbar": {
             "outlinewidth": 0,
             "ticks": ""
            },
            "type": "contourcarpet"
           }
          ],
          "heatmap": [
           {
            "colorbar": {
             "outlinewidth": 0,
             "ticks": ""
            },
            "colorscale": [
             [
              0,
              "#0d0887"
             ],
             [
              0.1111111111111111,
              "#46039f"
             ],
             [
              0.2222222222222222,
              "#7201a8"
             ],
             [
              0.3333333333333333,
              "#9c179e"
             ],
             [
              0.4444444444444444,
              "#bd3786"
             ],
             [
              0.5555555555555556,
              "#d8576b"
             ],
             [
              0.6666666666666666,
              "#ed7953"
             ],
             [
              0.7777777777777778,
              "#fb9f3a"
             ],
             [
              0.8888888888888888,
              "#fdca26"
             ],
             [
              1,
              "#f0f921"
             ]
            ],
            "type": "heatmap"
           }
          ],
          "heatmapgl": [
           {
            "colorbar": {
             "outlinewidth": 0,
             "ticks": ""
            },
            "colorscale": [
             [
              0,
              "#0d0887"
             ],
             [
              0.1111111111111111,
              "#46039f"
             ],
             [
              0.2222222222222222,
              "#7201a8"
             ],
             [
              0.3333333333333333,
              "#9c179e"
             ],
             [
              0.4444444444444444,
              "#bd3786"
             ],
             [
              0.5555555555555556,
              "#d8576b"
             ],
             [
              0.6666666666666666,
              "#ed7953"
             ],
             [
              0.7777777777777778,
              "#fb9f3a"
             ],
             [
              0.8888888888888888,
              "#fdca26"
             ],
             [
              1,
              "#f0f921"
             ]
            ],
            "type": "heatmapgl"
           }
          ],
          "histogram": [
           {
            "marker": {
             "pattern": {
              "fillmode": "overlay",
              "size": 10,
              "solidity": 0.2
             }
            },
            "type": "histogram"
           }
          ],
          "histogram2d": [
           {
            "colorbar": {
             "outlinewidth": 0,
             "ticks": ""
            },
            "colorscale": [
             [
              0,
              "#0d0887"
             ],
             [
              0.1111111111111111,
              "#46039f"
             ],
             [
              0.2222222222222222,
              "#7201a8"
             ],
             [
              0.3333333333333333,
              "#9c179e"
             ],
             [
              0.4444444444444444,
              "#bd3786"
             ],
             [
              0.5555555555555556,
              "#d8576b"
             ],
             [
              0.6666666666666666,
              "#ed7953"
             ],
             [
              0.7777777777777778,
              "#fb9f3a"
             ],
             [
              0.8888888888888888,
              "#fdca26"
             ],
             [
              1,
              "#f0f921"
             ]
            ],
            "type": "histogram2d"
           }
          ],
          "histogram2dcontour": [
           {
            "colorbar": {
             "outlinewidth": 0,
             "ticks": ""
            },
            "colorscale": [
             [
              0,
              "#0d0887"
             ],
             [
              0.1111111111111111,
              "#46039f"
             ],
             [
              0.2222222222222222,
              "#7201a8"
             ],
             [
              0.3333333333333333,
              "#9c179e"
             ],
             [
              0.4444444444444444,
              "#bd3786"
             ],
             [
              0.5555555555555556,
              "#d8576b"
             ],
             [
              0.6666666666666666,
              "#ed7953"
             ],
             [
              0.7777777777777778,
              "#fb9f3a"
             ],
             [
              0.8888888888888888,
              "#fdca26"
             ],
             [
              1,
              "#f0f921"
             ]
            ],
            "type": "histogram2dcontour"
           }
          ],
          "mesh3d": [
           {
            "colorbar": {
             "outlinewidth": 0,
             "ticks": ""
            },
            "type": "mesh3d"
           }
          ],
          "parcoords": [
           {
            "line": {
             "colorbar": {
              "outlinewidth": 0,
              "ticks": ""
             }
            },
            "type": "parcoords"
           }
          ],
          "pie": [
           {
            "automargin": true,
            "type": "pie"
           }
          ],
          "scatter": [
           {
            "fillpattern": {
             "fillmode": "overlay",
             "size": 10,
             "solidity": 0.2
            },
            "type": "scatter"
           }
          ],
          "scatter3d": [
           {
            "line": {
             "colorbar": {
              "outlinewidth": 0,
              "ticks": ""
             }
            },
            "marker": {
             "colorbar": {
              "outlinewidth": 0,
              "ticks": ""
             }
            },
            "type": "scatter3d"
           }
          ],
          "scattercarpet": [
           {
            "marker": {
             "colorbar": {
              "outlinewidth": 0,
              "ticks": ""
             }
            },
            "type": "scattercarpet"
           }
          ],
          "scattergeo": [
           {
            "marker": {
             "colorbar": {
              "outlinewidth": 0,
              "ticks": ""
             }
            },
            "type": "scattergeo"
           }
          ],
          "scattergl": [
           {
            "marker": {
             "colorbar": {
              "outlinewidth": 0,
              "ticks": ""
             }
            },
            "type": "scattergl"
           }
          ],
          "scattermapbox": [
           {
            "marker": {
             "colorbar": {
              "outlinewidth": 0,
              "ticks": ""
             }
            },
            "type": "scattermapbox"
           }
          ],
          "scatterpolar": [
           {
            "marker": {
             "colorbar": {
              "outlinewidth": 0,
              "ticks": ""
             }
            },
            "type": "scatterpolar"
           }
          ],
          "scatterpolargl": [
           {
            "marker": {
             "colorbar": {
              "outlinewidth": 0,
              "ticks": ""
             }
            },
            "type": "scatterpolargl"
           }
          ],
          "scatterternary": [
           {
            "marker": {
             "colorbar": {
              "outlinewidth": 0,
              "ticks": ""
             }
            },
            "type": "scatterternary"
           }
          ],
          "surface": [
           {
            "colorbar": {
             "outlinewidth": 0,
             "ticks": ""
            },
            "colorscale": [
             [
              0,
              "#0d0887"
             ],
             [
              0.1111111111111111,
              "#46039f"
             ],
             [
              0.2222222222222222,
              "#7201a8"
             ],
             [
              0.3333333333333333,
              "#9c179e"
             ],
             [
              0.4444444444444444,
              "#bd3786"
             ],
             [
              0.5555555555555556,
              "#d8576b"
             ],
             [
              0.6666666666666666,
              "#ed7953"
             ],
             [
              0.7777777777777778,
              "#fb9f3a"
             ],
             [
              0.8888888888888888,
              "#fdca26"
             ],
             [
              1,
              "#f0f921"
             ]
            ],
            "type": "surface"
           }
          ],
          "table": [
           {
            "cells": {
             "fill": {
              "color": "#EBF0F8"
             },
             "line": {
              "color": "white"
             }
            },
            "header": {
             "fill": {
              "color": "#C8D4E3"
             },
             "line": {
              "color": "white"
             }
            },
            "type": "table"
           }
          ]
         },
         "layout": {
          "annotationdefaults": {
           "arrowcolor": "#2a3f5f",
           "arrowhead": 0,
           "arrowwidth": 1
          },
          "autotypenumbers": "strict",
          "coloraxis": {
           "colorbar": {
            "outlinewidth": 0,
            "ticks": ""
           }
          },
          "colorscale": {
           "diverging": [
            [
             0,
             "#8e0152"
            ],
            [
             0.1,
             "#c51b7d"
            ],
            [
             0.2,
             "#de77ae"
            ],
            [
             0.3,
             "#f1b6da"
            ],
            [
             0.4,
             "#fde0ef"
            ],
            [
             0.5,
             "#f7f7f7"
            ],
            [
             0.6,
             "#e6f5d0"
            ],
            [
             0.7,
             "#b8e186"
            ],
            [
             0.8,
             "#7fbc41"
            ],
            [
             0.9,
             "#4d9221"
            ],
            [
             1,
             "#276419"
            ]
           ],
           "sequential": [
            [
             0,
             "#0d0887"
            ],
            [
             0.1111111111111111,
             "#46039f"
            ],
            [
             0.2222222222222222,
             "#7201a8"
            ],
            [
             0.3333333333333333,
             "#9c179e"
            ],
            [
             0.4444444444444444,
             "#bd3786"
            ],
            [
             0.5555555555555556,
             "#d8576b"
            ],
            [
             0.6666666666666666,
             "#ed7953"
            ],
            [
             0.7777777777777778,
             "#fb9f3a"
            ],
            [
             0.8888888888888888,
             "#fdca26"
            ],
            [
             1,
             "#f0f921"
            ]
           ],
           "sequentialminus": [
            [
             0,
             "#0d0887"
            ],
            [
             0.1111111111111111,
             "#46039f"
            ],
            [
             0.2222222222222222,
             "#7201a8"
            ],
            [
             0.3333333333333333,
             "#9c179e"
            ],
            [
             0.4444444444444444,
             "#bd3786"
            ],
            [
             0.5555555555555556,
             "#d8576b"
            ],
            [
             0.6666666666666666,
             "#ed7953"
            ],
            [
             0.7777777777777778,
             "#fb9f3a"
            ],
            [
             0.8888888888888888,
             "#fdca26"
            ],
            [
             1,
             "#f0f921"
            ]
           ]
          },
          "colorway": [
           "#636efa",
           "#EF553B",
           "#00cc96",
           "#ab63fa",
           "#FFA15A",
           "#19d3f3",
           "#FF6692",
           "#B6E880",
           "#FF97FF",
           "#FECB52"
          ],
          "font": {
           "color": "#2a3f5f"
          },
          "geo": {
           "bgcolor": "white",
           "lakecolor": "white",
           "landcolor": "#E5ECF6",
           "showlakes": true,
           "showland": true,
           "subunitcolor": "white"
          },
          "hoverlabel": {
           "align": "left"
          },
          "hovermode": "closest",
          "mapbox": {
           "style": "light"
          },
          "paper_bgcolor": "white",
          "plot_bgcolor": "#E5ECF6",
          "polar": {
           "angularaxis": {
            "gridcolor": "white",
            "linecolor": "white",
            "ticks": ""
           },
           "bgcolor": "#E5ECF6",
           "radialaxis": {
            "gridcolor": "white",
            "linecolor": "white",
            "ticks": ""
           }
          },
          "scene": {
           "xaxis": {
            "backgroundcolor": "#E5ECF6",
            "gridcolor": "white",
            "gridwidth": 2,
            "linecolor": "white",
            "showbackground": true,
            "ticks": "",
            "zerolinecolor": "white"
           },
           "yaxis": {
            "backgroundcolor": "#E5ECF6",
            "gridcolor": "white",
            "gridwidth": 2,
            "linecolor": "white",
            "showbackground": true,
            "ticks": "",
            "zerolinecolor": "white"
           },
           "zaxis": {
            "backgroundcolor": "#E5ECF6",
            "gridcolor": "white",
            "gridwidth": 2,
            "linecolor": "white",
            "showbackground": true,
            "ticks": "",
            "zerolinecolor": "white"
           }
          },
          "shapedefaults": {
           "line": {
            "color": "#2a3f5f"
           }
          },
          "ternary": {
           "aaxis": {
            "gridcolor": "white",
            "linecolor": "white",
            "ticks": ""
           },
           "baxis": {
            "gridcolor": "white",
            "linecolor": "white",
            "ticks": ""
           },
           "bgcolor": "#E5ECF6",
           "caxis": {
            "gridcolor": "white",
            "linecolor": "white",
            "ticks": ""
           }
          },
          "title": {
           "x": 0.05
          },
          "xaxis": {
           "automargin": true,
           "gridcolor": "white",
           "linecolor": "white",
           "ticks": "",
           "title": {
            "standoff": 15
           },
           "zerolinecolor": "white",
           "zerolinewidth": 2
          },
          "yaxis": {
           "automargin": true,
           "gridcolor": "white",
           "linecolor": "white",
           "ticks": "",
           "title": {
            "standoff": 15
           },
           "zerolinecolor": "white",
           "zerolinewidth": 2
          }
         }
        },
        "xaxis": {
         "anchor": "y",
         "autorange": true,
         "domain": [
          0,
          1
         ],
         "range": [
          0,
<<<<<<< HEAD
          89
=======
          85
>>>>>>> master
         ],
         "title": {
          "text": "index"
         },
         "type": "linear"
        },
        "yaxis": {
         "anchor": "x",
         "autorange": true,
         "domain": [
          0,
          1
         ],
         "range": [
<<<<<<< HEAD
          -87,
          1653
=======
          -56.27777777777777,
          1069.2777777777778
>>>>>>> master
         ],
         "title": {
          "text": "value"
         },
         "type": "linear"
        }
       }
      },
<<<<<<< HEAD
      "image/png": "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",
      "text/html": [
       "<div>                            <div id=\"278d2a83-327e-4e5c-a27a-b83f2b5afff9\" class=\"plotly-graph-div\" style=\"height:525px; width:100%;\"></div>            <script type=\"text/javascript\">                require([\"plotly\"], function(Plotly) {                    window.PLOTLYENV=window.PLOTLYENV || {};                                    if (document.getElementById(\"278d2a83-327e-4e5c-a27a-b83f2b5afff9\")) {                    Plotly.newPlot(                        \"278d2a83-327e-4e5c-a27a-b83f2b5afff9\",                        [{\"hovertemplate\":\"variable=net_revenue_since_last_funding<br>index=%{x}<br>value=%{y}<extra></extra>\",\"legendgroup\":\"net_revenue_since_last_funding\",\"line\":{\"color\":\"#636efa\",\"dash\":\"solid\"},\"marker\":{\"symbol\":\"circle\"},\"mode\":\"lines\",\"name\":\"net_revenue_since_last_funding\",\"orientation\":\"v\",\"showlegend\":true,\"x\":[0,1,2,3,4,5,6,7,8,9,10,11,12,13,14,15,16,17,18,19,20,21,22,23,24,25,26,27,28,29,30,31,32,33,34,35,36,37,38,39,40,41,42,43,44,45,46,47,48,49,50,51,52,53,54,55,56,57,58,59,60,61,62,63,64,65,66,67,68,69,70,71,72,73,74,75,76,77,78,79,80,81,82,83,84,85,86,87,88,89],\"xaxis\":\"x\",\"y\":[0,0,0,0,0,0,0,0,0,0,0,0,0,0,0,0,0,0,0,0,148,148,294,294,294,294,294,294,437,437,583,583,583,728,728,728,728,728,871,871,1013,1013,1013,1013,1013,1153,1153,1153,1153,1153,1153,1292,1292,1292,1292,1292,1292,1429,1429,1429,1566,1566,1566,1566,1566,1566,1566,1566,1566,1566,1566,1566,1566,1566,1566,1566,1566,1566,783,783,783,783,783,783,783,783,783,783,783,783],\"yaxis\":\"y\",\"type\":\"scatter\"}],                        {\"template\":{\"data\":{\"histogram2dcontour\":[{\"type\":\"histogram2dcontour\",\"colorbar\":{\"outlinewidth\":0,\"ticks\":\"\"},\"colorscale\":[[0.0,\"#0d0887\"],[0.1111111111111111,\"#46039f\"],[0.2222222222222222,\"#7201a8\"],[0.3333333333333333,\"#9c179e\"],[0.4444444444444444,\"#bd3786\"],[0.5555555555555556,\"#d8576b\"],[0.6666666666666666,\"#ed7953\"],[0.7777777777777778,\"#fb9f3a\"],[0.8888888888888888,\"#fdca26\"],[1.0,\"#f0f921\"]]}],\"choropleth\":[{\"type\":\"choropleth\",\"colorbar\":{\"outlinewidth\":0,\"ticks\":\"\"}}],\"histogram2d\":[{\"type\":\"histogram2d\",\"colorbar\":{\"outlinewidth\":0,\"ticks\":\"\"},\"colorscale\":[[0.0,\"#0d0887\"],[0.1111111111111111,\"#46039f\"],[0.2222222222222222,\"#7201a8\"],[0.3333333333333333,\"#9c179e\"],[0.4444444444444444,\"#bd3786\"],[0.5555555555555556,\"#d8576b\"],[0.6666666666666666,\"#ed7953\"],[0.7777777777777778,\"#fb9f3a\"],[0.8888888888888888,\"#fdca26\"],[1.0,\"#f0f921\"]]}],\"heatmap\":[{\"type\":\"heatmap\",\"colorbar\":{\"outlinewidth\":0,\"ticks\":\"\"},\"colorscale\":[[0.0,\"#0d0887\"],[0.1111111111111111,\"#46039f\"],[0.2222222222222222,\"#7201a8\"],[0.3333333333333333,\"#9c179e\"],[0.4444444444444444,\"#bd3786\"],[0.5555555555555556,\"#d8576b\"],[0.6666666666666666,\"#ed7953\"],[0.7777777777777778,\"#fb9f3a\"],[0.8888888888888888,\"#fdca26\"],[1.0,\"#f0f921\"]]}],\"heatmapgl\":[{\"type\":\"heatmapgl\",\"colorbar\":{\"outlinewidth\":0,\"ticks\":\"\"},\"colorscale\":[[0.0,\"#0d0887\"],[0.1111111111111111,\"#46039f\"],[0.2222222222222222,\"#7201a8\"],[0.3333333333333333,\"#9c179e\"],[0.4444444444444444,\"#bd3786\"],[0.5555555555555556,\"#d8576b\"],[0.6666666666666666,\"#ed7953\"],[0.7777777777777778,\"#fb9f3a\"],[0.8888888888888888,\"#fdca26\"],[1.0,\"#f0f921\"]]}],\"contourcarpet\":[{\"type\":\"contourcarpet\",\"colorbar\":{\"outlinewidth\":0,\"ticks\":\"\"}}],\"contour\":[{\"type\":\"contour\",\"colorbar\":{\"outlinewidth\":0,\"ticks\":\"\"},\"colorscale\":[[0.0,\"#0d0887\"],[0.1111111111111111,\"#46039f\"],[0.2222222222222222,\"#7201a8\"],[0.3333333333333333,\"#9c179e\"],[0.4444444444444444,\"#bd3786\"],[0.5555555555555556,\"#d8576b\"],[0.6666666666666666,\"#ed7953\"],[0.7777777777777778,\"#fb9f3a\"],[0.8888888888888888,\"#fdca26\"],[1.0,\"#f0f921\"]]}],\"surface\":[{\"type\":\"surface\",\"colorbar\":{\"outlinewidth\":0,\"ticks\":\"\"},\"colorscale\":[[0.0,\"#0d0887\"],[0.1111111111111111,\"#46039f\"],[0.2222222222222222,\"#7201a8\"],[0.3333333333333333,\"#9c179e\"],[0.4444444444444444,\"#bd3786\"],[0.5555555555555556,\"#d8576b\"],[0.6666666666666666,\"#ed7953\"],[0.7777777777777778,\"#fb9f3a\"],[0.8888888888888888,\"#fdca26\"],[1.0,\"#f0f921\"]]}],\"mesh3d\":[{\"type\":\"mesh3d\",\"colorbar\":{\"outlinewidth\":0,\"ticks\":\"\"}}],\"scatter\":[{\"fillpattern\":{\"fillmode\":\"overlay\",\"size\":10,\"solidity\":0.2},\"type\":\"scatter\"}],\"parcoords\":[{\"type\":\"parcoords\",\"line\":{\"colorbar\":{\"outlinewidth\":0,\"ticks\":\"\"}}}],\"scatterpolargl\":[{\"type\":\"scatterpolargl\",\"marker\":{\"colorbar\":{\"outlinewidth\":0,\"ticks\":\"\"}}}],\"bar\":[{\"error_x\":{\"color\":\"#2a3f5f\"},\"error_y\":{\"color\":\"#2a3f5f\"},\"marker\":{\"line\":{\"color\":\"#E5ECF6\",\"width\":0.5},\"pattern\":{\"fillmode\":\"overlay\",\"size\":10,\"solidity\":0.2}},\"type\":\"bar\"}],\"scattergeo\":[{\"type\":\"scattergeo\",\"marker\":{\"colorbar\":{\"outlinewidth\":0,\"ticks\":\"\"}}}],\"scatterpolar\":[{\"type\":\"scatterpolar\",\"marker\":{\"colorbar\":{\"outlinewidth\":0,\"ticks\":\"\"}}}],\"histogram\":[{\"marker\":{\"pattern\":{\"fillmode\":\"overlay\",\"size\":10,\"solidity\":0.2}},\"type\":\"histogram\"}],\"scattergl\":[{\"type\":\"scattergl\",\"marker\":{\"colorbar\":{\"outlinewidth\":0,\"ticks\":\"\"}}}],\"scatter3d\":[{\"type\":\"scatter3d\",\"line\":{\"colorbar\":{\"outlinewidth\":0,\"ticks\":\"\"}},\"marker\":{\"colorbar\":{\"outlinewidth\":0,\"ticks\":\"\"}}}],\"scattermapbox\":[{\"type\":\"scattermapbox\",\"marker\":{\"colorbar\":{\"outlinewidth\":0,\"ticks\":\"\"}}}],\"scatterternary\":[{\"type\":\"scatterternary\",\"marker\":{\"colorbar\":{\"outlinewidth\":0,\"ticks\":\"\"}}}],\"scattercarpet\":[{\"type\":\"scattercarpet\",\"marker\":{\"colorbar\":{\"outlinewidth\":0,\"ticks\":\"\"}}}],\"carpet\":[{\"aaxis\":{\"endlinecolor\":\"#2a3f5f\",\"gridcolor\":\"white\",\"linecolor\":\"white\",\"minorgridcolor\":\"white\",\"startlinecolor\":\"#2a3f5f\"},\"baxis\":{\"endlinecolor\":\"#2a3f5f\",\"gridcolor\":\"white\",\"linecolor\":\"white\",\"minorgridcolor\":\"white\",\"startlinecolor\":\"#2a3f5f\"},\"type\":\"carpet\"}],\"table\":[{\"cells\":{\"fill\":{\"color\":\"#EBF0F8\"},\"line\":{\"color\":\"white\"}},\"header\":{\"fill\":{\"color\":\"#C8D4E3\"},\"line\":{\"color\":\"white\"}},\"type\":\"table\"}],\"barpolar\":[{\"marker\":{\"line\":{\"color\":\"#E5ECF6\",\"width\":0.5},\"pattern\":{\"fillmode\":\"overlay\",\"size\":10,\"solidity\":0.2}},\"type\":\"barpolar\"}],\"pie\":[{\"automargin\":true,\"type\":\"pie\"}]},\"layout\":{\"autotypenumbers\":\"strict\",\"colorway\":[\"#636efa\",\"#EF553B\",\"#00cc96\",\"#ab63fa\",\"#FFA15A\",\"#19d3f3\",\"#FF6692\",\"#B6E880\",\"#FF97FF\",\"#FECB52\"],\"font\":{\"color\":\"#2a3f5f\"},\"hovermode\":\"closest\",\"hoverlabel\":{\"align\":\"left\"},\"paper_bgcolor\":\"white\",\"plot_bgcolor\":\"#E5ECF6\",\"polar\":{\"bgcolor\":\"#E5ECF6\",\"angularaxis\":{\"gridcolor\":\"white\",\"linecolor\":\"white\",\"ticks\":\"\"},\"radialaxis\":{\"gridcolor\":\"white\",\"linecolor\":\"white\",\"ticks\":\"\"}},\"ternary\":{\"bgcolor\":\"#E5ECF6\",\"aaxis\":{\"gridcolor\":\"white\",\"linecolor\":\"white\",\"ticks\":\"\"},\"baxis\":{\"gridcolor\":\"white\",\"linecolor\":\"white\",\"ticks\":\"\"},\"caxis\":{\"gridcolor\":\"white\",\"linecolor\":\"white\",\"ticks\":\"\"}},\"coloraxis\":{\"colorbar\":{\"outlinewidth\":0,\"ticks\":\"\"}},\"colorscale\":{\"sequential\":[[0.0,\"#0d0887\"],[0.1111111111111111,\"#46039f\"],[0.2222222222222222,\"#7201a8\"],[0.3333333333333333,\"#9c179e\"],[0.4444444444444444,\"#bd3786\"],[0.5555555555555556,\"#d8576b\"],[0.6666666666666666,\"#ed7953\"],[0.7777777777777778,\"#fb9f3a\"],[0.8888888888888888,\"#fdca26\"],[1.0,\"#f0f921\"]],\"sequentialminus\":[[0.0,\"#0d0887\"],[0.1111111111111111,\"#46039f\"],[0.2222222222222222,\"#7201a8\"],[0.3333333333333333,\"#9c179e\"],[0.4444444444444444,\"#bd3786\"],[0.5555555555555556,\"#d8576b\"],[0.6666666666666666,\"#ed7953\"],[0.7777777777777778,\"#fb9f3a\"],[0.8888888888888888,\"#fdca26\"],[1.0,\"#f0f921\"]],\"diverging\":[[0,\"#8e0152\"],[0.1,\"#c51b7d\"],[0.2,\"#de77ae\"],[0.3,\"#f1b6da\"],[0.4,\"#fde0ef\"],[0.5,\"#f7f7f7\"],[0.6,\"#e6f5d0\"],[0.7,\"#b8e186\"],[0.8,\"#7fbc41\"],[0.9,\"#4d9221\"],[1,\"#276419\"]]},\"xaxis\":{\"gridcolor\":\"white\",\"linecolor\":\"white\",\"ticks\":\"\",\"title\":{\"standoff\":15},\"zerolinecolor\":\"white\",\"automargin\":true,\"zerolinewidth\":2},\"yaxis\":{\"gridcolor\":\"white\",\"linecolor\":\"white\",\"ticks\":\"\",\"title\":{\"standoff\":15},\"zerolinecolor\":\"white\",\"automargin\":true,\"zerolinewidth\":2},\"scene\":{\"xaxis\":{\"backgroundcolor\":\"#E5ECF6\",\"gridcolor\":\"white\",\"linecolor\":\"white\",\"showbackground\":true,\"ticks\":\"\",\"zerolinecolor\":\"white\",\"gridwidth\":2},\"yaxis\":{\"backgroundcolor\":\"#E5ECF6\",\"gridcolor\":\"white\",\"linecolor\":\"white\",\"showbackground\":true,\"ticks\":\"\",\"zerolinecolor\":\"white\",\"gridwidth\":2},\"zaxis\":{\"backgroundcolor\":\"#E5ECF6\",\"gridcolor\":\"white\",\"linecolor\":\"white\",\"showbackground\":true,\"ticks\":\"\",\"zerolinecolor\":\"white\",\"gridwidth\":2}},\"shapedefaults\":{\"line\":{\"color\":\"#2a3f5f\"}},\"annotationdefaults\":{\"arrowcolor\":\"#2a3f5f\",\"arrowhead\":0,\"arrowwidth\":1},\"geo\":{\"bgcolor\":\"white\",\"landcolor\":\"#E5ECF6\",\"subunitcolor\":\"white\",\"showland\":true,\"showlakes\":true,\"lakecolor\":\"white\"},\"title\":{\"x\":0.05},\"mapbox\":{\"style\":\"light\"}}},\"xaxis\":{\"anchor\":\"y\",\"domain\":[0.0,1.0],\"title\":{\"text\":\"index\"}},\"yaxis\":{\"anchor\":\"x\",\"domain\":[0.0,1.0],\"title\":{\"text\":\"value\"}},\"legend\":{\"title\":{\"text\":\"variable\"},\"tracegroupgap\":0},\"margin\":{\"t\":60}},                        {\"responsive\": true}                    ).then(function(){\n",
       "                            \n",
       "var gd = document.getElementById('278d2a83-327e-4e5c-a27a-b83f2b5afff9');\n",
=======
      "image/png": "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",
      "text/html": [
       "<div>                            <div id=\"c440677c-a496-4cc0-ae69-9e651f0fb249\" class=\"plotly-graph-div\" style=\"height:525px; width:100%;\"></div>            <script type=\"text/javascript\">                require([\"plotly\"], function(Plotly) {                    window.PLOTLYENV=window.PLOTLYENV || {};                                    if (document.getElementById(\"c440677c-a496-4cc0-ae69-9e651f0fb249\")) {                    Plotly.newPlot(                        \"c440677c-a496-4cc0-ae69-9e651f0fb249\",                        [{\"hovertemplate\":\"variable=net_revenue_since_last_funding<br>index=%{x}<br>value=%{y}<extra></extra>\",\"legendgroup\":\"net_revenue_since_last_funding\",\"line\":{\"color\":\"#636efa\",\"dash\":\"solid\"},\"marker\":{\"symbol\":\"circle\"},\"mode\":\"lines\",\"name\":\"net_revenue_since_last_funding\",\"orientation\":\"v\",\"showlegend\":true,\"x\":[0,1,2,3,4,5,6,7,8,9,10,11,12,13,14,15,16,17,18,19,20,21,22,23,24,25,26,27,28,29,30,31,32,33,34,35,36,37,38,39,40,41,42,43,44,45,46,47,48,49,50,51,52,53,54,55,56,57,58,59,60,61,62,63,64,65,66,67,68,69,70,71,72,73,74,75,76,77,78,79,80,81,82,83,84,85],\"xaxis\":\"x\",\"y\":[0,0,0,0,0,0,0,0,0,0,0,0,0,0,0,0,0,0,0,0,148,148,294,294,294,294,294,294,437,437,583,583,583,728,728,728,728,728,871,871,871,871,871,871,871,1013,1013,1013,1013,1013,1013,1013,1013,1013,1013,1013,1013,1013,1013,1013,1013,1013,1013,1013,1013,1013,1013,1013,1013,1013,1013,1013,1013,1013,1013,1013,1013,1013,506,506,506,506,506,506,506,506],\"yaxis\":\"y\",\"type\":\"scatter\"}],                        {\"template\":{\"data\":{\"histogram2dcontour\":[{\"type\":\"histogram2dcontour\",\"colorbar\":{\"outlinewidth\":0,\"ticks\":\"\"},\"colorscale\":[[0.0,\"#0d0887\"],[0.1111111111111111,\"#46039f\"],[0.2222222222222222,\"#7201a8\"],[0.3333333333333333,\"#9c179e\"],[0.4444444444444444,\"#bd3786\"],[0.5555555555555556,\"#d8576b\"],[0.6666666666666666,\"#ed7953\"],[0.7777777777777778,\"#fb9f3a\"],[0.8888888888888888,\"#fdca26\"],[1.0,\"#f0f921\"]]}],\"choropleth\":[{\"type\":\"choropleth\",\"colorbar\":{\"outlinewidth\":0,\"ticks\":\"\"}}],\"histogram2d\":[{\"type\":\"histogram2d\",\"colorbar\":{\"outlinewidth\":0,\"ticks\":\"\"},\"colorscale\":[[0.0,\"#0d0887\"],[0.1111111111111111,\"#46039f\"],[0.2222222222222222,\"#7201a8\"],[0.3333333333333333,\"#9c179e\"],[0.4444444444444444,\"#bd3786\"],[0.5555555555555556,\"#d8576b\"],[0.6666666666666666,\"#ed7953\"],[0.7777777777777778,\"#fb9f3a\"],[0.8888888888888888,\"#fdca26\"],[1.0,\"#f0f921\"]]}],\"heatmap\":[{\"type\":\"heatmap\",\"colorbar\":{\"outlinewidth\":0,\"ticks\":\"\"},\"colorscale\":[[0.0,\"#0d0887\"],[0.1111111111111111,\"#46039f\"],[0.2222222222222222,\"#7201a8\"],[0.3333333333333333,\"#9c179e\"],[0.4444444444444444,\"#bd3786\"],[0.5555555555555556,\"#d8576b\"],[0.6666666666666666,\"#ed7953\"],[0.7777777777777778,\"#fb9f3a\"],[0.8888888888888888,\"#fdca26\"],[1.0,\"#f0f921\"]]}],\"heatmapgl\":[{\"type\":\"heatmapgl\",\"colorbar\":{\"outlinewidth\":0,\"ticks\":\"\"},\"colorscale\":[[0.0,\"#0d0887\"],[0.1111111111111111,\"#46039f\"],[0.2222222222222222,\"#7201a8\"],[0.3333333333333333,\"#9c179e\"],[0.4444444444444444,\"#bd3786\"],[0.5555555555555556,\"#d8576b\"],[0.6666666666666666,\"#ed7953\"],[0.7777777777777778,\"#fb9f3a\"],[0.8888888888888888,\"#fdca26\"],[1.0,\"#f0f921\"]]}],\"contourcarpet\":[{\"type\":\"contourcarpet\",\"colorbar\":{\"outlinewidth\":0,\"ticks\":\"\"}}],\"contour\":[{\"type\":\"contour\",\"colorbar\":{\"outlinewidth\":0,\"ticks\":\"\"},\"colorscale\":[[0.0,\"#0d0887\"],[0.1111111111111111,\"#46039f\"],[0.2222222222222222,\"#7201a8\"],[0.3333333333333333,\"#9c179e\"],[0.4444444444444444,\"#bd3786\"],[0.5555555555555556,\"#d8576b\"],[0.6666666666666666,\"#ed7953\"],[0.7777777777777778,\"#fb9f3a\"],[0.8888888888888888,\"#fdca26\"],[1.0,\"#f0f921\"]]}],\"surface\":[{\"type\":\"surface\",\"colorbar\":{\"outlinewidth\":0,\"ticks\":\"\"},\"colorscale\":[[0.0,\"#0d0887\"],[0.1111111111111111,\"#46039f\"],[0.2222222222222222,\"#7201a8\"],[0.3333333333333333,\"#9c179e\"],[0.4444444444444444,\"#bd3786\"],[0.5555555555555556,\"#d8576b\"],[0.6666666666666666,\"#ed7953\"],[0.7777777777777778,\"#fb9f3a\"],[0.8888888888888888,\"#fdca26\"],[1.0,\"#f0f921\"]]}],\"mesh3d\":[{\"type\":\"mesh3d\",\"colorbar\":{\"outlinewidth\":0,\"ticks\":\"\"}}],\"scatter\":[{\"fillpattern\":{\"fillmode\":\"overlay\",\"size\":10,\"solidity\":0.2},\"type\":\"scatter\"}],\"parcoords\":[{\"type\":\"parcoords\",\"line\":{\"colorbar\":{\"outlinewidth\":0,\"ticks\":\"\"}}}],\"scatterpolargl\":[{\"type\":\"scatterpolargl\",\"marker\":{\"colorbar\":{\"outlinewidth\":0,\"ticks\":\"\"}}}],\"bar\":[{\"error_x\":{\"color\":\"#2a3f5f\"},\"error_y\":{\"color\":\"#2a3f5f\"},\"marker\":{\"line\":{\"color\":\"#E5ECF6\",\"width\":0.5},\"pattern\":{\"fillmode\":\"overlay\",\"size\":10,\"solidity\":0.2}},\"type\":\"bar\"}],\"scattergeo\":[{\"type\":\"scattergeo\",\"marker\":{\"colorbar\":{\"outlinewidth\":0,\"ticks\":\"\"}}}],\"scatterpolar\":[{\"type\":\"scatterpolar\",\"marker\":{\"colorbar\":{\"outlinewidth\":0,\"ticks\":\"\"}}}],\"histogram\":[{\"marker\":{\"pattern\":{\"fillmode\":\"overlay\",\"size\":10,\"solidity\":0.2}},\"type\":\"histogram\"}],\"scattergl\":[{\"type\":\"scattergl\",\"marker\":{\"colorbar\":{\"outlinewidth\":0,\"ticks\":\"\"}}}],\"scatter3d\":[{\"type\":\"scatter3d\",\"line\":{\"colorbar\":{\"outlinewidth\":0,\"ticks\":\"\"}},\"marker\":{\"colorbar\":{\"outlinewidth\":0,\"ticks\":\"\"}}}],\"scattermapbox\":[{\"type\":\"scattermapbox\",\"marker\":{\"colorbar\":{\"outlinewidth\":0,\"ticks\":\"\"}}}],\"scatterternary\":[{\"type\":\"scatterternary\",\"marker\":{\"colorbar\":{\"outlinewidth\":0,\"ticks\":\"\"}}}],\"scattercarpet\":[{\"type\":\"scattercarpet\",\"marker\":{\"colorbar\":{\"outlinewidth\":0,\"ticks\":\"\"}}}],\"carpet\":[{\"aaxis\":{\"endlinecolor\":\"#2a3f5f\",\"gridcolor\":\"white\",\"linecolor\":\"white\",\"minorgridcolor\":\"white\",\"startlinecolor\":\"#2a3f5f\"},\"baxis\":{\"endlinecolor\":\"#2a3f5f\",\"gridcolor\":\"white\",\"linecolor\":\"white\",\"minorgridcolor\":\"white\",\"startlinecolor\":\"#2a3f5f\"},\"type\":\"carpet\"}],\"table\":[{\"cells\":{\"fill\":{\"color\":\"#EBF0F8\"},\"line\":{\"color\":\"white\"}},\"header\":{\"fill\":{\"color\":\"#C8D4E3\"},\"line\":{\"color\":\"white\"}},\"type\":\"table\"}],\"barpolar\":[{\"marker\":{\"line\":{\"color\":\"#E5ECF6\",\"width\":0.5},\"pattern\":{\"fillmode\":\"overlay\",\"size\":10,\"solidity\":0.2}},\"type\":\"barpolar\"}],\"pie\":[{\"automargin\":true,\"type\":\"pie\"}]},\"layout\":{\"autotypenumbers\":\"strict\",\"colorway\":[\"#636efa\",\"#EF553B\",\"#00cc96\",\"#ab63fa\",\"#FFA15A\",\"#19d3f3\",\"#FF6692\",\"#B6E880\",\"#FF97FF\",\"#FECB52\"],\"font\":{\"color\":\"#2a3f5f\"},\"hovermode\":\"closest\",\"hoverlabel\":{\"align\":\"left\"},\"paper_bgcolor\":\"white\",\"plot_bgcolor\":\"#E5ECF6\",\"polar\":{\"bgcolor\":\"#E5ECF6\",\"angularaxis\":{\"gridcolor\":\"white\",\"linecolor\":\"white\",\"ticks\":\"\"},\"radialaxis\":{\"gridcolor\":\"white\",\"linecolor\":\"white\",\"ticks\":\"\"}},\"ternary\":{\"bgcolor\":\"#E5ECF6\",\"aaxis\":{\"gridcolor\":\"white\",\"linecolor\":\"white\",\"ticks\":\"\"},\"baxis\":{\"gridcolor\":\"white\",\"linecolor\":\"white\",\"ticks\":\"\"},\"caxis\":{\"gridcolor\":\"white\",\"linecolor\":\"white\",\"ticks\":\"\"}},\"coloraxis\":{\"colorbar\":{\"outlinewidth\":0,\"ticks\":\"\"}},\"colorscale\":{\"sequential\":[[0.0,\"#0d0887\"],[0.1111111111111111,\"#46039f\"],[0.2222222222222222,\"#7201a8\"],[0.3333333333333333,\"#9c179e\"],[0.4444444444444444,\"#bd3786\"],[0.5555555555555556,\"#d8576b\"],[0.6666666666666666,\"#ed7953\"],[0.7777777777777778,\"#fb9f3a\"],[0.8888888888888888,\"#fdca26\"],[1.0,\"#f0f921\"]],\"sequentialminus\":[[0.0,\"#0d0887\"],[0.1111111111111111,\"#46039f\"],[0.2222222222222222,\"#7201a8\"],[0.3333333333333333,\"#9c179e\"],[0.4444444444444444,\"#bd3786\"],[0.5555555555555556,\"#d8576b\"],[0.6666666666666666,\"#ed7953\"],[0.7777777777777778,\"#fb9f3a\"],[0.8888888888888888,\"#fdca26\"],[1.0,\"#f0f921\"]],\"diverging\":[[0,\"#8e0152\"],[0.1,\"#c51b7d\"],[0.2,\"#de77ae\"],[0.3,\"#f1b6da\"],[0.4,\"#fde0ef\"],[0.5,\"#f7f7f7\"],[0.6,\"#e6f5d0\"],[0.7,\"#b8e186\"],[0.8,\"#7fbc41\"],[0.9,\"#4d9221\"],[1,\"#276419\"]]},\"xaxis\":{\"gridcolor\":\"white\",\"linecolor\":\"white\",\"ticks\":\"\",\"title\":{\"standoff\":15},\"zerolinecolor\":\"white\",\"automargin\":true,\"zerolinewidth\":2},\"yaxis\":{\"gridcolor\":\"white\",\"linecolor\":\"white\",\"ticks\":\"\",\"title\":{\"standoff\":15},\"zerolinecolor\":\"white\",\"automargin\":true,\"zerolinewidth\":2},\"scene\":{\"xaxis\":{\"backgroundcolor\":\"#E5ECF6\",\"gridcolor\":\"white\",\"linecolor\":\"white\",\"showbackground\":true,\"ticks\":\"\",\"zerolinecolor\":\"white\",\"gridwidth\":2},\"yaxis\":{\"backgroundcolor\":\"#E5ECF6\",\"gridcolor\":\"white\",\"linecolor\":\"white\",\"showbackground\":true,\"ticks\":\"\",\"zerolinecolor\":\"white\",\"gridwidth\":2},\"zaxis\":{\"backgroundcolor\":\"#E5ECF6\",\"gridcolor\":\"white\",\"linecolor\":\"white\",\"showbackground\":true,\"ticks\":\"\",\"zerolinecolor\":\"white\",\"gridwidth\":2}},\"shapedefaults\":{\"line\":{\"color\":\"#2a3f5f\"}},\"annotationdefaults\":{\"arrowcolor\":\"#2a3f5f\",\"arrowhead\":0,\"arrowwidth\":1},\"geo\":{\"bgcolor\":\"white\",\"landcolor\":\"#E5ECF6\",\"subunitcolor\":\"white\",\"showland\":true,\"showlakes\":true,\"lakecolor\":\"white\"},\"title\":{\"x\":0.05},\"mapbox\":{\"style\":\"light\"}}},\"xaxis\":{\"anchor\":\"y\",\"domain\":[0.0,1.0],\"title\":{\"text\":\"index\"}},\"yaxis\":{\"anchor\":\"x\",\"domain\":[0.0,1.0],\"title\":{\"text\":\"value\"}},\"legend\":{\"title\":{\"text\":\"variable\"},\"tracegroupgap\":0},\"margin\":{\"t\":60}},                        {\"responsive\": true}                    ).then(function(){\n",
       "                            \n",
       "var gd = document.getElementById('c440677c-a496-4cc0-ae69-9e651f0fb249');\n",
>>>>>>> master
       "var x = new MutationObserver(function (mutations, observer) {{\n",
       "        var display = window.getComputedStyle(gd).display;\n",
       "        if (!display || display === 'none') {{\n",
       "            console.log([gd, 'removed!']);\n",
       "            Plotly.purge(gd);\n",
       "            observer.disconnect();\n",
       "        }}\n",
       "}});\n",
       "\n",
       "// Listen for the removal of the full notebook cells\n",
       "var notebookContainer = gd.closest('#notebook-container');\n",
       "if (notebookContainer) {{\n",
       "    x.observe(notebookContainer, {childList: true});\n",
       "}}\n",
       "\n",
       "// Listen for the clearing of the current output cell\n",
       "var outputEl = gd.closest('.output');\n",
       "if (outputEl) {{\n",
       "    x.observe(outputEl, {childList: true});\n",
       "}}\n",
       "\n",
       "                        })                };                });            </script>        </div>"
      ]
     },
     "metadata": {},
     "output_type": "display_data"
    }
   ],
   "source": [
    "result.net_revenue_since_last_funding.plot()"
   ]
  },
  {
   "cell_type": "code",
<<<<<<< HEAD
   "execution_count": 305,
=======
   "execution_count": 249,
>>>>>>> master
   "id": "80c03b4a-6aea-4399-9fa2-9fcd27418688",
   "metadata": {},
   "outputs": [
    {
     "data": {
      "application/vnd.plotly.v1+json": {
       "config": {
        "plotlyServerURL": "https://plot.ly"
       },
       "data": [
        {
         "hovertemplate": "variable=pnl_pool<br>index=%{x}<br>value=%{y}<extra></extra>",
         "legendgroup": "pnl_pool",
         "line": {
          "color": "#636efa",
          "dash": "solid"
         },
         "marker": {
          "symbol": "circle"
         },
         "mode": "lines",
         "name": "pnl_pool",
         "orientation": "v",
         "showlegend": true,
         "type": "scatter",
         "x": [
          0,
          1,
          2,
          3,
          4,
          5,
          6,
          7,
          8,
          9,
          10,
          11,
          12,
          13,
          14,
          15,
          16,
          17,
          18,
          19,
          20,
          21,
          22,
          23,
          24,
          25,
          26,
          27,
          28,
          29,
          30,
          31,
          32,
          33,
          34,
          35,
          36,
          37,
          38,
          39,
          40,
          41,
          42,
          43,
          44,
          45,
          46,
          47,
          48,
          49,
          50,
          51,
          52,
          53,
          54,
          55,
          56,
          57,
          58,
          59,
          60,
          61,
          62,
          63,
          64,
          65,
          66,
          67,
          68,
          69,
          70,
          71,
          72,
          73,
          74,
          75,
          76,
          77,
          78,
          79,
          80,
          81,
          82,
          83,
          84,
<<<<<<< HEAD
          85,
          86,
          87,
          88,
          89
=======
          85
>>>>>>> master
         ],
         "xaxis": "x",
         "y": [
          0,
          0,
          0,
          0,
          0,
          0,
          0,
          0,
          0,
          0,
          0,
          0,
          0,
          0,
          0,
          0,
          0,
          0,
          0,
          0,
          0,
          0,
          0,
          0,
          0,
          0,
          0,
          0,
          0,
          0,
          0,
          0,
          0,
          0,
          0,
          0,
          0,
          0,
          0,
          0,
          0,
          0,
          0,
          0,
          0,
          0,
          0,
          0,
          0,
          0,
          0,
          0,
          0,
          0,
          0,
          0,
          0,
          0,
          0,
          0,
          0,
          0,
          0,
          0,
          0,
          0,
          0,
          0,
          0,
          0,
          0,
          0,
          0,
          0,
          0,
          0,
          0,
          0,
          0,
<<<<<<< HEAD
          8.788,
          8.926,
          11.892,
          23.426,
          14.999,
          6.629,
          1.099,
          9.704,
          15.493,
          12.798,
          1.529
=======
          3.315,
          9.21,
          6.433,
          3.599,
          6.607,
          6.725,
          0.995
>>>>>>> master
         ],
         "yaxis": "y"
        }
       ],
       "layout": {
        "autosize": true,
        "legend": {
         "title": {
          "text": "variable"
         },
         "tracegroupgap": 0
        },
        "margin": {
         "t": 60
        },
        "template": {
         "data": {
          "bar": [
           {
            "error_x": {
             "color": "#2a3f5f"
            },
            "error_y": {
             "color": "#2a3f5f"
            },
            "marker": {
             "line": {
              "color": "#E5ECF6",
              "width": 0.5
             },
             "pattern": {
              "fillmode": "overlay",
              "size": 10,
              "solidity": 0.2
             }
            },
            "type": "bar"
           }
          ],
          "barpolar": [
           {
            "marker": {
             "line": {
              "color": "#E5ECF6",
              "width": 0.5
             },
             "pattern": {
              "fillmode": "overlay",
              "size": 10,
              "solidity": 0.2
             }
            },
            "type": "barpolar"
           }
          ],
          "carpet": [
           {
            "aaxis": {
             "endlinecolor": "#2a3f5f",
             "gridcolor": "white",
             "linecolor": "white",
             "minorgridcolor": "white",
             "startlinecolor": "#2a3f5f"
            },
            "baxis": {
             "endlinecolor": "#2a3f5f",
             "gridcolor": "white",
             "linecolor": "white",
             "minorgridcolor": "white",
             "startlinecolor": "#2a3f5f"
            },
            "type": "carpet"
           }
          ],
          "choropleth": [
           {
            "colorbar": {
             "outlinewidth": 0,
             "ticks": ""
            },
            "type": "choropleth"
           }
          ],
          "contour": [
           {
            "colorbar": {
             "outlinewidth": 0,
             "ticks": ""
            },
            "colorscale": [
             [
              0,
              "#0d0887"
             ],
             [
              0.1111111111111111,
              "#46039f"
             ],
             [
              0.2222222222222222,
              "#7201a8"
             ],
             [
              0.3333333333333333,
              "#9c179e"
             ],
             [
              0.4444444444444444,
              "#bd3786"
             ],
             [
              0.5555555555555556,
              "#d8576b"
             ],
             [
              0.6666666666666666,
              "#ed7953"
             ],
             [
              0.7777777777777778,
              "#fb9f3a"
             ],
             [
              0.8888888888888888,
              "#fdca26"
             ],
             [
              1,
              "#f0f921"
             ]
            ],
            "type": "contour"
           }
          ],
          "contourcarpet": [
           {
            "colorbar": {
             "outlinewidth": 0,
             "ticks": ""
            },
            "type": "contourcarpet"
           }
          ],
          "heatmap": [
           {
            "colorbar": {
             "outlinewidth": 0,
             "ticks": ""
            },
            "colorscale": [
             [
              0,
              "#0d0887"
             ],
             [
              0.1111111111111111,
              "#46039f"
             ],
             [
              0.2222222222222222,
              "#7201a8"
             ],
             [
              0.3333333333333333,
              "#9c179e"
             ],
             [
              0.4444444444444444,
              "#bd3786"
             ],
             [
              0.5555555555555556,
              "#d8576b"
             ],
             [
              0.6666666666666666,
              "#ed7953"
             ],
             [
              0.7777777777777778,
              "#fb9f3a"
             ],
             [
              0.8888888888888888,
              "#fdca26"
             ],
             [
              1,
              "#f0f921"
             ]
            ],
            "type": "heatmap"
           }
          ],
          "heatmapgl": [
           {
            "colorbar": {
             "outlinewidth": 0,
             "ticks": ""
            },
            "colorscale": [
             [
              0,
              "#0d0887"
             ],
             [
              0.1111111111111111,
              "#46039f"
             ],
             [
              0.2222222222222222,
              "#7201a8"
             ],
             [
              0.3333333333333333,
              "#9c179e"
             ],
             [
              0.4444444444444444,
              "#bd3786"
             ],
             [
              0.5555555555555556,
              "#d8576b"
             ],
             [
              0.6666666666666666,
              "#ed7953"
             ],
             [
              0.7777777777777778,
              "#fb9f3a"
             ],
             [
              0.8888888888888888,
              "#fdca26"
             ],
             [
              1,
              "#f0f921"
             ]
            ],
            "type": "heatmapgl"
           }
          ],
          "histogram": [
           {
            "marker": {
             "pattern": {
              "fillmode": "overlay",
              "size": 10,
              "solidity": 0.2
             }
            },
            "type": "histogram"
           }
          ],
          "histogram2d": [
           {
            "colorbar": {
             "outlinewidth": 0,
             "ticks": ""
            },
            "colorscale": [
             [
              0,
              "#0d0887"
             ],
             [
              0.1111111111111111,
              "#46039f"
             ],
             [
              0.2222222222222222,
              "#7201a8"
             ],
             [
              0.3333333333333333,
              "#9c179e"
             ],
             [
              0.4444444444444444,
              "#bd3786"
             ],
             [
              0.5555555555555556,
              "#d8576b"
             ],
             [
              0.6666666666666666,
              "#ed7953"
             ],
             [
              0.7777777777777778,
              "#fb9f3a"
             ],
             [
              0.8888888888888888,
              "#fdca26"
             ],
             [
              1,
              "#f0f921"
             ]
            ],
            "type": "histogram2d"
           }
          ],
          "histogram2dcontour": [
           {
            "colorbar": {
             "outlinewidth": 0,
             "ticks": ""
            },
            "colorscale": [
             [
              0,
              "#0d0887"
             ],
             [
              0.1111111111111111,
              "#46039f"
             ],
             [
              0.2222222222222222,
              "#7201a8"
             ],
             [
              0.3333333333333333,
              "#9c179e"
             ],
             [
              0.4444444444444444,
              "#bd3786"
             ],
             [
              0.5555555555555556,
              "#d8576b"
             ],
             [
              0.6666666666666666,
              "#ed7953"
             ],
             [
              0.7777777777777778,
              "#fb9f3a"
             ],
             [
              0.8888888888888888,
              "#fdca26"
             ],
             [
              1,
              "#f0f921"
             ]
            ],
            "type": "histogram2dcontour"
           }
          ],
          "mesh3d": [
           {
            "colorbar": {
             "outlinewidth": 0,
             "ticks": ""
            },
            "type": "mesh3d"
           }
          ],
          "parcoords": [
           {
            "line": {
             "colorbar": {
              "outlinewidth": 0,
              "ticks": ""
             }
            },
            "type": "parcoords"
           }
          ],
          "pie": [
           {
            "automargin": true,
            "type": "pie"
           }
          ],
          "scatter": [
           {
            "fillpattern": {
             "fillmode": "overlay",
             "size": 10,
             "solidity": 0.2
            },
            "type": "scatter"
           }
          ],
          "scatter3d": [
           {
            "line": {
             "colorbar": {
              "outlinewidth": 0,
              "ticks": ""
             }
            },
            "marker": {
             "colorbar": {
              "outlinewidth": 0,
              "ticks": ""
             }
            },
            "type": "scatter3d"
           }
          ],
          "scattercarpet": [
           {
            "marker": {
             "colorbar": {
              "outlinewidth": 0,
              "ticks": ""
             }
            },
            "type": "scattercarpet"
           }
          ],
          "scattergeo": [
           {
            "marker": {
             "colorbar": {
              "outlinewidth": 0,
              "ticks": ""
             }
            },
            "type": "scattergeo"
           }
          ],
          "scattergl": [
           {
            "marker": {
             "colorbar": {
              "outlinewidth": 0,
              "ticks": ""
             }
            },
            "type": "scattergl"
           }
          ],
          "scattermapbox": [
           {
            "marker": {
             "colorbar": {
              "outlinewidth": 0,
              "ticks": ""
             }
            },
            "type": "scattermapbox"
           }
          ],
          "scatterpolar": [
           {
            "marker": {
             "colorbar": {
              "outlinewidth": 0,
              "ticks": ""
             }
            },
            "type": "scatterpolar"
           }
          ],
          "scatterpolargl": [
           {
            "marker": {
             "colorbar": {
              "outlinewidth": 0,
              "ticks": ""
             }
            },
            "type": "scatterpolargl"
           }
          ],
          "scatterternary": [
           {
            "marker": {
             "colorbar": {
              "outlinewidth": 0,
              "ticks": ""
             }
            },
            "type": "scatterternary"
           }
          ],
          "surface": [
           {
            "colorbar": {
             "outlinewidth": 0,
             "ticks": ""
            },
            "colorscale": [
             [
              0,
              "#0d0887"
             ],
             [
              0.1111111111111111,
              "#46039f"
             ],
             [
              0.2222222222222222,
              "#7201a8"
             ],
             [
              0.3333333333333333,
              "#9c179e"
             ],
             [
              0.4444444444444444,
              "#bd3786"
             ],
             [
              0.5555555555555556,
              "#d8576b"
             ],
             [
              0.6666666666666666,
              "#ed7953"
             ],
             [
              0.7777777777777778,
              "#fb9f3a"
             ],
             [
              0.8888888888888888,
              "#fdca26"
             ],
             [
              1,
              "#f0f921"
             ]
            ],
            "type": "surface"
           }
          ],
          "table": [
           {
            "cells": {
             "fill": {
              "color": "#EBF0F8"
             },
             "line": {
              "color": "white"
             }
            },
            "header": {
             "fill": {
              "color": "#C8D4E3"
             },
             "line": {
              "color": "white"
             }
            },
            "type": "table"
           }
          ]
         },
         "layout": {
          "annotationdefaults": {
           "arrowcolor": "#2a3f5f",
           "arrowhead": 0,
           "arrowwidth": 1
          },
          "autotypenumbers": "strict",
          "coloraxis": {
           "colorbar": {
            "outlinewidth": 0,
            "ticks": ""
           }
          },
          "colorscale": {
           "diverging": [
            [
             0,
             "#8e0152"
            ],
            [
             0.1,
             "#c51b7d"
            ],
            [
             0.2,
             "#de77ae"
            ],
            [
             0.3,
             "#f1b6da"
            ],
            [
             0.4,
             "#fde0ef"
            ],
            [
             0.5,
             "#f7f7f7"
            ],
            [
             0.6,
             "#e6f5d0"
            ],
            [
             0.7,
             "#b8e186"
            ],
            [
             0.8,
             "#7fbc41"
            ],
            [
             0.9,
             "#4d9221"
            ],
            [
             1,
             "#276419"
            ]
           ],
           "sequential": [
            [
             0,
             "#0d0887"
            ],
            [
             0.1111111111111111,
             "#46039f"
            ],
            [
             0.2222222222222222,
             "#7201a8"
            ],
            [
             0.3333333333333333,
             "#9c179e"
            ],
            [
             0.4444444444444444,
             "#bd3786"
            ],
            [
             0.5555555555555556,
             "#d8576b"
            ],
            [
             0.6666666666666666,
             "#ed7953"
            ],
            [
             0.7777777777777778,
             "#fb9f3a"
            ],
            [
             0.8888888888888888,
             "#fdca26"
            ],
            [
             1,
             "#f0f921"
            ]
           ],
           "sequentialminus": [
            [
             0,
             "#0d0887"
            ],
            [
             0.1111111111111111,
             "#46039f"
            ],
            [
             0.2222222222222222,
             "#7201a8"
            ],
            [
             0.3333333333333333,
             "#9c179e"
            ],
            [
             0.4444444444444444,
             "#bd3786"
            ],
            [
             0.5555555555555556,
             "#d8576b"
            ],
            [
             0.6666666666666666,
             "#ed7953"
            ],
            [
             0.7777777777777778,
             "#fb9f3a"
            ],
            [
             0.8888888888888888,
             "#fdca26"
            ],
            [
             1,
             "#f0f921"
            ]
           ]
          },
          "colorway": [
           "#636efa",
           "#EF553B",
           "#00cc96",
           "#ab63fa",
           "#FFA15A",
           "#19d3f3",
           "#FF6692",
           "#B6E880",
           "#FF97FF",
           "#FECB52"
          ],
          "font": {
           "color": "#2a3f5f"
          },
          "geo": {
           "bgcolor": "white",
           "lakecolor": "white",
           "landcolor": "#E5ECF6",
           "showlakes": true,
           "showland": true,
           "subunitcolor": "white"
          },
          "hoverlabel": {
           "align": "left"
          },
          "hovermode": "closest",
          "mapbox": {
           "style": "light"
          },
          "paper_bgcolor": "white",
          "plot_bgcolor": "#E5ECF6",
          "polar": {
           "angularaxis": {
            "gridcolor": "white",
            "linecolor": "white",
            "ticks": ""
           },
           "bgcolor": "#E5ECF6",
           "radialaxis": {
            "gridcolor": "white",
            "linecolor": "white",
            "ticks": ""
           }
          },
          "scene": {
           "xaxis": {
            "backgroundcolor": "#E5ECF6",
            "gridcolor": "white",
            "gridwidth": 2,
            "linecolor": "white",
            "showbackground": true,
            "ticks": "",
            "zerolinecolor": "white"
           },
           "yaxis": {
            "backgroundcolor": "#E5ECF6",
            "gridcolor": "white",
            "gridwidth": 2,
            "linecolor": "white",
            "showbackground": true,
            "ticks": "",
            "zerolinecolor": "white"
           },
           "zaxis": {
            "backgroundcolor": "#E5ECF6",
            "gridcolor": "white",
            "gridwidth": 2,
            "linecolor": "white",
            "showbackground": true,
            "ticks": "",
            "zerolinecolor": "white"
           }
          },
          "shapedefaults": {
           "line": {
            "color": "#2a3f5f"
           }
          },
          "ternary": {
           "aaxis": {
            "gridcolor": "white",
            "linecolor": "white",
            "ticks": ""
           },
           "baxis": {
            "gridcolor": "white",
            "linecolor": "white",
            "ticks": ""
           },
           "bgcolor": "#E5ECF6",
           "caxis": {
            "gridcolor": "white",
            "linecolor": "white",
            "ticks": ""
           }
          },
          "title": {
           "x": 0.05
          },
          "xaxis": {
           "automargin": true,
           "gridcolor": "white",
           "linecolor": "white",
           "ticks": "",
           "title": {
            "standoff": 15
           },
           "zerolinecolor": "white",
           "zerolinewidth": 2
          },
          "yaxis": {
           "automargin": true,
           "gridcolor": "white",
           "linecolor": "white",
           "ticks": "",
           "title": {
            "standoff": 15
           },
           "zerolinecolor": "white",
           "zerolinewidth": 2
          }
         }
        },
        "xaxis": {
         "anchor": "y",
         "autorange": true,
         "domain": [
          0,
          1
         ],
         "range": [
          0,
<<<<<<< HEAD
          89
=======
          85
>>>>>>> master
         ],
         "title": {
          "text": "index"
         },
         "type": "linear"
        },
        "yaxis": {
         "anchor": "x",
         "autorange": true,
         "domain": [
          0,
          1
         ],
         "range": [
<<<<<<< HEAD
          -1.3014444444444444,
          24.727444444444444
=======
          -0.5116666666666667,
          9.721666666666668
>>>>>>> master
         ],
         "title": {
          "text": "value"
         },
         "type": "linear"
        }
       }
      },
<<<<<<< HEAD
      "image/png": "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",
      "text/html": [
       "<div>                            <div id=\"235587ea-9b60-46fe-9b08-1bfa990ac7de\" class=\"plotly-graph-div\" style=\"height:525px; width:100%;\"></div>            <script type=\"text/javascript\">                require([\"plotly\"], function(Plotly) {                    window.PLOTLYENV=window.PLOTLYENV || {};                                    if (document.getElementById(\"235587ea-9b60-46fe-9b08-1bfa990ac7de\")) {                    Plotly.newPlot(                        \"235587ea-9b60-46fe-9b08-1bfa990ac7de\",                        [{\"hovertemplate\":\"variable=pnl_pool<br>index=%{x}<br>value=%{y}<extra></extra>\",\"legendgroup\":\"pnl_pool\",\"line\":{\"color\":\"#636efa\",\"dash\":\"solid\"},\"marker\":{\"symbol\":\"circle\"},\"mode\":\"lines\",\"name\":\"pnl_pool\",\"orientation\":\"v\",\"showlegend\":true,\"x\":[0,1,2,3,4,5,6,7,8,9,10,11,12,13,14,15,16,17,18,19,20,21,22,23,24,25,26,27,28,29,30,31,32,33,34,35,36,37,38,39,40,41,42,43,44,45,46,47,48,49,50,51,52,53,54,55,56,57,58,59,60,61,62,63,64,65,66,67,68,69,70,71,72,73,74,75,76,77,78,79,80,81,82,83,84,85,86,87,88,89],\"xaxis\":\"x\",\"y\":[0.0,0.0,0.0,0.0,0.0,0.0,0.0,0.0,0.0,0.0,0.0,0.0,0.0,0.0,0.0,0.0,0.0,0.0,0.0,0.0,0.0,0.0,0.0,0.0,0.0,0.0,0.0,0.0,0.0,0.0,0.0,0.0,0.0,0.0,0.0,0.0,0.0,0.0,0.0,0.0,0.0,0.0,0.0,0.0,0.0,0.0,0.0,0.0,0.0,0.0,0.0,0.0,0.0,0.0,0.0,0.0,0.0,0.0,0.0,0.0,0.0,0.0,0.0,0.0,0.0,0.0,0.0,0.0,0.0,0.0,0.0,0.0,0.0,0.0,0.0,0.0,0.0,0.0,0.0,8.788,8.926,11.892,23.426,14.999,6.629,1.099,9.704,15.493,12.798,1.529],\"yaxis\":\"y\",\"type\":\"scatter\"}],                        {\"template\":{\"data\":{\"histogram2dcontour\":[{\"type\":\"histogram2dcontour\",\"colorbar\":{\"outlinewidth\":0,\"ticks\":\"\"},\"colorscale\":[[0.0,\"#0d0887\"],[0.1111111111111111,\"#46039f\"],[0.2222222222222222,\"#7201a8\"],[0.3333333333333333,\"#9c179e\"],[0.4444444444444444,\"#bd3786\"],[0.5555555555555556,\"#d8576b\"],[0.6666666666666666,\"#ed7953\"],[0.7777777777777778,\"#fb9f3a\"],[0.8888888888888888,\"#fdca26\"],[1.0,\"#f0f921\"]]}],\"choropleth\":[{\"type\":\"choropleth\",\"colorbar\":{\"outlinewidth\":0,\"ticks\":\"\"}}],\"histogram2d\":[{\"type\":\"histogram2d\",\"colorbar\":{\"outlinewidth\":0,\"ticks\":\"\"},\"colorscale\":[[0.0,\"#0d0887\"],[0.1111111111111111,\"#46039f\"],[0.2222222222222222,\"#7201a8\"],[0.3333333333333333,\"#9c179e\"],[0.4444444444444444,\"#bd3786\"],[0.5555555555555556,\"#d8576b\"],[0.6666666666666666,\"#ed7953\"],[0.7777777777777778,\"#fb9f3a\"],[0.8888888888888888,\"#fdca26\"],[1.0,\"#f0f921\"]]}],\"heatmap\":[{\"type\":\"heatmap\",\"colorbar\":{\"outlinewidth\":0,\"ticks\":\"\"},\"colorscale\":[[0.0,\"#0d0887\"],[0.1111111111111111,\"#46039f\"],[0.2222222222222222,\"#7201a8\"],[0.3333333333333333,\"#9c179e\"],[0.4444444444444444,\"#bd3786\"],[0.5555555555555556,\"#d8576b\"],[0.6666666666666666,\"#ed7953\"],[0.7777777777777778,\"#fb9f3a\"],[0.8888888888888888,\"#fdca26\"],[1.0,\"#f0f921\"]]}],\"heatmapgl\":[{\"type\":\"heatmapgl\",\"colorbar\":{\"outlinewidth\":0,\"ticks\":\"\"},\"colorscale\":[[0.0,\"#0d0887\"],[0.1111111111111111,\"#46039f\"],[0.2222222222222222,\"#7201a8\"],[0.3333333333333333,\"#9c179e\"],[0.4444444444444444,\"#bd3786\"],[0.5555555555555556,\"#d8576b\"],[0.6666666666666666,\"#ed7953\"],[0.7777777777777778,\"#fb9f3a\"],[0.8888888888888888,\"#fdca26\"],[1.0,\"#f0f921\"]]}],\"contourcarpet\":[{\"type\":\"contourcarpet\",\"colorbar\":{\"outlinewidth\":0,\"ticks\":\"\"}}],\"contour\":[{\"type\":\"contour\",\"colorbar\":{\"outlinewidth\":0,\"ticks\":\"\"},\"colorscale\":[[0.0,\"#0d0887\"],[0.1111111111111111,\"#46039f\"],[0.2222222222222222,\"#7201a8\"],[0.3333333333333333,\"#9c179e\"],[0.4444444444444444,\"#bd3786\"],[0.5555555555555556,\"#d8576b\"],[0.6666666666666666,\"#ed7953\"],[0.7777777777777778,\"#fb9f3a\"],[0.8888888888888888,\"#fdca26\"],[1.0,\"#f0f921\"]]}],\"surface\":[{\"type\":\"surface\",\"colorbar\":{\"outlinewidth\":0,\"ticks\":\"\"},\"colorscale\":[[0.0,\"#0d0887\"],[0.1111111111111111,\"#46039f\"],[0.2222222222222222,\"#7201a8\"],[0.3333333333333333,\"#9c179e\"],[0.4444444444444444,\"#bd3786\"],[0.5555555555555556,\"#d8576b\"],[0.6666666666666666,\"#ed7953\"],[0.7777777777777778,\"#fb9f3a\"],[0.8888888888888888,\"#fdca26\"],[1.0,\"#f0f921\"]]}],\"mesh3d\":[{\"type\":\"mesh3d\",\"colorbar\":{\"outlinewidth\":0,\"ticks\":\"\"}}],\"scatter\":[{\"fillpattern\":{\"fillmode\":\"overlay\",\"size\":10,\"solidity\":0.2},\"type\":\"scatter\"}],\"parcoords\":[{\"type\":\"parcoords\",\"line\":{\"colorbar\":{\"outlinewidth\":0,\"ticks\":\"\"}}}],\"scatterpolargl\":[{\"type\":\"scatterpolargl\",\"marker\":{\"colorbar\":{\"outlinewidth\":0,\"ticks\":\"\"}}}],\"bar\":[{\"error_x\":{\"color\":\"#2a3f5f\"},\"error_y\":{\"color\":\"#2a3f5f\"},\"marker\":{\"line\":{\"color\":\"#E5ECF6\",\"width\":0.5},\"pattern\":{\"fillmode\":\"overlay\",\"size\":10,\"solidity\":0.2}},\"type\":\"bar\"}],\"scattergeo\":[{\"type\":\"scattergeo\",\"marker\":{\"colorbar\":{\"outlinewidth\":0,\"ticks\":\"\"}}}],\"scatterpolar\":[{\"type\":\"scatterpolar\",\"marker\":{\"colorbar\":{\"outlinewidth\":0,\"ticks\":\"\"}}}],\"histogram\":[{\"marker\":{\"pattern\":{\"fillmode\":\"overlay\",\"size\":10,\"solidity\":0.2}},\"type\":\"histogram\"}],\"scattergl\":[{\"type\":\"scattergl\",\"marker\":{\"colorbar\":{\"outlinewidth\":0,\"ticks\":\"\"}}}],\"scatter3d\":[{\"type\":\"scatter3d\",\"line\":{\"colorbar\":{\"outlinewidth\":0,\"ticks\":\"\"}},\"marker\":{\"colorbar\":{\"outlinewidth\":0,\"ticks\":\"\"}}}],\"scattermapbox\":[{\"type\":\"scattermapbox\",\"marker\":{\"colorbar\":{\"outlinewidth\":0,\"ticks\":\"\"}}}],\"scatterternary\":[{\"type\":\"scatterternary\",\"marker\":{\"colorbar\":{\"outlinewidth\":0,\"ticks\":\"\"}}}],\"scattercarpet\":[{\"type\":\"scattercarpet\",\"marker\":{\"colorbar\":{\"outlinewidth\":0,\"ticks\":\"\"}}}],\"carpet\":[{\"aaxis\":{\"endlinecolor\":\"#2a3f5f\",\"gridcolor\":\"white\",\"linecolor\":\"white\",\"minorgridcolor\":\"white\",\"startlinecolor\":\"#2a3f5f\"},\"baxis\":{\"endlinecolor\":\"#2a3f5f\",\"gridcolor\":\"white\",\"linecolor\":\"white\",\"minorgridcolor\":\"white\",\"startlinecolor\":\"#2a3f5f\"},\"type\":\"carpet\"}],\"table\":[{\"cells\":{\"fill\":{\"color\":\"#EBF0F8\"},\"line\":{\"color\":\"white\"}},\"header\":{\"fill\":{\"color\":\"#C8D4E3\"},\"line\":{\"color\":\"white\"}},\"type\":\"table\"}],\"barpolar\":[{\"marker\":{\"line\":{\"color\":\"#E5ECF6\",\"width\":0.5},\"pattern\":{\"fillmode\":\"overlay\",\"size\":10,\"solidity\":0.2}},\"type\":\"barpolar\"}],\"pie\":[{\"automargin\":true,\"type\":\"pie\"}]},\"layout\":{\"autotypenumbers\":\"strict\",\"colorway\":[\"#636efa\",\"#EF553B\",\"#00cc96\",\"#ab63fa\",\"#FFA15A\",\"#19d3f3\",\"#FF6692\",\"#B6E880\",\"#FF97FF\",\"#FECB52\"],\"font\":{\"color\":\"#2a3f5f\"},\"hovermode\":\"closest\",\"hoverlabel\":{\"align\":\"left\"},\"paper_bgcolor\":\"white\",\"plot_bgcolor\":\"#E5ECF6\",\"polar\":{\"bgcolor\":\"#E5ECF6\",\"angularaxis\":{\"gridcolor\":\"white\",\"linecolor\":\"white\",\"ticks\":\"\"},\"radialaxis\":{\"gridcolor\":\"white\",\"linecolor\":\"white\",\"ticks\":\"\"}},\"ternary\":{\"bgcolor\":\"#E5ECF6\",\"aaxis\":{\"gridcolor\":\"white\",\"linecolor\":\"white\",\"ticks\":\"\"},\"baxis\":{\"gridcolor\":\"white\",\"linecolor\":\"white\",\"ticks\":\"\"},\"caxis\":{\"gridcolor\":\"white\",\"linecolor\":\"white\",\"ticks\":\"\"}},\"coloraxis\":{\"colorbar\":{\"outlinewidth\":0,\"ticks\":\"\"}},\"colorscale\":{\"sequential\":[[0.0,\"#0d0887\"],[0.1111111111111111,\"#46039f\"],[0.2222222222222222,\"#7201a8\"],[0.3333333333333333,\"#9c179e\"],[0.4444444444444444,\"#bd3786\"],[0.5555555555555556,\"#d8576b\"],[0.6666666666666666,\"#ed7953\"],[0.7777777777777778,\"#fb9f3a\"],[0.8888888888888888,\"#fdca26\"],[1.0,\"#f0f921\"]],\"sequentialminus\":[[0.0,\"#0d0887\"],[0.1111111111111111,\"#46039f\"],[0.2222222222222222,\"#7201a8\"],[0.3333333333333333,\"#9c179e\"],[0.4444444444444444,\"#bd3786\"],[0.5555555555555556,\"#d8576b\"],[0.6666666666666666,\"#ed7953\"],[0.7777777777777778,\"#fb9f3a\"],[0.8888888888888888,\"#fdca26\"],[1.0,\"#f0f921\"]],\"diverging\":[[0,\"#8e0152\"],[0.1,\"#c51b7d\"],[0.2,\"#de77ae\"],[0.3,\"#f1b6da\"],[0.4,\"#fde0ef\"],[0.5,\"#f7f7f7\"],[0.6,\"#e6f5d0\"],[0.7,\"#b8e186\"],[0.8,\"#7fbc41\"],[0.9,\"#4d9221\"],[1,\"#276419\"]]},\"xaxis\":{\"gridcolor\":\"white\",\"linecolor\":\"white\",\"ticks\":\"\",\"title\":{\"standoff\":15},\"zerolinecolor\":\"white\",\"automargin\":true,\"zerolinewidth\":2},\"yaxis\":{\"gridcolor\":\"white\",\"linecolor\":\"white\",\"ticks\":\"\",\"title\":{\"standoff\":15},\"zerolinecolor\":\"white\",\"automargin\":true,\"zerolinewidth\":2},\"scene\":{\"xaxis\":{\"backgroundcolor\":\"#E5ECF6\",\"gridcolor\":\"white\",\"linecolor\":\"white\",\"showbackground\":true,\"ticks\":\"\",\"zerolinecolor\":\"white\",\"gridwidth\":2},\"yaxis\":{\"backgroundcolor\":\"#E5ECF6\",\"gridcolor\":\"white\",\"linecolor\":\"white\",\"showbackground\":true,\"ticks\":\"\",\"zerolinecolor\":\"white\",\"gridwidth\":2},\"zaxis\":{\"backgroundcolor\":\"#E5ECF6\",\"gridcolor\":\"white\",\"linecolor\":\"white\",\"showbackground\":true,\"ticks\":\"\",\"zerolinecolor\":\"white\",\"gridwidth\":2}},\"shapedefaults\":{\"line\":{\"color\":\"#2a3f5f\"}},\"annotationdefaults\":{\"arrowcolor\":\"#2a3f5f\",\"arrowhead\":0,\"arrowwidth\":1},\"geo\":{\"bgcolor\":\"white\",\"landcolor\":\"#E5ECF6\",\"subunitcolor\":\"white\",\"showland\":true,\"showlakes\":true,\"lakecolor\":\"white\"},\"title\":{\"x\":0.05},\"mapbox\":{\"style\":\"light\"}}},\"xaxis\":{\"anchor\":\"y\",\"domain\":[0.0,1.0],\"title\":{\"text\":\"index\"}},\"yaxis\":{\"anchor\":\"x\",\"domain\":[0.0,1.0],\"title\":{\"text\":\"value\"}},\"legend\":{\"title\":{\"text\":\"variable\"},\"tracegroupgap\":0},\"margin\":{\"t\":60}},                        {\"responsive\": true}                    ).then(function(){\n",
       "                            \n",
       "var gd = document.getElementById('235587ea-9b60-46fe-9b08-1bfa990ac7de');\n",
=======
      "image/png": "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",
      "text/html": [
       "<div>                            <div id=\"48dc551a-4ef3-4130-8016-b9b785ba7a4e\" class=\"plotly-graph-div\" style=\"height:525px; width:100%;\"></div>            <script type=\"text/javascript\">                require([\"plotly\"], function(Plotly) {                    window.PLOTLYENV=window.PLOTLYENV || {};                                    if (document.getElementById(\"48dc551a-4ef3-4130-8016-b9b785ba7a4e\")) {                    Plotly.newPlot(                        \"48dc551a-4ef3-4130-8016-b9b785ba7a4e\",                        [{\"hovertemplate\":\"variable=pnl_pool<br>index=%{x}<br>value=%{y}<extra></extra>\",\"legendgroup\":\"pnl_pool\",\"line\":{\"color\":\"#636efa\",\"dash\":\"solid\"},\"marker\":{\"symbol\":\"circle\"},\"mode\":\"lines\",\"name\":\"pnl_pool\",\"orientation\":\"v\",\"showlegend\":true,\"x\":[0,1,2,3,4,5,6,7,8,9,10,11,12,13,14,15,16,17,18,19,20,21,22,23,24,25,26,27,28,29,30,31,32,33,34,35,36,37,38,39,40,41,42,43,44,45,46,47,48,49,50,51,52,53,54,55,56,57,58,59,60,61,62,63,64,65,66,67,68,69,70,71,72,73,74,75,76,77,78,79,80,81,82,83,84,85],\"xaxis\":\"x\",\"y\":[0.0,0.0,0.0,0.0,0.0,0.0,0.0,0.0,0.0,0.0,0.0,0.0,0.0,0.0,0.0,0.0,0.0,0.0,0.0,0.0,0.0,0.0,0.0,0.0,0.0,0.0,0.0,0.0,0.0,0.0,0.0,0.0,0.0,0.0,0.0,0.0,0.0,0.0,0.0,0.0,0.0,0.0,0.0,0.0,0.0,0.0,0.0,0.0,0.0,0.0,0.0,0.0,0.0,0.0,0.0,0.0,0.0,0.0,0.0,0.0,0.0,0.0,0.0,0.0,0.0,0.0,0.0,0.0,0.0,0.0,0.0,0.0,0.0,0.0,0.0,0.0,0.0,0.0,0.0,3.315,9.21,6.433,3.599,6.607,6.725,0.995],\"yaxis\":\"y\",\"type\":\"scatter\"}],                        {\"template\":{\"data\":{\"histogram2dcontour\":[{\"type\":\"histogram2dcontour\",\"colorbar\":{\"outlinewidth\":0,\"ticks\":\"\"},\"colorscale\":[[0.0,\"#0d0887\"],[0.1111111111111111,\"#46039f\"],[0.2222222222222222,\"#7201a8\"],[0.3333333333333333,\"#9c179e\"],[0.4444444444444444,\"#bd3786\"],[0.5555555555555556,\"#d8576b\"],[0.6666666666666666,\"#ed7953\"],[0.7777777777777778,\"#fb9f3a\"],[0.8888888888888888,\"#fdca26\"],[1.0,\"#f0f921\"]]}],\"choropleth\":[{\"type\":\"choropleth\",\"colorbar\":{\"outlinewidth\":0,\"ticks\":\"\"}}],\"histogram2d\":[{\"type\":\"histogram2d\",\"colorbar\":{\"outlinewidth\":0,\"ticks\":\"\"},\"colorscale\":[[0.0,\"#0d0887\"],[0.1111111111111111,\"#46039f\"],[0.2222222222222222,\"#7201a8\"],[0.3333333333333333,\"#9c179e\"],[0.4444444444444444,\"#bd3786\"],[0.5555555555555556,\"#d8576b\"],[0.6666666666666666,\"#ed7953\"],[0.7777777777777778,\"#fb9f3a\"],[0.8888888888888888,\"#fdca26\"],[1.0,\"#f0f921\"]]}],\"heatmap\":[{\"type\":\"heatmap\",\"colorbar\":{\"outlinewidth\":0,\"ticks\":\"\"},\"colorscale\":[[0.0,\"#0d0887\"],[0.1111111111111111,\"#46039f\"],[0.2222222222222222,\"#7201a8\"],[0.3333333333333333,\"#9c179e\"],[0.4444444444444444,\"#bd3786\"],[0.5555555555555556,\"#d8576b\"],[0.6666666666666666,\"#ed7953\"],[0.7777777777777778,\"#fb9f3a\"],[0.8888888888888888,\"#fdca26\"],[1.0,\"#f0f921\"]]}],\"heatmapgl\":[{\"type\":\"heatmapgl\",\"colorbar\":{\"outlinewidth\":0,\"ticks\":\"\"},\"colorscale\":[[0.0,\"#0d0887\"],[0.1111111111111111,\"#46039f\"],[0.2222222222222222,\"#7201a8\"],[0.3333333333333333,\"#9c179e\"],[0.4444444444444444,\"#bd3786\"],[0.5555555555555556,\"#d8576b\"],[0.6666666666666666,\"#ed7953\"],[0.7777777777777778,\"#fb9f3a\"],[0.8888888888888888,\"#fdca26\"],[1.0,\"#f0f921\"]]}],\"contourcarpet\":[{\"type\":\"contourcarpet\",\"colorbar\":{\"outlinewidth\":0,\"ticks\":\"\"}}],\"contour\":[{\"type\":\"contour\",\"colorbar\":{\"outlinewidth\":0,\"ticks\":\"\"},\"colorscale\":[[0.0,\"#0d0887\"],[0.1111111111111111,\"#46039f\"],[0.2222222222222222,\"#7201a8\"],[0.3333333333333333,\"#9c179e\"],[0.4444444444444444,\"#bd3786\"],[0.5555555555555556,\"#d8576b\"],[0.6666666666666666,\"#ed7953\"],[0.7777777777777778,\"#fb9f3a\"],[0.8888888888888888,\"#fdca26\"],[1.0,\"#f0f921\"]]}],\"surface\":[{\"type\":\"surface\",\"colorbar\":{\"outlinewidth\":0,\"ticks\":\"\"},\"colorscale\":[[0.0,\"#0d0887\"],[0.1111111111111111,\"#46039f\"],[0.2222222222222222,\"#7201a8\"],[0.3333333333333333,\"#9c179e\"],[0.4444444444444444,\"#bd3786\"],[0.5555555555555556,\"#d8576b\"],[0.6666666666666666,\"#ed7953\"],[0.7777777777777778,\"#fb9f3a\"],[0.8888888888888888,\"#fdca26\"],[1.0,\"#f0f921\"]]}],\"mesh3d\":[{\"type\":\"mesh3d\",\"colorbar\":{\"outlinewidth\":0,\"ticks\":\"\"}}],\"scatter\":[{\"fillpattern\":{\"fillmode\":\"overlay\",\"size\":10,\"solidity\":0.2},\"type\":\"scatter\"}],\"parcoords\":[{\"type\":\"parcoords\",\"line\":{\"colorbar\":{\"outlinewidth\":0,\"ticks\":\"\"}}}],\"scatterpolargl\":[{\"type\":\"scatterpolargl\",\"marker\":{\"colorbar\":{\"outlinewidth\":0,\"ticks\":\"\"}}}],\"bar\":[{\"error_x\":{\"color\":\"#2a3f5f\"},\"error_y\":{\"color\":\"#2a3f5f\"},\"marker\":{\"line\":{\"color\":\"#E5ECF6\",\"width\":0.5},\"pattern\":{\"fillmode\":\"overlay\",\"size\":10,\"solidity\":0.2}},\"type\":\"bar\"}],\"scattergeo\":[{\"type\":\"scattergeo\",\"marker\":{\"colorbar\":{\"outlinewidth\":0,\"ticks\":\"\"}}}],\"scatterpolar\":[{\"type\":\"scatterpolar\",\"marker\":{\"colorbar\":{\"outlinewidth\":0,\"ticks\":\"\"}}}],\"histogram\":[{\"marker\":{\"pattern\":{\"fillmode\":\"overlay\",\"size\":10,\"solidity\":0.2}},\"type\":\"histogram\"}],\"scattergl\":[{\"type\":\"scattergl\",\"marker\":{\"colorbar\":{\"outlinewidth\":0,\"ticks\":\"\"}}}],\"scatter3d\":[{\"type\":\"scatter3d\",\"line\":{\"colorbar\":{\"outlinewidth\":0,\"ticks\":\"\"}},\"marker\":{\"colorbar\":{\"outlinewidth\":0,\"ticks\":\"\"}}}],\"scattermapbox\":[{\"type\":\"scattermapbox\",\"marker\":{\"colorbar\":{\"outlinewidth\":0,\"ticks\":\"\"}}}],\"scatterternary\":[{\"type\":\"scatterternary\",\"marker\":{\"colorbar\":{\"outlinewidth\":0,\"ticks\":\"\"}}}],\"scattercarpet\":[{\"type\":\"scattercarpet\",\"marker\":{\"colorbar\":{\"outlinewidth\":0,\"ticks\":\"\"}}}],\"carpet\":[{\"aaxis\":{\"endlinecolor\":\"#2a3f5f\",\"gridcolor\":\"white\",\"linecolor\":\"white\",\"minorgridcolor\":\"white\",\"startlinecolor\":\"#2a3f5f\"},\"baxis\":{\"endlinecolor\":\"#2a3f5f\",\"gridcolor\":\"white\",\"linecolor\":\"white\",\"minorgridcolor\":\"white\",\"startlinecolor\":\"#2a3f5f\"},\"type\":\"carpet\"}],\"table\":[{\"cells\":{\"fill\":{\"color\":\"#EBF0F8\"},\"line\":{\"color\":\"white\"}},\"header\":{\"fill\":{\"color\":\"#C8D4E3\"},\"line\":{\"color\":\"white\"}},\"type\":\"table\"}],\"barpolar\":[{\"marker\":{\"line\":{\"color\":\"#E5ECF6\",\"width\":0.5},\"pattern\":{\"fillmode\":\"overlay\",\"size\":10,\"solidity\":0.2}},\"type\":\"barpolar\"}],\"pie\":[{\"automargin\":true,\"type\":\"pie\"}]},\"layout\":{\"autotypenumbers\":\"strict\",\"colorway\":[\"#636efa\",\"#EF553B\",\"#00cc96\",\"#ab63fa\",\"#FFA15A\",\"#19d3f3\",\"#FF6692\",\"#B6E880\",\"#FF97FF\",\"#FECB52\"],\"font\":{\"color\":\"#2a3f5f\"},\"hovermode\":\"closest\",\"hoverlabel\":{\"align\":\"left\"},\"paper_bgcolor\":\"white\",\"plot_bgcolor\":\"#E5ECF6\",\"polar\":{\"bgcolor\":\"#E5ECF6\",\"angularaxis\":{\"gridcolor\":\"white\",\"linecolor\":\"white\",\"ticks\":\"\"},\"radialaxis\":{\"gridcolor\":\"white\",\"linecolor\":\"white\",\"ticks\":\"\"}},\"ternary\":{\"bgcolor\":\"#E5ECF6\",\"aaxis\":{\"gridcolor\":\"white\",\"linecolor\":\"white\",\"ticks\":\"\"},\"baxis\":{\"gridcolor\":\"white\",\"linecolor\":\"white\",\"ticks\":\"\"},\"caxis\":{\"gridcolor\":\"white\",\"linecolor\":\"white\",\"ticks\":\"\"}},\"coloraxis\":{\"colorbar\":{\"outlinewidth\":0,\"ticks\":\"\"}},\"colorscale\":{\"sequential\":[[0.0,\"#0d0887\"],[0.1111111111111111,\"#46039f\"],[0.2222222222222222,\"#7201a8\"],[0.3333333333333333,\"#9c179e\"],[0.4444444444444444,\"#bd3786\"],[0.5555555555555556,\"#d8576b\"],[0.6666666666666666,\"#ed7953\"],[0.7777777777777778,\"#fb9f3a\"],[0.8888888888888888,\"#fdca26\"],[1.0,\"#f0f921\"]],\"sequentialminus\":[[0.0,\"#0d0887\"],[0.1111111111111111,\"#46039f\"],[0.2222222222222222,\"#7201a8\"],[0.3333333333333333,\"#9c179e\"],[0.4444444444444444,\"#bd3786\"],[0.5555555555555556,\"#d8576b\"],[0.6666666666666666,\"#ed7953\"],[0.7777777777777778,\"#fb9f3a\"],[0.8888888888888888,\"#fdca26\"],[1.0,\"#f0f921\"]],\"diverging\":[[0,\"#8e0152\"],[0.1,\"#c51b7d\"],[0.2,\"#de77ae\"],[0.3,\"#f1b6da\"],[0.4,\"#fde0ef\"],[0.5,\"#f7f7f7\"],[0.6,\"#e6f5d0\"],[0.7,\"#b8e186\"],[0.8,\"#7fbc41\"],[0.9,\"#4d9221\"],[1,\"#276419\"]]},\"xaxis\":{\"gridcolor\":\"white\",\"linecolor\":\"white\",\"ticks\":\"\",\"title\":{\"standoff\":15},\"zerolinecolor\":\"white\",\"automargin\":true,\"zerolinewidth\":2},\"yaxis\":{\"gridcolor\":\"white\",\"linecolor\":\"white\",\"ticks\":\"\",\"title\":{\"standoff\":15},\"zerolinecolor\":\"white\",\"automargin\":true,\"zerolinewidth\":2},\"scene\":{\"xaxis\":{\"backgroundcolor\":\"#E5ECF6\",\"gridcolor\":\"white\",\"linecolor\":\"white\",\"showbackground\":true,\"ticks\":\"\",\"zerolinecolor\":\"white\",\"gridwidth\":2},\"yaxis\":{\"backgroundcolor\":\"#E5ECF6\",\"gridcolor\":\"white\",\"linecolor\":\"white\",\"showbackground\":true,\"ticks\":\"\",\"zerolinecolor\":\"white\",\"gridwidth\":2},\"zaxis\":{\"backgroundcolor\":\"#E5ECF6\",\"gridcolor\":\"white\",\"linecolor\":\"white\",\"showbackground\":true,\"ticks\":\"\",\"zerolinecolor\":\"white\",\"gridwidth\":2}},\"shapedefaults\":{\"line\":{\"color\":\"#2a3f5f\"}},\"annotationdefaults\":{\"arrowcolor\":\"#2a3f5f\",\"arrowhead\":0,\"arrowwidth\":1},\"geo\":{\"bgcolor\":\"white\",\"landcolor\":\"#E5ECF6\",\"subunitcolor\":\"white\",\"showland\":true,\"showlakes\":true,\"lakecolor\":\"white\"},\"title\":{\"x\":0.05},\"mapbox\":{\"style\":\"light\"}}},\"xaxis\":{\"anchor\":\"y\",\"domain\":[0.0,1.0],\"title\":{\"text\":\"index\"}},\"yaxis\":{\"anchor\":\"x\",\"domain\":[0.0,1.0],\"title\":{\"text\":\"value\"}},\"legend\":{\"title\":{\"text\":\"variable\"},\"tracegroupgap\":0},\"margin\":{\"t\":60}},                        {\"responsive\": true}                    ).then(function(){\n",
       "                            \n",
       "var gd = document.getElementById('48dc551a-4ef3-4130-8016-b9b785ba7a4e');\n",
>>>>>>> master
       "var x = new MutationObserver(function (mutations, observer) {{\n",
       "        var display = window.getComputedStyle(gd).display;\n",
       "        if (!display || display === 'none') {{\n",
       "            console.log([gd, 'removed!']);\n",
       "            Plotly.purge(gd);\n",
       "            observer.disconnect();\n",
       "        }}\n",
       "}});\n",
       "\n",
       "// Listen for the removal of the full notebook cells\n",
       "var notebookContainer = gd.closest('#notebook-container');\n",
       "if (notebookContainer) {{\n",
       "    x.observe(notebookContainer, {childList: true});\n",
       "}}\n",
       "\n",
       "// Listen for the clearing of the current output cell\n",
       "var outputEl = gd.closest('.output');\n",
       "if (outputEl) {{\n",
       "    x.observe(outputEl, {childList: true});\n",
       "}}\n",
       "\n",
       "                        })                };                });            </script>        </div>"
      ]
     },
     "metadata": {},
     "output_type": "display_data"
    }
   ],
   "source": [
    "(result.pnl_pool.apply(lambda x: x.split('balance=')[-1].split(',')[0]).astype(float)/1e6).plot()"
   ]
  },
  {
   "cell_type": "code",
   "execution_count": null,
   "id": "2b8bd481-dacb-4112-957f-b21e6aefabb5",
   "metadata": {},
   "outputs": [],
   "source": []
  },
  {
   "cell_type": "code",
   "execution_count": null,
   "id": "d9efaae2-8378-4f35-a05d-ca1eb1fdc701",
   "metadata": {},
   "outputs": [],
   "source": []
  },
  {
   "cell_type": "code",
   "execution_count": null,
   "id": "d99a716e-6161-4d98-8119-0cc9b616c48e",
   "metadata": {},
   "outputs": [],
   "source": []
  }
 ],
 "metadata": {
  "kernelspec": {
   "display_name": "Python 3 (ipykernel)",
   "language": "python",
   "name": "python3"
  },
  "language_info": {
   "codemirror_mode": {
    "name": "ipython",
    "version": 3
   },
   "file_extension": ".py",
   "mimetype": "text/x-python",
   "name": "python",
   "nbconvert_exporter": "python",
   "pygments_lexer": "ipython3",
   "version": "3.10.6"
  }
 },
 "nbformat": 4,
 "nbformat_minor": 5
}
