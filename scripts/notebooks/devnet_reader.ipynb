{
 "cells": [
  {
   "cell_type": "code",
   "execution_count": null,
   "id": "41305d0a-6c6b-4a8b-b337-ee4093a7f912",
   "metadata": {},
   "outputs": [],
   "source": [
    "%reload_ext autoreload\n",
    "%autoreload 2\n",
    "\n",
    "import sys\n",
    "sys.path.insert(0, '../')\n",
    "sys.path.insert(0, '../driftpy/src/')\n",
    "\n",
    "import pandas as pd \n",
    "import numpy as np \n",
    "\n",
    "pd.options.plotting.backend = \"plotly\"\n",
    "\n",
    "from driftpy.constants.config import configs\n",
    "from anchorpy import Provider, Wallet\n",
    "from solana.keypair import Keypair\n",
    "from solana.rpc.async_api import AsyncClient\n",
    "from driftpy.clearing_house import ClearingHouse\n",
    "from driftpy.accounts import *\n",
    "from driftpy.constants.numeric_constants import * "
   ]
  },
  {
   "cell_type": "code",
   "execution_count": null,
   "id": "5534e32f-8d9b-4bcf-80be-b1ebe86fc1b9",
   "metadata": {},
   "outputs": [],
   "source": [
    "def human_amm_df(amm: AMM):\n",
    "    bool_fields = [ 'last_oracle_valid']\n",
    "    enum_fields = ['oracle_source']\n",
    "    pure_fields = ['last_update_slot', 'long_intensity_count', 'short_intensity_count', \n",
    "    'curve_update_intensity', 'amm_jit_intensity'\n",
    "    ]\n",
    "    reserve_fields = [\n",
    "        'base_asset_reserve', 'quote_asset_reserve', 'min_base_asset_reserve', 'max_base_asset_reserve', 'sqrt_k'\n",
    "        'ask_base_asset_reserve', 'ask_quote_asset_reserve', 'bid_base_asset_reserve', 'bid_quote_asset_reserve'\n",
    "        'terminal_quote_asset_reserve', 'base_asset_amount_long', 'base_asset_amount_short', 'base_asset_amount_with_amm', 'base_asset_amount_with_unsettled_lp',\n",
    "        'user_lp_shares'\n",
    "        ]\n",
    "    pct_fields = ['long_spread', 'short_spread', 'concentration_coef',]\n",
    "    funding_fields = ['cumulative_funding_rate_long', 'cumulative_funding_rate_short', 'last_funding_rate', 'last_funding_rate_long', 'last_funding_rate_short', 'last24h_avg_funding_rate']\n",
    "    quote_asset_fields = ['total_fee', 'total_mm_fee', 'total_exchange_fee', 'total_fee_minus_distributions',\n",
    "    'total_fee_withdrawn', 'total_liquidation_fee', 'cumulative_social_loss', 'net_revenue_since_last_funding',\n",
    "    'quote_asset_amount_long', 'quote_asset_amount_short', 'quote_entry_amount_long', 'quote_entry_amount_short',\n",
    "    'volume24h', 'long_intensity_volume', 'short_intensity_volume',]\n",
    "    time_fields = ['last_mark_price_twap_ts', 'last_oracle_price_twap_ts']\n",
    "    duration_fields = ['lp_cooldown_time']\n",
    "    px_fields = ['last_bid_price_twap', 'last_ask_price_twap', 'last_mark_price_twap', 'last_mark_price_twap5min',\n",
    "    'peg_multiplier',\n",
    "    'mark_std']\n",
    "    pool_fields = ['fee_pool']\n",
    "\n",
    "\n",
    "def human_market_df(market: PerpMarket):\n",
    "    enum_fields = ['status', 'contract_tier', '']\n",
    "    pure_fields = ['number_of_users', 'market_index', 'next_curve_record_id', 'next_fill_record_id', 'next_funding_rate_record_id']\n",
    "    pct_fields = ['imf_factor', 'unrealized_pnl_imf_factor', 'liquidator_fee', 'if_liquidation_fee',\n",
    "    'margin_ratio_initial', 'margin_ratio_maintenance']\n",
    "    px_fields = ['expiry_price', ]\n",
    "    time_fields = ['last_trade_ts', 'expiry_ts']\n",
    "    pool_fields = ['pnl_pool']\n",
    "    \n",
    "    \n",
    "    "
   ]
  },
  {
   "cell_type": "code",
   "execution_count": null,
   "id": "0ff80e2b-3ee9-4ded-aea6-88c4f06eee2c",
   "metadata": {},
   "outputs": [],
   "source": [
    "config = configs['devnet']\n",
    "import os\n",
    "\n",
    "url = 'https://api.devnet.solana.com'\n",
    "import json\n",
    "print(config)\n",
    "# random key \n",
    "with open(os.path.expanduser('/Users/zanes/.config/solana/id.json'), 'r') as f: secret = json.load(f) \n",
    "kp = Keypair.from_secret_key(bytes(secret))\n",
    "# print('pk:', kp.public_key)\n",
    "wallet = Wallet(kp)\n",
    "connection = AsyncClient(url)\n",
    "provider = Provider(connection, wallet)\n",
    "ch = ClearingHouse.from_config(config, provider)"
   ]
  },
  {
   "cell_type": "code",
   "execution_count": null,
   "id": "26ab223e-22f9-4e83-b347-2c4e215aeed6",
   "metadata": {},
   "outputs": [],
   "source": [
    "state = await get_state_account(ch.program)\n",
    "state"
   ]
  },
  {
   "cell_type": "code",
   "execution_count": null,
   "id": "28f75596-5dc9-4a1d-babd-6518c6b96483",
   "metadata": {},
   "outputs": [],
   "source": [
    "market = await get_perp_market_account(ch.program, 0)"
   ]
  },
  {
   "cell_type": "code",
   "execution_count": null,
   "id": "6a5a3033-1d73-4899-9612-c089c1e47dea",
   "metadata": {},
   "outputs": [],
   "source": []
  },
  {
   "cell_type": "code",
   "execution_count": 7,
   "id": "c48350c4-e5a5-4040-be28-6d685b8b1923",
   "metadata": {},
   "outputs": [],
   "source": [
    "import pandas as pd\n",
    "df = pd.read_csv(\"dogeMoonCycle/oracle.csv\")\n",
    "df[['blockchainTimestamp', 'oraclePrice']].to_csv(\"dogeMoonCycle/oracle.csv\",index=False)"
   ]
  },
  {
   "cell_type": "code",
   "execution_count": null,
   "id": "bce12798-cf0b-4d2a-9b9e-ae450f43bd03",
   "metadata": {},
   "outputs": [],
   "source": []
  }
 ],
 "metadata": {
  "kernelspec": {
   "display_name": "Python 3 (ipykernel)",
   "language": "python",
   "name": "python3"
  },
  "language_info": {
   "codemirror_mode": {
    "name": "ipython",
    "version": 3
   },
   "file_extension": ".py",
   "mimetype": "text/x-python",
   "name": "python",
   "nbconvert_exporter": "python",
   "pygments_lexer": "ipython3",
   "version": "3.10.6"
  }
 },
 "nbformat": 4,
 "nbformat_minor": 5
}
